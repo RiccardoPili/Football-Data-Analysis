{
 "cells": [
  {
   "cell_type": "markdown",
   "source": [
    "# Importing Data & Libraries"
   ],
   "metadata": {
    "collapsed": false
   },
   "id": "7d0b0bc9284fea63"
  },
  {
   "cell_type": "code",
   "execution_count": 20,
   "outputs": [],
   "source": [
    "import pandas as pd\n",
    "from config import *\n",
    "\n",
    "lineups_df = pd.read_csv(f\"{folder_path}/game_lineups.csv\")"
   ],
   "metadata": {
    "collapsed": false,
    "ExecuteTime": {
     "end_time": "2024-06-13T20:08:41.088506Z",
     "start_time": "2024-06-13T20:08:40.511310300Z"
    }
   },
   "id": "a554d5c9baf035a7"
  },
  {
   "cell_type": "markdown",
   "source": [
    "# Data Preparation of Lineups"
   ],
   "metadata": {
    "collapsed": false
   },
   "id": "cb888531da69fd74"
  },
  {
   "cell_type": "code",
   "execution_count": 21,
   "outputs": [
    {
     "data": {
      "text/plain": "(119133, 9)"
     },
     "execution_count": 21,
     "metadata": {},
     "output_type": "execute_result"
    }
   ],
   "source": [
    "lineups_df.shape"
   ],
   "metadata": {
    "collapsed": false,
    "ExecuteTime": {
     "end_time": "2024-06-13T20:08:41.089766900Z",
     "start_time": "2024-06-13T20:08:40.969117800Z"
    }
   },
   "id": "24cbbeace9eb69c2"
  },
  {
   "cell_type": "code",
   "execution_count": 22,
   "outputs": [
    {
     "data": {
      "text/plain": "                    game_lineups_id  game_id  club_id             type number  \\\n0  77b0f371923e0c8bdf050a1e269faaac  3606208      338  starting_lineup     89   \n1  cb6eeedb9f728570615d37b6fe7facaf  3606208      338  starting_lineup     10   \n2  8e63d5f47aac2bdb0e54f5481986e104  3606208      338  starting_lineup      5   \n3  ea4a96d8be410f2d646cf095c4faae7f  3606208      338  starting_lineup     94   \n4  e6abe553801b09bc623c3deb96acba17  3606208      338  starting_lineup     16   \n5  113289469cede9376049b78521f7b382  3606208      338  starting_lineup     25   \n6  d7c22834cb4c20efeddc527511feabad  3606208      338  starting_lineup     34   \n7  1715ec342bf902522b69322a036a3f29  3606208      338  starting_lineup     71   \n8  3b0a25b9c76eedd7f6faaec061abf671  3606208      338  starting_lineup     29   \n9  ef88b1c4d61884ed8a5b2640d05a2dcd  3606208      338  starting_lineup     14   \n\n   player_id         player_name  team_captain            position  \n0     419061  Vladyslav Supryaga             0      Centre-Forward  \n1     368611   Mykola Shaparenko             0    Central Midfield  \n2     124182    Sergiy Sydorchuk             1  Defensive Midfield  \n3     181118     Tomasz Kedziora             0          Right-Back  \n4     404842   Vitaliy Mykolenko             0           Left-Back  \n5     659089       Ilya Zabarnyi             0         Centre-Back  \n6     505463    Oleksandr Syrota             0         Centre-Back  \n7      91931         Denys Boyko             0          Goalkeeper  \n8     167722   Vitaliy Buyalskyi             0  Attacking Midfield  \n9     257740      Carlos de Pena             0         Left Winger  ",
      "text/html": "<div>\n<style scoped>\n    .dataframe tbody tr th:only-of-type {\n        vertical-align: middle;\n    }\n\n    .dataframe tbody tr th {\n        vertical-align: top;\n    }\n\n    .dataframe thead th {\n        text-align: right;\n    }\n</style>\n<table border=\"1\" class=\"dataframe\">\n  <thead>\n    <tr style=\"text-align: right;\">\n      <th></th>\n      <th>game_lineups_id</th>\n      <th>game_id</th>\n      <th>club_id</th>\n      <th>type</th>\n      <th>number</th>\n      <th>player_id</th>\n      <th>player_name</th>\n      <th>team_captain</th>\n      <th>position</th>\n    </tr>\n  </thead>\n  <tbody>\n    <tr>\n      <th>0</th>\n      <td>77b0f371923e0c8bdf050a1e269faaac</td>\n      <td>3606208</td>\n      <td>338</td>\n      <td>starting_lineup</td>\n      <td>89</td>\n      <td>419061</td>\n      <td>Vladyslav Supryaga</td>\n      <td>0</td>\n      <td>Centre-Forward</td>\n    </tr>\n    <tr>\n      <th>1</th>\n      <td>cb6eeedb9f728570615d37b6fe7facaf</td>\n      <td>3606208</td>\n      <td>338</td>\n      <td>starting_lineup</td>\n      <td>10</td>\n      <td>368611</td>\n      <td>Mykola Shaparenko</td>\n      <td>0</td>\n      <td>Central Midfield</td>\n    </tr>\n    <tr>\n      <th>2</th>\n      <td>8e63d5f47aac2bdb0e54f5481986e104</td>\n      <td>3606208</td>\n      <td>338</td>\n      <td>starting_lineup</td>\n      <td>5</td>\n      <td>124182</td>\n      <td>Sergiy Sydorchuk</td>\n      <td>1</td>\n      <td>Defensive Midfield</td>\n    </tr>\n    <tr>\n      <th>3</th>\n      <td>ea4a96d8be410f2d646cf095c4faae7f</td>\n      <td>3606208</td>\n      <td>338</td>\n      <td>starting_lineup</td>\n      <td>94</td>\n      <td>181118</td>\n      <td>Tomasz Kedziora</td>\n      <td>0</td>\n      <td>Right-Back</td>\n    </tr>\n    <tr>\n      <th>4</th>\n      <td>e6abe553801b09bc623c3deb96acba17</td>\n      <td>3606208</td>\n      <td>338</td>\n      <td>starting_lineup</td>\n      <td>16</td>\n      <td>404842</td>\n      <td>Vitaliy Mykolenko</td>\n      <td>0</td>\n      <td>Left-Back</td>\n    </tr>\n    <tr>\n      <th>5</th>\n      <td>113289469cede9376049b78521f7b382</td>\n      <td>3606208</td>\n      <td>338</td>\n      <td>starting_lineup</td>\n      <td>25</td>\n      <td>659089</td>\n      <td>Ilya Zabarnyi</td>\n      <td>0</td>\n      <td>Centre-Back</td>\n    </tr>\n    <tr>\n      <th>6</th>\n      <td>d7c22834cb4c20efeddc527511feabad</td>\n      <td>3606208</td>\n      <td>338</td>\n      <td>starting_lineup</td>\n      <td>34</td>\n      <td>505463</td>\n      <td>Oleksandr Syrota</td>\n      <td>0</td>\n      <td>Centre-Back</td>\n    </tr>\n    <tr>\n      <th>7</th>\n      <td>1715ec342bf902522b69322a036a3f29</td>\n      <td>3606208</td>\n      <td>338</td>\n      <td>starting_lineup</td>\n      <td>71</td>\n      <td>91931</td>\n      <td>Denys Boyko</td>\n      <td>0</td>\n      <td>Goalkeeper</td>\n    </tr>\n    <tr>\n      <th>8</th>\n      <td>3b0a25b9c76eedd7f6faaec061abf671</td>\n      <td>3606208</td>\n      <td>338</td>\n      <td>starting_lineup</td>\n      <td>29</td>\n      <td>167722</td>\n      <td>Vitaliy Buyalskyi</td>\n      <td>0</td>\n      <td>Attacking Midfield</td>\n    </tr>\n    <tr>\n      <th>9</th>\n      <td>ef88b1c4d61884ed8a5b2640d05a2dcd</td>\n      <td>3606208</td>\n      <td>338</td>\n      <td>starting_lineup</td>\n      <td>14</td>\n      <td>257740</td>\n      <td>Carlos de Pena</td>\n      <td>0</td>\n      <td>Left Winger</td>\n    </tr>\n  </tbody>\n</table>\n</div>"
     },
     "execution_count": 22,
     "metadata": {},
     "output_type": "execute_result"
    }
   ],
   "source": [
    "lineups_df.head(10)"
   ],
   "metadata": {
    "collapsed": false,
    "ExecuteTime": {
     "end_time": "2024-06-13T20:08:41.090784800Z",
     "start_time": "2024-06-13T20:08:40.989541900Z"
    }
   },
   "id": "14c8783e16cba5e9"
  },
  {
   "cell_type": "code",
   "execution_count": 23,
   "outputs": [],
   "source": [
    "lineups_df = lineups_df.set_index('game_lineups_id')"
   ],
   "metadata": {
    "collapsed": false,
    "ExecuteTime": {
     "end_time": "2024-06-13T20:08:41.091536900Z",
     "start_time": "2024-06-13T20:08:41.017338600Z"
    }
   },
   "id": "4781e7ff8364c855"
  },
  {
   "cell_type": "code",
   "execution_count": 24,
   "outputs": [
    {
     "data": {
      "text/plain": "                                  game_id  club_id      is_starting  \\\ngame_lineups_id                                                       \n77b0f371923e0c8bdf050a1e269faaac  3606208      338  starting_lineup   \ncb6eeedb9f728570615d37b6fe7facaf  3606208      338  starting_lineup   \n8e63d5f47aac2bdb0e54f5481986e104  3606208      338  starting_lineup   \nea4a96d8be410f2d646cf095c4faae7f  3606208      338  starting_lineup   \ne6abe553801b09bc623c3deb96acba17  3606208      338  starting_lineup   \n...                                   ...      ...              ...   \nf4e6a6b2e3d24d12290c6ce4168e1bdb  4228114    46889      substitutes   \n7a78814a66c59c79e8d40c8669a67d3f  4228114    46889      substitutes   \n09cc07767ce441b4de4a76c102fd17d5  4228114    46889      substitutes   \n3c259f1849421af021aba3e84a4da8de  4228114    46889      substitutes   \n92f069e6041dae45375081d7662b2c12  4228114    46889      substitutes   \n\n                                 shirt_number  player_id  \\\ngame_lineups_id                                            \n77b0f371923e0c8bdf050a1e269faaac           89     419061   \ncb6eeedb9f728570615d37b6fe7facaf           10     368611   \n8e63d5f47aac2bdb0e54f5481986e104            5     124182   \nea4a96d8be410f2d646cf095c4faae7f           94     181118   \ne6abe553801b09bc623c3deb96acba17           16     404842   \n...                                       ...        ...   \nf4e6a6b2e3d24d12290c6ce4168e1bdb            3    1200869   \n7a78814a66c59c79e8d40c8669a67d3f            5    1203716   \n09cc07767ce441b4de4a76c102fd17d5           13    1200870   \n3c259f1849421af021aba3e84a4da8de           12     550816   \n92f069e6041dae45375081d7662b2c12           10     128198   \n\n                                              player_name  is_captain  \\\ngame_lineups_id                                                         \n77b0f371923e0c8bdf050a1e269faaac       Vladyslav Supryaga           0   \ncb6eeedb9f728570615d37b6fe7facaf        Mykola Shaparenko           0   \n8e63d5f47aac2bdb0e54f5481986e104         Sergiy Sydorchuk           1   \nea4a96d8be410f2d646cf095c4faae7f          Tomasz Kedziora           0   \ne6abe553801b09bc623c3deb96acba17        Vitaliy Mykolenko           0   \n...                                                   ...         ...   \nf4e6a6b2e3d24d12290c6ce4168e1bdb          Thomas Chambers           0   \n7a78814a66c59c79e8d40c8669a67d3f  Mohammed-Idris Oshilaja           0   \n09cc07767ce441b4de4a76c102fd17d5              Max Ovenden           0   \n3c259f1849421af021aba3e84a4da8de              Julien Anau           0   \n92f069e6041dae45375081d7662b2c12             Adam Coombes           0   \n\n                                        sub_position  \ngame_lineups_id                                       \n77b0f371923e0c8bdf050a1e269faaac      Centre-Forward  \ncb6eeedb9f728570615d37b6fe7facaf    Central Midfield  \n8e63d5f47aac2bdb0e54f5481986e104  Defensive Midfield  \nea4a96d8be410f2d646cf095c4faae7f          Right-Back  \ne6abe553801b09bc623c3deb96acba17           Left-Back  \n...                                              ...  \nf4e6a6b2e3d24d12290c6ce4168e1bdb           Left-Back  \n7a78814a66c59c79e8d40c8669a67d3f            Defender  \n09cc07767ce441b4de4a76c102fd17d5          Goalkeeper  \n3c259f1849421af021aba3e84a4da8de  Attacking Midfield  \n92f069e6041dae45375081d7662b2c12              Attack  \n\n[119133 rows x 8 columns]",
      "text/html": "<div>\n<style scoped>\n    .dataframe tbody tr th:only-of-type {\n        vertical-align: middle;\n    }\n\n    .dataframe tbody tr th {\n        vertical-align: top;\n    }\n\n    .dataframe thead th {\n        text-align: right;\n    }\n</style>\n<table border=\"1\" class=\"dataframe\">\n  <thead>\n    <tr style=\"text-align: right;\">\n      <th></th>\n      <th>game_id</th>\n      <th>club_id</th>\n      <th>is_starting</th>\n      <th>shirt_number</th>\n      <th>player_id</th>\n      <th>player_name</th>\n      <th>is_captain</th>\n      <th>sub_position</th>\n    </tr>\n    <tr>\n      <th>game_lineups_id</th>\n      <th></th>\n      <th></th>\n      <th></th>\n      <th></th>\n      <th></th>\n      <th></th>\n      <th></th>\n      <th></th>\n    </tr>\n  </thead>\n  <tbody>\n    <tr>\n      <th>77b0f371923e0c8bdf050a1e269faaac</th>\n      <td>3606208</td>\n      <td>338</td>\n      <td>starting_lineup</td>\n      <td>89</td>\n      <td>419061</td>\n      <td>Vladyslav Supryaga</td>\n      <td>0</td>\n      <td>Centre-Forward</td>\n    </tr>\n    <tr>\n      <th>cb6eeedb9f728570615d37b6fe7facaf</th>\n      <td>3606208</td>\n      <td>338</td>\n      <td>starting_lineup</td>\n      <td>10</td>\n      <td>368611</td>\n      <td>Mykola Shaparenko</td>\n      <td>0</td>\n      <td>Central Midfield</td>\n    </tr>\n    <tr>\n      <th>8e63d5f47aac2bdb0e54f5481986e104</th>\n      <td>3606208</td>\n      <td>338</td>\n      <td>starting_lineup</td>\n      <td>5</td>\n      <td>124182</td>\n      <td>Sergiy Sydorchuk</td>\n      <td>1</td>\n      <td>Defensive Midfield</td>\n    </tr>\n    <tr>\n      <th>ea4a96d8be410f2d646cf095c4faae7f</th>\n      <td>3606208</td>\n      <td>338</td>\n      <td>starting_lineup</td>\n      <td>94</td>\n      <td>181118</td>\n      <td>Tomasz Kedziora</td>\n      <td>0</td>\n      <td>Right-Back</td>\n    </tr>\n    <tr>\n      <th>e6abe553801b09bc623c3deb96acba17</th>\n      <td>3606208</td>\n      <td>338</td>\n      <td>starting_lineup</td>\n      <td>16</td>\n      <td>404842</td>\n      <td>Vitaliy Mykolenko</td>\n      <td>0</td>\n      <td>Left-Back</td>\n    </tr>\n    <tr>\n      <th>...</th>\n      <td>...</td>\n      <td>...</td>\n      <td>...</td>\n      <td>...</td>\n      <td>...</td>\n      <td>...</td>\n      <td>...</td>\n      <td>...</td>\n    </tr>\n    <tr>\n      <th>f4e6a6b2e3d24d12290c6ce4168e1bdb</th>\n      <td>4228114</td>\n      <td>46889</td>\n      <td>substitutes</td>\n      <td>3</td>\n      <td>1200869</td>\n      <td>Thomas Chambers</td>\n      <td>0</td>\n      <td>Left-Back</td>\n    </tr>\n    <tr>\n      <th>7a78814a66c59c79e8d40c8669a67d3f</th>\n      <td>4228114</td>\n      <td>46889</td>\n      <td>substitutes</td>\n      <td>5</td>\n      <td>1203716</td>\n      <td>Mohammed-Idris Oshilaja</td>\n      <td>0</td>\n      <td>Defender</td>\n    </tr>\n    <tr>\n      <th>09cc07767ce441b4de4a76c102fd17d5</th>\n      <td>4228114</td>\n      <td>46889</td>\n      <td>substitutes</td>\n      <td>13</td>\n      <td>1200870</td>\n      <td>Max Ovenden</td>\n      <td>0</td>\n      <td>Goalkeeper</td>\n    </tr>\n    <tr>\n      <th>3c259f1849421af021aba3e84a4da8de</th>\n      <td>4228114</td>\n      <td>46889</td>\n      <td>substitutes</td>\n      <td>12</td>\n      <td>550816</td>\n      <td>Julien Anau</td>\n      <td>0</td>\n      <td>Attacking Midfield</td>\n    </tr>\n    <tr>\n      <th>92f069e6041dae45375081d7662b2c12</th>\n      <td>4228114</td>\n      <td>46889</td>\n      <td>substitutes</td>\n      <td>10</td>\n      <td>128198</td>\n      <td>Adam Coombes</td>\n      <td>0</td>\n      <td>Attack</td>\n    </tr>\n  </tbody>\n</table>\n<p>119133 rows × 8 columns</p>\n</div>"
     },
     "execution_count": 24,
     "metadata": {},
     "output_type": "execute_result"
    }
   ],
   "source": [
    "# renaming columns\n",
    "lineups_df = lineups_df.rename(columns={\n",
    "    'type':'is_starting',\n",
    "    'number':'shirt_number',\n",
    "    'team_captain':'is_captain',\n",
    "    'position':'sub_position'\n",
    "})\n",
    "\n",
    "lineups_df"
   ],
   "metadata": {
    "collapsed": false,
    "ExecuteTime": {
     "end_time": "2024-06-13T20:08:41.093298600Z",
     "start_time": "2024-06-13T20:08:41.037308900Z"
    }
   },
   "id": "9c52138983f76b26"
  },
  {
   "cell_type": "code",
   "execution_count": 25,
   "outputs": [
    {
     "data": {
      "text/plain": "game_id         0\nclub_id         0\nis_starting     0\nshirt_number    0\nplayer_id       0\nplayer_name     0\nis_captain      0\nsub_position    0\ndtype: int64"
     },
     "execution_count": 25,
     "metadata": {},
     "output_type": "execute_result"
    }
   ],
   "source": [
    "lineups_df.isna().sum()"
   ],
   "metadata": {
    "collapsed": false,
    "ExecuteTime": {
     "end_time": "2024-06-13T20:08:41.238226900Z",
     "start_time": "2024-06-13T20:08:41.090784800Z"
    }
   },
   "id": "688379f5c42aab32"
  },
  {
   "cell_type": "code",
   "execution_count": 26,
   "outputs": [
    {
     "data": {
      "text/plain": "Empty DataFrame\nColumns: [game_id, club_id, is_starting, shirt_number, player_id, player_name, is_captain, sub_position]\nIndex: []",
      "text/html": "<div>\n<style scoped>\n    .dataframe tbody tr th:only-of-type {\n        vertical-align: middle;\n    }\n\n    .dataframe tbody tr th {\n        vertical-align: top;\n    }\n\n    .dataframe thead th {\n        text-align: right;\n    }\n</style>\n<table border=\"1\" class=\"dataframe\">\n  <thead>\n    <tr style=\"text-align: right;\">\n      <th></th>\n      <th>game_id</th>\n      <th>club_id</th>\n      <th>is_starting</th>\n      <th>shirt_number</th>\n      <th>player_id</th>\n      <th>player_name</th>\n      <th>is_captain</th>\n      <th>sub_position</th>\n    </tr>\n    <tr>\n      <th>game_lineups_id</th>\n      <th></th>\n      <th></th>\n      <th></th>\n      <th></th>\n      <th></th>\n      <th></th>\n      <th></th>\n      <th></th>\n    </tr>\n  </thead>\n  <tbody>\n  </tbody>\n</table>\n</div>"
     },
     "execution_count": 26,
     "metadata": {},
     "output_type": "execute_result"
    }
   ],
   "source": [
    "lineups_df.loc[lineups_df.duplicated()]"
   ],
   "metadata": {
    "collapsed": false,
    "ExecuteTime": {
     "end_time": "2024-06-13T20:08:41.478200900Z",
     "start_time": "2024-06-13T20:08:41.133956600Z"
    }
   },
   "id": "d7072f23efdd3f1f"
  },
  {
   "cell_type": "code",
   "execution_count": 27,
   "outputs": [
    {
     "data": {
      "text/plain": "game_id          int64\nclub_id          int64\nis_starting     object\nshirt_number    object\nplayer_id        int64\nplayer_name     object\nis_captain       int64\nsub_position    object\ndtype: object"
     },
     "execution_count": 27,
     "metadata": {},
     "output_type": "execute_result"
    }
   ],
   "source": [
    "lineups_df.dtypes"
   ],
   "metadata": {
    "collapsed": false,
    "ExecuteTime": {
     "end_time": "2024-06-13T20:08:41.519859700Z",
     "start_time": "2024-06-13T20:08:41.265664200Z"
    }
   },
   "id": "6d414eede79d1bc4"
  },
  {
   "cell_type": "code",
   "execution_count": 28,
   "outputs": [],
   "source": [
    "# converting data types\n",
    "lineups_df['shirt_number'] = pd.to_numeric(lineups_df['shirt_number'], errors=\"coerce\")\n",
    "lineups_df['shirt_number'] = lineups_df['shirt_number'].astype('Int64')\n",
    "\n",
    "lineups_df['is_captain'] = lineups_df['is_captain'].replace({1: True, 0: False})\n",
    "\n",
    "lineups_df['is_starting'] = lineups_df['is_starting'].replace({\"starting_lineup\": True, \"substitutes\": False})"
   ],
   "metadata": {
    "collapsed": false,
    "ExecuteTime": {
     "end_time": "2024-06-13T20:08:41.699992800Z",
     "start_time": "2024-06-13T20:08:41.285187100Z"
    }
   },
   "id": "f3101d7de7eee770"
  },
  {
   "cell_type": "code",
   "execution_count": 29,
   "outputs": [
    {
     "data": {
      "text/plain": "game_id          int64\nclub_id          int64\nis_starting       bool\nshirt_number     Int64\nplayer_id        int64\nplayer_name     object\nis_captain        bool\nsub_position    object\ndtype: object"
     },
     "execution_count": 29,
     "metadata": {},
     "output_type": "execute_result"
    }
   ],
   "source": [
    "lineups_df.dtypes"
   ],
   "metadata": {
    "collapsed": false,
    "ExecuteTime": {
     "end_time": "2024-06-13T20:08:41.829201600Z",
     "start_time": "2024-06-13T20:08:41.517813800Z"
    }
   },
   "id": "e2f8471cc4d19d6d"
  },
  {
   "cell_type": "code",
   "execution_count": 30,
   "outputs": [
    {
     "data": {
      "text/plain": "game_id            0\nclub_id            0\nis_starting        0\nshirt_number    1355\nplayer_id          0\nplayer_name        0\nis_captain         0\nsub_position       0\ndtype: int64"
     },
     "execution_count": 30,
     "metadata": {},
     "output_type": "execute_result"
    }
   ],
   "source": [
    "lineups_df.isna().sum()"
   ],
   "metadata": {
    "collapsed": false,
    "ExecuteTime": {
     "end_time": "2024-06-13T20:08:41.831435400Z",
     "start_time": "2024-06-13T20:08:41.533196600Z"
    }
   },
   "id": "f175842e8de7ffcf"
  },
  {
   "cell_type": "code",
   "execution_count": 31,
   "outputs": [
    {
     "data": {
      "text/plain": "                                  game_id  club_id  is_starting  shirt_number  \\\ngame_lineups_id                                                                 \n42f8366511f32a26d3e3431edfdbc54f  4089207     6808        False          <NA>   \n174187da4ec16383e94a41a343d9af7e  4089224    32129        False          <NA>   \nb21588a79bc771e4a81b8dc6371b952a  4089264     5849        False          <NA>   \nc9aa38eca5dab47e35dff801b69d4e9b  4089264     5849        False          <NA>   \n10e9da5944a13e7d2ba3355da8d8455c  4089264     5849        False          <NA>   \n...                                   ...      ...          ...           ...   \n54d3697f8cbff88acb43c931f6513df1  4200633     2670         True          <NA>   \ndeba84029b5e46a8df1ffaba654c5921  4200633     2670        False          <NA>   \nef8295f6bcfba94f2789294229d6ce60  4200633     2670        False          <NA>   \n2699c69e2d8fcc28d018ba2a534abe5d  4200633     2670        False          <NA>   \n1128619c2c0fd92b06f6bf0efd80a5af  4204010    10718        False          <NA>   \n\n                                  player_id               player_name  \\\ngame_lineups_id                                                         \n42f8366511f32a26d3e3431edfdbc54f     911871               Luka Prslja   \n174187da4ec16383e94a41a343d9af7e     897374            Manyluak Aguek   \nb21588a79bc771e4a81b8dc6371b952a    1112879  Jóhann Kanfory Tjörvason   \nc9aa38eca5dab47e35dff801b69d4e9b    1108188         Dadi Berg Jónsson   \n10e9da5944a13e7d2ba3355da8d8455c     927460   Hákon Dagur Matthíasson   \n...                                     ...                       ...   \n54d3697f8cbff88acb43c931f6513df1     343713          Antonis Kyriazis   \ndeba84029b5e46a8df1ffaba654c5921     402646         Christos Antoniou   \nef8295f6bcfba94f2789294229d6ce60     586541         Spyros Georgousis   \n2699c69e2d8fcc28d018ba2a534abe5d     295852       Pavlos Makrygiannis   \n1128619c2c0fd92b06f6bf0efd80a5af     732862                 Xiaoke He   \n\n                                  is_captain    sub_position  \ngame_lineups_id                                               \n42f8366511f32a26d3e3431edfdbc54f       False      Goalkeeper  \n174187da4ec16383e94a41a343d9af7e       False  Centre-Forward  \nb21588a79bc771e4a81b8dc6371b952a       False        midfield  \nc9aa38eca5dab47e35dff801b69d4e9b       False          Attack  \n10e9da5944a13e7d2ba3355da8d8455c       False          Attack  \n...                                      ...             ...  \n54d3697f8cbff88acb43c931f6513df1       False  Centre-Forward  \ndeba84029b5e46a8df1ffaba654c5921       False    Right Winger  \nef8295f6bcfba94f2789294229d6ce60       False  Centre-Forward  \n2699c69e2d8fcc28d018ba2a534abe5d       False    Right Winger  \n1128619c2c0fd92b06f6bf0efd80a5af       False  Centre-Forward  \n\n[1355 rows x 8 columns]",
      "text/html": "<div>\n<style scoped>\n    .dataframe tbody tr th:only-of-type {\n        vertical-align: middle;\n    }\n\n    .dataframe tbody tr th {\n        vertical-align: top;\n    }\n\n    .dataframe thead th {\n        text-align: right;\n    }\n</style>\n<table border=\"1\" class=\"dataframe\">\n  <thead>\n    <tr style=\"text-align: right;\">\n      <th></th>\n      <th>game_id</th>\n      <th>club_id</th>\n      <th>is_starting</th>\n      <th>shirt_number</th>\n      <th>player_id</th>\n      <th>player_name</th>\n      <th>is_captain</th>\n      <th>sub_position</th>\n    </tr>\n    <tr>\n      <th>game_lineups_id</th>\n      <th></th>\n      <th></th>\n      <th></th>\n      <th></th>\n      <th></th>\n      <th></th>\n      <th></th>\n      <th></th>\n    </tr>\n  </thead>\n  <tbody>\n    <tr>\n      <th>42f8366511f32a26d3e3431edfdbc54f</th>\n      <td>4089207</td>\n      <td>6808</td>\n      <td>False</td>\n      <td>&lt;NA&gt;</td>\n      <td>911871</td>\n      <td>Luka Prslja</td>\n      <td>False</td>\n      <td>Goalkeeper</td>\n    </tr>\n    <tr>\n      <th>174187da4ec16383e94a41a343d9af7e</th>\n      <td>4089224</td>\n      <td>32129</td>\n      <td>False</td>\n      <td>&lt;NA&gt;</td>\n      <td>897374</td>\n      <td>Manyluak Aguek</td>\n      <td>False</td>\n      <td>Centre-Forward</td>\n    </tr>\n    <tr>\n      <th>b21588a79bc771e4a81b8dc6371b952a</th>\n      <td>4089264</td>\n      <td>5849</td>\n      <td>False</td>\n      <td>&lt;NA&gt;</td>\n      <td>1112879</td>\n      <td>Jóhann Kanfory Tjörvason</td>\n      <td>False</td>\n      <td>midfield</td>\n    </tr>\n    <tr>\n      <th>c9aa38eca5dab47e35dff801b69d4e9b</th>\n      <td>4089264</td>\n      <td>5849</td>\n      <td>False</td>\n      <td>&lt;NA&gt;</td>\n      <td>1108188</td>\n      <td>Dadi Berg Jónsson</td>\n      <td>False</td>\n      <td>Attack</td>\n    </tr>\n    <tr>\n      <th>10e9da5944a13e7d2ba3355da8d8455c</th>\n      <td>4089264</td>\n      <td>5849</td>\n      <td>False</td>\n      <td>&lt;NA&gt;</td>\n      <td>927460</td>\n      <td>Hákon Dagur Matthíasson</td>\n      <td>False</td>\n      <td>Attack</td>\n    </tr>\n    <tr>\n      <th>...</th>\n      <td>...</td>\n      <td>...</td>\n      <td>...</td>\n      <td>...</td>\n      <td>...</td>\n      <td>...</td>\n      <td>...</td>\n      <td>...</td>\n    </tr>\n    <tr>\n      <th>54d3697f8cbff88acb43c931f6513df1</th>\n      <td>4200633</td>\n      <td>2670</td>\n      <td>True</td>\n      <td>&lt;NA&gt;</td>\n      <td>343713</td>\n      <td>Antonis Kyriazis</td>\n      <td>False</td>\n      <td>Centre-Forward</td>\n    </tr>\n    <tr>\n      <th>deba84029b5e46a8df1ffaba654c5921</th>\n      <td>4200633</td>\n      <td>2670</td>\n      <td>False</td>\n      <td>&lt;NA&gt;</td>\n      <td>402646</td>\n      <td>Christos Antoniou</td>\n      <td>False</td>\n      <td>Right Winger</td>\n    </tr>\n    <tr>\n      <th>ef8295f6bcfba94f2789294229d6ce60</th>\n      <td>4200633</td>\n      <td>2670</td>\n      <td>False</td>\n      <td>&lt;NA&gt;</td>\n      <td>586541</td>\n      <td>Spyros Georgousis</td>\n      <td>False</td>\n      <td>Centre-Forward</td>\n    </tr>\n    <tr>\n      <th>2699c69e2d8fcc28d018ba2a534abe5d</th>\n      <td>4200633</td>\n      <td>2670</td>\n      <td>False</td>\n      <td>&lt;NA&gt;</td>\n      <td>295852</td>\n      <td>Pavlos Makrygiannis</td>\n      <td>False</td>\n      <td>Right Winger</td>\n    </tr>\n    <tr>\n      <th>1128619c2c0fd92b06f6bf0efd80a5af</th>\n      <td>4204010</td>\n      <td>10718</td>\n      <td>False</td>\n      <td>&lt;NA&gt;</td>\n      <td>732862</td>\n      <td>Xiaoke He</td>\n      <td>False</td>\n      <td>Centre-Forward</td>\n    </tr>\n  </tbody>\n</table>\n<p>1355 rows × 8 columns</p>\n</div>"
     },
     "execution_count": 31,
     "metadata": {},
     "output_type": "execute_result"
    }
   ],
   "source": [
    "lineups_df.loc[lineups_df['shirt_number'].isna()]"
   ],
   "metadata": {
    "collapsed": false,
    "ExecuteTime": {
     "end_time": "2024-06-13T20:08:41.851291700Z",
     "start_time": "2024-06-13T20:08:41.566862900Z"
    }
   },
   "id": "b7e04b08ce57e721"
  },
  {
   "cell_type": "code",
   "execution_count": 32,
   "outputs": [
    {
     "data": {
      "text/plain": "sub_position\nCentre-Back           20508\nCentre-Forward        14512\nGoalkeeper            13542\nCentral Midfield      13145\nDefensive Midfield     9640\nRight-Back             8080\nAttacking Midfield     8019\nLeft Winger            7854\nLeft-Back              7817\nRight Winger           7700\nRight Midfield         3183\nLeft Midfield          3025\nSecond Striker          904\nmidfield                656\nAttack                  307\nDefender                236\nSweeper                   5\nName: count, dtype: int64"
     },
     "execution_count": 32,
     "metadata": {},
     "output_type": "execute_result"
    }
   ],
   "source": [
    "lineups_df['sub_position'].value_counts()"
   ],
   "metadata": {
    "collapsed": false,
    "ExecuteTime": {
     "end_time": "2024-06-13T20:08:41.852196800Z",
     "start_time": "2024-06-13T20:08:41.589546200Z"
    }
   },
   "id": "1f43a6888c55b962"
  },
  {
   "cell_type": "code",
   "execution_count": 33,
   "outputs": [
    {
     "data": {
      "text/plain": "                                  game_id  club_id  is_starting  shirt_number  \\\ngame_lineups_id                                                                 \n2c8408c7424839591d4027e3d755bf95  4089203     9644         True            24   \n7cab4148687b50ff350c540efb506502  4109333     2425         True            33   \ne79895567a1ccd69334bf0ea621f6e86  4109352     2420         True             6   \ndfb0f3f8bef5075f81eb65a987168f12  4129346     9644         True            24   \n5be9a31592de402baf264b161e386502  4162644      255         True             8   \n\n                                  player_id        player_name  is_captain  \\\ngame_lineups_id                                                              \n2c8408c7424839591d4027e3d755bf95     280312      Zoran Arsenic        True   \n7cab4148687b50ff350c540efb506502     159142    Aderllan Santos       False   \ne79895567a1ccd69334bf0ea621f6e86     699592               Manu       False   \ndfb0f3f8bef5075f81eb65a987168f12     280312      Zoran Arsenic        True   \n5be9a31592de402baf264b161e386502     264796  Rafal Augustyniak       False   \n\n                                 sub_position  \ngame_lineups_id                                \n2c8408c7424839591d4027e3d755bf95      Sweeper  \n7cab4148687b50ff350c540efb506502      Sweeper  \ne79895567a1ccd69334bf0ea621f6e86      Sweeper  \ndfb0f3f8bef5075f81eb65a987168f12      Sweeper  \n5be9a31592de402baf264b161e386502      Sweeper  ",
      "text/html": "<div>\n<style scoped>\n    .dataframe tbody tr th:only-of-type {\n        vertical-align: middle;\n    }\n\n    .dataframe tbody tr th {\n        vertical-align: top;\n    }\n\n    .dataframe thead th {\n        text-align: right;\n    }\n</style>\n<table border=\"1\" class=\"dataframe\">\n  <thead>\n    <tr style=\"text-align: right;\">\n      <th></th>\n      <th>game_id</th>\n      <th>club_id</th>\n      <th>is_starting</th>\n      <th>shirt_number</th>\n      <th>player_id</th>\n      <th>player_name</th>\n      <th>is_captain</th>\n      <th>sub_position</th>\n    </tr>\n    <tr>\n      <th>game_lineups_id</th>\n      <th></th>\n      <th></th>\n      <th></th>\n      <th></th>\n      <th></th>\n      <th></th>\n      <th></th>\n      <th></th>\n    </tr>\n  </thead>\n  <tbody>\n    <tr>\n      <th>2c8408c7424839591d4027e3d755bf95</th>\n      <td>4089203</td>\n      <td>9644</td>\n      <td>True</td>\n      <td>24</td>\n      <td>280312</td>\n      <td>Zoran Arsenic</td>\n      <td>True</td>\n      <td>Sweeper</td>\n    </tr>\n    <tr>\n      <th>7cab4148687b50ff350c540efb506502</th>\n      <td>4109333</td>\n      <td>2425</td>\n      <td>True</td>\n      <td>33</td>\n      <td>159142</td>\n      <td>Aderllan Santos</td>\n      <td>False</td>\n      <td>Sweeper</td>\n    </tr>\n    <tr>\n      <th>e79895567a1ccd69334bf0ea621f6e86</th>\n      <td>4109352</td>\n      <td>2420</td>\n      <td>True</td>\n      <td>6</td>\n      <td>699592</td>\n      <td>Manu</td>\n      <td>False</td>\n      <td>Sweeper</td>\n    </tr>\n    <tr>\n      <th>dfb0f3f8bef5075f81eb65a987168f12</th>\n      <td>4129346</td>\n      <td>9644</td>\n      <td>True</td>\n      <td>24</td>\n      <td>280312</td>\n      <td>Zoran Arsenic</td>\n      <td>True</td>\n      <td>Sweeper</td>\n    </tr>\n    <tr>\n      <th>5be9a31592de402baf264b161e386502</th>\n      <td>4162644</td>\n      <td>255</td>\n      <td>True</td>\n      <td>8</td>\n      <td>264796</td>\n      <td>Rafal Augustyniak</td>\n      <td>False</td>\n      <td>Sweeper</td>\n    </tr>\n  </tbody>\n</table>\n</div>"
     },
     "execution_count": 33,
     "metadata": {},
     "output_type": "execute_result"
    }
   ],
   "source": [
    "lineups_df.query('sub_position == \"Sweeper\"')"
   ],
   "metadata": {
    "collapsed": false,
    "ExecuteTime": {
     "end_time": "2024-06-13T20:08:41.853197100Z",
     "start_time": "2024-06-13T20:08:41.615657300Z"
    }
   },
   "id": "1f9b66675417eecb"
  },
  {
   "cell_type": "code",
   "execution_count": 34,
   "outputs": [
    {
     "data": {
      "text/plain": "sub_position\nCentre-Back           20749\nCentre-Forward        14819\nCentral Midfield      13801\nGoalkeeper            13542\nDefensive Midfield     9640\nRight-Back             8080\nAttacking Midfield     8019\nLeft Winger            7854\nLeft-Back              7817\nRight Winger           7700\nRight Midfield         3183\nLeft Midfield          3025\nSecond Striker          904\nName: count, dtype: int64"
     },
     "execution_count": 34,
     "metadata": {},
     "output_type": "execute_result"
    }
   ],
   "source": [
    "# Sweeper -> Centre-Back\n",
    "# midfield -> Central Midfield\n",
    "# Defender -> Centre-Back\n",
    "# Attack -> Centre-Forward\n",
    "\n",
    "lineups_df.loc[lineups_df['sub_position'] == 'Sweeper', 'sub_position'] = 'Centre-Back'\n",
    "lineups_df.loc[lineups_df['sub_position'] == 'midfield', 'sub_position'] = 'Central Midfield'\n",
    "lineups_df.loc[lineups_df['sub_position'] == 'Defender', 'sub_position'] = 'Centre-Back'\n",
    "lineups_df.loc[lineups_df['sub_position'] == 'Attack', 'sub_position'] = 'Centre-Forward'\n",
    "\n",
    "lineups_df['sub_position'].value_counts()"
   ],
   "metadata": {
    "collapsed": false,
    "ExecuteTime": {
     "end_time": "2024-06-13T20:08:41.987087100Z",
     "start_time": "2024-06-13T20:08:41.657478200Z"
    }
   },
   "id": "3dedb63580dd859c"
  },
  {
   "cell_type": "code",
   "execution_count": 35,
   "outputs": [
    {
     "data": {
      "text/plain": "Index(['game_id', 'club_id', 'is_starting', 'shirt_number', 'player_id',\n       'player_name', 'is_captain', 'sub_position'],\n      dtype='object')"
     },
     "execution_count": 35,
     "metadata": {},
     "output_type": "execute_result"
    }
   ],
   "source": [
    "lineups_df.columns"
   ],
   "metadata": {
    "collapsed": false,
    "ExecuteTime": {
     "end_time": "2024-06-13T20:08:54.486973300Z",
     "start_time": "2024-06-13T20:08:54.446676900Z"
    }
   },
   "id": "7dc73efff334b64f"
  },
  {
   "cell_type": "markdown",
   "source": [
    "# Saving processed data to feather file"
   ],
   "metadata": {
    "collapsed": false
   },
   "id": "a7d77acb35c8a86f"
  },
  {
   "cell_type": "code",
   "execution_count": 36,
   "outputs": [],
   "source": [
    "lineups_df.to_feather('../cleaned_data/game_lineups.feather')"
   ],
   "metadata": {
    "collapsed": false,
    "ExecuteTime": {
     "end_time": "2024-06-13T20:09:36.353740300Z",
     "start_time": "2024-06-13T20:09:36.215106500Z"
    }
   },
   "id": "251cec8ce9663053"
  },
  {
   "cell_type": "code",
   "execution_count": null,
   "outputs": [],
   "source": [],
   "metadata": {
    "collapsed": false
   },
   "id": "9945135da6ad6854"
  }
 ],
 "metadata": {
  "kernelspec": {
   "display_name": "Python 3",
   "language": "python",
   "name": "python3"
  },
  "language_info": {
   "codemirror_mode": {
    "name": "ipython",
    "version": 2
   },
   "file_extension": ".py",
   "mimetype": "text/x-python",
   "name": "python",
   "nbconvert_exporter": "python",
   "pygments_lexer": "ipython2",
   "version": "2.7.6"
  }
 },
 "nbformat": 4,
 "nbformat_minor": 5
}
