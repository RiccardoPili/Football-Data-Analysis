{
 "cells": [
  {
   "cell_type": "markdown",
   "source": [
    "# Importing Data & Libraries"
   ],
   "metadata": {
    "collapsed": false
   },
   "id": "7d0b0bc9284fea63"
  },
  {
   "cell_type": "code",
   "execution_count": 1,
   "outputs": [],
   "source": [
    "import pandas as pd\n",
    "import matplotlib.pylab as plt\n",
    "import seaborn as sns\n",
    "from config import folder_path\n",
    "\n",
    "appearances_df = pd.read_csv(f\"{folder_path}/appearances.csv\")"
   ],
   "metadata": {
    "collapsed": false,
    "ExecuteTime": {
     "end_time": "2024-07-11T15:16:43.036444200Z",
     "start_time": "2024-07-11T15:16:41.141564500Z"
    }
   },
   "id": "a554d5c9baf035a7"
  },
  {
   "cell_type": "markdown",
   "source": [
    "# Data Preparation of Appearances"
   ],
   "metadata": {
    "collapsed": false
   },
   "id": "cb888531da69fd74"
  },
  {
   "cell_type": "code",
   "execution_count": 2,
   "outputs": [
    {
     "data": {
      "text/plain": "(1507351, 13)"
     },
     "execution_count": 2,
     "metadata": {},
     "output_type": "execute_result"
    }
   ],
   "source": [
    "appearances_df.shape"
   ],
   "metadata": {
    "collapsed": false,
    "ExecuteTime": {
     "end_time": "2024-07-11T15:16:43.048290500Z",
     "start_time": "2024-07-11T15:16:43.037445200Z"
    }
   },
   "id": "24cbbeace9eb69c2"
  },
  {
   "cell_type": "code",
   "execution_count": 3,
   "outputs": [
    {
     "data": {
      "text/plain": "    appearance_id  game_id  player_id  player_club_id  player_current_club_id  \\\n0   2231978_38004  2231978      38004             853                     235   \n1   2233748_79232  2233748      79232            8841                    2698   \n2   2234413_42792  2234413      42792            6251                     465   \n3   2234418_73333  2234418      73333            1274                    6646   \n4  2234421_122011  2234421     122011             195                    3008   \n5  2234421_146889  2234421     146889             195                     190   \n6   2235539_28716  2235539      28716             282                    7185   \n7   2235539_69445  2235539      69445             282                   19771   \n8   2235545_19409  2235545      19409             317                     200   \n9   2235545_30003  2235545      30003             317                     317   \n\n         date       player_name competition_id  yellow_cards  red_cards  \\\n0  2012-07-03  Aurélien Joachim            CLQ             0          0   \n1  2012-07-05    Ruslan Abyshov            ELQ             0          0   \n2  2012-07-05       Sander Puri            ELQ             0          0   \n3  2012-07-05   Vegar Hedenstad            ELQ             0          0   \n4  2012-07-05  Markus Henriksen            ELQ             0          0   \n5  2012-07-05    Peter Ankersen            ELQ             1          0   \n6  2012-07-05      Adi Adilovic            ELQ             0          0   \n7  2012-07-05        Ivan Sesar            ELQ             1          0   \n8  2012-07-05    Willem Janssen            ELQ             0          0   \n9  2012-07-05        Wout Brama            ELQ             0          0   \n\n   goals  assists  minutes_played  \n0      2        0              90  \n1      0        0              90  \n2      0        0              45  \n3      0        0              90  \n4      0        1              90  \n5      0        0              90  \n6      0        0              90  \n7      0        1              90  \n8      0        0              45  \n9      0        0              90  ",
      "text/html": "<div>\n<style scoped>\n    .dataframe tbody tr th:only-of-type {\n        vertical-align: middle;\n    }\n\n    .dataframe tbody tr th {\n        vertical-align: top;\n    }\n\n    .dataframe thead th {\n        text-align: right;\n    }\n</style>\n<table border=\"1\" class=\"dataframe\">\n  <thead>\n    <tr style=\"text-align: right;\">\n      <th></th>\n      <th>appearance_id</th>\n      <th>game_id</th>\n      <th>player_id</th>\n      <th>player_club_id</th>\n      <th>player_current_club_id</th>\n      <th>date</th>\n      <th>player_name</th>\n      <th>competition_id</th>\n      <th>yellow_cards</th>\n      <th>red_cards</th>\n      <th>goals</th>\n      <th>assists</th>\n      <th>minutes_played</th>\n    </tr>\n  </thead>\n  <tbody>\n    <tr>\n      <th>0</th>\n      <td>2231978_38004</td>\n      <td>2231978</td>\n      <td>38004</td>\n      <td>853</td>\n      <td>235</td>\n      <td>2012-07-03</td>\n      <td>Aurélien Joachim</td>\n      <td>CLQ</td>\n      <td>0</td>\n      <td>0</td>\n      <td>2</td>\n      <td>0</td>\n      <td>90</td>\n    </tr>\n    <tr>\n      <th>1</th>\n      <td>2233748_79232</td>\n      <td>2233748</td>\n      <td>79232</td>\n      <td>8841</td>\n      <td>2698</td>\n      <td>2012-07-05</td>\n      <td>Ruslan Abyshov</td>\n      <td>ELQ</td>\n      <td>0</td>\n      <td>0</td>\n      <td>0</td>\n      <td>0</td>\n      <td>90</td>\n    </tr>\n    <tr>\n      <th>2</th>\n      <td>2234413_42792</td>\n      <td>2234413</td>\n      <td>42792</td>\n      <td>6251</td>\n      <td>465</td>\n      <td>2012-07-05</td>\n      <td>Sander Puri</td>\n      <td>ELQ</td>\n      <td>0</td>\n      <td>0</td>\n      <td>0</td>\n      <td>0</td>\n      <td>45</td>\n    </tr>\n    <tr>\n      <th>3</th>\n      <td>2234418_73333</td>\n      <td>2234418</td>\n      <td>73333</td>\n      <td>1274</td>\n      <td>6646</td>\n      <td>2012-07-05</td>\n      <td>Vegar Hedenstad</td>\n      <td>ELQ</td>\n      <td>0</td>\n      <td>0</td>\n      <td>0</td>\n      <td>0</td>\n      <td>90</td>\n    </tr>\n    <tr>\n      <th>4</th>\n      <td>2234421_122011</td>\n      <td>2234421</td>\n      <td>122011</td>\n      <td>195</td>\n      <td>3008</td>\n      <td>2012-07-05</td>\n      <td>Markus Henriksen</td>\n      <td>ELQ</td>\n      <td>0</td>\n      <td>0</td>\n      <td>0</td>\n      <td>1</td>\n      <td>90</td>\n    </tr>\n    <tr>\n      <th>5</th>\n      <td>2234421_146889</td>\n      <td>2234421</td>\n      <td>146889</td>\n      <td>195</td>\n      <td>190</td>\n      <td>2012-07-05</td>\n      <td>Peter Ankersen</td>\n      <td>ELQ</td>\n      <td>1</td>\n      <td>0</td>\n      <td>0</td>\n      <td>0</td>\n      <td>90</td>\n    </tr>\n    <tr>\n      <th>6</th>\n      <td>2235539_28716</td>\n      <td>2235539</td>\n      <td>28716</td>\n      <td>282</td>\n      <td>7185</td>\n      <td>2012-07-05</td>\n      <td>Adi Adilovic</td>\n      <td>ELQ</td>\n      <td>0</td>\n      <td>0</td>\n      <td>0</td>\n      <td>0</td>\n      <td>90</td>\n    </tr>\n    <tr>\n      <th>7</th>\n      <td>2235539_69445</td>\n      <td>2235539</td>\n      <td>69445</td>\n      <td>282</td>\n      <td>19771</td>\n      <td>2012-07-05</td>\n      <td>Ivan Sesar</td>\n      <td>ELQ</td>\n      <td>1</td>\n      <td>0</td>\n      <td>0</td>\n      <td>1</td>\n      <td>90</td>\n    </tr>\n    <tr>\n      <th>8</th>\n      <td>2235545_19409</td>\n      <td>2235545</td>\n      <td>19409</td>\n      <td>317</td>\n      <td>200</td>\n      <td>2012-07-05</td>\n      <td>Willem Janssen</td>\n      <td>ELQ</td>\n      <td>0</td>\n      <td>0</td>\n      <td>0</td>\n      <td>0</td>\n      <td>45</td>\n    </tr>\n    <tr>\n      <th>9</th>\n      <td>2235545_30003</td>\n      <td>2235545</td>\n      <td>30003</td>\n      <td>317</td>\n      <td>317</td>\n      <td>2012-07-05</td>\n      <td>Wout Brama</td>\n      <td>ELQ</td>\n      <td>0</td>\n      <td>0</td>\n      <td>0</td>\n      <td>0</td>\n      <td>90</td>\n    </tr>\n  </tbody>\n</table>\n</div>"
     },
     "execution_count": 3,
     "metadata": {},
     "output_type": "execute_result"
    }
   ],
   "source": [
    "appearances_df.head(10)"
   ],
   "metadata": {
    "collapsed": false,
    "ExecuteTime": {
     "end_time": "2024-07-11T15:16:43.102355700Z",
     "start_time": "2024-07-11T15:16:43.046128600Z"
    }
   },
   "id": "14c8783e16cba5e9"
  },
  {
   "cell_type": "code",
   "execution_count": 4,
   "outputs": [
    {
     "data": {
      "text/plain": "                game_id  player_id  player_club_id  player_current_club_id  \\\nappearance_id                                                                \n2231978_38004   2231978      38004             853                     235   \n2233748_79232   2233748      79232            8841                    2698   \n2234413_42792   2234413      42792            6251                     465   \n2234418_73333   2234418      73333            1274                    6646   \n2234421_122011  2234421     122011             195                    3008   \n2234421_146889  2234421     146889             195                     190   \n2235539_28716   2235539      28716             282                    7185   \n2235539_69445   2235539      69445             282                   19771   \n2235545_19409   2235545      19409             317                     200   \n2235545_30003   2235545      30003             317                     317   \n\n                      date       player_name competition_id  yellow_cards  \\\nappearance_id                                                               \n2231978_38004   2012-07-03  Aurélien Joachim            CLQ             0   \n2233748_79232   2012-07-05    Ruslan Abyshov            ELQ             0   \n2234413_42792   2012-07-05       Sander Puri            ELQ             0   \n2234418_73333   2012-07-05   Vegar Hedenstad            ELQ             0   \n2234421_122011  2012-07-05  Markus Henriksen            ELQ             0   \n2234421_146889  2012-07-05    Peter Ankersen            ELQ             1   \n2235539_28716   2012-07-05      Adi Adilovic            ELQ             0   \n2235539_69445   2012-07-05        Ivan Sesar            ELQ             1   \n2235545_19409   2012-07-05    Willem Janssen            ELQ             0   \n2235545_30003   2012-07-05        Wout Brama            ELQ             0   \n\n                red_cards  goals  assists  minutes_played  \nappearance_id                                              \n2231978_38004           0      2        0              90  \n2233748_79232           0      0        0              90  \n2234413_42792           0      0        0              45  \n2234418_73333           0      0        0              90  \n2234421_122011          0      0        1              90  \n2234421_146889          0      0        0              90  \n2235539_28716           0      0        0              90  \n2235539_69445           0      0        1              90  \n2235545_19409           0      0        0              45  \n2235545_30003           0      0        0              90  ",
      "text/html": "<div>\n<style scoped>\n    .dataframe tbody tr th:only-of-type {\n        vertical-align: middle;\n    }\n\n    .dataframe tbody tr th {\n        vertical-align: top;\n    }\n\n    .dataframe thead th {\n        text-align: right;\n    }\n</style>\n<table border=\"1\" class=\"dataframe\">\n  <thead>\n    <tr style=\"text-align: right;\">\n      <th></th>\n      <th>game_id</th>\n      <th>player_id</th>\n      <th>player_club_id</th>\n      <th>player_current_club_id</th>\n      <th>date</th>\n      <th>player_name</th>\n      <th>competition_id</th>\n      <th>yellow_cards</th>\n      <th>red_cards</th>\n      <th>goals</th>\n      <th>assists</th>\n      <th>minutes_played</th>\n    </tr>\n    <tr>\n      <th>appearance_id</th>\n      <th></th>\n      <th></th>\n      <th></th>\n      <th></th>\n      <th></th>\n      <th></th>\n      <th></th>\n      <th></th>\n      <th></th>\n      <th></th>\n      <th></th>\n      <th></th>\n    </tr>\n  </thead>\n  <tbody>\n    <tr>\n      <th>2231978_38004</th>\n      <td>2231978</td>\n      <td>38004</td>\n      <td>853</td>\n      <td>235</td>\n      <td>2012-07-03</td>\n      <td>Aurélien Joachim</td>\n      <td>CLQ</td>\n      <td>0</td>\n      <td>0</td>\n      <td>2</td>\n      <td>0</td>\n      <td>90</td>\n    </tr>\n    <tr>\n      <th>2233748_79232</th>\n      <td>2233748</td>\n      <td>79232</td>\n      <td>8841</td>\n      <td>2698</td>\n      <td>2012-07-05</td>\n      <td>Ruslan Abyshov</td>\n      <td>ELQ</td>\n      <td>0</td>\n      <td>0</td>\n      <td>0</td>\n      <td>0</td>\n      <td>90</td>\n    </tr>\n    <tr>\n      <th>2234413_42792</th>\n      <td>2234413</td>\n      <td>42792</td>\n      <td>6251</td>\n      <td>465</td>\n      <td>2012-07-05</td>\n      <td>Sander Puri</td>\n      <td>ELQ</td>\n      <td>0</td>\n      <td>0</td>\n      <td>0</td>\n      <td>0</td>\n      <td>45</td>\n    </tr>\n    <tr>\n      <th>2234418_73333</th>\n      <td>2234418</td>\n      <td>73333</td>\n      <td>1274</td>\n      <td>6646</td>\n      <td>2012-07-05</td>\n      <td>Vegar Hedenstad</td>\n      <td>ELQ</td>\n      <td>0</td>\n      <td>0</td>\n      <td>0</td>\n      <td>0</td>\n      <td>90</td>\n    </tr>\n    <tr>\n      <th>2234421_122011</th>\n      <td>2234421</td>\n      <td>122011</td>\n      <td>195</td>\n      <td>3008</td>\n      <td>2012-07-05</td>\n      <td>Markus Henriksen</td>\n      <td>ELQ</td>\n      <td>0</td>\n      <td>0</td>\n      <td>0</td>\n      <td>1</td>\n      <td>90</td>\n    </tr>\n    <tr>\n      <th>2234421_146889</th>\n      <td>2234421</td>\n      <td>146889</td>\n      <td>195</td>\n      <td>190</td>\n      <td>2012-07-05</td>\n      <td>Peter Ankersen</td>\n      <td>ELQ</td>\n      <td>1</td>\n      <td>0</td>\n      <td>0</td>\n      <td>0</td>\n      <td>90</td>\n    </tr>\n    <tr>\n      <th>2235539_28716</th>\n      <td>2235539</td>\n      <td>28716</td>\n      <td>282</td>\n      <td>7185</td>\n      <td>2012-07-05</td>\n      <td>Adi Adilovic</td>\n      <td>ELQ</td>\n      <td>0</td>\n      <td>0</td>\n      <td>0</td>\n      <td>0</td>\n      <td>90</td>\n    </tr>\n    <tr>\n      <th>2235539_69445</th>\n      <td>2235539</td>\n      <td>69445</td>\n      <td>282</td>\n      <td>19771</td>\n      <td>2012-07-05</td>\n      <td>Ivan Sesar</td>\n      <td>ELQ</td>\n      <td>1</td>\n      <td>0</td>\n      <td>0</td>\n      <td>1</td>\n      <td>90</td>\n    </tr>\n    <tr>\n      <th>2235545_19409</th>\n      <td>2235545</td>\n      <td>19409</td>\n      <td>317</td>\n      <td>200</td>\n      <td>2012-07-05</td>\n      <td>Willem Janssen</td>\n      <td>ELQ</td>\n      <td>0</td>\n      <td>0</td>\n      <td>0</td>\n      <td>0</td>\n      <td>45</td>\n    </tr>\n    <tr>\n      <th>2235545_30003</th>\n      <td>2235545</td>\n      <td>30003</td>\n      <td>317</td>\n      <td>317</td>\n      <td>2012-07-05</td>\n      <td>Wout Brama</td>\n      <td>ELQ</td>\n      <td>0</td>\n      <td>0</td>\n      <td>0</td>\n      <td>0</td>\n      <td>90</td>\n    </tr>\n  </tbody>\n</table>\n</div>"
     },
     "execution_count": 4,
     "metadata": {},
     "output_type": "execute_result"
    }
   ],
   "source": [
    "appearances_df = appearances_df.set_index('appearance_id')\n",
    "appearances_df.head(10)"
   ],
   "metadata": {
    "collapsed": false,
    "ExecuteTime": {
     "start_time": "2024-07-11T15:16:43.088701500Z"
    }
   },
   "id": "64431729cf13ca3"
  },
  {
   "cell_type": "code",
   "execution_count": 5,
   "outputs": [
    {
     "data": {
      "text/plain": "Empty DataFrame\nColumns: [game_id, player_id, player_club_id, player_current_club_id, date, player_name, competition_id, yellow_cards, red_cards, goals, assists, minutes_played]\nIndex: []",
      "text/html": "<div>\n<style scoped>\n    .dataframe tbody tr th:only-of-type {\n        vertical-align: middle;\n    }\n\n    .dataframe tbody tr th {\n        vertical-align: top;\n    }\n\n    .dataframe thead th {\n        text-align: right;\n    }\n</style>\n<table border=\"1\" class=\"dataframe\">\n  <thead>\n    <tr style=\"text-align: right;\">\n      <th></th>\n      <th>game_id</th>\n      <th>player_id</th>\n      <th>player_club_id</th>\n      <th>player_current_club_id</th>\n      <th>date</th>\n      <th>player_name</th>\n      <th>competition_id</th>\n      <th>yellow_cards</th>\n      <th>red_cards</th>\n      <th>goals</th>\n      <th>assists</th>\n      <th>minutes_played</th>\n    </tr>\n    <tr>\n      <th>appearance_id</th>\n      <th></th>\n      <th></th>\n      <th></th>\n      <th></th>\n      <th></th>\n      <th></th>\n      <th></th>\n      <th></th>\n      <th></th>\n      <th></th>\n      <th></th>\n      <th></th>\n    </tr>\n  </thead>\n  <tbody>\n  </tbody>\n</table>\n</div>"
     },
     "execution_count": 5,
     "metadata": {},
     "output_type": "execute_result"
    }
   ],
   "source": [
    "appearances_df.loc[appearances_df.duplicated()]"
   ],
   "metadata": {
    "collapsed": false,
    "ExecuteTime": {
     "start_time": "2024-07-11T15:16:43.197363800Z"
    }
   },
   "id": "f8bd68dfe8419d1f"
  },
  {
   "cell_type": "code",
   "execution_count": 6,
   "outputs": [
    {
     "data": {
      "text/plain": "game_id                     0\nplayer_id                   0\nplayer_club_id              0\nplayer_current_club_id      0\ndate                        0\nplayer_name               324\ncompetition_id              0\nyellow_cards                0\nred_cards                   0\ngoals                       0\nassists                     0\nminutes_played              0\ndtype: int64"
     },
     "execution_count": 6,
     "metadata": {},
     "output_type": "execute_result"
    }
   ],
   "source": [
    "appearances_df.isna().sum()"
   ],
   "metadata": {
    "collapsed": false,
    "ExecuteTime": {
     "start_time": "2024-07-11T15:16:44.461143600Z"
    }
   },
   "id": "189bae722e431d8a"
  },
  {
   "cell_type": "code",
   "execution_count": 7,
   "outputs": [
    {
     "data": {
      "text/plain": "                game_id  player_id  player_club_id  player_current_club_id  \\\nappearance_id                                                                \n2464775_14280   2464775      14280            3327                      -1   \n2464775_192599  2464775     192599            3327                      -1   \n2464775_194603  2464775     194603            3327                      -1   \n2464775_33235   2464775      33235            3327                      -1   \n2464775_35246   2464775      35246            3327                      -1   \n...                 ...        ...             ...                     ...   \n2810017_255495  2810017     255495           11596                      -1   \n2810025_255495  2810025     255495           11596                      -1   \n2814841_255495  2814841     255495           11596                      -1   \n2814844_255495  2814844     255495           11596                      -1   \n3084062_380365  3084062     380365           16486                      -1   \n\n                      date player_name competition_id  yellow_cards  \\\nappearance_id                                                         \n2464775_14280   2014-08-17         NaN            PO1             1   \n2464775_192599  2014-08-17         NaN            PO1             0   \n2464775_194603  2014-08-17         NaN            PO1             1   \n2464775_33235   2014-08-17         NaN            PO1             0   \n2464775_35246   2014-08-17         NaN            PO1             0   \n...                    ...         ...            ...           ...   \n2810017_255495  2017-01-04         NaN            CDR             0   \n2810025_255495  2017-01-11         NaN            CDR             0   \n2814841_255495  2017-01-18         NaN            CDR             0   \n2814844_255495  2017-01-24         NaN            CDR             0   \n3084062_380365  2018-09-05         NaN            CDR             1   \n\n                red_cards  goals  assists  minutes_played  \nappearance_id                                              \n2464775_14280           0      0        0              90  \n2464775_192599          0      0        0              45  \n2464775_194603          0      0        0              90  \n2464775_33235           0      0        0              58  \n2464775_35246           0      0        0              90  \n...                   ...    ...      ...             ...  \n2810017_255495          0      0        0              90  \n2810025_255495          0      0        0              90  \n2814841_255495          0      0        0              90  \n2814844_255495          0      0        0              90  \n3084062_380365          0      0        0              90  \n\n[324 rows x 12 columns]",
      "text/html": "<div>\n<style scoped>\n    .dataframe tbody tr th:only-of-type {\n        vertical-align: middle;\n    }\n\n    .dataframe tbody tr th {\n        vertical-align: top;\n    }\n\n    .dataframe thead th {\n        text-align: right;\n    }\n</style>\n<table border=\"1\" class=\"dataframe\">\n  <thead>\n    <tr style=\"text-align: right;\">\n      <th></th>\n      <th>game_id</th>\n      <th>player_id</th>\n      <th>player_club_id</th>\n      <th>player_current_club_id</th>\n      <th>date</th>\n      <th>player_name</th>\n      <th>competition_id</th>\n      <th>yellow_cards</th>\n      <th>red_cards</th>\n      <th>goals</th>\n      <th>assists</th>\n      <th>minutes_played</th>\n    </tr>\n    <tr>\n      <th>appearance_id</th>\n      <th></th>\n      <th></th>\n      <th></th>\n      <th></th>\n      <th></th>\n      <th></th>\n      <th></th>\n      <th></th>\n      <th></th>\n      <th></th>\n      <th></th>\n      <th></th>\n    </tr>\n  </thead>\n  <tbody>\n    <tr>\n      <th>2464775_14280</th>\n      <td>2464775</td>\n      <td>14280</td>\n      <td>3327</td>\n      <td>-1</td>\n      <td>2014-08-17</td>\n      <td>NaN</td>\n      <td>PO1</td>\n      <td>1</td>\n      <td>0</td>\n      <td>0</td>\n      <td>0</td>\n      <td>90</td>\n    </tr>\n    <tr>\n      <th>2464775_192599</th>\n      <td>2464775</td>\n      <td>192599</td>\n      <td>3327</td>\n      <td>-1</td>\n      <td>2014-08-17</td>\n      <td>NaN</td>\n      <td>PO1</td>\n      <td>0</td>\n      <td>0</td>\n      <td>0</td>\n      <td>0</td>\n      <td>45</td>\n    </tr>\n    <tr>\n      <th>2464775_194603</th>\n      <td>2464775</td>\n      <td>194603</td>\n      <td>3327</td>\n      <td>-1</td>\n      <td>2014-08-17</td>\n      <td>NaN</td>\n      <td>PO1</td>\n      <td>1</td>\n      <td>0</td>\n      <td>0</td>\n      <td>0</td>\n      <td>90</td>\n    </tr>\n    <tr>\n      <th>2464775_33235</th>\n      <td>2464775</td>\n      <td>33235</td>\n      <td>3327</td>\n      <td>-1</td>\n      <td>2014-08-17</td>\n      <td>NaN</td>\n      <td>PO1</td>\n      <td>0</td>\n      <td>0</td>\n      <td>0</td>\n      <td>0</td>\n      <td>58</td>\n    </tr>\n    <tr>\n      <th>2464775_35246</th>\n      <td>2464775</td>\n      <td>35246</td>\n      <td>3327</td>\n      <td>-1</td>\n      <td>2014-08-17</td>\n      <td>NaN</td>\n      <td>PO1</td>\n      <td>0</td>\n      <td>0</td>\n      <td>0</td>\n      <td>0</td>\n      <td>90</td>\n    </tr>\n    <tr>\n      <th>...</th>\n      <td>...</td>\n      <td>...</td>\n      <td>...</td>\n      <td>...</td>\n      <td>...</td>\n      <td>...</td>\n      <td>...</td>\n      <td>...</td>\n      <td>...</td>\n      <td>...</td>\n      <td>...</td>\n      <td>...</td>\n    </tr>\n    <tr>\n      <th>2810017_255495</th>\n      <td>2810017</td>\n      <td>255495</td>\n      <td>11596</td>\n      <td>-1</td>\n      <td>2017-01-04</td>\n      <td>NaN</td>\n      <td>CDR</td>\n      <td>0</td>\n      <td>0</td>\n      <td>0</td>\n      <td>0</td>\n      <td>90</td>\n    </tr>\n    <tr>\n      <th>2810025_255495</th>\n      <td>2810025</td>\n      <td>255495</td>\n      <td>11596</td>\n      <td>-1</td>\n      <td>2017-01-11</td>\n      <td>NaN</td>\n      <td>CDR</td>\n      <td>0</td>\n      <td>0</td>\n      <td>0</td>\n      <td>0</td>\n      <td>90</td>\n    </tr>\n    <tr>\n      <th>2814841_255495</th>\n      <td>2814841</td>\n      <td>255495</td>\n      <td>11596</td>\n      <td>-1</td>\n      <td>2017-01-18</td>\n      <td>NaN</td>\n      <td>CDR</td>\n      <td>0</td>\n      <td>0</td>\n      <td>0</td>\n      <td>0</td>\n      <td>90</td>\n    </tr>\n    <tr>\n      <th>2814844_255495</th>\n      <td>2814844</td>\n      <td>255495</td>\n      <td>11596</td>\n      <td>-1</td>\n      <td>2017-01-24</td>\n      <td>NaN</td>\n      <td>CDR</td>\n      <td>0</td>\n      <td>0</td>\n      <td>0</td>\n      <td>0</td>\n      <td>90</td>\n    </tr>\n    <tr>\n      <th>3084062_380365</th>\n      <td>3084062</td>\n      <td>380365</td>\n      <td>16486</td>\n      <td>-1</td>\n      <td>2018-09-05</td>\n      <td>NaN</td>\n      <td>CDR</td>\n      <td>1</td>\n      <td>0</td>\n      <td>0</td>\n      <td>0</td>\n      <td>90</td>\n    </tr>\n  </tbody>\n</table>\n<p>324 rows × 12 columns</p>\n</div>"
     },
     "execution_count": 7,
     "metadata": {},
     "output_type": "execute_result"
    }
   ],
   "source": [
    "appearances_df.loc[appearances_df['player_name'].isna()]"
   ],
   "metadata": {
    "collapsed": false,
    "ExecuteTime": {
     "start_time": "2024-07-11T15:16:44.609044400Z"
    }
   },
   "id": "6ec3437d7a81d100"
  },
  {
   "cell_type": "code",
   "execution_count": 8,
   "outputs": [
    {
     "data": {
      "text/plain": "                game_id  player_id  player_club_id  player_current_club_id  \\\nappearance_id                                                                \n2464775_14280   2464775      14280            3327                      -1   \n2464775_192599  2464775     192599            3327                      -1   \n2464775_194603  2464775     194603            3327                      -1   \n2464775_33235   2464775      33235            3327                      -1   \n2464775_35246   2464775      35246            3327                      -1   \n...                 ...        ...             ...                     ...   \n2810017_255495  2810017     255495           11596                      -1   \n2810025_255495  2810025     255495           11596                      -1   \n2814841_255495  2814841     255495           11596                      -1   \n2814844_255495  2814844     255495           11596                      -1   \n3084062_380365  3084062     380365           16486                      -1   \n\n                      date player_name competition_id  yellow_cards  \\\nappearance_id                                                         \n2464775_14280   2014-08-17         NaN            PO1             1   \n2464775_192599  2014-08-17         NaN            PO1             0   \n2464775_194603  2014-08-17         NaN            PO1             1   \n2464775_33235   2014-08-17         NaN            PO1             0   \n2464775_35246   2014-08-17         NaN            PO1             0   \n...                    ...         ...            ...           ...   \n2810017_255495  2017-01-04         NaN            CDR             0   \n2810025_255495  2017-01-11         NaN            CDR             0   \n2814841_255495  2017-01-18         NaN            CDR             0   \n2814844_255495  2017-01-24         NaN            CDR             0   \n3084062_380365  2018-09-05         NaN            CDR             1   \n\n                red_cards  goals  assists  minutes_played  \nappearance_id                                              \n2464775_14280           0      0        0              90  \n2464775_192599          0      0        0              45  \n2464775_194603          0      0        0              90  \n2464775_33235           0      0        0              58  \n2464775_35246           0      0        0              90  \n...                   ...    ...      ...             ...  \n2810017_255495          0      0        0              90  \n2810025_255495          0      0        0              90  \n2814841_255495          0      0        0              90  \n2814844_255495          0      0        0              90  \n3084062_380365          0      0        0              90  \n\n[324 rows x 12 columns]",
      "text/html": "<div>\n<style scoped>\n    .dataframe tbody tr th:only-of-type {\n        vertical-align: middle;\n    }\n\n    .dataframe tbody tr th {\n        vertical-align: top;\n    }\n\n    .dataframe thead th {\n        text-align: right;\n    }\n</style>\n<table border=\"1\" class=\"dataframe\">\n  <thead>\n    <tr style=\"text-align: right;\">\n      <th></th>\n      <th>game_id</th>\n      <th>player_id</th>\n      <th>player_club_id</th>\n      <th>player_current_club_id</th>\n      <th>date</th>\n      <th>player_name</th>\n      <th>competition_id</th>\n      <th>yellow_cards</th>\n      <th>red_cards</th>\n      <th>goals</th>\n      <th>assists</th>\n      <th>minutes_played</th>\n    </tr>\n    <tr>\n      <th>appearance_id</th>\n      <th></th>\n      <th></th>\n      <th></th>\n      <th></th>\n      <th></th>\n      <th></th>\n      <th></th>\n      <th></th>\n      <th></th>\n      <th></th>\n      <th></th>\n      <th></th>\n    </tr>\n  </thead>\n  <tbody>\n    <tr>\n      <th>2464775_14280</th>\n      <td>2464775</td>\n      <td>14280</td>\n      <td>3327</td>\n      <td>-1</td>\n      <td>2014-08-17</td>\n      <td>NaN</td>\n      <td>PO1</td>\n      <td>1</td>\n      <td>0</td>\n      <td>0</td>\n      <td>0</td>\n      <td>90</td>\n    </tr>\n    <tr>\n      <th>2464775_192599</th>\n      <td>2464775</td>\n      <td>192599</td>\n      <td>3327</td>\n      <td>-1</td>\n      <td>2014-08-17</td>\n      <td>NaN</td>\n      <td>PO1</td>\n      <td>0</td>\n      <td>0</td>\n      <td>0</td>\n      <td>0</td>\n      <td>45</td>\n    </tr>\n    <tr>\n      <th>2464775_194603</th>\n      <td>2464775</td>\n      <td>194603</td>\n      <td>3327</td>\n      <td>-1</td>\n      <td>2014-08-17</td>\n      <td>NaN</td>\n      <td>PO1</td>\n      <td>1</td>\n      <td>0</td>\n      <td>0</td>\n      <td>0</td>\n      <td>90</td>\n    </tr>\n    <tr>\n      <th>2464775_33235</th>\n      <td>2464775</td>\n      <td>33235</td>\n      <td>3327</td>\n      <td>-1</td>\n      <td>2014-08-17</td>\n      <td>NaN</td>\n      <td>PO1</td>\n      <td>0</td>\n      <td>0</td>\n      <td>0</td>\n      <td>0</td>\n      <td>58</td>\n    </tr>\n    <tr>\n      <th>2464775_35246</th>\n      <td>2464775</td>\n      <td>35246</td>\n      <td>3327</td>\n      <td>-1</td>\n      <td>2014-08-17</td>\n      <td>NaN</td>\n      <td>PO1</td>\n      <td>0</td>\n      <td>0</td>\n      <td>0</td>\n      <td>0</td>\n      <td>90</td>\n    </tr>\n    <tr>\n      <th>...</th>\n      <td>...</td>\n      <td>...</td>\n      <td>...</td>\n      <td>...</td>\n      <td>...</td>\n      <td>...</td>\n      <td>...</td>\n      <td>...</td>\n      <td>...</td>\n      <td>...</td>\n      <td>...</td>\n      <td>...</td>\n    </tr>\n    <tr>\n      <th>2810017_255495</th>\n      <td>2810017</td>\n      <td>255495</td>\n      <td>11596</td>\n      <td>-1</td>\n      <td>2017-01-04</td>\n      <td>NaN</td>\n      <td>CDR</td>\n      <td>0</td>\n      <td>0</td>\n      <td>0</td>\n      <td>0</td>\n      <td>90</td>\n    </tr>\n    <tr>\n      <th>2810025_255495</th>\n      <td>2810025</td>\n      <td>255495</td>\n      <td>11596</td>\n      <td>-1</td>\n      <td>2017-01-11</td>\n      <td>NaN</td>\n      <td>CDR</td>\n      <td>0</td>\n      <td>0</td>\n      <td>0</td>\n      <td>0</td>\n      <td>90</td>\n    </tr>\n    <tr>\n      <th>2814841_255495</th>\n      <td>2814841</td>\n      <td>255495</td>\n      <td>11596</td>\n      <td>-1</td>\n      <td>2017-01-18</td>\n      <td>NaN</td>\n      <td>CDR</td>\n      <td>0</td>\n      <td>0</td>\n      <td>0</td>\n      <td>0</td>\n      <td>90</td>\n    </tr>\n    <tr>\n      <th>2814844_255495</th>\n      <td>2814844</td>\n      <td>255495</td>\n      <td>11596</td>\n      <td>-1</td>\n      <td>2017-01-24</td>\n      <td>NaN</td>\n      <td>CDR</td>\n      <td>0</td>\n      <td>0</td>\n      <td>0</td>\n      <td>0</td>\n      <td>90</td>\n    </tr>\n    <tr>\n      <th>3084062_380365</th>\n      <td>3084062</td>\n      <td>380365</td>\n      <td>16486</td>\n      <td>-1</td>\n      <td>2018-09-05</td>\n      <td>NaN</td>\n      <td>CDR</td>\n      <td>1</td>\n      <td>0</td>\n      <td>0</td>\n      <td>0</td>\n      <td>90</td>\n    </tr>\n  </tbody>\n</table>\n<p>324 rows × 12 columns</p>\n</div>"
     },
     "execution_count": 8,
     "metadata": {},
     "output_type": "execute_result"
    }
   ],
   "source": [
    "appearances_df.loc[appearances_df['player_current_club_id']==-1]"
   ],
   "metadata": {
    "collapsed": false,
    "ExecuteTime": {
     "start_time": "2024-07-11T15:16:44.678148200Z"
    }
   },
   "id": "6ef3dd1b6ed9afb6"
  },
  {
   "cell_type": "code",
   "execution_count": 9,
   "outputs": [
    {
     "data": {
      "text/plain": "                game_id  player_id  player_club_id  player_current_club_id  \\\nappearance_id                                                                \n2231978_38004   2231978      38004             853                     235   \n2233748_79232   2233748      79232            8841                    2698   \n2234413_42792   2234413      42792            6251                     465   \n2234418_73333   2234418      73333            1274                    6646   \n2234421_122011  2234421     122011             195                    3008   \n...                 ...        ...             ...                     ...   \n4172154_659813  4172154     659813              15                      15   \n4172154_696027  4172154     696027              15                      15   \n4172154_7161    4172154       7161              15                      15   \n4172154_743395  4172154     743395              15                      15   \n4172154_936981  4172154     936981              15                      15   \n\n                      date       player_name competition_id  yellow_cards  \\\nappearance_id                                                               \n2231978_38004   2012-07-03  Aurélien Joachim            CLQ             0   \n2233748_79232   2012-07-05    Ruslan Abyshov            ELQ             0   \n2234413_42792   2012-07-05       Sander Puri            ELQ             0   \n2234418_73333   2012-07-05   Vegar Hedenstad            ELQ             0   \n2234421_122011  2012-07-05  Markus Henriksen            ELQ             0   \n...                    ...               ...            ...           ...   \n4172154_659813  2023-11-30    Piero Hincapié             EL             0   \n4172154_696027  2023-11-30      Ayman Aourir             EL             0   \n4172154_7161    2023-11-30     Jonas Hofmann             EL             0   \n4172154_743395  2023-11-30       Noah Mbamba             EL             0   \n4172154_936981  2023-11-30    Gustavo Puerta             EL             0   \n\n                red_cards  goals  assists  minutes_played  \nappearance_id                                              \n2231978_38004           0      2        0              90  \n2233748_79232           0      0        0              90  \n2234413_42792           0      0        0              45  \n2234418_73333           0      0        0              90  \n2234421_122011          0      0        1              90  \n...                   ...    ...      ...             ...  \n4172154_659813          0      0        0              90  \n4172154_696027          0      0        0               2  \n4172154_7161            0      0        0              10  \n4172154_743395          0      0        0              45  \n4172154_936981          0      0        0              88  \n\n[1507027 rows x 12 columns]",
      "text/html": "<div>\n<style scoped>\n    .dataframe tbody tr th:only-of-type {\n        vertical-align: middle;\n    }\n\n    .dataframe tbody tr th {\n        vertical-align: top;\n    }\n\n    .dataframe thead th {\n        text-align: right;\n    }\n</style>\n<table border=\"1\" class=\"dataframe\">\n  <thead>\n    <tr style=\"text-align: right;\">\n      <th></th>\n      <th>game_id</th>\n      <th>player_id</th>\n      <th>player_club_id</th>\n      <th>player_current_club_id</th>\n      <th>date</th>\n      <th>player_name</th>\n      <th>competition_id</th>\n      <th>yellow_cards</th>\n      <th>red_cards</th>\n      <th>goals</th>\n      <th>assists</th>\n      <th>minutes_played</th>\n    </tr>\n    <tr>\n      <th>appearance_id</th>\n      <th></th>\n      <th></th>\n      <th></th>\n      <th></th>\n      <th></th>\n      <th></th>\n      <th></th>\n      <th></th>\n      <th></th>\n      <th></th>\n      <th></th>\n      <th></th>\n    </tr>\n  </thead>\n  <tbody>\n    <tr>\n      <th>2231978_38004</th>\n      <td>2231978</td>\n      <td>38004</td>\n      <td>853</td>\n      <td>235</td>\n      <td>2012-07-03</td>\n      <td>Aurélien Joachim</td>\n      <td>CLQ</td>\n      <td>0</td>\n      <td>0</td>\n      <td>2</td>\n      <td>0</td>\n      <td>90</td>\n    </tr>\n    <tr>\n      <th>2233748_79232</th>\n      <td>2233748</td>\n      <td>79232</td>\n      <td>8841</td>\n      <td>2698</td>\n      <td>2012-07-05</td>\n      <td>Ruslan Abyshov</td>\n      <td>ELQ</td>\n      <td>0</td>\n      <td>0</td>\n      <td>0</td>\n      <td>0</td>\n      <td>90</td>\n    </tr>\n    <tr>\n      <th>2234413_42792</th>\n      <td>2234413</td>\n      <td>42792</td>\n      <td>6251</td>\n      <td>465</td>\n      <td>2012-07-05</td>\n      <td>Sander Puri</td>\n      <td>ELQ</td>\n      <td>0</td>\n      <td>0</td>\n      <td>0</td>\n      <td>0</td>\n      <td>45</td>\n    </tr>\n    <tr>\n      <th>2234418_73333</th>\n      <td>2234418</td>\n      <td>73333</td>\n      <td>1274</td>\n      <td>6646</td>\n      <td>2012-07-05</td>\n      <td>Vegar Hedenstad</td>\n      <td>ELQ</td>\n      <td>0</td>\n      <td>0</td>\n      <td>0</td>\n      <td>0</td>\n      <td>90</td>\n    </tr>\n    <tr>\n      <th>2234421_122011</th>\n      <td>2234421</td>\n      <td>122011</td>\n      <td>195</td>\n      <td>3008</td>\n      <td>2012-07-05</td>\n      <td>Markus Henriksen</td>\n      <td>ELQ</td>\n      <td>0</td>\n      <td>0</td>\n      <td>0</td>\n      <td>1</td>\n      <td>90</td>\n    </tr>\n    <tr>\n      <th>...</th>\n      <td>...</td>\n      <td>...</td>\n      <td>...</td>\n      <td>...</td>\n      <td>...</td>\n      <td>...</td>\n      <td>...</td>\n      <td>...</td>\n      <td>...</td>\n      <td>...</td>\n      <td>...</td>\n      <td>...</td>\n    </tr>\n    <tr>\n      <th>4172154_659813</th>\n      <td>4172154</td>\n      <td>659813</td>\n      <td>15</td>\n      <td>15</td>\n      <td>2023-11-30</td>\n      <td>Piero Hincapié</td>\n      <td>EL</td>\n      <td>0</td>\n      <td>0</td>\n      <td>0</td>\n      <td>0</td>\n      <td>90</td>\n    </tr>\n    <tr>\n      <th>4172154_696027</th>\n      <td>4172154</td>\n      <td>696027</td>\n      <td>15</td>\n      <td>15</td>\n      <td>2023-11-30</td>\n      <td>Ayman Aourir</td>\n      <td>EL</td>\n      <td>0</td>\n      <td>0</td>\n      <td>0</td>\n      <td>0</td>\n      <td>2</td>\n    </tr>\n    <tr>\n      <th>4172154_7161</th>\n      <td>4172154</td>\n      <td>7161</td>\n      <td>15</td>\n      <td>15</td>\n      <td>2023-11-30</td>\n      <td>Jonas Hofmann</td>\n      <td>EL</td>\n      <td>0</td>\n      <td>0</td>\n      <td>0</td>\n      <td>0</td>\n      <td>10</td>\n    </tr>\n    <tr>\n      <th>4172154_743395</th>\n      <td>4172154</td>\n      <td>743395</td>\n      <td>15</td>\n      <td>15</td>\n      <td>2023-11-30</td>\n      <td>Noah Mbamba</td>\n      <td>EL</td>\n      <td>0</td>\n      <td>0</td>\n      <td>0</td>\n      <td>0</td>\n      <td>45</td>\n    </tr>\n    <tr>\n      <th>4172154_936981</th>\n      <td>4172154</td>\n      <td>936981</td>\n      <td>15</td>\n      <td>15</td>\n      <td>2023-11-30</td>\n      <td>Gustavo Puerta</td>\n      <td>EL</td>\n      <td>0</td>\n      <td>0</td>\n      <td>0</td>\n      <td>0</td>\n      <td>88</td>\n    </tr>\n  </tbody>\n</table>\n<p>1507027 rows × 12 columns</p>\n</div>"
     },
     "execution_count": 9,
     "metadata": {},
     "output_type": "execute_result"
    }
   ],
   "source": [
    "appearances_df.dropna(subset=['player_name'])"
   ],
   "metadata": {
    "collapsed": false,
    "ExecuteTime": {
     "start_time": "2024-07-11T15:16:44.698762Z"
    }
   },
   "id": "1f037cd63c6769b3"
  },
  {
   "cell_type": "code",
   "execution_count": 10,
   "outputs": [
    {
     "data": {
      "text/plain": "game_id                    int64\nplayer_id                  int64\nplayer_club_id             int64\nplayer_current_club_id     int64\ndate                      object\nplayer_name               object\ncompetition_id            object\nyellow_cards               int64\nred_cards                  int64\ngoals                      int64\nassists                    int64\nminutes_played             int64\ndtype: object"
     },
     "execution_count": 10,
     "metadata": {},
     "output_type": "execute_result"
    }
   ],
   "source": [
    "appearances_df.dtypes"
   ],
   "metadata": {
    "collapsed": false,
    "ExecuteTime": {
     "start_time": "2024-07-11T15:16:44.902201Z"
    }
   },
   "id": "ba872015c72d045d"
  },
  {
   "cell_type": "code",
   "execution_count": 11,
   "outputs": [
    {
     "data": {
      "text/plain": "game_id                            int64\nplayer_id                          int64\nplayer_club_id                     int64\nplayer_current_club_id             int64\ndate                      datetime64[ns]\nplayer_name                       object\ncompetition_id                    object\nyellow_cards                       int64\nred_cards                          int64\ngoals                              int64\nassists                            int64\nminutes_played                     int64\ndtype: object"
     },
     "execution_count": 11,
     "metadata": {},
     "output_type": "execute_result"
    }
   ],
   "source": [
    "appearances_df['date'] = pd.to_datetime(appearances_df['date'])\n",
    "appearances_df.dtypes"
   ],
   "metadata": {
    "collapsed": false,
    "ExecuteTime": {
     "start_time": "2024-07-11T15:16:44.908911900Z"
    }
   },
   "id": "4da04ff279b4ecbf"
  },
  {
   "cell_type": "markdown",
   "source": [
    "# Data Analysis of Appearances"
   ],
   "metadata": {
    "collapsed": false
   },
   "id": "830c17f2c9970fab"
  },
  {
   "cell_type": "code",
   "execution_count": 12,
   "outputs": [
    {
     "data": {
      "text/plain": "count   1507351.00\nmean         69.65\nstd          29.76\nmin           1.00\n25%          52.00\n50%          90.00\n75%          90.00\nmax         120.00\nName: minutes_played, dtype: float64"
     },
     "execution_count": 12,
     "metadata": {},
     "output_type": "execute_result"
    }
   ],
   "source": [
    "pd.set_option('display.float_format', lambda x: '%.2f' % x)\n",
    "appearances_df['minutes_played'].describe()"
   ],
   "metadata": {
    "collapsed": false,
    "ExecuteTime": {
     "start_time": "2024-07-11T15:16:45.014526500Z"
    }
   },
   "id": "48deb4f2e4af05f3"
  },
  {
   "cell_type": "code",
   "execution_count": 13,
   "outputs": [
    {
     "data": {
      "text/plain": "<Figure size 640x480 with 1 Axes>",
      "image/png": "[encoded data removed]"
     },
     "metadata": {},
     "output_type": "display_data"
    }
   ],
   "source": [
    "# check for minutes_played outliers\n",
    "ax = appearances_df.boxplot(column='minutes_played')\n",
    "ax.set_title('Boxplot of minutes_played by players')\n",
    "plt.xlabel('')\n",
    "plt.ylabel('minutes played')\n",
    "plt.show()"
   ],
   "metadata": {
    "collapsed": false,
    "ExecuteTime": {
     "start_time": "2024-07-11T15:16:45.052838700Z"
    }
   },
   "id": "be2c36e0fe7444e2"
  },
  {
   "cell_type": "code",
   "execution_count": 14,
   "outputs": [
    {
     "name": "stdout",
     "output_type": "stream",
     "text": [
      "Media di minutes_played: 69.65\n"
     ]
    },
    {
     "data": {
      "text/plain": "<Figure size 640x480 with 1 Axes>",
      "image/png": "[encoded data removed]"
     },
     "metadata": {},
     "output_type": "display_data"
    }
   ],
   "source": [
    "df = appearances_df\n",
    "var = 'minutes_played'\n",
    "\n",
    "mean_value = df[var].mean()\n",
    "print(f\"Media di {var}: {mean_value:.2f}\")\n",
    "\n",
    "sns.histplot(data=df, x=var, kde=True, bins=20)\n",
    "plt.title(f'Distribuzione della variabile {var}')\n",
    "plt.xlabel(f'{var}')\n",
    "plt.ylabel('Frequenza')\n",
    "plt.show()"
   ],
   "metadata": {
    "collapsed": false,
    "ExecuteTime": {
     "start_time": "2024-07-11T15:16:46.137087100Z"
    }
   },
   "id": "fd288c995fa7773c"
  },
  {
   "cell_type": "code",
   "execution_count": 15,
   "outputs": [
    {
     "data": {
      "text/plain": "count                          1507351\nmean     2018-03-31 15:32:46.023572224\nmin                2012-07-03 00:00:00\n25%                2015-04-19 00:00:00\n50%                2018-02-24 00:00:00\n75%                2021-02-27 00:00:00\nmax                2023-11-30 00:00:00\nName: date, dtype: object"
     },
     "execution_count": 15,
     "metadata": {},
     "output_type": "execute_result"
    }
   ],
   "source": [
    "appearances_df['date'].describe()"
   ],
   "metadata": {
    "collapsed": false,
    "ExecuteTime": {
     "start_time": "2024-07-11T15:16:58.747185300Z"
    }
   },
   "id": "57364b8244ffc8a9"
  },
  {
   "cell_type": "code",
   "execution_count": 16,
   "outputs": [
    {
     "data": {
      "text/plain": "Index(['game_id', 'player_id', 'player_club_id', 'player_current_club_id',\n       'date', 'player_name', 'competition_id', 'yellow_cards', 'red_cards',\n       'goals', 'assists', 'minutes_played'],\n      dtype='object')"
     },
     "execution_count": 16,
     "metadata": {},
     "output_type": "execute_result"
    }
   ],
   "source": [
    "appearances_df.columns"
   ],
   "metadata": {
    "collapsed": false,
    "ExecuteTime": {
     "start_time": "2024-07-11T15:16:58.786206100Z"
    }
   },
   "id": "4ec4ef9eada7e20b"
  },
  {
   "cell_type": "code",
   "execution_count": 17,
   "outputs": [
    {
     "data": {
      "text/plain": "competition_id\nIT1     124015\nES1     122229\nGB1     119599\nFR1     118873\nTR1     105004\nL1       99430\nNL1      95190\nPO1      93428\nBE1      82541\nRU1      77672\nGR1      73586\nSC1      65545\nUKR1     57653\nDK1      56437\nEL       44942\nCL       37415\nELQ      15840\nCDR      12677\nGRP      12587\nFAC      10660\nRUP       9598\nDFB       9339\nPOCP      9165\nCIT       9129\nNLP       8342\nCLQ       7834\nDKP       7580\nSFA       5753\nUKRP      5358\nECLQ      4215\nCGB       1431\nSUC        719\nGBCS       353\nDFL        348\nUSC        346\nRUSS       343\nPOSU       329\nKLUB       328\nSCI        316\nFRCH       313\nNLSC       309\nBESC       305\nUKRS       275\nName: count, dtype: int64"
     },
     "execution_count": 17,
     "metadata": {},
     "output_type": "execute_result"
    }
   ],
   "source": [
    "appearances_df['competition_id'].value_counts()"
   ],
   "metadata": {
    "collapsed": false,
    "ExecuteTime": {
     "start_time": "2024-07-11T15:16:58.793745600Z"
    }
   },
   "id": "6af7822a03b2b7c"
  },
  {
   "cell_type": "markdown",
   "source": [
    "# Saving processed data to feather file"
   ],
   "metadata": {
    "collapsed": false
   },
   "id": "7a7f0ecb1ccf633e"
  },
  {
   "cell_type": "code",
   "execution_count": 18,
   "outputs": [],
   "source": [
    "appearances_df.to_feather('../cleaned_data/appearances.feather')"
   ],
   "metadata": {
    "collapsed": false,
    "ExecuteTime": {
     "start_time": "2024-07-11T15:16:58.908829800Z"
    }
   },
   "id": "99085a286841e270"
  },
  {
   "cell_type": "code",
   "execution_count": 18,
   "outputs": [],
   "source": [],
   "metadata": {
    "collapsed": false,
    "ExecuteTime": {
     "start_time": "2024-07-11T15:16:59.514920200Z"
    }
   },
   "id": "cab0097d04382668"
  }
 ],
 "metadata": {
  "kernelspec": {
   "display_name": "Python 3",
   "language": "python",
   "name": "python3"
  },
  "language_info": {
   "codemirror_mode": {
    "name": "ipython",
    "version": 2
   },
   "file_extension": ".py",
   "mimetype": "text/x-python",
   "name": "python",
   "nbconvert_exporter": "python",
   "pygments_lexer": "ipython2",
   "version": "2.7.6"
  }
 },
 "nbformat": 4,
 "nbformat_minor": 5
}
