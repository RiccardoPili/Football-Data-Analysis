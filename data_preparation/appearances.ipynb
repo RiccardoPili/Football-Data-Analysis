{
 "cells": [
  {
   "cell_type": "markdown",
   "source": [
    "# Importing Data & Libraries"
   ],
   "metadata": {
    "collapsed": false
   },
   "id": "7d0b0bc9284fea63"
  },
  {
   "cell_type": "code",
   "execution_count": 5,
   "outputs": [],
   "source": [
    "import pandas as pd\n",
    "import matplotlib.pylab as plt\n",
    "import seaborn as sns\n",
    "from folder_path import folder_path\n",
    "\n",
    "appearances_df = pd.read_csv(f\"{folder_path}/appearances.csv\")\n",
    "players_df = pd.read_csv(f\"{folder_path}/players.csv\")"
   ],
   "metadata": {
    "collapsed": false,
    "ExecuteTime": {
     "end_time": "2024-06-12T19:58:34.098287400Z",
     "start_time": "2024-06-12T19:58:28.393899800Z"
    }
   },
   "id": "a554d5c9baf035a7"
  },
  {
   "cell_type": "code",
   "execution_count": 6,
   "outputs": [],
   "source": [
    "# DA FARE ALLA FINE DI OGNI FILE DI DATA PREPARATION\n",
    "# players_df.to_pickle('cleaned_data/players.pkl')"
   ],
   "metadata": {
    "collapsed": false,
    "ExecuteTime": {
     "end_time": "2024-06-12T19:58:37.654140900Z",
     "start_time": "2024-06-12T19:58:37.521801600Z"
    }
   },
   "id": "6fbfee6db10b6de6"
  },
  {
   "cell_type": "markdown",
   "source": [
    "# Data Preparation of Appearances"
   ],
   "metadata": {
    "collapsed": false
   },
   "id": "cb888531da69fd74"
  },
  {
   "cell_type": "code",
   "execution_count": null,
   "outputs": [],
   "source": [
    "appearances_df.shape"
   ],
   "metadata": {
    "collapsed": false
   },
   "id": "24cbbeace9eb69c2"
  },
  {
   "cell_type": "code",
   "execution_count": null,
   "outputs": [],
   "source": [
    "appearances_df.head(10)"
   ],
   "metadata": {
    "collapsed": false
   },
   "id": "14c8783e16cba5e9"
  },
  {
   "cell_type": "code",
   "execution_count": null,
   "outputs": [],
   "source": [
    "appearances_df = appearances_df.set_index('appearance_id')\n",
    "appearances_df.head(10)"
   ],
   "metadata": {
    "collapsed": false
   },
   "id": "64431729cf13ca3"
  },
  {
   "cell_type": "code",
   "execution_count": null,
   "outputs": [],
   "source": [
    "appearances_df.loc[appearances_df.duplicated()]"
   ],
   "metadata": {
    "collapsed": false
   },
   "id": "f8bd68dfe8419d1f"
  },
  {
   "cell_type": "code",
   "execution_count": null,
   "outputs": [],
   "source": [
    "appearances_df.dtypes"
   ],
   "metadata": {
    "collapsed": false
   },
   "id": "ba872015c72d045d"
  },
  {
   "cell_type": "code",
   "execution_count": null,
   "outputs": [],
   "source": [
    "appearances_df['date'] = pd.to_datetime(appearances_df['date'])\n",
    "appearances_df.dtypes"
   ],
   "metadata": {
    "collapsed": false
   },
   "id": "4da04ff279b4ecbf"
  },
  {
   "cell_type": "markdown",
   "source": [
    "# Data Analysis of Appearances"
   ],
   "metadata": {
    "collapsed": false
   },
   "id": "64e8f7df3d1a24b7"
  },
  {
   "cell_type": "code",
   "execution_count": null,
   "outputs": [],
   "source": [
    "df = appearances_df\n",
    "var = 'minutes_played'\n",
    "\n",
    "mean_value = df[var].mean()\n",
    "print(f\"Media di {var}: {mean_value:.2f}\")\n",
    "\n",
    "sns.histplot(data=df, x=var, kde=True, bins=20)\n",
    "plt.title(f'Distribuzione della variabile {var}')\n",
    "plt.xlabel(f'{var}')\n",
    "plt.ylabel('Frequenza')\n",
    "plt.show()"
   ],
   "metadata": {
    "collapsed": false
   },
   "id": "fd288c995fa7773c"
  },
  {
   "cell_type": "code",
   "execution_count": null,
   "outputs": [],
   "source": [
    "# distribuzione del numero di goal segnati da un giocatore in una singola partita\n",
    "\n",
    "goals = appearances_df.query('goals >= 1')\n",
    "goal_counts = goals['goals'].value_counts()\n",
    "goal_percentage = goal_counts / goal_counts.sum()*100\n",
    "\n",
    "goal_percentage_df = goal_percentage.reset_index()\n",
    "goal_percentage_df.columns = ['goals', 'percentage']\n",
    "\n",
    "sns.barplot(data=goal_percentage_df, x='goals', y='percentage')\n",
    "\n",
    "for i in range(len(goal_percentage_df)):\n",
    "    plt.text(i, goal_percentage_df['percentage'][i] + 0.5, \n",
    "             f\"{goal_percentage_df['percentage'][i]:.2f}%\", ha='center')\n",
    "\n",
    "plt.title('Frequenza del numero di goal effettuati da un giocatore in una partita')\n",
    "plt.xlabel('Goal effettuati dal singolo giocatore')\n",
    "plt.ylabel('Frequenza %')\n",
    "plt.ylim(0,100)\n",
    "plt.show()"
   ],
   "metadata": {
    "collapsed": false
   },
   "id": "76982f454c219ae0"
  },
  {
   "cell_type": "code",
   "execution_count": null,
   "outputs": [],
   "source": [
    "# giocatori con il maggior numero di triplette\n",
    "hat_tricks = appearances_df.query('goals == 3')['player_id'].value_counts().head(10)\n",
    "hat_tricks_df = pd.DataFrame({'player_id': hat_tricks.index, 'hat_tricks_count': hat_tricks.values})\n",
    "\n",
    "merged_df = pd.merge(hat_tricks_df, players_df, on='player_id')\n",
    "\n",
    "\n",
    "sns.barplot(data=merged_df, y='name', x='hat_tricks_count')\n",
    "\n",
    "for index, value in enumerate(merged_df['hat_tricks_count']):\n",
    "    plt.text(value, index, str(value), ha='left', va='center')\n",
    "\n",
    "plt.title('Top 10 Giocatori per numero di triplette')\n",
    "plt.xlabel('Numero di Triplette')\n",
    "plt.ylabel('')\n",
    "plt.show()"
   ],
   "metadata": {
    "collapsed": false
   },
   "id": "b04b304c3ac699fa"
  },
  {
   "cell_type": "code",
   "execution_count": null,
   "outputs": [],
   "source": [
    "# giocatori con più goal segnati (dal 2012)\n",
    "\n",
    "total_goals = appearances_df.groupby('player_id')['goals'].sum()\n",
    "\n",
    "merged_data = pd.merge(total_goals, players_df, left_index=True, right_on='player_id')\n",
    "\n",
    "top20_players_goals = merged_data.nlargest(20, 'goals')\n",
    "\n",
    "plt.figure(figsize=(10, 6))\n",
    "ax = sns.barplot(data=top20_players_goals, x='goals', y='name', hue='position')\n",
    "\n",
    "for i, (value, name) in enumerate(zip(top20_players_goals['goals'], top20_players_goals['name'])):\n",
    "    ax.text(value, i, f\"{value}\", ha=\"left\", va='center')\n",
    "\n",
    "plt.title('Giocatori con più Goal dal 2012')\n",
    "plt.ylabel('')\n",
    "plt.xlabel('Goal effettuati')\n",
    "plt.legend(title='Posizione', bbox_to_anchor=(1.05, 1), loc='upper left')\n",
    "plt.show()"
   ],
   "metadata": {
    "collapsed": false
   },
   "id": "90b5e1cec7bf00b0"
  },
  {
   "cell_type": "code",
   "execution_count": null,
   "outputs": [],
   "source": [
    "# giocatori con più assist effettuati dal 2012\n",
    "\n",
    "total_assists = appearances_df.groupby('player_id')['assists'].sum()\n",
    "\n",
    "merged_data = pd.merge(total_assists, players_df, left_index=True, right_on='player_id')\n",
    "\n",
    "top20_players_assists = merged_data.nlargest(20, 'assists')\n",
    "\n",
    "plt.figure(figsize=(10, 6))\n",
    "ax = sns.barplot(data=top20_players_assists, x='assists', y='name', hue='position')\n",
    "\n",
    "for i, (value, name) in enumerate(zip(top20_players_assists['assists'], top20_players_assists['name'])):\n",
    "    ax.text(value, i, f\"{value}\", ha=\"left\", va='center')\n",
    "\n",
    "plt.title('Giocatori con più Assist dal 2012')\n",
    "plt.ylabel('')\n",
    "plt.xlabel('Assist effettuati')\n",
    "plt.legend(title='Posizione', bbox_to_anchor=(1.05, 1), loc='upper left')\n",
    "plt.show()"
   ],
   "metadata": {
    "collapsed": false
   },
   "id": "a76408e94fda2623"
  },
  {
   "cell_type": "code",
   "execution_count": null,
   "outputs": [],
   "source": [
    "# giocatori con il maggior numero di presenze (dal 2012)\n",
    "\n",
    "top20_players_app = appearances_df['player_id'].value_counts().head(20)\n",
    "merged_df = pd.merge(top20_players_app, players_df, left_index=True, right_on='player_id')\n",
    "\n",
    "plt.figure(figsize=(10, 6))\n",
    "ax = sns.barplot(data=merged_df, y='name', x='count', hue='position')\n",
    "    \n",
    "for i, (value, name) in enumerate(zip(merged_df['count'], merged_df['name'])):\n",
    "    ax.text(value, i, f\"{value}\", ha=\"left\", va='center')\n",
    "\n",
    "plt.title('Giocatori con più presenze dal 2012')\n",
    "plt.xlabel('Numero di presenze')\n",
    "plt.ylabel('')\n",
    "plt.legend(title='Posizione', bbox_to_anchor=(1.05, 1), loc='upper left')\n",
    "plt.xlim(300, 600)\n",
    "plt.show()"
   ],
   "metadata": {
    "collapsed": false
   },
   "id": "d2621725d5c7ed81"
  },
  {
   "cell_type": "code",
   "execution_count": null,
   "outputs": [],
   "source": [
    "# giocatori con più minuti giocati (dal 2012)\n",
    "\n",
    "total_minutes = appearances_df.groupby('player_id')['minutes_played'].sum()\n",
    "\n",
    "merged_data = pd.merge(total_minutes, players_df, left_index=True, right_on='player_id')\n",
    "\n",
    "top20_players_minutes = merged_data.nlargest(20, 'minutes_played')\n",
    "\n",
    "plt.figure(figsize=(10, 6))\n",
    "sns.barplot(data=top20_players_minutes, x='minutes_played', y='name', hue='position')\n",
    "\n",
    "plt.title('Giocatori con più minuti giocati dal 2012')\n",
    "plt.ylabel('')\n",
    "plt.xlabel('Minuti giocati')\n",
    "plt.legend(title='Posizione', bbox_to_anchor=(1.05, 1), loc='upper left')\n",
    "plt.xlim(30000, 50000)\n",
    "plt.show()"
   ],
   "metadata": {
    "collapsed": false
   },
   "id": "10fc2ef1c2471981"
  },
  {
   "cell_type": "code",
   "execution_count": null,
   "outputs": [],
   "source": [
    "# giocatori con il maggior numero di ammonizioni (dal 2012)\n",
    "\n",
    "total_yellows = appearances_df.groupby('player_id')['yellow_cards'].sum()\n",
    "\n",
    "merged_data = pd.merge(total_yellows, players_df, left_index=True, right_on='player_id')\n",
    "\n",
    "top20_players_yellows = merged_data.nlargest(20, 'yellow_cards')\n",
    "\n",
    "plt.figure(figsize=(10, 6))\n",
    "ax = sns.barplot(data=top20_players_yellows, x='yellow_cards', y='name', hue='position')\n",
    "\n",
    "for i, (value, name) in enumerate(zip(top20_players_yellows['yellow_cards'], top20_players_yellows['name'])):\n",
    "    ax.text(value, i, f\"{value}\", ha=\"left\", va='center')\n",
    "\n",
    "plt.title('Giocatori con più ammonizioni dal 2012')\n",
    "plt.ylabel('')\n",
    "plt.xlabel('Cartellini gialli ricevuti')\n",
    "plt.legend(title='Posizione', bbox_to_anchor=(1.05, 1), loc='upper left')\n",
    "plt.show()"
   ],
   "metadata": {
    "collapsed": false
   },
   "id": "e74b22ac00ac0966"
  },
  {
   "cell_type": "code",
   "execution_count": null,
   "outputs": [],
   "source": [
    "# giocatori con il maggior numero di espulsioni (dal 2012)\n",
    "\n",
    "total_reds = appearances_df.groupby('player_id')['red_cards'].sum()\n",
    "\n",
    "merged_data = pd.merge(total_reds, players_df, left_index=True, right_on='player_id')\n",
    "\n",
    "top20_players_reds = merged_data.nlargest(20, 'red_cards')\n",
    "\n",
    "plt.figure(figsize=(10, 6))\n",
    "ax = sns.barplot(data=top20_players_reds, x='red_cards', y='name', hue='position')\n",
    "\n",
    "for i, (value, name) in enumerate(zip(top20_players_reds['red_cards'], top20_players_reds['name'])):\n",
    "    ax.text(value, i, f\"{value}\", ha=\"left\", va='center')\n",
    "\n",
    "plt.title('Giocatori con più espulsioni dal 2012')\n",
    "plt.ylabel('')\n",
    "plt.xlabel('Cartellini rossi ricevuti')\n",
    "plt.legend(title='Posizione', bbox_to_anchor=(1.05, 1), loc='upper left')\n",
    "plt.show()"
   ],
   "metadata": {
    "collapsed": false
   },
   "id": "3eaff1e5fc1ae747"
  },
  {
   "cell_type": "code",
   "execution_count": null,
   "outputs": [],
   "source": [
    "# migliori giocatori per goal e assist dal 2012\n",
    "\n",
    "total_goals_assists = appearances_df.groupby('player_id')[['goals', 'assists']].sum()\n",
    "\n",
    "merged_data = pd.merge(total_goals_assists, players_df, left_index=True, right_on='player_id')\n",
    "merged_data['total_goals_assists'] = merged_data['goals'] + merged_data['assists']\n",
    "top_players = merged_data.nlargest(10, 'total_goals_assists').sort_values(by='total_goals_assists')\n",
    "\n",
    "plt.figure(figsize=(10, 6))\n",
    "plt.barh(top_players['name'], top_players['goals'], label='Goal')\n",
    "plt.barh(top_players['name'], top_players['assists'], left=top_players['goals'], label='Assist')\n",
    "\n",
    "for i, (goals, assists, name) in enumerate(zip(top_players['goals'], top_players['assists'], top_players['name'])):\n",
    "    plt.text(goals + assists, i, f' Goal: {goals}\\n Assist: {assists}', va='center')\n",
    "\n",
    "plt.title('Top 10 giocatori per G+A dal 2012')\n",
    "plt.xlabel('Somma di goal e assist')\n",
    "plt.ylabel('')\n",
    "plt.legend(bbox_to_anchor=(1.05, 1), loc='upper left')\n",
    "plt.show()"
   ],
   "metadata": {
    "collapsed": false
   },
   "id": "cb8c84395ab1de2e"
  },
  {
   "cell_type": "code",
   "execution_count": null,
   "outputs": [],
   "source": [
    "# top 5 campionati e stagione 2023/2024\n",
    "top_leagues = ['IT1', 'ES1', 'GB1', 'L1', 'FR1']\n",
    "\n",
    "current_players = players_df.query('last_season == 2023 and current_club_domestic_competition_id in @top_leagues')\n",
    "current_appearances = appearances_df.query('date > \"2023-07-31 00:00:00\"')"
   ],
   "metadata": {
    "collapsed": false
   },
   "id": "c485ee080f912f96"
  },
  {
   "cell_type": "code",
   "execution_count": null,
   "outputs": [],
   "source": [
    "# migliori giocatori per goal e assist nella stagione corrente (23/24)\n",
    "\n",
    "total_goals_assists = current_appearances.groupby('player_id')[['goals', 'assists']].sum()\n",
    "\n",
    "merged_data = pd.merge(total_goals_assists, current_players, left_index=True, right_on='player_id')\n",
    "merged_data['total_goals_assists'] = merged_data['goals'] + merged_data['assists']\n",
    "top_players = merged_data.nlargest(10, 'total_goals_assists').sort_values(by='total_goals_assists')\n",
    "\n",
    "plt.figure(figsize=(10, 6))\n",
    "plt.barh(top_players['name'], top_players['goals'], label='Goal')\n",
    "plt.barh(top_players['name'], top_players['assists'], left=top_players['goals'], label='Assist')\n",
    "\n",
    "for i, (goals, assists, name) in enumerate(zip(top_players['goals'], top_players['assists'], top_players['name'])):\n",
    "    plt.text(goals + assists, i, f' Goal: {goals}\\n Assist: {assists}', va='center')\n",
    "\n",
    "plt.title('Top 10 giocatori per G+A (stagione 23/24)')\n",
    "plt.xlabel('Somma di goal e assist')\n",
    "plt.ylabel('')\n",
    "plt.legend(bbox_to_anchor=(1.05, 1), loc='upper left')\n",
    "plt.show()"
   ],
   "metadata": {
    "collapsed": false
   },
   "id": "518fdd0f5688bb00"
  },
  {
   "cell_type": "code",
   "execution_count": null,
   "outputs": [],
   "source": [
    "# difensori con più goal segnati (stagione 23/24)\n",
    "\n",
    "defenders = players_df.query('position == \"Defender\" and current_club_domestic_competition_id in @top_leagues')\n",
    "defenders_goals = current_appearances.groupby('player_id')['goals'].sum()\n",
    "merged_data = pd.merge(defenders_goals, defenders, left_index=True, right_on='player_id')\n",
    "top_defenders = merged_data.nlargest(10, 'goals')\n",
    "\n",
    "\n",
    "sns.barplot(data=top_defenders, x='goals', y='name', hue='current_club_domestic_competition_id')\n",
    "\n",
    "for i, (goal, name) in enumerate(zip(top_defenders['goals'], top_defenders['name'])):\n",
    "    plt.text(goal, i, f' {goal} Goal', ha='left', va='center')\n",
    "\n",
    "plt.title('Top 10 difensori per goal segnati (stagione 23/24)')\n",
    "plt.xlabel('Numero di Goal')\n",
    "plt.ylabel('')\n",
    "plt.legend(title='Campionato', bbox_to_anchor=(1.05, 1), loc='upper left')\n",
    "plt.xlim(0,11)\n",
    "plt.show()"
   ],
   "metadata": {
    "collapsed": false
   },
   "id": "fe2f686a9a510eb9"
  },
  {
   "cell_type": "code",
   "execution_count": null,
   "outputs": [],
   "source": [
    "midfielders = players_df.query('position == \"Midfield\" and current_club_domestic_competition_id in @top_leagues')\n",
    "midfielders_assists = current_appearances.groupby('player_id')['assists'].sum()\n",
    "merged_data = pd.merge(midfielders_assists, midfielders, left_index=True, right_on='player_id')\n",
    "top_midfielders = merged_data.nlargest(10, 'assists')\n",
    "\n",
    "\n",
    "sns.barplot(data=top_midfielders, x='assists', y='name', hue='current_club_domestic_competition_id')\n",
    "\n",
    "for i, (goal, name) in enumerate(zip(top_midfielders['assists'], top_midfielders['name'])):\n",
    "    plt.text(goal, i, f' {goal} Assist', ha='left', va='center')\n",
    "\n",
    "plt.title('Top 10 centrocampisti per Assist effettuati (stagione 23/24)')\n",
    "plt.xlabel('Numero di Assist')\n",
    "plt.ylabel('')\n",
    "plt.legend(title='Campionato', bbox_to_anchor=(1.05, 1), loc='upper left')\n",
    "plt.xlim(0,12)\n",
    "plt.show()"
   ],
   "metadata": {
    "collapsed": false
   },
   "id": "a0e7cf6ac89f2d0d"
  },
  {
   "cell_type": "code",
   "execution_count": null,
   "outputs": [],
   "source": [],
   "metadata": {
    "collapsed": false
   },
   "id": "97cb2a13c30fe71c"
  }
 ],
 "metadata": {
  "kernelspec": {
   "display_name": "Python 3",
   "language": "python",
   "name": "python3"
  },
  "language_info": {
   "codemirror_mode": {
    "name": "ipython",
    "version": 2
   },
   "file_extension": ".py",
   "mimetype": "text/x-python",
   "name": "python",
   "nbconvert_exporter": "python",
   "pygments_lexer": "ipython2",
   "version": "2.7.6"
  }
 },
 "nbformat": 4,
 "nbformat_minor": 5
}
