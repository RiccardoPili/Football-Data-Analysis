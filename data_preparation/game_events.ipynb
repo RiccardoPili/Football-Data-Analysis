{
 "cells": [
  {
   "cell_type": "markdown",
   "source": [
    "# Importing Data & Libraries"
   ],
   "metadata": {
    "collapsed": false
   },
   "id": "7d0b0bc9284fea63"
  },
  {
   "cell_type": "code",
   "execution_count": 49,
   "outputs": [],
   "source": [
    "import pandas as pd\n",
    "import matplotlib.pylab as plt\n",
    "import seaborn as sns\n",
    "from config import *\n",
    "\n",
    "events_df = pd.read_csv(f\"{folder_path}/game_events.csv\")"
   ],
   "metadata": {
    "collapsed": false,
    "ExecuteTime": {
     "end_time": "2024-06-13T20:08:10.503022100Z",
     "start_time": "2024-06-13T20:08:08.194895Z"
    }
   },
   "id": "a554d5c9baf035a7"
  },
  {
   "cell_type": "markdown",
   "source": [
    "# Data Preparation of Events"
   ],
   "metadata": {
    "collapsed": false
   },
   "id": "cb888531da69fd74"
  },
  {
   "cell_type": "code",
   "execution_count": 50,
   "outputs": [
    {
     "data": {
      "text/plain": "(666558, 10)"
     },
     "execution_count": 50,
     "metadata": {},
     "output_type": "execute_result"
    }
   ],
   "source": [
    "events_df.shape"
   ],
   "metadata": {
    "collapsed": false,
    "ExecuteTime": {
     "end_time": "2024-06-13T20:08:10.522567600Z",
     "start_time": "2024-06-13T20:08:10.507161400Z"
    }
   },
   "id": "24cbbeace9eb69c2"
  },
  {
   "cell_type": "code",
   "execution_count": 51,
   "outputs": [
    {
     "data": {
      "text/plain": "Index(['game_event_id', 'date', 'game_id', 'minute', 'type', 'club_id',\n       'player_id', 'description', 'player_in_id', 'player_assist_id'],\n      dtype='object')"
     },
     "execution_count": 51,
     "metadata": {},
     "output_type": "execute_result"
    }
   ],
   "source": [
    "events_df.columns"
   ],
   "metadata": {
    "collapsed": false,
    "ExecuteTime": {
     "end_time": "2024-06-13T20:08:10.609564700Z",
     "start_time": "2024-06-13T20:08:10.520557200Z"
    }
   },
   "id": "fec0d99ff0b6b560"
  },
  {
   "cell_type": "code",
   "execution_count": 52,
   "outputs": [
    {
     "data": {
      "text/plain": "                      game_event_id        date  game_id  minute  \\\n0  2f41da30c471492e7d4a984951671677  2012-08-05  2211607      77   \n1  a72f7186d132775f234d3e2f7bc0ed5b  2012-08-05  2211607      77   \n2  b2d721eaed4692a5c59a92323689ef18  2012-08-05  2211607       3   \n3  aef768899cedac0c9a650980219075a2  2012-08-05  2211607      53   \n4  5d6d9533023057b6619ecd145a038bbe  2012-08-05  2211607      74   \n5  eef9c46dd75c3aa4c6a503225427446e  2012-08-05  2211607      11   \n6  5d5aef7dedcd5dc9d35dea9438ee35e0  2012-08-05  2211607      90   \n7  7717860e3b0376b86f445f4749fa2ce5  2012-08-05  2211607      44   \n8  02c708273f4fa2003873ef5908e4e3a6  2012-08-05  2211607      79   \n9  d1be2ce4bd5f0ca091c1b15a8569301c  2012-08-05  2211607      90   \n\n            type  club_id  player_id  \\\n0          Cards      610       4425   \n1          Cards      383      33210   \n2          Goals      383      36500   \n3          Goals      383      36500   \n4  Substitutions      383      36500   \n5          Goals      383      38497   \n6          Cards      610      42710   \n7          Goals      610      42710   \n8          Cards      610      45509   \n9          Goals      383      49499   \n\n                                         description  player_in_id  \\\n0               1. Yellow card  , Mass confrontation           NaN   \n1               1. Yellow card  , Mass confrontation           NaN   \n2  , Header, 1. Tournament Goal Assist: , Corner,...           NaN   \n3  , Right-footed shot, 2. Tournament Goal Assist...           NaN   \n4                                     , Not reported       49499.0   \n5  , Right-footed shot, 1. Tournament Goal Assist...           NaN   \n6                                     1. Yellow card           NaN   \n7  , Header, 1. Tournament Goal Assist: , Corner,...           NaN   \n8                                     1. Yellow card           NaN   \n9  , Right-footed shot, 1. Tournament Goal Assist...           NaN   \n\n   player_assist_id  \n0               NaN  \n1               NaN  \n2           56416.0  \n3          146258.0  \n4               NaN  \n5           33210.0  \n6               NaN  \n7            4425.0  \n8               NaN  \n9          167850.0  ",
      "text/html": "<div>\n<style scoped>\n    .dataframe tbody tr th:only-of-type {\n        vertical-align: middle;\n    }\n\n    .dataframe tbody tr th {\n        vertical-align: top;\n    }\n\n    .dataframe thead th {\n        text-align: right;\n    }\n</style>\n<table border=\"1\" class=\"dataframe\">\n  <thead>\n    <tr style=\"text-align: right;\">\n      <th></th>\n      <th>game_event_id</th>\n      <th>date</th>\n      <th>game_id</th>\n      <th>minute</th>\n      <th>type</th>\n      <th>club_id</th>\n      <th>player_id</th>\n      <th>description</th>\n      <th>player_in_id</th>\n      <th>player_assist_id</th>\n    </tr>\n  </thead>\n  <tbody>\n    <tr>\n      <th>0</th>\n      <td>2f41da30c471492e7d4a984951671677</td>\n      <td>2012-08-05</td>\n      <td>2211607</td>\n      <td>77</td>\n      <td>Cards</td>\n      <td>610</td>\n      <td>4425</td>\n      <td>1. Yellow card  , Mass confrontation</td>\n      <td>NaN</td>\n      <td>NaN</td>\n    </tr>\n    <tr>\n      <th>1</th>\n      <td>a72f7186d132775f234d3e2f7bc0ed5b</td>\n      <td>2012-08-05</td>\n      <td>2211607</td>\n      <td>77</td>\n      <td>Cards</td>\n      <td>383</td>\n      <td>33210</td>\n      <td>1. Yellow card  , Mass confrontation</td>\n      <td>NaN</td>\n      <td>NaN</td>\n    </tr>\n    <tr>\n      <th>2</th>\n      <td>b2d721eaed4692a5c59a92323689ef18</td>\n      <td>2012-08-05</td>\n      <td>2211607</td>\n      <td>3</td>\n      <td>Goals</td>\n      <td>383</td>\n      <td>36500</td>\n      <td>, Header, 1. Tournament Goal Assist: , Corner,...</td>\n      <td>NaN</td>\n      <td>56416.0</td>\n    </tr>\n    <tr>\n      <th>3</th>\n      <td>aef768899cedac0c9a650980219075a2</td>\n      <td>2012-08-05</td>\n      <td>2211607</td>\n      <td>53</td>\n      <td>Goals</td>\n      <td>383</td>\n      <td>36500</td>\n      <td>, Right-footed shot, 2. Tournament Goal Assist...</td>\n      <td>NaN</td>\n      <td>146258.0</td>\n    </tr>\n    <tr>\n      <th>4</th>\n      <td>5d6d9533023057b6619ecd145a038bbe</td>\n      <td>2012-08-05</td>\n      <td>2211607</td>\n      <td>74</td>\n      <td>Substitutions</td>\n      <td>383</td>\n      <td>36500</td>\n      <td>, Not reported</td>\n      <td>49499.0</td>\n      <td>NaN</td>\n    </tr>\n    <tr>\n      <th>5</th>\n      <td>eef9c46dd75c3aa4c6a503225427446e</td>\n      <td>2012-08-05</td>\n      <td>2211607</td>\n      <td>11</td>\n      <td>Goals</td>\n      <td>383</td>\n      <td>38497</td>\n      <td>, Right-footed shot, 1. Tournament Goal Assist...</td>\n      <td>NaN</td>\n      <td>33210.0</td>\n    </tr>\n    <tr>\n      <th>6</th>\n      <td>5d5aef7dedcd5dc9d35dea9438ee35e0</td>\n      <td>2012-08-05</td>\n      <td>2211607</td>\n      <td>90</td>\n      <td>Cards</td>\n      <td>610</td>\n      <td>42710</td>\n      <td>1. Yellow card</td>\n      <td>NaN</td>\n      <td>NaN</td>\n    </tr>\n    <tr>\n      <th>7</th>\n      <td>7717860e3b0376b86f445f4749fa2ce5</td>\n      <td>2012-08-05</td>\n      <td>2211607</td>\n      <td>44</td>\n      <td>Goals</td>\n      <td>610</td>\n      <td>42710</td>\n      <td>, Header, 1. Tournament Goal Assist: , Corner,...</td>\n      <td>NaN</td>\n      <td>4425.0</td>\n    </tr>\n    <tr>\n      <th>8</th>\n      <td>02c708273f4fa2003873ef5908e4e3a6</td>\n      <td>2012-08-05</td>\n      <td>2211607</td>\n      <td>79</td>\n      <td>Cards</td>\n      <td>610</td>\n      <td>45509</td>\n      <td>1. Yellow card</td>\n      <td>NaN</td>\n      <td>NaN</td>\n    </tr>\n    <tr>\n      <th>9</th>\n      <td>d1be2ce4bd5f0ca091c1b15a8569301c</td>\n      <td>2012-08-05</td>\n      <td>2211607</td>\n      <td>90</td>\n      <td>Goals</td>\n      <td>383</td>\n      <td>49499</td>\n      <td>, Right-footed shot, 1. Tournament Goal Assist...</td>\n      <td>NaN</td>\n      <td>167850.0</td>\n    </tr>\n  </tbody>\n</table>\n</div>"
     },
     "execution_count": 52,
     "metadata": {},
     "output_type": "execute_result"
    }
   ],
   "source": [
    "events_df.head(10)"
   ],
   "metadata": {
    "collapsed": false,
    "ExecuteTime": {
     "end_time": "2024-06-13T20:08:10.612570800Z",
     "start_time": "2024-06-13T20:08:10.538908800Z"
    }
   },
   "id": "e1febd80806cbd96"
  },
  {
   "cell_type": "code",
   "execution_count": 53,
   "outputs": [],
   "source": [
    "events_df = events_df.set_index('game_event_id')"
   ],
   "metadata": {
    "collapsed": false,
    "ExecuteTime": {
     "end_time": "2024-06-13T20:08:10.644969900Z",
     "start_time": "2024-06-13T20:08:10.564572600Z"
    }
   },
   "id": "44ab766270dec79b"
  },
  {
   "cell_type": "code",
   "execution_count": 54,
   "outputs": [
    {
     "data": {
      "text/plain": "Empty DataFrame\nColumns: [date, game_id, minute, type, club_id, player_id, description, player_in_id, player_assist_id]\nIndex: []",
      "text/html": "<div>\n<style scoped>\n    .dataframe tbody tr th:only-of-type {\n        vertical-align: middle;\n    }\n\n    .dataframe tbody tr th {\n        vertical-align: top;\n    }\n\n    .dataframe thead th {\n        text-align: right;\n    }\n</style>\n<table border=\"1\" class=\"dataframe\">\n  <thead>\n    <tr style=\"text-align: right;\">\n      <th></th>\n      <th>date</th>\n      <th>game_id</th>\n      <th>minute</th>\n      <th>type</th>\n      <th>club_id</th>\n      <th>player_id</th>\n      <th>description</th>\n      <th>player_in_id</th>\n      <th>player_assist_id</th>\n    </tr>\n    <tr>\n      <th>game_event_id</th>\n      <th></th>\n      <th></th>\n      <th></th>\n      <th></th>\n      <th></th>\n      <th></th>\n      <th></th>\n      <th></th>\n      <th></th>\n    </tr>\n  </thead>\n  <tbody>\n  </tbody>\n</table>\n</div>"
     },
     "execution_count": 54,
     "metadata": {},
     "output_type": "execute_result"
    }
   ],
   "source": [
    "events_df.loc[events_df.duplicated()]"
   ],
   "metadata": {
    "collapsed": false,
    "ExecuteTime": {
     "end_time": "2024-06-13T20:08:11.448998800Z",
     "start_time": "2024-06-13T20:08:10.629128300Z"
    }
   },
   "id": "7c7417b4798a5ea8"
  },
  {
   "cell_type": "code",
   "execution_count": 55,
   "outputs": [
    {
     "data": {
      "text/plain": "date                     0\ngame_id                  0\nminute                   0\ntype                     0\nclub_id                  0\nplayer_id                0\ndescription         336325\nplayer_in_id        245309\nplayer_assist_id    635701\ndtype: int64"
     },
     "execution_count": 55,
     "metadata": {},
     "output_type": "execute_result"
    }
   ],
   "source": [
    "events_df.isna().sum()\n",
    "\n",
    "# player_in_id è presente solo quando type = Substitution\n",
    "# player_assist_id è presente solo quando type = Goal\n",
    "# description non è presente quando type = Substitution"
   ],
   "metadata": {
    "collapsed": false,
    "ExecuteTime": {
     "end_time": "2024-06-13T20:08:11.716333500Z",
     "start_time": "2024-06-13T20:08:11.451569Z"
    }
   },
   "id": "6f915bcc3688f0bc"
  },
  {
   "cell_type": "code",
   "execution_count": 56,
   "outputs": [
    {
     "data": {
      "text/plain": "date                 object\ngame_id               int64\nminute                int64\ntype                 object\nclub_id               int64\nplayer_id             int64\ndescription          object\nplayer_in_id        float64\nplayer_assist_id    float64\ndtype: object"
     },
     "execution_count": 56,
     "metadata": {},
     "output_type": "execute_result"
    }
   ],
   "source": [
    "events_df.dtypes"
   ],
   "metadata": {
    "collapsed": false,
    "ExecuteTime": {
     "end_time": "2024-06-13T20:08:11.717332400Z",
     "start_time": "2024-06-13T20:08:11.585005200Z"
    }
   },
   "id": "7e5dfb30c7590197"
  },
  {
   "cell_type": "code",
   "execution_count": 57,
   "outputs": [],
   "source": [
    "# converting data types\n",
    "events_df['date'] = pd.to_datetime(events_df['date'])"
   ],
   "metadata": {
    "collapsed": false,
    "ExecuteTime": {
     "end_time": "2024-06-13T20:08:11.894133400Z",
     "start_time": "2024-06-13T20:08:11.602765300Z"
    }
   },
   "id": "cd39593247d202af"
  },
  {
   "cell_type": "code",
   "execution_count": 58,
   "outputs": [
    {
     "data": {
      "text/plain": "date                datetime64[ns]\ngame_id                      int64\nminute                       int64\ntype                        object\nclub_id                      int64\nplayer_id                    int64\ndescription                 object\nplayer_in_id               float64\nplayer_assist_id           float64\ndtype: object"
     },
     "execution_count": 58,
     "metadata": {},
     "output_type": "execute_result"
    }
   ],
   "source": [
    "events_df.dtypes"
   ],
   "metadata": {
    "collapsed": false,
    "ExecuteTime": {
     "end_time": "2024-06-13T20:08:11.907499300Z",
     "start_time": "2024-06-13T20:08:11.736426800Z"
    }
   },
   "id": "7ef53db86d43f03b"
  },
  {
   "cell_type": "code",
   "execution_count": 59,
   "outputs": [
    {
     "data": {
      "text/plain": "count             330233\nunique              4650\ntop       , Not reported\nfreq               40096\nName: description, dtype: object"
     },
     "execution_count": 59,
     "metadata": {},
     "output_type": "execute_result"
    }
   ],
   "source": [
    "events_df['description'].describe()"
   ],
   "metadata": {
    "collapsed": false,
    "ExecuteTime": {
     "end_time": "2024-06-13T20:08:11.911495700Z",
     "start_time": "2024-06-13T20:08:11.756242500Z"
    }
   },
   "id": "38397a92bb012bd7"
  },
  {
   "cell_type": "code",
   "execution_count": 60,
   "outputs": [
    {
     "data": {
      "text/plain": "count    666558.000000\nmean         63.503254\nstd          21.927700\nmin          -1.000000\n25%          51.000000\n50%          68.000000\n75%          80.000000\nmax         120.000000\nName: minute, dtype: float64"
     },
     "execution_count": 60,
     "metadata": {},
     "output_type": "execute_result"
    }
   ],
   "source": [
    "events_df['minute'].describe()"
   ],
   "metadata": {
    "collapsed": false,
    "ExecuteTime": {
     "end_time": "2024-06-13T20:08:12.034447Z",
     "start_time": "2024-06-13T20:08:11.879137500Z"
    }
   },
   "id": "ff9b3a8037140ee8"
  },
  {
   "cell_type": "code",
   "execution_count": 61,
   "outputs": [
    {
     "data": {
      "text/plain": "                                       date  game_id  minute      type  \\\ngame_event_id                                                            \n874987f117bca74599041037e0c43075 2012-08-05  2211607      -1     Cards   \n3aaa80875fbd40d6286c2ad811c81dd5 2012-08-19  2221757      -1     Cards   \n12332d376f646311d98f269f05f261db 2012-08-19  2221757      -1     Cards   \nacd8bc16b3cefb8f03542964942a7379 2012-08-19  2221757      -1     Cards   \n5d52467708d6c25d619b6198c1b3681f 2012-08-19  2221757      -1     Cards   \n...                                     ...      ...     ...       ...   \ncfe2e2c9bdebe69d5f2a115b089d29eb 2023-11-14  4227998      -1  Shootout   \n192d0d70152ad2caa9012b8cfbe5f144 2023-11-14  4227998      -1  Shootout   \n04dbf4c98add438c33a61f93ee2e3f5e 2023-11-14  4227998      -1  Shootout   \n922f918f7d1df11e6581bce2936d0edf 2023-11-14  4227998      -1  Shootout   \n7714f6467d47c57cdb6ebdf6b93dbfe4 2023-11-14  4227998      -1  Shootout   \n\n                                  club_id  player_id  \\\ngame_event_id                                          \n874987f117bca74599041037e0c43075      610     124883   \n3aaa80875fbd40d6286c2ad811c81dd5      127       2198   \n12332d376f646311d98f269f05f261db      127       2201   \nacd8bc16b3cefb8f03542964942a7379       10      39105   \n5d52467708d6c25d619b6198c1b3681f       10      77879   \n...                                   ...        ...   \ncfe2e2c9bdebe69d5f2a115b089d29eb     1072     485994   \n192d0d70152ad2caa9012b8cfbe5f144     1072     552615   \n04dbf4c98add438c33a61f93ee2e3f5e    34888     583997   \n922f918f7d1df11e6581bce2936d0edf     1072     701062   \n7714f6467d47c57cdb6ebdf6b93dbfe4     1072    1032875   \n\n                                                     description  \\\ngame_event_id                                                      \n874987f117bca74599041037e0c43075                  1. Yellow card   \n3aaa80875fbd40d6286c2ad811c81dd5          1. Yellow card  , Foul   \n12332d376f646311d98f269f05f261db       1. Yellow card  , Dissent   \nacd8bc16b3cefb8f03542964942a7379          1. Yellow card  , Foul   \n5d52467708d6c25d619b6198c1b3681f  1. Yellow card  , Serious foul   \n...                                                          ...   \ncfe2e2c9bdebe69d5f2a115b089d29eb                        , Scored   \n192d0d70152ad2caa9012b8cfbe5f144                         , Saved   \n04dbf4c98add438c33a61f93ee2e3f5e                         , Saved   \n922f918f7d1df11e6581bce2936d0edf                        , Scored   \n7714f6467d47c57cdb6ebdf6b93dbfe4                        , Scored   \n\n                                  player_in_id  player_assist_id  \ngame_event_id                                                     \n874987f117bca74599041037e0c43075           NaN               NaN  \n3aaa80875fbd40d6286c2ad811c81dd5           NaN               NaN  \n12332d376f646311d98f269f05f261db           NaN               NaN  \nacd8bc16b3cefb8f03542964942a7379           NaN               NaN  \n5d52467708d6c25d619b6198c1b3681f           NaN               NaN  \n...                                        ...               ...  \ncfe2e2c9bdebe69d5f2a115b089d29eb           NaN               NaN  \n192d0d70152ad2caa9012b8cfbe5f144           NaN               NaN  \n04dbf4c98add438c33a61f93ee2e3f5e           NaN               NaN  \n922f918f7d1df11e6581bce2936d0edf           NaN               NaN  \n7714f6467d47c57cdb6ebdf6b93dbfe4           NaN               NaN  \n\n[2419 rows x 9 columns]",
      "text/html": "<div>\n<style scoped>\n    .dataframe tbody tr th:only-of-type {\n        vertical-align: middle;\n    }\n\n    .dataframe tbody tr th {\n        vertical-align: top;\n    }\n\n    .dataframe thead th {\n        text-align: right;\n    }\n</style>\n<table border=\"1\" class=\"dataframe\">\n  <thead>\n    <tr style=\"text-align: right;\">\n      <th></th>\n      <th>date</th>\n      <th>game_id</th>\n      <th>minute</th>\n      <th>type</th>\n      <th>club_id</th>\n      <th>player_id</th>\n      <th>description</th>\n      <th>player_in_id</th>\n      <th>player_assist_id</th>\n    </tr>\n    <tr>\n      <th>game_event_id</th>\n      <th></th>\n      <th></th>\n      <th></th>\n      <th></th>\n      <th></th>\n      <th></th>\n      <th></th>\n      <th></th>\n      <th></th>\n    </tr>\n  </thead>\n  <tbody>\n    <tr>\n      <th>874987f117bca74599041037e0c43075</th>\n      <td>2012-08-05</td>\n      <td>2211607</td>\n      <td>-1</td>\n      <td>Cards</td>\n      <td>610</td>\n      <td>124883</td>\n      <td>1. Yellow card</td>\n      <td>NaN</td>\n      <td>NaN</td>\n    </tr>\n    <tr>\n      <th>3aaa80875fbd40d6286c2ad811c81dd5</th>\n      <td>2012-08-19</td>\n      <td>2221757</td>\n      <td>-1</td>\n      <td>Cards</td>\n      <td>127</td>\n      <td>2198</td>\n      <td>1. Yellow card  , Foul</td>\n      <td>NaN</td>\n      <td>NaN</td>\n    </tr>\n    <tr>\n      <th>12332d376f646311d98f269f05f261db</th>\n      <td>2012-08-19</td>\n      <td>2221757</td>\n      <td>-1</td>\n      <td>Cards</td>\n      <td>127</td>\n      <td>2201</td>\n      <td>1. Yellow card  , Dissent</td>\n      <td>NaN</td>\n      <td>NaN</td>\n    </tr>\n    <tr>\n      <th>acd8bc16b3cefb8f03542964942a7379</th>\n      <td>2012-08-19</td>\n      <td>2221757</td>\n      <td>-1</td>\n      <td>Cards</td>\n      <td>10</td>\n      <td>39105</td>\n      <td>1. Yellow card  , Foul</td>\n      <td>NaN</td>\n      <td>NaN</td>\n    </tr>\n    <tr>\n      <th>5d52467708d6c25d619b6198c1b3681f</th>\n      <td>2012-08-19</td>\n      <td>2221757</td>\n      <td>-1</td>\n      <td>Cards</td>\n      <td>10</td>\n      <td>77879</td>\n      <td>1. Yellow card  , Serious foul</td>\n      <td>NaN</td>\n      <td>NaN</td>\n    </tr>\n    <tr>\n      <th>...</th>\n      <td>...</td>\n      <td>...</td>\n      <td>...</td>\n      <td>...</td>\n      <td>...</td>\n      <td>...</td>\n      <td>...</td>\n      <td>...</td>\n      <td>...</td>\n    </tr>\n    <tr>\n      <th>cfe2e2c9bdebe69d5f2a115b089d29eb</th>\n      <td>2023-11-14</td>\n      <td>4227998</td>\n      <td>-1</td>\n      <td>Shootout</td>\n      <td>1072</td>\n      <td>485994</td>\n      <td>, Scored</td>\n      <td>NaN</td>\n      <td>NaN</td>\n    </tr>\n    <tr>\n      <th>192d0d70152ad2caa9012b8cfbe5f144</th>\n      <td>2023-11-14</td>\n      <td>4227998</td>\n      <td>-1</td>\n      <td>Shootout</td>\n      <td>1072</td>\n      <td>552615</td>\n      <td>, Saved</td>\n      <td>NaN</td>\n      <td>NaN</td>\n    </tr>\n    <tr>\n      <th>04dbf4c98add438c33a61f93ee2e3f5e</th>\n      <td>2023-11-14</td>\n      <td>4227998</td>\n      <td>-1</td>\n      <td>Shootout</td>\n      <td>34888</td>\n      <td>583997</td>\n      <td>, Saved</td>\n      <td>NaN</td>\n      <td>NaN</td>\n    </tr>\n    <tr>\n      <th>922f918f7d1df11e6581bce2936d0edf</th>\n      <td>2023-11-14</td>\n      <td>4227998</td>\n      <td>-1</td>\n      <td>Shootout</td>\n      <td>1072</td>\n      <td>701062</td>\n      <td>, Scored</td>\n      <td>NaN</td>\n      <td>NaN</td>\n    </tr>\n    <tr>\n      <th>7714f6467d47c57cdb6ebdf6b93dbfe4</th>\n      <td>2023-11-14</td>\n      <td>4227998</td>\n      <td>-1</td>\n      <td>Shootout</td>\n      <td>1072</td>\n      <td>1032875</td>\n      <td>, Scored</td>\n      <td>NaN</td>\n      <td>NaN</td>\n    </tr>\n  </tbody>\n</table>\n<p>2419 rows × 9 columns</p>\n</div>"
     },
     "execution_count": 61,
     "metadata": {},
     "output_type": "execute_result"
    }
   ],
   "source": [
    "events_df.query('minute == -1')"
   ],
   "metadata": {
    "collapsed": false,
    "ExecuteTime": {
     "end_time": "2024-06-13T20:08:12.092156700Z",
     "start_time": "2024-06-13T20:08:11.928791700Z"
    }
   },
   "id": "26a3d537790ee01d"
  },
  {
   "cell_type": "code",
   "execution_count": 62,
   "outputs": [],
   "source": [
    "# remove rows where minute = -1\n",
    "events_df = events_df.query('minute != -1')"
   ],
   "metadata": {
    "collapsed": false,
    "ExecuteTime": {
     "end_time": "2024-06-13T20:08:12.268731Z",
     "start_time": "2024-06-13T20:08:12.002404800Z"
    }
   },
   "id": "340cca99e71195ca"
  },
  {
   "cell_type": "markdown",
   "source": [
    "# Data Analysis"
   ],
   "metadata": {
    "collapsed": false
   },
   "id": "309f3356f472e247"
  },
  {
   "cell_type": "code",
   "execution_count": 63,
   "outputs": [
    {
     "data": {
      "text/plain": "Index(['date', 'game_id', 'minute', 'type', 'club_id', 'player_id',\n       'description', 'player_in_id', 'player_assist_id'],\n      dtype='object')"
     },
     "execution_count": 63,
     "metadata": {},
     "output_type": "execute_result"
    }
   ],
   "source": [
    "events_df.columns"
   ],
   "metadata": {
    "collapsed": false,
    "ExecuteTime": {
     "end_time": "2024-06-13T20:08:12.270025900Z",
     "start_time": "2024-06-13T20:08:12.174980400Z"
    }
   },
   "id": "8bd48151c8048f03"
  },
  {
   "cell_type": "code",
   "execution_count": 64,
   "outputs": [
    {
     "data": {
      "text/plain": "<Figure size 640x480 with 1 Axes>",
      "image/png": "[encoded data removed]"
     },
     "metadata": {},
     "output_type": "display_data"
    }
   ],
   "source": [
    "ax = events_df.boxplot(column='minute')\n",
    "ax.set_title('Boxplot of events by minute')\n",
    "plt.xlabel(' ')\n",
    "plt.ylabel('minute')\n",
    "plt.show()"
   ],
   "metadata": {
    "collapsed": false,
    "ExecuteTime": {
     "end_time": "2024-06-13T20:08:13.318385200Z",
     "start_time": "2024-06-13T20:08:12.189941900Z"
    }
   },
   "id": "b70ed6e2afb8c504"
  },
  {
   "cell_type": "code",
   "execution_count": 65,
   "outputs": [],
   "source": [
    "# selecting only events after 2020 to reduce dataframe size, older events are not useful for the data analysis\n",
    "latest_events = events_df.query('date >= \"2020-01-01\"')"
   ],
   "metadata": {
    "collapsed": false,
    "ExecuteTime": {
     "end_time": "2024-06-13T20:08:13.461914700Z",
     "start_time": "2024-06-13T20:08:13.322188700Z"
    }
   },
   "id": "5f465ad2aeb2a420"
  },
  {
   "cell_type": "code",
   "execution_count": 66,
   "outputs": [
    {
     "name": "stdout",
     "output_type": "stream",
     "text": [
      "Media di minute: 65.09\n"
     ]
    },
    {
     "data": {
      "text/plain": "<Figure size 640x480 with 1 Axes>",
      "image/png": "[encoded data removed]"
     },
     "metadata": {},
     "output_type": "display_data"
    }
   ],
   "source": [
    "df = latest_events\n",
    "var = 'minute'\n",
    "\n",
    "mean_value = df[var].mean()\n",
    "print(f\"Media di {var}: {mean_value:.2f}\")\n",
    "\n",
    "sns.histplot(data=df, x=var, kde=True, bins=120)\n",
    "plt.title(f'Distribuzione della variabile {var}')\n",
    "plt.xlabel(f'{var}')\n",
    "plt.ylabel('Frequenza')\n",
    "plt.show()"
   ],
   "metadata": {
    "collapsed": false,
    "ExecuteTime": {
     "end_time": "2024-06-13T20:08:15.828876700Z",
     "start_time": "2024-06-13T20:08:13.413438900Z"
    }
   },
   "id": "8e1b600878c450b7"
  },
  {
   "cell_type": "code",
   "execution_count": 67,
   "outputs": [],
   "source": [
    "# selecting only events after 2020 to reduce dataframe size, older events are not useful for the data analysis\n",
    "latest_events = events_df.query('date >= \"2020-01-01\"')"
   ],
   "metadata": {
    "collapsed": false,
    "ExecuteTime": {
     "end_time": "2024-06-13T20:08:15.941871500Z",
     "start_time": "2024-06-13T20:08:15.816480800Z"
    }
   },
   "id": "c476158325c690c6"
  },
  {
   "cell_type": "markdown",
   "source": [
    "# Saving processed data to feather file"
   ],
   "metadata": {
    "collapsed": false
   },
   "id": "a1c4b4ec3f7f5c5e"
  },
  {
   "cell_type": "code",
   "execution_count": 68,
   "outputs": [],
   "source": [
    "latest_events.to_feather('../cleaned_data/game_events.feather')"
   ],
   "metadata": {
    "collapsed": false,
    "ExecuteTime": {
     "end_time": "2024-06-13T20:08:25.904919600Z",
     "start_time": "2024-06-13T20:08:25.638167500Z"
    }
   },
   "id": "6470c10f5cf4ea75"
  }
 ],
 "metadata": {
  "kernelspec": {
   "display_name": "Python 3",
   "language": "python",
   "name": "python3"
  },
  "language_info": {
   "codemirror_mode": {
    "name": "ipython",
    "version": 2
   },
   "file_extension": ".py",
   "mimetype": "text/x-python",
   "name": "python",
   "nbconvert_exporter": "python",
   "pygments_lexer": "ipython2",
   "version": "2.7.6"
  }
 },
 "nbformat": 4,
 "nbformat_minor": 5
}
