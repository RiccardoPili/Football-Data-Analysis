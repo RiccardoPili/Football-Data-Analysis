{
 "cells": [
  {
   "cell_type": "markdown",
   "source": [
    "# Importing Data & Libraries"
   ],
   "metadata": {
    "collapsed": false
   },
   "id": "113f49a26c9271a3"
  },
  {
   "cell_type": "code",
   "execution_count": 1,
   "outputs": [],
   "source": [
    "import pandas as pd\n",
    "import matplotlib.pylab as plt\n",
    "import seaborn as sns\n",
    "from config import *\n",
    "\n",
    "val_df = pd.read_csv(f\"{folder_path}/player_valuations.csv\")"
   ],
   "metadata": {
    "collapsed": false,
    "ExecuteTime": {
     "end_time": "2024-06-19T09:14:22.634005600Z",
     "start_time": "2024-06-19T09:14:21.796864500Z"
    }
   },
   "id": "initial_id"
  },
  {
   "cell_type": "markdown",
   "source": [
    "# Data Preparation of Players Valuations"
   ],
   "metadata": {
    "collapsed": false
   },
   "id": "884f65073ab8abb8"
  },
  {
   "cell_type": "code",
   "execution_count": 2,
   "outputs": [
    {
     "data": {
      "text/plain": "(440663, 9)"
     },
     "execution_count": 2,
     "metadata": {},
     "output_type": "execute_result"
    }
   ],
   "source": [
    "val_df.shape"
   ],
   "metadata": {
    "collapsed": false,
    "ExecuteTime": {
     "end_time": "2024-06-19T09:14:22.654389700Z",
     "start_time": "2024-06-19T09:14:22.639913500Z"
    }
   },
   "id": "b7afc8ff2e7e8f3e"
  },
  {
   "cell_type": "code",
   "execution_count": 3,
   "outputs": [
    {
     "data": {
      "text/plain": "   player_id  last_season             datetime        date    dateweek  \\\n0       3132         2013  2003-12-09 00:00:00  2003-12-09  2003-12-08   \n1       6893         2012  2003-12-15 00:00:00  2003-12-15  2003-12-15   \n2         10         2015  2004-10-04 00:00:00  2004-10-04  2004-10-04   \n3         26         2017  2004-10-04 00:00:00  2004-10-04  2004-10-04   \n4         65         2015  2004-10-04 00:00:00  2004-10-04  2004-10-04   \n5         77         2012  2004-10-04 00:00:00  2004-10-04  2004-10-04   \n6         80         2017  2004-10-04 00:00:00  2004-10-04  2004-10-04   \n7        109         2012  2004-10-04 00:00:00  2004-10-04  2004-10-04   \n8        123         2012  2004-10-04 00:00:00  2004-10-04  2004-10-04   \n9        132         2015  2004-10-04 00:00:00  2004-10-04  2004-10-04   \n\n   market_value_in_eur  n  current_club_id player_club_domestic_competition_id  \n0               400000  1              126                                 TR1  \n1               900000  1              984                                 GB1  \n2              7000000  1              398                                 IT1  \n3              1500000  1               16                                  L1  \n4              8000000  1             1091                                 GR1  \n5             13000000  1              506                                 IT1  \n6               400000  1               27                                  L1  \n7              9500000  1              825                                 TR1  \n8              9500000  1               33                                  L1  \n9             13000000  1               11                                 GB1  ",
      "text/html": "<div>\n<style scoped>\n    .dataframe tbody tr th:only-of-type {\n        vertical-align: middle;\n    }\n\n    .dataframe tbody tr th {\n        vertical-align: top;\n    }\n\n    .dataframe thead th {\n        text-align: right;\n    }\n</style>\n<table border=\"1\" class=\"dataframe\">\n  <thead>\n    <tr style=\"text-align: right;\">\n      <th></th>\n      <th>player_id</th>\n      <th>last_season</th>\n      <th>datetime</th>\n      <th>date</th>\n      <th>dateweek</th>\n      <th>market_value_in_eur</th>\n      <th>n</th>\n      <th>current_club_id</th>\n      <th>player_club_domestic_competition_id</th>\n    </tr>\n  </thead>\n  <tbody>\n    <tr>\n      <th>0</th>\n      <td>3132</td>\n      <td>2013</td>\n      <td>2003-12-09 00:00:00</td>\n      <td>2003-12-09</td>\n      <td>2003-12-08</td>\n      <td>400000</td>\n      <td>1</td>\n      <td>126</td>\n      <td>TR1</td>\n    </tr>\n    <tr>\n      <th>1</th>\n      <td>6893</td>\n      <td>2012</td>\n      <td>2003-12-15 00:00:00</td>\n      <td>2003-12-15</td>\n      <td>2003-12-15</td>\n      <td>900000</td>\n      <td>1</td>\n      <td>984</td>\n      <td>GB1</td>\n    </tr>\n    <tr>\n      <th>2</th>\n      <td>10</td>\n      <td>2015</td>\n      <td>2004-10-04 00:00:00</td>\n      <td>2004-10-04</td>\n      <td>2004-10-04</td>\n      <td>7000000</td>\n      <td>1</td>\n      <td>398</td>\n      <td>IT1</td>\n    </tr>\n    <tr>\n      <th>3</th>\n      <td>26</td>\n      <td>2017</td>\n      <td>2004-10-04 00:00:00</td>\n      <td>2004-10-04</td>\n      <td>2004-10-04</td>\n      <td>1500000</td>\n      <td>1</td>\n      <td>16</td>\n      <td>L1</td>\n    </tr>\n    <tr>\n      <th>4</th>\n      <td>65</td>\n      <td>2015</td>\n      <td>2004-10-04 00:00:00</td>\n      <td>2004-10-04</td>\n      <td>2004-10-04</td>\n      <td>8000000</td>\n      <td>1</td>\n      <td>1091</td>\n      <td>GR1</td>\n    </tr>\n    <tr>\n      <th>5</th>\n      <td>77</td>\n      <td>2012</td>\n      <td>2004-10-04 00:00:00</td>\n      <td>2004-10-04</td>\n      <td>2004-10-04</td>\n      <td>13000000</td>\n      <td>1</td>\n      <td>506</td>\n      <td>IT1</td>\n    </tr>\n    <tr>\n      <th>6</th>\n      <td>80</td>\n      <td>2017</td>\n      <td>2004-10-04 00:00:00</td>\n      <td>2004-10-04</td>\n      <td>2004-10-04</td>\n      <td>400000</td>\n      <td>1</td>\n      <td>27</td>\n      <td>L1</td>\n    </tr>\n    <tr>\n      <th>7</th>\n      <td>109</td>\n      <td>2012</td>\n      <td>2004-10-04 00:00:00</td>\n      <td>2004-10-04</td>\n      <td>2004-10-04</td>\n      <td>9500000</td>\n      <td>1</td>\n      <td>825</td>\n      <td>TR1</td>\n    </tr>\n    <tr>\n      <th>8</th>\n      <td>123</td>\n      <td>2012</td>\n      <td>2004-10-04 00:00:00</td>\n      <td>2004-10-04</td>\n      <td>2004-10-04</td>\n      <td>9500000</td>\n      <td>1</td>\n      <td>33</td>\n      <td>L1</td>\n    </tr>\n    <tr>\n      <th>9</th>\n      <td>132</td>\n      <td>2015</td>\n      <td>2004-10-04 00:00:00</td>\n      <td>2004-10-04</td>\n      <td>2004-10-04</td>\n      <td>13000000</td>\n      <td>1</td>\n      <td>11</td>\n      <td>GB1</td>\n    </tr>\n  </tbody>\n</table>\n</div>"
     },
     "execution_count": 3,
     "metadata": {},
     "output_type": "execute_result"
    }
   ],
   "source": [
    "val_df.head(10)"
   ],
   "metadata": {
    "collapsed": false,
    "ExecuteTime": {
     "end_time": "2024-06-19T09:14:22.744823800Z",
     "start_time": "2024-06-19T09:14:22.659912600Z"
    }
   },
   "id": "18e127718ef5e61f"
  },
  {
   "cell_type": "code",
   "execution_count": 4,
   "outputs": [
    {
     "data": {
      "text/plain": "Index(['player_id', 'last_season', 'datetime', 'date', 'dateweek',\n       'market_value_in_eur', 'n', 'current_club_id',\n       'player_club_domestic_competition_id'],\n      dtype='object')"
     },
     "execution_count": 4,
     "metadata": {},
     "output_type": "execute_result"
    }
   ],
   "source": [
    "val_df.columns"
   ],
   "metadata": {
    "collapsed": false,
    "ExecuteTime": {
     "end_time": "2024-06-19T09:14:22.746820300Z",
     "start_time": "2024-06-19T09:14:22.687269300Z"
    }
   },
   "id": "4c050b454627d350"
  },
  {
   "cell_type": "code",
   "execution_count": 5,
   "outputs": [
    {
     "data": {
      "text/plain": "        player_id  last_season             datetime        date    dateweek  \\\n0            3132         2013  2003-12-09 00:00:00  2003-12-09  2003-12-08   \n1            6893         2012  2003-12-15 00:00:00  2003-12-15  2003-12-15   \n2              10         2015  2004-10-04 00:00:00  2004-10-04  2004-10-04   \n3              26         2017  2004-10-04 00:00:00  2004-10-04  2004-10-04   \n4              65         2015  2004-10-04 00:00:00  2004-10-04  2004-10-04   \n...           ...          ...                  ...         ...         ...   \n440658     950091         2023  2023-09-21 00:00:00  2023-09-21  2023-09-18   \n440659     968903         2023  2023-09-21 00:00:00  2023-09-21  2023-09-18   \n440660    1031590         2023  2023-09-21 00:00:00  2023-09-21  2023-09-18   \n440661    1166093         2023  2023-09-21 00:00:00  2023-09-21  2023-09-18   \n440662     405676         2018  2023-12-19 00:00:00  2023-12-19  2023-12-18   \n\n        market_value_in_eur  n  club_id league_id  \n0                    400000  1      126       TR1  \n1                    900000  1      984       GB1  \n2                   7000000  1      398       IT1  \n3                   1500000  1       16        L1  \n4                   8000000  1     1091       GR1  \n...                     ... ..      ...       ...  \n440658              1000000  1     1091       GR1  \n440659                50000  1      653       GR1  \n440660                50000  1     6418       GR1  \n440661                50000  1    30120       GR1  \n440662                50000  1    23826        L1  \n\n[440663 rows x 9 columns]",
      "text/html": "<div>\n<style scoped>\n    .dataframe tbody tr th:only-of-type {\n        vertical-align: middle;\n    }\n\n    .dataframe tbody tr th {\n        vertical-align: top;\n    }\n\n    .dataframe thead th {\n        text-align: right;\n    }\n</style>\n<table border=\"1\" class=\"dataframe\">\n  <thead>\n    <tr style=\"text-align: right;\">\n      <th></th>\n      <th>player_id</th>\n      <th>last_season</th>\n      <th>datetime</th>\n      <th>date</th>\n      <th>dateweek</th>\n      <th>market_value_in_eur</th>\n      <th>n</th>\n      <th>club_id</th>\n      <th>league_id</th>\n    </tr>\n  </thead>\n  <tbody>\n    <tr>\n      <th>0</th>\n      <td>3132</td>\n      <td>2013</td>\n      <td>2003-12-09 00:00:00</td>\n      <td>2003-12-09</td>\n      <td>2003-12-08</td>\n      <td>400000</td>\n      <td>1</td>\n      <td>126</td>\n      <td>TR1</td>\n    </tr>\n    <tr>\n      <th>1</th>\n      <td>6893</td>\n      <td>2012</td>\n      <td>2003-12-15 00:00:00</td>\n      <td>2003-12-15</td>\n      <td>2003-12-15</td>\n      <td>900000</td>\n      <td>1</td>\n      <td>984</td>\n      <td>GB1</td>\n    </tr>\n    <tr>\n      <th>2</th>\n      <td>10</td>\n      <td>2015</td>\n      <td>2004-10-04 00:00:00</td>\n      <td>2004-10-04</td>\n      <td>2004-10-04</td>\n      <td>7000000</td>\n      <td>1</td>\n      <td>398</td>\n      <td>IT1</td>\n    </tr>\n    <tr>\n      <th>3</th>\n      <td>26</td>\n      <td>2017</td>\n      <td>2004-10-04 00:00:00</td>\n      <td>2004-10-04</td>\n      <td>2004-10-04</td>\n      <td>1500000</td>\n      <td>1</td>\n      <td>16</td>\n      <td>L1</td>\n    </tr>\n    <tr>\n      <th>4</th>\n      <td>65</td>\n      <td>2015</td>\n      <td>2004-10-04 00:00:00</td>\n      <td>2004-10-04</td>\n      <td>2004-10-04</td>\n      <td>8000000</td>\n      <td>1</td>\n      <td>1091</td>\n      <td>GR1</td>\n    </tr>\n    <tr>\n      <th>...</th>\n      <td>...</td>\n      <td>...</td>\n      <td>...</td>\n      <td>...</td>\n      <td>...</td>\n      <td>...</td>\n      <td>...</td>\n      <td>...</td>\n      <td>...</td>\n    </tr>\n    <tr>\n      <th>440658</th>\n      <td>950091</td>\n      <td>2023</td>\n      <td>2023-09-21 00:00:00</td>\n      <td>2023-09-21</td>\n      <td>2023-09-18</td>\n      <td>1000000</td>\n      <td>1</td>\n      <td>1091</td>\n      <td>GR1</td>\n    </tr>\n    <tr>\n      <th>440659</th>\n      <td>968903</td>\n      <td>2023</td>\n      <td>2023-09-21 00:00:00</td>\n      <td>2023-09-21</td>\n      <td>2023-09-18</td>\n      <td>50000</td>\n      <td>1</td>\n      <td>653</td>\n      <td>GR1</td>\n    </tr>\n    <tr>\n      <th>440660</th>\n      <td>1031590</td>\n      <td>2023</td>\n      <td>2023-09-21 00:00:00</td>\n      <td>2023-09-21</td>\n      <td>2023-09-18</td>\n      <td>50000</td>\n      <td>1</td>\n      <td>6418</td>\n      <td>GR1</td>\n    </tr>\n    <tr>\n      <th>440661</th>\n      <td>1166093</td>\n      <td>2023</td>\n      <td>2023-09-21 00:00:00</td>\n      <td>2023-09-21</td>\n      <td>2023-09-18</td>\n      <td>50000</td>\n      <td>1</td>\n      <td>30120</td>\n      <td>GR1</td>\n    </tr>\n    <tr>\n      <th>440662</th>\n      <td>405676</td>\n      <td>2018</td>\n      <td>2023-12-19 00:00:00</td>\n      <td>2023-12-19</td>\n      <td>2023-12-18</td>\n      <td>50000</td>\n      <td>1</td>\n      <td>23826</td>\n      <td>L1</td>\n    </tr>\n  </tbody>\n</table>\n<p>440663 rows × 9 columns</p>\n</div>"
     },
     "execution_count": 5,
     "metadata": {},
     "output_type": "execute_result"
    }
   ],
   "source": [
    "# renaming columns\n",
    "val_df = val_df.rename(columns={\n",
    "    'current_club_id':'club_id',\n",
    "    'player_club_domestic_competition_id':'league_id',\n",
    "})\n",
    "\n",
    "val_df"
   ],
   "metadata": {
    "collapsed": false,
    "ExecuteTime": {
     "end_time": "2024-06-19T09:14:22.860991900Z",
     "start_time": "2024-06-19T09:14:22.703902200Z"
    }
   },
   "id": "4f4f012230e1306c"
  },
  {
   "cell_type": "code",
   "execution_count": 6,
   "outputs": [
    {
     "data": {
      "text/plain": "player_id              0\nlast_season            0\ndatetime               0\ndate                   0\ndateweek               0\nmarket_value_in_eur    0\nn                      0\nclub_id                0\nleague_id              0\ndtype: int64"
     },
     "execution_count": 6,
     "metadata": {},
     "output_type": "execute_result"
    }
   ],
   "source": [
    "# checking NA values\n",
    "val_df.isna().sum()"
   ],
   "metadata": {
    "collapsed": false,
    "ExecuteTime": {
     "end_time": "2024-06-19T09:14:23.002281600Z",
     "start_time": "2024-06-19T09:14:22.758301600Z"
    }
   },
   "id": "f2e6ec898eee4b1"
  },
  {
   "cell_type": "code",
   "execution_count": 7,
   "outputs": [
    {
     "data": {
      "text/plain": "Empty DataFrame\nColumns: [player_id, last_season, datetime, date, dateweek, market_value_in_eur, n, club_id, league_id]\nIndex: []",
      "text/html": "<div>\n<style scoped>\n    .dataframe tbody tr th:only-of-type {\n        vertical-align: middle;\n    }\n\n    .dataframe tbody tr th {\n        vertical-align: top;\n    }\n\n    .dataframe thead th {\n        text-align: right;\n    }\n</style>\n<table border=\"1\" class=\"dataframe\">\n  <thead>\n    <tr style=\"text-align: right;\">\n      <th></th>\n      <th>player_id</th>\n      <th>last_season</th>\n      <th>datetime</th>\n      <th>date</th>\n      <th>dateweek</th>\n      <th>market_value_in_eur</th>\n      <th>n</th>\n      <th>club_id</th>\n      <th>league_id</th>\n    </tr>\n  </thead>\n  <tbody>\n  </tbody>\n</table>\n</div>"
     },
     "execution_count": 7,
     "metadata": {},
     "output_type": "execute_result"
    }
   ],
   "source": [
    "# checking duplicates\n",
    "val_df.loc[val_df.duplicated()]"
   ],
   "metadata": {
    "collapsed": false,
    "ExecuteTime": {
     "end_time": "2024-06-19T09:14:23.321432500Z",
     "start_time": "2024-06-19T09:14:22.865014900Z"
    }
   },
   "id": "da8ba2a93bcaec92"
  },
  {
   "cell_type": "code",
   "execution_count": 8,
   "outputs": [
    {
     "data": {
      "text/plain": "player_id               int64\nlast_season             int64\ndatetime               object\ndate                   object\ndateweek               object\nmarket_value_in_eur     int64\nn                       int64\nclub_id                 int64\nleague_id              object\ndtype: object"
     },
     "execution_count": 8,
     "metadata": {},
     "output_type": "execute_result"
    }
   ],
   "source": [
    "val_df.dtypes"
   ],
   "metadata": {
    "collapsed": false,
    "ExecuteTime": {
     "end_time": "2024-06-19T09:14:23.325422800Z",
     "start_time": "2024-06-19T09:14:23.311032Z"
    }
   },
   "id": "7c007984b731a265"
  },
  {
   "cell_type": "code",
   "execution_count": 9,
   "outputs": [
    {
     "data": {
      "text/plain": "player_id                       int64\nlast_season                     int64\ndatetime               datetime64[ns]\ndate                           object\ndateweek                       object\nmarket_value_in_eur             int64\nn                               int64\nclub_id                         int64\nleague_id                      object\nmarket_value_mln              float64\ndtype: object"
     },
     "execution_count": 9,
     "metadata": {},
     "output_type": "execute_result"
    }
   ],
   "source": [
    "# converting data types and adding columns\n",
    "\n",
    "val_df['market_value_mln'] = val_df['market_value_in_eur']/1e6\n",
    "\n",
    "val_df['datetime'] = pd.to_datetime(val_df['datetime'])\n",
    "\n",
    "val_df.dtypes"
   ],
   "metadata": {
    "collapsed": false,
    "ExecuteTime": {
     "end_time": "2024-06-19T09:14:23.518583Z",
     "start_time": "2024-06-19T09:14:23.329429600Z"
    }
   },
   "id": "8b977b581ff964bd"
  },
  {
   "cell_type": "code",
   "execution_count": 10,
   "outputs": [
    {
     "data": {
      "text/plain": "   player_id  last_season   datetime        date    dateweek  \\\n0       3132         2013 2003-12-09  2003-12-09  2003-12-08   \n1       6893         2012 2003-12-15  2003-12-15  2003-12-15   \n2         10         2015 2004-10-04  2004-10-04  2004-10-04   \n3         26         2017 2004-10-04  2004-10-04  2004-10-04   \n4         65         2015 2004-10-04  2004-10-04  2004-10-04   \n5         77         2012 2004-10-04  2004-10-04  2004-10-04   \n6         80         2017 2004-10-04  2004-10-04  2004-10-04   \n7        109         2012 2004-10-04  2004-10-04  2004-10-04   \n8        123         2012 2004-10-04  2004-10-04  2004-10-04   \n9        132         2015 2004-10-04  2004-10-04  2004-10-04   \n\n   market_value_in_eur  n  club_id league_id  market_value_mln  \n0               400000  1      126       TR1               0.4  \n1               900000  1      984       GB1               0.9  \n2              7000000  1      398       IT1               7.0  \n3              1500000  1       16        L1               1.5  \n4              8000000  1     1091       GR1               8.0  \n5             13000000  1      506       IT1              13.0  \n6               400000  1       27        L1               0.4  \n7              9500000  1      825       TR1               9.5  \n8              9500000  1       33        L1               9.5  \n9             13000000  1       11       GB1              13.0  ",
      "text/html": "<div>\n<style scoped>\n    .dataframe tbody tr th:only-of-type {\n        vertical-align: middle;\n    }\n\n    .dataframe tbody tr th {\n        vertical-align: top;\n    }\n\n    .dataframe thead th {\n        text-align: right;\n    }\n</style>\n<table border=\"1\" class=\"dataframe\">\n  <thead>\n    <tr style=\"text-align: right;\">\n      <th></th>\n      <th>player_id</th>\n      <th>last_season</th>\n      <th>datetime</th>\n      <th>date</th>\n      <th>dateweek</th>\n      <th>market_value_in_eur</th>\n      <th>n</th>\n      <th>club_id</th>\n      <th>league_id</th>\n      <th>market_value_mln</th>\n    </tr>\n  </thead>\n  <tbody>\n    <tr>\n      <th>0</th>\n      <td>3132</td>\n      <td>2013</td>\n      <td>2003-12-09</td>\n      <td>2003-12-09</td>\n      <td>2003-12-08</td>\n      <td>400000</td>\n      <td>1</td>\n      <td>126</td>\n      <td>TR1</td>\n      <td>0.4</td>\n    </tr>\n    <tr>\n      <th>1</th>\n      <td>6893</td>\n      <td>2012</td>\n      <td>2003-12-15</td>\n      <td>2003-12-15</td>\n      <td>2003-12-15</td>\n      <td>900000</td>\n      <td>1</td>\n      <td>984</td>\n      <td>GB1</td>\n      <td>0.9</td>\n    </tr>\n    <tr>\n      <th>2</th>\n      <td>10</td>\n      <td>2015</td>\n      <td>2004-10-04</td>\n      <td>2004-10-04</td>\n      <td>2004-10-04</td>\n      <td>7000000</td>\n      <td>1</td>\n      <td>398</td>\n      <td>IT1</td>\n      <td>7.0</td>\n    </tr>\n    <tr>\n      <th>3</th>\n      <td>26</td>\n      <td>2017</td>\n      <td>2004-10-04</td>\n      <td>2004-10-04</td>\n      <td>2004-10-04</td>\n      <td>1500000</td>\n      <td>1</td>\n      <td>16</td>\n      <td>L1</td>\n      <td>1.5</td>\n    </tr>\n    <tr>\n      <th>4</th>\n      <td>65</td>\n      <td>2015</td>\n      <td>2004-10-04</td>\n      <td>2004-10-04</td>\n      <td>2004-10-04</td>\n      <td>8000000</td>\n      <td>1</td>\n      <td>1091</td>\n      <td>GR1</td>\n      <td>8.0</td>\n    </tr>\n    <tr>\n      <th>5</th>\n      <td>77</td>\n      <td>2012</td>\n      <td>2004-10-04</td>\n      <td>2004-10-04</td>\n      <td>2004-10-04</td>\n      <td>13000000</td>\n      <td>1</td>\n      <td>506</td>\n      <td>IT1</td>\n      <td>13.0</td>\n    </tr>\n    <tr>\n      <th>6</th>\n      <td>80</td>\n      <td>2017</td>\n      <td>2004-10-04</td>\n      <td>2004-10-04</td>\n      <td>2004-10-04</td>\n      <td>400000</td>\n      <td>1</td>\n      <td>27</td>\n      <td>L1</td>\n      <td>0.4</td>\n    </tr>\n    <tr>\n      <th>7</th>\n      <td>109</td>\n      <td>2012</td>\n      <td>2004-10-04</td>\n      <td>2004-10-04</td>\n      <td>2004-10-04</td>\n      <td>9500000</td>\n      <td>1</td>\n      <td>825</td>\n      <td>TR1</td>\n      <td>9.5</td>\n    </tr>\n    <tr>\n      <th>8</th>\n      <td>123</td>\n      <td>2012</td>\n      <td>2004-10-04</td>\n      <td>2004-10-04</td>\n      <td>2004-10-04</td>\n      <td>9500000</td>\n      <td>1</td>\n      <td>33</td>\n      <td>L1</td>\n      <td>9.5</td>\n    </tr>\n    <tr>\n      <th>9</th>\n      <td>132</td>\n      <td>2015</td>\n      <td>2004-10-04</td>\n      <td>2004-10-04</td>\n      <td>2004-10-04</td>\n      <td>13000000</td>\n      <td>1</td>\n      <td>11</td>\n      <td>GB1</td>\n      <td>13.0</td>\n    </tr>\n  </tbody>\n</table>\n</div>"
     },
     "execution_count": 10,
     "metadata": {},
     "output_type": "execute_result"
    }
   ],
   "source": [
    "val_df.head(10)"
   ],
   "metadata": {
    "collapsed": false,
    "ExecuteTime": {
     "end_time": "2024-06-19T09:14:23.532018200Z",
     "start_time": "2024-06-19T09:14:23.478713900Z"
    }
   },
   "id": "332cdfea3fd65359"
  },
  {
   "cell_type": "code",
   "execution_count": 11,
   "outputs": [],
   "source": [
    "# eliminiamo la colonna n (tutti valori 1)\n",
    "val_df.drop(columns='n', inplace=True)"
   ],
   "metadata": {
    "collapsed": false,
    "ExecuteTime": {
     "end_time": "2024-06-19T09:14:23.654658500Z",
     "start_time": "2024-06-19T09:14:23.506093300Z"
    }
   },
   "id": "6c1c746f3d07412a"
  },
  {
   "cell_type": "code",
   "execution_count": 12,
   "outputs": [
    {
     "data": {
      "text/plain": "count    440663.000000\nmean       2018.762887\nstd           3.624305\nmin        2012.000000\n25%        2016.000000\n50%        2019.000000\n75%        2022.000000\nmax        2023.000000\nName: last_season, dtype: float64"
     },
     "execution_count": 12,
     "metadata": {},
     "output_type": "execute_result"
    }
   ],
   "source": [
    "val_df['last_season'].describe()"
   ],
   "metadata": {
    "collapsed": false,
    "ExecuteTime": {
     "end_time": "2024-06-19T09:14:23.658219700Z",
     "start_time": "2024-06-19T09:14:23.560175600Z"
    }
   },
   "id": "56af171c3eee0e3"
  },
  {
   "cell_type": "code",
   "execution_count": 13,
   "outputs": [
    {
     "data": {
      "text/plain": "        player_id  last_season   datetime        date    dateweek  \\\n0            3132         2013 2003-12-09  2003-12-09  2003-12-08   \n1            6893         2012 2003-12-15  2003-12-15  2003-12-15   \n2              10         2015 2004-10-04  2004-10-04  2004-10-04   \n3              26         2017 2004-10-04  2004-10-04  2004-10-04   \n4              65         2015 2004-10-04  2004-10-04  2004-10-04   \n...           ...          ...        ...         ...         ...   \n440658     950091         2023 2023-09-21  2023-09-21  2023-09-18   \n440659     968903         2023 2023-09-21  2023-09-21  2023-09-18   \n440660    1031590         2023 2023-09-21  2023-09-21  2023-09-18   \n440661    1166093         2023 2023-09-21  2023-09-21  2023-09-18   \n440662     405676         2018 2023-12-19  2023-12-19  2023-12-18   \n\n        market_value_in_eur  club_id league_id  market_value_mln  \n0                    400000      126       TR1              0.40  \n1                    900000      984       GB1              0.90  \n2                   7000000      398       IT1              7.00  \n3                   1500000       16        L1              1.50  \n4                   8000000     1091       GR1              8.00  \n...                     ...      ...       ...               ...  \n440658              1000000     1091       GR1              1.00  \n440659                50000      653       GR1              0.05  \n440660                50000     6418       GR1              0.05  \n440661                50000    30120       GR1              0.05  \n440662                50000    23826        L1              0.05  \n\n[440663 rows x 9 columns]",
      "text/html": "<div>\n<style scoped>\n    .dataframe tbody tr th:only-of-type {\n        vertical-align: middle;\n    }\n\n    .dataframe tbody tr th {\n        vertical-align: top;\n    }\n\n    .dataframe thead th {\n        text-align: right;\n    }\n</style>\n<table border=\"1\" class=\"dataframe\">\n  <thead>\n    <tr style=\"text-align: right;\">\n      <th></th>\n      <th>player_id</th>\n      <th>last_season</th>\n      <th>datetime</th>\n      <th>date</th>\n      <th>dateweek</th>\n      <th>market_value_in_eur</th>\n      <th>club_id</th>\n      <th>league_id</th>\n      <th>market_value_mln</th>\n    </tr>\n  </thead>\n  <tbody>\n    <tr>\n      <th>0</th>\n      <td>3132</td>\n      <td>2013</td>\n      <td>2003-12-09</td>\n      <td>2003-12-09</td>\n      <td>2003-12-08</td>\n      <td>400000</td>\n      <td>126</td>\n      <td>TR1</td>\n      <td>0.40</td>\n    </tr>\n    <tr>\n      <th>1</th>\n      <td>6893</td>\n      <td>2012</td>\n      <td>2003-12-15</td>\n      <td>2003-12-15</td>\n      <td>2003-12-15</td>\n      <td>900000</td>\n      <td>984</td>\n      <td>GB1</td>\n      <td>0.90</td>\n    </tr>\n    <tr>\n      <th>2</th>\n      <td>10</td>\n      <td>2015</td>\n      <td>2004-10-04</td>\n      <td>2004-10-04</td>\n      <td>2004-10-04</td>\n      <td>7000000</td>\n      <td>398</td>\n      <td>IT1</td>\n      <td>7.00</td>\n    </tr>\n    <tr>\n      <th>3</th>\n      <td>26</td>\n      <td>2017</td>\n      <td>2004-10-04</td>\n      <td>2004-10-04</td>\n      <td>2004-10-04</td>\n      <td>1500000</td>\n      <td>16</td>\n      <td>L1</td>\n      <td>1.50</td>\n    </tr>\n    <tr>\n      <th>4</th>\n      <td>65</td>\n      <td>2015</td>\n      <td>2004-10-04</td>\n      <td>2004-10-04</td>\n      <td>2004-10-04</td>\n      <td>8000000</td>\n      <td>1091</td>\n      <td>GR1</td>\n      <td>8.00</td>\n    </tr>\n    <tr>\n      <th>...</th>\n      <td>...</td>\n      <td>...</td>\n      <td>...</td>\n      <td>...</td>\n      <td>...</td>\n      <td>...</td>\n      <td>...</td>\n      <td>...</td>\n      <td>...</td>\n    </tr>\n    <tr>\n      <th>440658</th>\n      <td>950091</td>\n      <td>2023</td>\n      <td>2023-09-21</td>\n      <td>2023-09-21</td>\n      <td>2023-09-18</td>\n      <td>1000000</td>\n      <td>1091</td>\n      <td>GR1</td>\n      <td>1.00</td>\n    </tr>\n    <tr>\n      <th>440659</th>\n      <td>968903</td>\n      <td>2023</td>\n      <td>2023-09-21</td>\n      <td>2023-09-21</td>\n      <td>2023-09-18</td>\n      <td>50000</td>\n      <td>653</td>\n      <td>GR1</td>\n      <td>0.05</td>\n    </tr>\n    <tr>\n      <th>440660</th>\n      <td>1031590</td>\n      <td>2023</td>\n      <td>2023-09-21</td>\n      <td>2023-09-21</td>\n      <td>2023-09-18</td>\n      <td>50000</td>\n      <td>6418</td>\n      <td>GR1</td>\n      <td>0.05</td>\n    </tr>\n    <tr>\n      <th>440661</th>\n      <td>1166093</td>\n      <td>2023</td>\n      <td>2023-09-21</td>\n      <td>2023-09-21</td>\n      <td>2023-09-18</td>\n      <td>50000</td>\n      <td>30120</td>\n      <td>GR1</td>\n      <td>0.05</td>\n    </tr>\n    <tr>\n      <th>440662</th>\n      <td>405676</td>\n      <td>2018</td>\n      <td>2023-12-19</td>\n      <td>2023-12-19</td>\n      <td>2023-12-18</td>\n      <td>50000</td>\n      <td>23826</td>\n      <td>L1</td>\n      <td>0.05</td>\n    </tr>\n  </tbody>\n</table>\n<p>440663 rows × 9 columns</p>\n</div>"
     },
     "execution_count": 13,
     "metadata": {},
     "output_type": "execute_result"
    }
   ],
   "source": [
    "val_df"
   ],
   "metadata": {
    "collapsed": false,
    "ExecuteTime": {
     "end_time": "2024-06-19T09:14:23.722117400Z",
     "start_time": "2024-06-19T09:14:23.607284200Z"
    }
   },
   "id": "1a716e3da5c7d40b"
  },
  {
   "cell_type": "code",
   "execution_count": 14,
   "outputs": [
    {
     "data": {
      "text/plain": "count    440663.000000\nmean       2018.762887\nstd           3.624305\nmin        2012.000000\n25%        2016.000000\n50%        2019.000000\n75%        2022.000000\nmax        2023.000000\nName: last_season, dtype: float64"
     },
     "execution_count": 14,
     "metadata": {},
     "output_type": "execute_result"
    }
   ],
   "source": [
    "val_df['last_season'].describe()"
   ],
   "metadata": {
    "collapsed": false,
    "ExecuteTime": {
     "end_time": "2024-06-19T09:14:23.820813200Z",
     "start_time": "2024-06-19T09:14:23.641888800Z"
    }
   },
   "id": "b38481e164da3d84"
  },
  {
   "cell_type": "code",
   "execution_count": 15,
   "outputs": [
    {
     "data": {
      "text/plain": "<Figure size 640x480 with 1 Axes>",
      "image/png": "[encoded data removed]"
     },
     "metadata": {},
     "output_type": "display_data"
    }
   ],
   "source": [
    "sns.countplot(data=val_df, x='last_season')\n",
    "plt.title('Ultima stagione giocata dai calciatori')\n",
    "plt.show()"
   ],
   "metadata": {
    "collapsed": false,
    "ExecuteTime": {
     "end_time": "2024-06-19T09:14:25.473850400Z",
     "start_time": "2024-06-19T09:14:23.687044100Z"
    }
   },
   "id": "d6ea395b92df092f"
  },
  {
   "cell_type": "code",
   "execution_count": 16,
   "outputs": [
    {
     "data": {
      "text/plain": "        player_id  last_season   datetime        date    dateweek  \\\n186          3333         2023 2004-10-04  2004-10-04  2004-10-04   \n343          4391         2023 2004-10-04  2004-10-04  2004-10-04   \n743          8246         2023 2004-10-04  2004-10-04  2004-10-04   \n782          9500         2023 2004-10-04  2004-10-04  2004-10-04   \n884         12029         2023 2004-10-04  2004-10-04  2004-10-04   \n...           ...          ...        ...         ...         ...   \n440657     933897         2023 2023-09-21  2023-09-21  2023-09-18   \n440658     950091         2023 2023-09-21  2023-09-21  2023-09-18   \n440659     968903         2023 2023-09-21  2023-09-21  2023-09-18   \n440660    1031590         2023 2023-09-21  2023-09-21  2023-09-18   \n440661    1166093         2023 2023-09-21  2023-09-21  2023-09-18   \n\n        market_value_in_eur  club_id league_id  market_value_mln  \n186                 7500000     1237       GB1              7.50  \n343                 1300000      383       NL1              1.30  \n743                   50000        3        L1              0.05  \n782                  750000      903       SC1              0.75  \n884                 1500000     1421       FR1              1.50  \n...                     ...      ...       ...               ...  \n440657                50000     3060       GR1              0.05  \n440658              1000000     1091       GR1              1.00  \n440659                50000      653       GR1              0.05  \n440660                50000     6418       GR1              0.05  \n440661                50000    30120       GR1              0.05  \n\n[101275 rows x 9 columns]",
      "text/html": "<div>\n<style scoped>\n    .dataframe tbody tr th:only-of-type {\n        vertical-align: middle;\n    }\n\n    .dataframe tbody tr th {\n        vertical-align: top;\n    }\n\n    .dataframe thead th {\n        text-align: right;\n    }\n</style>\n<table border=\"1\" class=\"dataframe\">\n  <thead>\n    <tr style=\"text-align: right;\">\n      <th></th>\n      <th>player_id</th>\n      <th>last_season</th>\n      <th>datetime</th>\n      <th>date</th>\n      <th>dateweek</th>\n      <th>market_value_in_eur</th>\n      <th>club_id</th>\n      <th>league_id</th>\n      <th>market_value_mln</th>\n    </tr>\n  </thead>\n  <tbody>\n    <tr>\n      <th>186</th>\n      <td>3333</td>\n      <td>2023</td>\n      <td>2004-10-04</td>\n      <td>2004-10-04</td>\n      <td>2004-10-04</td>\n      <td>7500000</td>\n      <td>1237</td>\n      <td>GB1</td>\n      <td>7.50</td>\n    </tr>\n    <tr>\n      <th>343</th>\n      <td>4391</td>\n      <td>2023</td>\n      <td>2004-10-04</td>\n      <td>2004-10-04</td>\n      <td>2004-10-04</td>\n      <td>1300000</td>\n      <td>383</td>\n      <td>NL1</td>\n      <td>1.30</td>\n    </tr>\n    <tr>\n      <th>743</th>\n      <td>8246</td>\n      <td>2023</td>\n      <td>2004-10-04</td>\n      <td>2004-10-04</td>\n      <td>2004-10-04</td>\n      <td>50000</td>\n      <td>3</td>\n      <td>L1</td>\n      <td>0.05</td>\n    </tr>\n    <tr>\n      <th>782</th>\n      <td>9500</td>\n      <td>2023</td>\n      <td>2004-10-04</td>\n      <td>2004-10-04</td>\n      <td>2004-10-04</td>\n      <td>750000</td>\n      <td>903</td>\n      <td>SC1</td>\n      <td>0.75</td>\n    </tr>\n    <tr>\n      <th>884</th>\n      <td>12029</td>\n      <td>2023</td>\n      <td>2004-10-04</td>\n      <td>2004-10-04</td>\n      <td>2004-10-04</td>\n      <td>1500000</td>\n      <td>1421</td>\n      <td>FR1</td>\n      <td>1.50</td>\n    </tr>\n    <tr>\n      <th>...</th>\n      <td>...</td>\n      <td>...</td>\n      <td>...</td>\n      <td>...</td>\n      <td>...</td>\n      <td>...</td>\n      <td>...</td>\n      <td>...</td>\n      <td>...</td>\n    </tr>\n    <tr>\n      <th>440657</th>\n      <td>933897</td>\n      <td>2023</td>\n      <td>2023-09-21</td>\n      <td>2023-09-21</td>\n      <td>2023-09-18</td>\n      <td>50000</td>\n      <td>3060</td>\n      <td>GR1</td>\n      <td>0.05</td>\n    </tr>\n    <tr>\n      <th>440658</th>\n      <td>950091</td>\n      <td>2023</td>\n      <td>2023-09-21</td>\n      <td>2023-09-21</td>\n      <td>2023-09-18</td>\n      <td>1000000</td>\n      <td>1091</td>\n      <td>GR1</td>\n      <td>1.00</td>\n    </tr>\n    <tr>\n      <th>440659</th>\n      <td>968903</td>\n      <td>2023</td>\n      <td>2023-09-21</td>\n      <td>2023-09-21</td>\n      <td>2023-09-18</td>\n      <td>50000</td>\n      <td>653</td>\n      <td>GR1</td>\n      <td>0.05</td>\n    </tr>\n    <tr>\n      <th>440660</th>\n      <td>1031590</td>\n      <td>2023</td>\n      <td>2023-09-21</td>\n      <td>2023-09-21</td>\n      <td>2023-09-18</td>\n      <td>50000</td>\n      <td>6418</td>\n      <td>GR1</td>\n      <td>0.05</td>\n    </tr>\n    <tr>\n      <th>440661</th>\n      <td>1166093</td>\n      <td>2023</td>\n      <td>2023-09-21</td>\n      <td>2023-09-21</td>\n      <td>2023-09-18</td>\n      <td>50000</td>\n      <td>30120</td>\n      <td>GR1</td>\n      <td>0.05</td>\n    </tr>\n  </tbody>\n</table>\n<p>101275 rows × 9 columns</p>\n</div>"
     },
     "execution_count": 16,
     "metadata": {},
     "output_type": "execute_result"
    }
   ],
   "source": [
    "current_players_val = val_df.query('last_season == 2023')\n",
    "\n",
    "current_players_val"
   ],
   "metadata": {
    "collapsed": false,
    "ExecuteTime": {
     "end_time": "2024-06-19T09:14:25.615712400Z",
     "start_time": "2024-06-19T09:14:25.465845900Z"
    }
   },
   "id": "e3cfcf72df8d023e"
  },
  {
   "cell_type": "markdown",
   "source": [
    "# Saving processed data to feather file"
   ],
   "metadata": {
    "collapsed": false
   },
   "id": "8e53a92c14923ee0"
  },
  {
   "cell_type": "code",
   "execution_count": 26,
   "outputs": [],
   "source": [
    "current_players_val.to_feather('../cleaned_data/players_valuation.feather')"
   ],
   "metadata": {
    "collapsed": false,
    "ExecuteTime": {
     "end_time": "2024-06-17T16:07:24.166812200Z",
     "start_time": "2024-06-17T16:07:24.086603Z"
    }
   },
   "id": "53196c430af2b1b8"
  },
  {
   "cell_type": "code",
   "execution_count": null,
   "outputs": [],
   "source": [],
   "metadata": {
    "collapsed": false
   },
   "id": "bc4d34c934b0772"
  }
 ],
 "metadata": {
  "kernelspec": {
   "display_name": "Python 3",
   "language": "python",
   "name": "python3"
  },
  "language_info": {
   "codemirror_mode": {
    "name": "ipython",
    "version": 2
   },
   "file_extension": ".py",
   "mimetype": "text/x-python",
   "name": "python",
   "nbconvert_exporter": "python",
   "pygments_lexer": "ipython2",
   "version": "2.7.6"
  }
 },
 "nbformat": 4,
 "nbformat_minor": 5
}
