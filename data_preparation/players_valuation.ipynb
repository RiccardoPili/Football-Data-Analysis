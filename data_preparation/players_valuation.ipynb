{
 "cells": [
  {
   "cell_type": "markdown",
   "source": [
    "# Importing Data & Libraries"
   ],
   "metadata": {
    "collapsed": false
   },
   "id": "113f49a26c9271a3"
  },
  {
   "cell_type": "code",
   "execution_count": 1,
   "outputs": [],
   "source": [
    "import pandas as pd\n",
    "import matplotlib.pylab as plt\n",
    "import seaborn as sns\n",
    "from config import *\n",
    "\n",
    "val_df = pd.read_csv(f\"{folder_path}/player_valuations.csv\")"
   ],
   "metadata": {
    "collapsed": false,
    "ExecuteTime": {
     "end_time": "2024-04-26T14:25:23.540113700Z",
     "start_time": "2024-04-26T14:25:22.866453300Z"
    }
   },
   "id": "initial_id"
  },
  {
   "cell_type": "markdown",
   "source": [
    "# Data Preparation of Players Valuations"
   ],
   "metadata": {
    "collapsed": false
   },
   "id": "884f65073ab8abb8"
  },
  {
   "cell_type": "code",
   "execution_count": 2,
   "outputs": [
    {
     "data": {
      "text/plain": "(440663, 9)"
     },
     "execution_count": 2,
     "metadata": {},
     "output_type": "execute_result"
    }
   ],
   "source": [
    "val_df.shape"
   ],
   "metadata": {
    "collapsed": false,
    "ExecuteTime": {
     "end_time": "2024-04-26T14:25:23.559310600Z",
     "start_time": "2024-04-26T14:25:23.541597100Z"
    }
   },
   "id": "b7afc8ff2e7e8f3e"
  },
  {
   "cell_type": "code",
   "execution_count": 3,
   "outputs": [
    {
     "data": {
      "text/plain": "   player_id  last_season             datetime        date    dateweek  \\\n0       3132         2013  2003-12-09 00:00:00  2003-12-09  2003-12-08   \n1       6893         2012  2003-12-15 00:00:00  2003-12-15  2003-12-15   \n2         10         2015  2004-10-04 00:00:00  2004-10-04  2004-10-04   \n3         26         2017  2004-10-04 00:00:00  2004-10-04  2004-10-04   \n4         65         2015  2004-10-04 00:00:00  2004-10-04  2004-10-04   \n5         77         2012  2004-10-04 00:00:00  2004-10-04  2004-10-04   \n6         80         2017  2004-10-04 00:00:00  2004-10-04  2004-10-04   \n7        109         2012  2004-10-04 00:00:00  2004-10-04  2004-10-04   \n8        123         2012  2004-10-04 00:00:00  2004-10-04  2004-10-04   \n9        132         2015  2004-10-04 00:00:00  2004-10-04  2004-10-04   \n\n   market_value_in_eur  n  current_club_id player_club_domestic_competition_id  \n0               400000  1              126                                 TR1  \n1               900000  1              984                                 GB1  \n2              7000000  1              398                                 IT1  \n3              1500000  1               16                                  L1  \n4              8000000  1             1091                                 GR1  \n5             13000000  1              506                                 IT1  \n6               400000  1               27                                  L1  \n7              9500000  1              825                                 TR1  \n8              9500000  1               33                                  L1  \n9             13000000  1               11                                 GB1  ",
      "text/html": "<div>\n<style scoped>\n    .dataframe tbody tr th:only-of-type {\n        vertical-align: middle;\n    }\n\n    .dataframe tbody tr th {\n        vertical-align: top;\n    }\n\n    .dataframe thead th {\n        text-align: right;\n    }\n</style>\n<table border=\"1\" class=\"dataframe\">\n  <thead>\n    <tr style=\"text-align: right;\">\n      <th></th>\n      <th>player_id</th>\n      <th>last_season</th>\n      <th>datetime</th>\n      <th>date</th>\n      <th>dateweek</th>\n      <th>market_value_in_eur</th>\n      <th>n</th>\n      <th>current_club_id</th>\n      <th>player_club_domestic_competition_id</th>\n    </tr>\n  </thead>\n  <tbody>\n    <tr>\n      <th>0</th>\n      <td>3132</td>\n      <td>2013</td>\n      <td>2003-12-09 00:00:00</td>\n      <td>2003-12-09</td>\n      <td>2003-12-08</td>\n      <td>400000</td>\n      <td>1</td>\n      <td>126</td>\n      <td>TR1</td>\n    </tr>\n    <tr>\n      <th>1</th>\n      <td>6893</td>\n      <td>2012</td>\n      <td>2003-12-15 00:00:00</td>\n      <td>2003-12-15</td>\n      <td>2003-12-15</td>\n      <td>900000</td>\n      <td>1</td>\n      <td>984</td>\n      <td>GB1</td>\n    </tr>\n    <tr>\n      <th>2</th>\n      <td>10</td>\n      <td>2015</td>\n      <td>2004-10-04 00:00:00</td>\n      <td>2004-10-04</td>\n      <td>2004-10-04</td>\n      <td>7000000</td>\n      <td>1</td>\n      <td>398</td>\n      <td>IT1</td>\n    </tr>\n    <tr>\n      <th>3</th>\n      <td>26</td>\n      <td>2017</td>\n      <td>2004-10-04 00:00:00</td>\n      <td>2004-10-04</td>\n      <td>2004-10-04</td>\n      <td>1500000</td>\n      <td>1</td>\n      <td>16</td>\n      <td>L1</td>\n    </tr>\n    <tr>\n      <th>4</th>\n      <td>65</td>\n      <td>2015</td>\n      <td>2004-10-04 00:00:00</td>\n      <td>2004-10-04</td>\n      <td>2004-10-04</td>\n      <td>8000000</td>\n      <td>1</td>\n      <td>1091</td>\n      <td>GR1</td>\n    </tr>\n    <tr>\n      <th>5</th>\n      <td>77</td>\n      <td>2012</td>\n      <td>2004-10-04 00:00:00</td>\n      <td>2004-10-04</td>\n      <td>2004-10-04</td>\n      <td>13000000</td>\n      <td>1</td>\n      <td>506</td>\n      <td>IT1</td>\n    </tr>\n    <tr>\n      <th>6</th>\n      <td>80</td>\n      <td>2017</td>\n      <td>2004-10-04 00:00:00</td>\n      <td>2004-10-04</td>\n      <td>2004-10-04</td>\n      <td>400000</td>\n      <td>1</td>\n      <td>27</td>\n      <td>L1</td>\n    </tr>\n    <tr>\n      <th>7</th>\n      <td>109</td>\n      <td>2012</td>\n      <td>2004-10-04 00:00:00</td>\n      <td>2004-10-04</td>\n      <td>2004-10-04</td>\n      <td>9500000</td>\n      <td>1</td>\n      <td>825</td>\n      <td>TR1</td>\n    </tr>\n    <tr>\n      <th>8</th>\n      <td>123</td>\n      <td>2012</td>\n      <td>2004-10-04 00:00:00</td>\n      <td>2004-10-04</td>\n      <td>2004-10-04</td>\n      <td>9500000</td>\n      <td>1</td>\n      <td>33</td>\n      <td>L1</td>\n    </tr>\n    <tr>\n      <th>9</th>\n      <td>132</td>\n      <td>2015</td>\n      <td>2004-10-04 00:00:00</td>\n      <td>2004-10-04</td>\n      <td>2004-10-04</td>\n      <td>13000000</td>\n      <td>1</td>\n      <td>11</td>\n      <td>GB1</td>\n    </tr>\n  </tbody>\n</table>\n</div>"
     },
     "execution_count": 3,
     "metadata": {},
     "output_type": "execute_result"
    }
   ],
   "source": [
    "val_df.head(10)"
   ],
   "metadata": {
    "collapsed": false,
    "ExecuteTime": {
     "end_time": "2024-04-26T14:25:23.644778700Z",
     "start_time": "2024-04-26T14:25:23.556214300Z"
    }
   },
   "id": "18e127718ef5e61f"
  },
  {
   "cell_type": "code",
   "execution_count": 4,
   "outputs": [
    {
     "data": {
      "text/plain": "Index(['player_id', 'last_season', 'datetime', 'date', 'dateweek',\n       'market_value_in_eur', 'n', 'current_club_id',\n       'player_club_domestic_competition_id'],\n      dtype='object')"
     },
     "execution_count": 4,
     "metadata": {},
     "output_type": "execute_result"
    }
   ],
   "source": [
    "val_df.columns"
   ],
   "metadata": {
    "collapsed": false,
    "ExecuteTime": {
     "end_time": "2024-04-26T14:25:23.646779200Z",
     "start_time": "2024-04-26T14:25:23.581896200Z"
    }
   },
   "id": "4c050b454627d350"
  },
  {
   "cell_type": "code",
   "execution_count": 5,
   "outputs": [
    {
     "data": {
      "text/plain": "        player_id  last_season             datetime        date    dateweek  \\\n0            3132         2013  2003-12-09 00:00:00  2003-12-09  2003-12-08   \n1            6893         2012  2003-12-15 00:00:00  2003-12-15  2003-12-15   \n2              10         2015  2004-10-04 00:00:00  2004-10-04  2004-10-04   \n3              26         2017  2004-10-04 00:00:00  2004-10-04  2004-10-04   \n4              65         2015  2004-10-04 00:00:00  2004-10-04  2004-10-04   \n...           ...          ...                  ...         ...         ...   \n440658     950091         2023  2023-09-21 00:00:00  2023-09-21  2023-09-18   \n440659     968903         2023  2023-09-21 00:00:00  2023-09-21  2023-09-18   \n440660    1031590         2023  2023-09-21 00:00:00  2023-09-21  2023-09-18   \n440661    1166093         2023  2023-09-21 00:00:00  2023-09-21  2023-09-18   \n440662     405676         2018  2023-12-19 00:00:00  2023-12-19  2023-12-18   \n\n        market_value_in_eur  n  club_id league_id  \n0                    400000  1      126       TR1  \n1                    900000  1      984       GB1  \n2                   7000000  1      398       IT1  \n3                   1500000  1       16        L1  \n4                   8000000  1     1091       GR1  \n...                     ... ..      ...       ...  \n440658              1000000  1     1091       GR1  \n440659                50000  1      653       GR1  \n440660                50000  1     6418       GR1  \n440661                50000  1    30120       GR1  \n440662                50000  1    23826        L1  \n\n[440663 rows x 9 columns]",
      "text/html": "<div>\n<style scoped>\n    .dataframe tbody tr th:only-of-type {\n        vertical-align: middle;\n    }\n\n    .dataframe tbody tr th {\n        vertical-align: top;\n    }\n\n    .dataframe thead th {\n        text-align: right;\n    }\n</style>\n<table border=\"1\" class=\"dataframe\">\n  <thead>\n    <tr style=\"text-align: right;\">\n      <th></th>\n      <th>player_id</th>\n      <th>last_season</th>\n      <th>datetime</th>\n      <th>date</th>\n      <th>dateweek</th>\n      <th>market_value_in_eur</th>\n      <th>n</th>\n      <th>club_id</th>\n      <th>league_id</th>\n    </tr>\n  </thead>\n  <tbody>\n    <tr>\n      <th>0</th>\n      <td>3132</td>\n      <td>2013</td>\n      <td>2003-12-09 00:00:00</td>\n      <td>2003-12-09</td>\n      <td>2003-12-08</td>\n      <td>400000</td>\n      <td>1</td>\n      <td>126</td>\n      <td>TR1</td>\n    </tr>\n    <tr>\n      <th>1</th>\n      <td>6893</td>\n      <td>2012</td>\n      <td>2003-12-15 00:00:00</td>\n      <td>2003-12-15</td>\n      <td>2003-12-15</td>\n      <td>900000</td>\n      <td>1</td>\n      <td>984</td>\n      <td>GB1</td>\n    </tr>\n    <tr>\n      <th>2</th>\n      <td>10</td>\n      <td>2015</td>\n      <td>2004-10-04 00:00:00</td>\n      <td>2004-10-04</td>\n      <td>2004-10-04</td>\n      <td>7000000</td>\n      <td>1</td>\n      <td>398</td>\n      <td>IT1</td>\n    </tr>\n    <tr>\n      <th>3</th>\n      <td>26</td>\n      <td>2017</td>\n      <td>2004-10-04 00:00:00</td>\n      <td>2004-10-04</td>\n      <td>2004-10-04</td>\n      <td>1500000</td>\n      <td>1</td>\n      <td>16</td>\n      <td>L1</td>\n    </tr>\n    <tr>\n      <th>4</th>\n      <td>65</td>\n      <td>2015</td>\n      <td>2004-10-04 00:00:00</td>\n      <td>2004-10-04</td>\n      <td>2004-10-04</td>\n      <td>8000000</td>\n      <td>1</td>\n      <td>1091</td>\n      <td>GR1</td>\n    </tr>\n    <tr>\n      <th>...</th>\n      <td>...</td>\n      <td>...</td>\n      <td>...</td>\n      <td>...</td>\n      <td>...</td>\n      <td>...</td>\n      <td>...</td>\n      <td>...</td>\n      <td>...</td>\n    </tr>\n    <tr>\n      <th>440658</th>\n      <td>950091</td>\n      <td>2023</td>\n      <td>2023-09-21 00:00:00</td>\n      <td>2023-09-21</td>\n      <td>2023-09-18</td>\n      <td>1000000</td>\n      <td>1</td>\n      <td>1091</td>\n      <td>GR1</td>\n    </tr>\n    <tr>\n      <th>440659</th>\n      <td>968903</td>\n      <td>2023</td>\n      <td>2023-09-21 00:00:00</td>\n      <td>2023-09-21</td>\n      <td>2023-09-18</td>\n      <td>50000</td>\n      <td>1</td>\n      <td>653</td>\n      <td>GR1</td>\n    </tr>\n    <tr>\n      <th>440660</th>\n      <td>1031590</td>\n      <td>2023</td>\n      <td>2023-09-21 00:00:00</td>\n      <td>2023-09-21</td>\n      <td>2023-09-18</td>\n      <td>50000</td>\n      <td>1</td>\n      <td>6418</td>\n      <td>GR1</td>\n    </tr>\n    <tr>\n      <th>440661</th>\n      <td>1166093</td>\n      <td>2023</td>\n      <td>2023-09-21 00:00:00</td>\n      <td>2023-09-21</td>\n      <td>2023-09-18</td>\n      <td>50000</td>\n      <td>1</td>\n      <td>30120</td>\n      <td>GR1</td>\n    </tr>\n    <tr>\n      <th>440662</th>\n      <td>405676</td>\n      <td>2018</td>\n      <td>2023-12-19 00:00:00</td>\n      <td>2023-12-19</td>\n      <td>2023-12-18</td>\n      <td>50000</td>\n      <td>1</td>\n      <td>23826</td>\n      <td>L1</td>\n    </tr>\n  </tbody>\n</table>\n<p>440663 rows × 9 columns</p>\n</div>"
     },
     "execution_count": 5,
     "metadata": {},
     "output_type": "execute_result"
    }
   ],
   "source": [
    "# renaming columns\n",
    "val_df = val_df.rename(columns={\n",
    "    'current_club_id':'club_id',\n",
    "    'player_club_domestic_competition_id':'league_id',\n",
    "})\n",
    "\n",
    "val_df"
   ],
   "metadata": {
    "collapsed": false,
    "ExecuteTime": {
     "end_time": "2024-04-26T14:25:23.649778500Z",
     "start_time": "2024-04-26T14:25:23.593869900Z"
    }
   },
   "id": "4f4f012230e1306c"
  },
  {
   "cell_type": "code",
   "execution_count": 6,
   "outputs": [
    {
     "data": {
      "text/plain": "player_id              0\nlast_season            0\ndatetime               0\ndate                   0\ndateweek               0\nmarket_value_in_eur    0\nn                      0\nclub_id                0\nleague_id              0\ndtype: int64"
     },
     "execution_count": 6,
     "metadata": {},
     "output_type": "execute_result"
    }
   ],
   "source": [
    "# checking NA values\n",
    "val_df.isna().sum()"
   ],
   "metadata": {
    "collapsed": false,
    "ExecuteTime": {
     "end_time": "2024-04-26T14:25:23.885703300Z",
     "start_time": "2024-04-26T14:25:23.640786400Z"
    }
   },
   "id": "f2e6ec898eee4b1"
  },
  {
   "cell_type": "code",
   "execution_count": 7,
   "outputs": [
    {
     "data": {
      "text/plain": "Empty DataFrame\nColumns: [player_id, last_season, datetime, date, dateweek, market_value_in_eur, n, club_id, league_id]\nIndex: []",
      "text/html": "<div>\n<style scoped>\n    .dataframe tbody tr th:only-of-type {\n        vertical-align: middle;\n    }\n\n    .dataframe tbody tr th {\n        vertical-align: top;\n    }\n\n    .dataframe thead th {\n        text-align: right;\n    }\n</style>\n<table border=\"1\" class=\"dataframe\">\n  <thead>\n    <tr style=\"text-align: right;\">\n      <th></th>\n      <th>player_id</th>\n      <th>last_season</th>\n      <th>datetime</th>\n      <th>date</th>\n      <th>dateweek</th>\n      <th>market_value_in_eur</th>\n      <th>n</th>\n      <th>club_id</th>\n      <th>league_id</th>\n    </tr>\n  </thead>\n  <tbody>\n  </tbody>\n</table>\n</div>"
     },
     "execution_count": 7,
     "metadata": {},
     "output_type": "execute_result"
    }
   ],
   "source": [
    "# checking duplicates\n",
    "val_df.loc[val_df.duplicated()]"
   ],
   "metadata": {
    "collapsed": false,
    "ExecuteTime": {
     "end_time": "2024-04-26T14:25:24.125405200Z",
     "start_time": "2024-04-26T14:25:23.742458700Z"
    }
   },
   "id": "da8ba2a93bcaec92"
  },
  {
   "cell_type": "code",
   "execution_count": 8,
   "outputs": [
    {
     "data": {
      "text/plain": "player_id               int64\nlast_season             int64\ndatetime               object\ndate                   object\ndateweek               object\nmarket_value_in_eur     int64\nn                       int64\nclub_id                 int64\nleague_id              object\ndtype: object"
     },
     "execution_count": 8,
     "metadata": {},
     "output_type": "execute_result"
    }
   ],
   "source": [
    "val_df.dtypes"
   ],
   "metadata": {
    "collapsed": false,
    "ExecuteTime": {
     "end_time": "2024-04-26T14:25:24.143234100Z",
     "start_time": "2024-04-26T14:25:24.130474100Z"
    }
   },
   "id": "7c007984b731a265"
  },
  {
   "cell_type": "code",
   "execution_count": 9,
   "outputs": [
    {
     "data": {
      "text/plain": "player_id                       int64\nlast_season                     int64\ndatetime               datetime64[ns]\ndate                           object\ndateweek                       object\nmarket_value_in_eur             int64\nn                               int64\nclub_id                         int64\nleague_id                      object\nmarket_value_mln              float64\ndtype: object"
     },
     "execution_count": 9,
     "metadata": {},
     "output_type": "execute_result"
    }
   ],
   "source": [
    "# converting data types and adding columns\n",
    "\n",
    "val_df['market_value_mln'] = val_df['market_value_in_eur']/1e6\n",
    "\n",
    "val_df['datetime'] = pd.to_datetime(val_df['datetime'])\n",
    "\n",
    "val_df.dtypes"
   ],
   "metadata": {
    "collapsed": false,
    "ExecuteTime": {
     "end_time": "2024-04-26T14:25:24.300356200Z",
     "start_time": "2024-04-26T14:25:24.145383400Z"
    }
   },
   "id": "8b977b581ff964bd"
  },
  {
   "cell_type": "code",
   "execution_count": 10,
   "outputs": [
    {
     "data": {
      "text/plain": "        player_id  last_season        date  market_value_in_eur  \\\n0            3132         2013  2003-12-09               400000   \n1            6893         2012  2003-12-15               900000   \n2              10         2015  2004-10-04              7000000   \n3              26         2017  2004-10-04              1500000   \n4              65         2015  2004-10-04              8000000   \n...           ...          ...         ...                  ...   \n440658     950091         2023  2023-09-21              1000000   \n440659     968903         2023  2023-09-21                50000   \n440660    1031590         2023  2023-09-21                50000   \n440661    1166093         2023  2023-09-21                50000   \n440662     405676         2018  2023-12-19                50000   \n\n        market_value_mln  club_id league_id  \n0                   0.40      126       TR1  \n1                   0.90      984       GB1  \n2                   7.00      398       IT1  \n3                   1.50       16        L1  \n4                   8.00     1091       GR1  \n...                  ...      ...       ...  \n440658              1.00     1091       GR1  \n440659              0.05      653       GR1  \n440660              0.05     6418       GR1  \n440661              0.05    30120       GR1  \n440662              0.05    23826        L1  \n\n[440663 rows x 7 columns]",
      "text/html": "<div>\n<style scoped>\n    .dataframe tbody tr th:only-of-type {\n        vertical-align: middle;\n    }\n\n    .dataframe tbody tr th {\n        vertical-align: top;\n    }\n\n    .dataframe thead th {\n        text-align: right;\n    }\n</style>\n<table border=\"1\" class=\"dataframe\">\n  <thead>\n    <tr style=\"text-align: right;\">\n      <th></th>\n      <th>player_id</th>\n      <th>last_season</th>\n      <th>date</th>\n      <th>market_value_in_eur</th>\n      <th>market_value_mln</th>\n      <th>club_id</th>\n      <th>league_id</th>\n    </tr>\n  </thead>\n  <tbody>\n    <tr>\n      <th>0</th>\n      <td>3132</td>\n      <td>2013</td>\n      <td>2003-12-09</td>\n      <td>400000</td>\n      <td>0.40</td>\n      <td>126</td>\n      <td>TR1</td>\n    </tr>\n    <tr>\n      <th>1</th>\n      <td>6893</td>\n      <td>2012</td>\n      <td>2003-12-15</td>\n      <td>900000</td>\n      <td>0.90</td>\n      <td>984</td>\n      <td>GB1</td>\n    </tr>\n    <tr>\n      <th>2</th>\n      <td>10</td>\n      <td>2015</td>\n      <td>2004-10-04</td>\n      <td>7000000</td>\n      <td>7.00</td>\n      <td>398</td>\n      <td>IT1</td>\n    </tr>\n    <tr>\n      <th>3</th>\n      <td>26</td>\n      <td>2017</td>\n      <td>2004-10-04</td>\n      <td>1500000</td>\n      <td>1.50</td>\n      <td>16</td>\n      <td>L1</td>\n    </tr>\n    <tr>\n      <th>4</th>\n      <td>65</td>\n      <td>2015</td>\n      <td>2004-10-04</td>\n      <td>8000000</td>\n      <td>8.00</td>\n      <td>1091</td>\n      <td>GR1</td>\n    </tr>\n    <tr>\n      <th>...</th>\n      <td>...</td>\n      <td>...</td>\n      <td>...</td>\n      <td>...</td>\n      <td>...</td>\n      <td>...</td>\n      <td>...</td>\n    </tr>\n    <tr>\n      <th>440658</th>\n      <td>950091</td>\n      <td>2023</td>\n      <td>2023-09-21</td>\n      <td>1000000</td>\n      <td>1.00</td>\n      <td>1091</td>\n      <td>GR1</td>\n    </tr>\n    <tr>\n      <th>440659</th>\n      <td>968903</td>\n      <td>2023</td>\n      <td>2023-09-21</td>\n      <td>50000</td>\n      <td>0.05</td>\n      <td>653</td>\n      <td>GR1</td>\n    </tr>\n    <tr>\n      <th>440660</th>\n      <td>1031590</td>\n      <td>2023</td>\n      <td>2023-09-21</td>\n      <td>50000</td>\n      <td>0.05</td>\n      <td>6418</td>\n      <td>GR1</td>\n    </tr>\n    <tr>\n      <th>440661</th>\n      <td>1166093</td>\n      <td>2023</td>\n      <td>2023-09-21</td>\n      <td>50000</td>\n      <td>0.05</td>\n      <td>30120</td>\n      <td>GR1</td>\n    </tr>\n    <tr>\n      <th>440662</th>\n      <td>405676</td>\n      <td>2018</td>\n      <td>2023-12-19</td>\n      <td>50000</td>\n      <td>0.05</td>\n      <td>23826</td>\n      <td>L1</td>\n    </tr>\n  </tbody>\n</table>\n<p>440663 rows × 7 columns</p>\n</div>"
     },
     "execution_count": 10,
     "metadata": {},
     "output_type": "execute_result"
    }
   ],
   "source": [
    "val_df = val_df[[\n",
    "    'player_id',\n",
    "    'last_season', \n",
    "    #'datetime', \n",
    "    'date', \n",
    "    #'dateweek',\n",
    "    'market_value_in_eur',\n",
    "    'market_value_mln',\n",
    "    #'n', \n",
    "    'club_id',\n",
    "    'league_id'\n",
    "]]\n",
    "\n",
    "val_df"
   ],
   "metadata": {
    "collapsed": false,
    "ExecuteTime": {
     "end_time": "2024-04-26T14:25:24.369097500Z",
     "start_time": "2024-04-26T14:25:24.285013200Z"
    }
   },
   "id": "72b73576cd12c4a7"
  }
 ],
 "metadata": {
  "kernelspec": {
   "display_name": "Python 3",
   "language": "python",
   "name": "python3"
  },
  "language_info": {
   "codemirror_mode": {
    "name": "ipython",
    "version": 2
   },
   "file_extension": ".py",
   "mimetype": "text/x-python",
   "name": "python",
   "nbconvert_exporter": "python",
   "pygments_lexer": "ipython2",
   "version": "2.7.6"
  }
 },
 "nbformat": 4,
 "nbformat_minor": 5
}
