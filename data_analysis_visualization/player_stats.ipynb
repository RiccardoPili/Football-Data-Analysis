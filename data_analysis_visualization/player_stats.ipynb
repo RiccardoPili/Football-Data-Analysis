{
 "cells": [
  {
   "cell_type": "code",
   "execution_count": 7,
   "id": "initial_id",
   "metadata": {
    "collapsed": true,
    "ExecuteTime": {
     "end_time": "2024-06-12T19:59:02.720375Z",
     "start_time": "2024-06-12T19:59:02.611593700Z"
    }
   },
   "outputs": [],
   "source": [
    "import pandas as pd\n",
    "import matplotlib.pylab as plt\n",
    "import seaborn as sns\n",
    "\n",
    "players_df = pd.read_feather('../cleaned_data/players.feather')\n",
    "val_df = pd.read_feather('../cleaned_data/players_valuation.feather')\n",
    "appearances_df = pd.read_feather('../cleaned_data/appearances.feather')\n",
    "lineups_df = pd.read_feather('../cleaned_data/game_lineups.feather')"
   ]
  },
  {
   "cell_type": "code",
   "execution_count": 8,
   "outputs": [
    {
     "data": {
      "text/plain": "       player_id first_name    last_name                name  last_season  \\\n0            598       Timo   Hildebrand     Timo Hildebrand         2014   \n1            670     Martin       Petrov       Martin Petrov         2012   \n2           1323     Martin      Amedick      Martin Amedick         2012   \n3           3195   Jermaine      Pennant    Jermaine Pennant         2013   \n4           3259     Damien         Duff         Damien Duff         2013   \n...          ...        ...          ...                 ...          ...   \n30297     371851       Jaka        Bijol          Jaka Bijol         2023   \n30298     537171     Semuel  Pizzignacco  Semuel Pizzignacco         2018   \n30299     586756      Festy      Ebosele       Festy Ebosele         2023   \n30300     704692     Nicolò      Cocetta      Nicolò Cocetta         2022   \n30301     925584       Axel     Guessand       Axel Guessand         2023   \n\n       current_club_id         player_code country_of_birth  \\\n0                   24     timo-hildebrand          Germany   \n1                  714       martin-petrov         Bulgaria   \n2                   24      martin-amedick          Germany   \n3                  512    jermaine-pennant          England   \n4                  931         damien-duff          Ireland   \n...                ...                 ...              ...   \n30297              410          jaka-bijol         Slovenia   \n30298              410  semuel-pizzignacco            Italy   \n30299              410       festy-ebosele          Ireland   \n30300              410      nicolo-cocetta            Italy   \n30301              410       axel-guessand           France   \n\n                city_of_birth country_of_citizenship  ...   foot height_in_cm  \\\n0                       Worms                Germany  ...    NaN          NaN   \n1                      Vratsa               Bulgaria  ...    NaN          NaN   \n2                   Paderborn                Germany  ...    NaN          NaN   \n3                  Nottingham                England  ...  right        173.0   \n4                  Ballyboden                Ireland  ...   left        177.0   \n...                       ...                    ...  ...    ...          ...   \n30297                Vuzenica               Slovenia  ...  right        190.0   \n30298              Monfalcone                  Italy  ...  right        188.0   \n30299    Enniscorthy, Wexford                Ireland  ...  right        180.0   \n30300  San Daniele del Friuli                  Italy  ...    NaN          NaN   \n30301            Schiltigheim                 France  ...   left        184.0   \n\n      market_value_in_eur highest_market_value_in_eur  \\\n0                     NaN                  10000000.0   \n1                     NaN                  12000000.0   \n2                     NaN                   2750000.0   \n3                     NaN                  10500000.0   \n4                     NaN                  17000000.0   \n...                   ...                         ...   \n30297          10000000.0                  10000000.0   \n30298            325000.0                    350000.0   \n30299           4500000.0                   4500000.0   \n30300             75000.0                     75000.0   \n30301            250000.0                    300000.0   \n\n       contract_expiration_date         agent_name  \\\n0                           NaN                NaN   \n1                           NaN                IFM   \n2                           NaN                NaN   \n3                           NaN         Andrew Sky   \n4                           NaN                NaN   \n...                         ...                ...   \n30297       2027-06-30 00:00:00          MSC GROUP   \n30298       2025-06-30 00:00:00                NaN   \n30299       2027-06-30 00:00:00  The Kulture Group   \n30300       2023-06-30 00:00:00                NaN   \n30301       2027-06-30 00:00:00        CAA Stellar   \n\n                                               image_url  \\\n0      https://img.a.transfermarkt.technology/portrai...   \n1      https://img.a.transfermarkt.technology/portrai...   \n2      https://img.a.transfermarkt.technology/portrai...   \n3      https://img.a.transfermarkt.technology/portrai...   \n4      https://img.a.transfermarkt.technology/portrai...   \n...                                                  ...   \n30297  https://img.a.transfermarkt.technology/portrai...   \n30298  https://img.a.transfermarkt.technology/portrai...   \n30299  https://img.a.transfermarkt.technology/portrai...   \n30300  https://img.a.transfermarkt.technology/portrai...   \n30301  https://img.a.transfermarkt.technology/portrai...   \n\n                                                     url  \\\n0      https://www.transfermarkt.co.uk/timo-hildebran...   \n1      https://www.transfermarkt.co.uk/martin-petrov/...   \n2      https://www.transfermarkt.co.uk/martin-amedick...   \n3      https://www.transfermarkt.co.uk/jermaine-penna...   \n4      https://www.transfermarkt.co.uk/damien-duff/pr...   \n...                                                  ...   \n30297  https://www.transfermarkt.co.uk/jaka-bijol/pro...   \n30298  https://www.transfermarkt.co.uk/semuel-pizzign...   \n30299  https://www.transfermarkt.co.uk/festy-ebosele/...   \n30300  https://www.transfermarkt.co.uk/nicolo-cocetta...   \n30301  https://www.transfermarkt.co.uk/axel-guessand/...   \n\n      current_club_domestic_competition_id       current_club_name  \n0                                       L1     Eintracht Frankfurt  \n1                                      ES1  RCD Espanyol Barcelona  \n2                                       L1     Eintracht Frankfurt  \n3                                      GB1              Stoke City  \n4                                      GB1               Fulham FC  \n...                                    ...                     ...  \n30297                                  IT1          Udinese Calcio  \n30298                                  IT1          Udinese Calcio  \n30299                                  IT1          Udinese Calcio  \n30300                                  IT1          Udinese Calcio  \n30301                                  IT1          Udinese Calcio  \n\n[30302 rows x 23 columns]",
      "text/html": "<div>\n<style scoped>\n    .dataframe tbody tr th:only-of-type {\n        vertical-align: middle;\n    }\n\n    .dataframe tbody tr th {\n        vertical-align: top;\n    }\n\n    .dataframe thead th {\n        text-align: right;\n    }\n</style>\n<table border=\"1\" class=\"dataframe\">\n  <thead>\n    <tr style=\"text-align: right;\">\n      <th></th>\n      <th>player_id</th>\n      <th>first_name</th>\n      <th>last_name</th>\n      <th>name</th>\n      <th>last_season</th>\n      <th>current_club_id</th>\n      <th>player_code</th>\n      <th>country_of_birth</th>\n      <th>city_of_birth</th>\n      <th>country_of_citizenship</th>\n      <th>...</th>\n      <th>foot</th>\n      <th>height_in_cm</th>\n      <th>market_value_in_eur</th>\n      <th>highest_market_value_in_eur</th>\n      <th>contract_expiration_date</th>\n      <th>agent_name</th>\n      <th>image_url</th>\n      <th>url</th>\n      <th>current_club_domestic_competition_id</th>\n      <th>current_club_name</th>\n    </tr>\n  </thead>\n  <tbody>\n    <tr>\n      <th>0</th>\n      <td>598</td>\n      <td>Timo</td>\n      <td>Hildebrand</td>\n      <td>Timo Hildebrand</td>\n      <td>2014</td>\n      <td>24</td>\n      <td>timo-hildebrand</td>\n      <td>Germany</td>\n      <td>Worms</td>\n      <td>Germany</td>\n      <td>...</td>\n      <td>NaN</td>\n      <td>NaN</td>\n      <td>NaN</td>\n      <td>10000000.0</td>\n      <td>NaN</td>\n      <td>NaN</td>\n      <td>https://img.a.transfermarkt.technology/portrai...</td>\n      <td>https://www.transfermarkt.co.uk/timo-hildebran...</td>\n      <td>L1</td>\n      <td>Eintracht Frankfurt</td>\n    </tr>\n    <tr>\n      <th>1</th>\n      <td>670</td>\n      <td>Martin</td>\n      <td>Petrov</td>\n      <td>Martin Petrov</td>\n      <td>2012</td>\n      <td>714</td>\n      <td>martin-petrov</td>\n      <td>Bulgaria</td>\n      <td>Vratsa</td>\n      <td>Bulgaria</td>\n      <td>...</td>\n      <td>NaN</td>\n      <td>NaN</td>\n      <td>NaN</td>\n      <td>12000000.0</td>\n      <td>NaN</td>\n      <td>IFM</td>\n      <td>https://img.a.transfermarkt.technology/portrai...</td>\n      <td>https://www.transfermarkt.co.uk/martin-petrov/...</td>\n      <td>ES1</td>\n      <td>RCD Espanyol Barcelona</td>\n    </tr>\n    <tr>\n      <th>2</th>\n      <td>1323</td>\n      <td>Martin</td>\n      <td>Amedick</td>\n      <td>Martin Amedick</td>\n      <td>2012</td>\n      <td>24</td>\n      <td>martin-amedick</td>\n      <td>Germany</td>\n      <td>Paderborn</td>\n      <td>Germany</td>\n      <td>...</td>\n      <td>NaN</td>\n      <td>NaN</td>\n      <td>NaN</td>\n      <td>2750000.0</td>\n      <td>NaN</td>\n      <td>NaN</td>\n      <td>https://img.a.transfermarkt.technology/portrai...</td>\n      <td>https://www.transfermarkt.co.uk/martin-amedick...</td>\n      <td>L1</td>\n      <td>Eintracht Frankfurt</td>\n    </tr>\n    <tr>\n      <th>3</th>\n      <td>3195</td>\n      <td>Jermaine</td>\n      <td>Pennant</td>\n      <td>Jermaine Pennant</td>\n      <td>2013</td>\n      <td>512</td>\n      <td>jermaine-pennant</td>\n      <td>England</td>\n      <td>Nottingham</td>\n      <td>England</td>\n      <td>...</td>\n      <td>right</td>\n      <td>173.0</td>\n      <td>NaN</td>\n      <td>10500000.0</td>\n      <td>NaN</td>\n      <td>Andrew Sky</td>\n      <td>https://img.a.transfermarkt.technology/portrai...</td>\n      <td>https://www.transfermarkt.co.uk/jermaine-penna...</td>\n      <td>GB1</td>\n      <td>Stoke City</td>\n    </tr>\n    <tr>\n      <th>4</th>\n      <td>3259</td>\n      <td>Damien</td>\n      <td>Duff</td>\n      <td>Damien Duff</td>\n      <td>2013</td>\n      <td>931</td>\n      <td>damien-duff</td>\n      <td>Ireland</td>\n      <td>Ballyboden</td>\n      <td>Ireland</td>\n      <td>...</td>\n      <td>left</td>\n      <td>177.0</td>\n      <td>NaN</td>\n      <td>17000000.0</td>\n      <td>NaN</td>\n      <td>NaN</td>\n      <td>https://img.a.transfermarkt.technology/portrai...</td>\n      <td>https://www.transfermarkt.co.uk/damien-duff/pr...</td>\n      <td>GB1</td>\n      <td>Fulham FC</td>\n    </tr>\n    <tr>\n      <th>...</th>\n      <td>...</td>\n      <td>...</td>\n      <td>...</td>\n      <td>...</td>\n      <td>...</td>\n      <td>...</td>\n      <td>...</td>\n      <td>...</td>\n      <td>...</td>\n      <td>...</td>\n      <td>...</td>\n      <td>...</td>\n      <td>...</td>\n      <td>...</td>\n      <td>...</td>\n      <td>...</td>\n      <td>...</td>\n      <td>...</td>\n      <td>...</td>\n      <td>...</td>\n      <td>...</td>\n    </tr>\n    <tr>\n      <th>30297</th>\n      <td>371851</td>\n      <td>Jaka</td>\n      <td>Bijol</td>\n      <td>Jaka Bijol</td>\n      <td>2023</td>\n      <td>410</td>\n      <td>jaka-bijol</td>\n      <td>Slovenia</td>\n      <td>Vuzenica</td>\n      <td>Slovenia</td>\n      <td>...</td>\n      <td>right</td>\n      <td>190.0</td>\n      <td>10000000.0</td>\n      <td>10000000.0</td>\n      <td>2027-06-30 00:00:00</td>\n      <td>MSC GROUP</td>\n      <td>https://img.a.transfermarkt.technology/portrai...</td>\n      <td>https://www.transfermarkt.co.uk/jaka-bijol/pro...</td>\n      <td>IT1</td>\n      <td>Udinese Calcio</td>\n    </tr>\n    <tr>\n      <th>30298</th>\n      <td>537171</td>\n      <td>Semuel</td>\n      <td>Pizzignacco</td>\n      <td>Semuel Pizzignacco</td>\n      <td>2018</td>\n      <td>410</td>\n      <td>semuel-pizzignacco</td>\n      <td>Italy</td>\n      <td>Monfalcone</td>\n      <td>Italy</td>\n      <td>...</td>\n      <td>right</td>\n      <td>188.0</td>\n      <td>325000.0</td>\n      <td>350000.0</td>\n      <td>2025-06-30 00:00:00</td>\n      <td>NaN</td>\n      <td>https://img.a.transfermarkt.technology/portrai...</td>\n      <td>https://www.transfermarkt.co.uk/semuel-pizzign...</td>\n      <td>IT1</td>\n      <td>Udinese Calcio</td>\n    </tr>\n    <tr>\n      <th>30299</th>\n      <td>586756</td>\n      <td>Festy</td>\n      <td>Ebosele</td>\n      <td>Festy Ebosele</td>\n      <td>2023</td>\n      <td>410</td>\n      <td>festy-ebosele</td>\n      <td>Ireland</td>\n      <td>Enniscorthy, Wexford</td>\n      <td>Ireland</td>\n      <td>...</td>\n      <td>right</td>\n      <td>180.0</td>\n      <td>4500000.0</td>\n      <td>4500000.0</td>\n      <td>2027-06-30 00:00:00</td>\n      <td>The Kulture Group</td>\n      <td>https://img.a.transfermarkt.technology/portrai...</td>\n      <td>https://www.transfermarkt.co.uk/festy-ebosele/...</td>\n      <td>IT1</td>\n      <td>Udinese Calcio</td>\n    </tr>\n    <tr>\n      <th>30300</th>\n      <td>704692</td>\n      <td>Nicolò</td>\n      <td>Cocetta</td>\n      <td>Nicolò Cocetta</td>\n      <td>2022</td>\n      <td>410</td>\n      <td>nicolo-cocetta</td>\n      <td>Italy</td>\n      <td>San Daniele del Friuli</td>\n      <td>Italy</td>\n      <td>...</td>\n      <td>NaN</td>\n      <td>NaN</td>\n      <td>75000.0</td>\n      <td>75000.0</td>\n      <td>2023-06-30 00:00:00</td>\n      <td>NaN</td>\n      <td>https://img.a.transfermarkt.technology/portrai...</td>\n      <td>https://www.transfermarkt.co.uk/nicolo-cocetta...</td>\n      <td>IT1</td>\n      <td>Udinese Calcio</td>\n    </tr>\n    <tr>\n      <th>30301</th>\n      <td>925584</td>\n      <td>Axel</td>\n      <td>Guessand</td>\n      <td>Axel Guessand</td>\n      <td>2023</td>\n      <td>410</td>\n      <td>axel-guessand</td>\n      <td>France</td>\n      <td>Schiltigheim</td>\n      <td>France</td>\n      <td>...</td>\n      <td>left</td>\n      <td>184.0</td>\n      <td>250000.0</td>\n      <td>300000.0</td>\n      <td>2027-06-30 00:00:00</td>\n      <td>CAA Stellar</td>\n      <td>https://img.a.transfermarkt.technology/portrai...</td>\n      <td>https://www.transfermarkt.co.uk/axel-guessand/...</td>\n      <td>IT1</td>\n      <td>Udinese Calcio</td>\n    </tr>\n  </tbody>\n</table>\n<p>30302 rows × 23 columns</p>\n</div>"
     },
     "execution_count": 8,
     "metadata": {},
     "output_type": "execute_result"
    }
   ],
   "source": [
    "players_df"
   ],
   "metadata": {
    "collapsed": false,
    "ExecuteTime": {
     "end_time": "2024-06-12T19:59:04.638347200Z",
     "start_time": "2024-06-12T19:59:04.554815700Z"
    }
   },
   "id": "31c9743a1d289d53"
  },
  {
   "cell_type": "code",
   "execution_count": null,
   "outputs": [],
   "source": [],
   "metadata": {
    "collapsed": false
   },
   "id": "e44712ce298445"
  }
 ],
 "metadata": {
  "kernelspec": {
   "display_name": "Python 3",
   "language": "python",
   "name": "python3"
  },
  "language_info": {
   "codemirror_mode": {
    "name": "ipython",
    "version": 2
   },
   "file_extension": ".py",
   "mimetype": "text/x-python",
   "name": "python",
   "nbconvert_exporter": "python",
   "pygments_lexer": "ipython2",
   "version": "2.7.6"
  }
 },
 "nbformat": 4,
 "nbformat_minor": 5
}
