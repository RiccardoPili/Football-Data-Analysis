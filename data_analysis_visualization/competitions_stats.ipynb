{
 "cells": [
  {
   "cell_type": "code",
   "execution_count": null,
   "id": "initial_id",
   "metadata": {
    "collapsed": true
   },
   "outputs": [],
   "source": [
    "import pandas as pd\n",
    "import matplotlib.pylab as plt\n",
    "import seaborn as sns\n",
    "import geopandas as gpd\n",
    "\n",
    "competitions_df = pd.read_feather('../cleaned_data/competitions.feather')\n",
    "players_df = pd.read_feather('../cleaned_data/players.feather')\n",
    "games_df = pd.read_feather('../cleaned_data/games.feather')\n",
    "clubs_df = pd.read_feather('../cleaned_data/clubs.feather')"
   ]
  }
 ],
 "metadata": {
  "kernelspec": {
   "display_name": "Python 3",
   "language": "python",
   "name": "python3"
  },
  "language_info": {
   "codemirror_mode": {
    "name": "ipython",
    "version": 2
   },
   "file_extension": ".py",
   "mimetype": "text/x-python",
   "name": "python",
   "nbconvert_exporter": "python",
   "pygments_lexer": "ipython2",
   "version": "2.7.6"
  }
 },
 "nbformat": 4,
 "nbformat_minor": 5
}
