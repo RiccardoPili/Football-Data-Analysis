{
 "cells": [
  {
   "cell_type": "code",
   "execution_count": null,
   "id": "initial_id",
   "metadata": {
    "collapsed": true
   },
   "outputs": [],
   "source": [
    "import pandas as pd\n",
    "import matplotlib.pylab as plt\n",
    "import seaborn as sns\n",
    "import geopandas as gpd\n",
    "\n",
    "competitions_df = pd.read_pickle('../cleaned_data/competitions.pkl')\n",
    "players_df = pd.read_pickle('../cleaned_data/players.pkl')\n",
    "games_df = pd.read_pickle('../cleaned_data/games.pkl')\n",
    "clubs_df = pd.read_pickle('../cleaned_data/clubs.pkl')"
   ]
  }
 ],
 "metadata": {
  "kernelspec": {
   "display_name": "Python 3",
   "language": "python",
   "name": "python3"
  },
  "language_info": {
   "codemirror_mode": {
    "name": "ipython",
    "version": 2
   },
   "file_extension": ".py",
   "mimetype": "text/x-python",
   "name": "python",
   "nbconvert_exporter": "python",
   "pygments_lexer": "ipython2",
   "version": "2.7.6"
  }
 },
 "nbformat": 4,
 "nbformat_minor": 5
}
