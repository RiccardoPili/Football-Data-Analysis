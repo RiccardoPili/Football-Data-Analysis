{
 "cells": [
  {
   "cell_type": "code",
   "execution_count": 1,
   "id": "initial_id",
   "metadata": {
    "collapsed": true,
    "ExecuteTime": {
     "end_time": "2024-06-12T20:34:25.977033100Z",
     "start_time": "2024-06-12T20:34:25.566140900Z"
    }
   },
   "outputs": [],
   "source": [
    "import pandas as pd\n",
    "import matplotlib.pylab as plt\n",
    "import seaborn as sns\n",
    "import geopandas as gpd\n",
    "\n",
    "clubs_df = pd.read_feather('../cleaned_data/clubs.feather')\n",
    "club_games_df = pd.read_feather('../cleaned_data/club_games.feather')\n",
    "players_df = pd.read_feather('../cleaned_data/players.feather')\n",
    "games_df = pd.read_feather('../cleaned_data/games.feather')\n",
    "appearances_df = pd.read_feather('../cleaned_data/appearances.feather')"
   ]
  },
  {
   "cell_type": "markdown",
   "source": [
    "# Games Stats\n",
    "\n",
    "Visualizzazioni riguardanti le statistiche delle partite"
   ],
   "metadata": {
    "collapsed": false
   },
   "id": "9e508f696ba417d"
  },
  {
   "cell_type": "markdown",
   "source": [
    "### Statistiche Nazionali"
   ],
   "metadata": {
    "collapsed": false
   },
   "id": "18488e58f82e8e43"
  },
  {
   "cell_type": "code",
   "execution_count": null,
   "outputs": [],
   "source": [],
   "metadata": {
    "collapsed": false
   },
   "id": "f588c09eef94d404"
  },
  {
   "cell_type": "markdown",
   "source": [
    "### Statistiche Club"
   ],
   "metadata": {
    "collapsed": false
   },
   "id": "eba53c15648eac9b"
  },
  {
   "cell_type": "code",
   "execution_count": null,
   "outputs": [],
   "source": [],
   "metadata": {
    "collapsed": false
   },
   "id": "f54c8129cfc0e2a1"
  }
 ],
 "metadata": {
  "kernelspec": {
   "display_name": "Python 3",
   "language": "python",
   "name": "python3"
  },
  "language_info": {
   "codemirror_mode": {
    "name": "ipython",
    "version": 2
   },
   "file_extension": ".py",
   "mimetype": "text/x-python",
   "name": "python",
   "nbconvert_exporter": "python",
   "pygments_lexer": "ipython2",
   "version": "2.7.6"
  }
 },
 "nbformat": 4,
 "nbformat_minor": 5
}
