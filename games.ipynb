{
 "cells": [
  {
   "cell_type": "markdown",
   "source": [
    "# Importing Data & Libraries"
   ],
   "metadata": {
    "collapsed": false
   },
   "id": "7d0b0bc9284fea63"
  },
  {
   "cell_type": "code",
   "execution_count": 2,
   "outputs": [],
   "source": [
    "import pandas as pd\n",
    "import matplotlib.pylab as plt\n",
    "import seaborn as sns\n",
    "\n",
    "games_df = pd.read_csv(\"/Users/pato/Desktop/FootballData/games.csv\")"
   ],
   "metadata": {
    "collapsed": false,
    "ExecuteTime": {
     "end_time": "2024-04-26T07:43:39.103529Z",
     "start_time": "2024-04-26T07:43:38.922459Z"
    }
   },
   "id": "a554d5c9baf035a7"
  },
  {
   "cell_type": "markdown",
   "source": [
    "# Data Preparation"
   ],
   "metadata": {
    "collapsed": false
   },
   "id": "cb888531da69fd74"
  },
  {
   "cell_type": "code",
   "execution_count": 5,
   "outputs": [
    {
     "data": {
      "text/plain": "(65216, 23)"
     },
     "execution_count": 5,
     "metadata": {},
     "output_type": "execute_result"
    }
   ],
   "source": [
    "games_df.shape"
   ],
   "metadata": {
    "collapsed": false,
    "ExecuteTime": {
     "end_time": "2024-04-26T07:44:28.024584Z",
     "start_time": "2024-04-26T07:44:27.975954Z"
    }
   },
   "id": "24cbbeace9eb69c2"
  },
  {
   "cell_type": "code",
   "execution_count": 6,
   "outputs": [
    {
     "data": {
      "text/plain": "       game_id competition_id  season                     round        date  \\\n0      2222597            RU1    2012               6. Matchday  2012-08-25   \n1      2222627            RU1    2012               5. Matchday  2012-08-20   \n2      2222658            RU1    2012              10. Matchday  2012-09-30   \n3      2222664            RU1    2012               8. Matchday  2012-09-15   \n4      2222683            RU1    2012              12. Matchday  2012-10-22   \n...        ...            ...     ...                       ...         ...   \n65211  2367292             EL    2013                   Group B  2013-11-07   \n65212  2629035            NLP    2015               Third Round  2015-10-27   \n65213  3092951            CLQ    2018  Qualifying Round 2nd leg  2018-08-29   \n65214  4164101            CGB    2023              Second Round  2023-08-29   \n65215  4013659            FAC    2022              Fourth Round  2023-01-29   \n\n       home_club_id  away_club_id  home_club_goals  away_club_goals  \\\n0              3725           232                2                1   \n1              2696          4128                0                2   \n2              2410           121                0                2   \n3               932          2698                1                0   \n4              2696         12438                0                1   \n...             ...           ...              ...              ...   \n65211           383           419                2                0   \n65212           383         16866                6                0   \n65213           383           713                3                0   \n65214           512          1194                6                1   \n65215           512          3684                3                1   \n\n       home_club_position  ...          stadium attendance  \\\n0                     2.0  ...     Akhmat-Arena    21700.0   \n1                    11.0  ...        Metallurg    11400.0   \n2                     2.0  ...     Arena Khimki    12000.0   \n3                     5.0  ...        RZD Arena    11408.0   \n4                    11.0  ...        Metallurg     7534.0   \n...                   ...  ...              ...        ...   \n65211                 NaN  ...  Philips Stadion    10000.0   \n65212                 NaN  ...  Philips Stadion    31000.0   \n65213                 NaN  ...  Philips Stadion    34200.0   \n65214                 NaN  ...   bet365 Stadium     9410.0   \n65215                 NaN  ...   bet365 Stadium    14392.0   \n\n                    referee  \\\n0      Vladislav Bezborodov   \n1             Sergey Ivanov   \n2            Sergey Karasev   \n3            Sergey Karasev   \n4         Timur Arslanbekov   \n...                     ...   \n65211        Cristian Balaj   \n65212       Allard Lindhout   \n65213        Anthony Taylor   \n65214     Michael Salisbury   \n65215            David Webb   \n\n                                                     url  home_club_formation  \\\n0      https://www.transfermarkt.co.uk/terek-grozny_s...                  NaN   \n1      https://www.transfermarkt.co.uk/krylya-sovetov...                  NaN   \n2      https://www.transfermarkt.co.uk/cska-moscow_di...                  NaN   \n3      https://www.transfermarkt.co.uk/lokomotiv-mosc...                  NaN   \n4      https://www.transfermarkt.co.uk/krylya-sovetov...                  NaN   \n...                                                  ...                  ...   \n65211  https://www.transfermarkt.co.uk/spielbericht/i...                  NaN   \n65212  https://www.transfermarkt.co.uk/spielbericht/i...                  NaN   \n65213  https://www.transfermarkt.co.uk/spielbericht/i...                  NaN   \n65214  https://www.transfermarkt.co.uk/spielbericht/i...              4-2-3-1   \n65215  https://www.transfermarkt.co.uk/spielbericht/i...                  NaN   \n\n      away_club_formation                                     home_club_name  \\\n0                     NaN                                  RFK Akhmat Grozny   \n1                     NaN                          PFK Krylya Sovetov Samara   \n2                     NaN                                    PFK CSKA Moskva   \n3                     NaN                 Футбольный клуб \"Локомотив\" Москва   \n4                     NaN                          PFK Krylya Sovetov Samara   \n...                   ...                                                ...   \n65211                 NaN  Eindhovense Voetbalvereniging Philips Sport Ve...   \n65212                 NaN  Eindhovense Voetbalvereniging Philips Sport Ve...   \n65213                 NaN  Eindhovense Voetbalvereniging Philips Sport Ve...   \n65214             4-2-3-1                                         Stoke City   \n65215                 NaN                                         Stoke City   \n\n                        away_club_name aggregate   competition_type  \n0                    FK Spartak Moskva       2:1    domestic_league  \n1                           Amkar Perm       0:2    domestic_league  \n2                     FK Dinamo Moskva       0:2    domestic_league  \n3                       FC Rubin Kazan       1:0    domestic_league  \n4      Volga Nizhniy Novgorod (- 2016)       0:1    domestic_league  \n...                                ...       ...                ...  \n65211                              NaN       2:0  international_cup  \n65212                              NaN       6:0       domestic_cup  \n65213                              NaN       3:0  international_cup  \n65214                              NaN       6:1              other  \n65215                              NaN       3:1       domestic_cup  \n\n[65216 rows x 23 columns]",
      "text/html": "<div>\n<style scoped>\n    .dataframe tbody tr th:only-of-type {\n        vertical-align: middle;\n    }\n\n    .dataframe tbody tr th {\n        vertical-align: top;\n    }\n\n    .dataframe thead th {\n        text-align: right;\n    }\n</style>\n<table border=\"1\" class=\"dataframe\">\n  <thead>\n    <tr style=\"text-align: right;\">\n      <th></th>\n      <th>game_id</th>\n      <th>competition_id</th>\n      <th>season</th>\n      <th>round</th>\n      <th>date</th>\n      <th>home_club_id</th>\n      <th>away_club_id</th>\n      <th>home_club_goals</th>\n      <th>away_club_goals</th>\n      <th>home_club_position</th>\n      <th>...</th>\n      <th>stadium</th>\n      <th>attendance</th>\n      <th>referee</th>\n      <th>url</th>\n      <th>home_club_formation</th>\n      <th>away_club_formation</th>\n      <th>home_club_name</th>\n      <th>away_club_name</th>\n      <th>aggregate</th>\n      <th>competition_type</th>\n    </tr>\n  </thead>\n  <tbody>\n    <tr>\n      <th>0</th>\n      <td>2222597</td>\n      <td>RU1</td>\n      <td>2012</td>\n      <td>6. Matchday</td>\n      <td>2012-08-25</td>\n      <td>3725</td>\n      <td>232</td>\n      <td>2</td>\n      <td>1</td>\n      <td>2.0</td>\n      <td>...</td>\n      <td>Akhmat-Arena</td>\n      <td>21700.0</td>\n      <td>Vladislav Bezborodov</td>\n      <td>https://www.transfermarkt.co.uk/terek-grozny_s...</td>\n      <td>NaN</td>\n      <td>NaN</td>\n      <td>RFK Akhmat Grozny</td>\n      <td>FK Spartak Moskva</td>\n      <td>2:1</td>\n      <td>domestic_league</td>\n    </tr>\n    <tr>\n      <th>1</th>\n      <td>2222627</td>\n      <td>RU1</td>\n      <td>2012</td>\n      <td>5. Matchday</td>\n      <td>2012-08-20</td>\n      <td>2696</td>\n      <td>4128</td>\n      <td>0</td>\n      <td>2</td>\n      <td>11.0</td>\n      <td>...</td>\n      <td>Metallurg</td>\n      <td>11400.0</td>\n      <td>Sergey Ivanov</td>\n      <td>https://www.transfermarkt.co.uk/krylya-sovetov...</td>\n      <td>NaN</td>\n      <td>NaN</td>\n      <td>PFK Krylya Sovetov Samara</td>\n      <td>Amkar Perm</td>\n      <td>0:2</td>\n      <td>domestic_league</td>\n    </tr>\n    <tr>\n      <th>2</th>\n      <td>2222658</td>\n      <td>RU1</td>\n      <td>2012</td>\n      <td>10. Matchday</td>\n      <td>2012-09-30</td>\n      <td>2410</td>\n      <td>121</td>\n      <td>0</td>\n      <td>2</td>\n      <td>2.0</td>\n      <td>...</td>\n      <td>Arena Khimki</td>\n      <td>12000.0</td>\n      <td>Sergey Karasev</td>\n      <td>https://www.transfermarkt.co.uk/cska-moscow_di...</td>\n      <td>NaN</td>\n      <td>NaN</td>\n      <td>PFK CSKA Moskva</td>\n      <td>FK Dinamo Moskva</td>\n      <td>0:2</td>\n      <td>domestic_league</td>\n    </tr>\n    <tr>\n      <th>3</th>\n      <td>2222664</td>\n      <td>RU1</td>\n      <td>2012</td>\n      <td>8. Matchday</td>\n      <td>2012-09-15</td>\n      <td>932</td>\n      <td>2698</td>\n      <td>1</td>\n      <td>0</td>\n      <td>5.0</td>\n      <td>...</td>\n      <td>RZD Arena</td>\n      <td>11408.0</td>\n      <td>Sergey Karasev</td>\n      <td>https://www.transfermarkt.co.uk/lokomotiv-mosc...</td>\n      <td>NaN</td>\n      <td>NaN</td>\n      <td>Футбольный клуб \"Локомотив\" Москва</td>\n      <td>FC Rubin Kazan</td>\n      <td>1:0</td>\n      <td>domestic_league</td>\n    </tr>\n    <tr>\n      <th>4</th>\n      <td>2222683</td>\n      <td>RU1</td>\n      <td>2012</td>\n      <td>12. Matchday</td>\n      <td>2012-10-22</td>\n      <td>2696</td>\n      <td>12438</td>\n      <td>0</td>\n      <td>1</td>\n      <td>11.0</td>\n      <td>...</td>\n      <td>Metallurg</td>\n      <td>7534.0</td>\n      <td>Timur Arslanbekov</td>\n      <td>https://www.transfermarkt.co.uk/krylya-sovetov...</td>\n      <td>NaN</td>\n      <td>NaN</td>\n      <td>PFK Krylya Sovetov Samara</td>\n      <td>Volga Nizhniy Novgorod (- 2016)</td>\n      <td>0:1</td>\n      <td>domestic_league</td>\n    </tr>\n    <tr>\n      <th>...</th>\n      <td>...</td>\n      <td>...</td>\n      <td>...</td>\n      <td>...</td>\n      <td>...</td>\n      <td>...</td>\n      <td>...</td>\n      <td>...</td>\n      <td>...</td>\n      <td>...</td>\n      <td>...</td>\n      <td>...</td>\n      <td>...</td>\n      <td>...</td>\n      <td>...</td>\n      <td>...</td>\n      <td>...</td>\n      <td>...</td>\n      <td>...</td>\n      <td>...</td>\n      <td>...</td>\n    </tr>\n    <tr>\n      <th>65211</th>\n      <td>2367292</td>\n      <td>EL</td>\n      <td>2013</td>\n      <td>Group B</td>\n      <td>2013-11-07</td>\n      <td>383</td>\n      <td>419</td>\n      <td>2</td>\n      <td>0</td>\n      <td>NaN</td>\n      <td>...</td>\n      <td>Philips Stadion</td>\n      <td>10000.0</td>\n      <td>Cristian Balaj</td>\n      <td>https://www.transfermarkt.co.uk/spielbericht/i...</td>\n      <td>NaN</td>\n      <td>NaN</td>\n      <td>Eindhovense Voetbalvereniging Philips Sport Ve...</td>\n      <td>NaN</td>\n      <td>2:0</td>\n      <td>international_cup</td>\n    </tr>\n    <tr>\n      <th>65212</th>\n      <td>2629035</td>\n      <td>NLP</td>\n      <td>2015</td>\n      <td>Third Round</td>\n      <td>2015-10-27</td>\n      <td>383</td>\n      <td>16866</td>\n      <td>6</td>\n      <td>0</td>\n      <td>NaN</td>\n      <td>...</td>\n      <td>Philips Stadion</td>\n      <td>31000.0</td>\n      <td>Allard Lindhout</td>\n      <td>https://www.transfermarkt.co.uk/spielbericht/i...</td>\n      <td>NaN</td>\n      <td>NaN</td>\n      <td>Eindhovense Voetbalvereniging Philips Sport Ve...</td>\n      <td>NaN</td>\n      <td>6:0</td>\n      <td>domestic_cup</td>\n    </tr>\n    <tr>\n      <th>65213</th>\n      <td>3092951</td>\n      <td>CLQ</td>\n      <td>2018</td>\n      <td>Qualifying Round 2nd leg</td>\n      <td>2018-08-29</td>\n      <td>383</td>\n      <td>713</td>\n      <td>3</td>\n      <td>0</td>\n      <td>NaN</td>\n      <td>...</td>\n      <td>Philips Stadion</td>\n      <td>34200.0</td>\n      <td>Anthony Taylor</td>\n      <td>https://www.transfermarkt.co.uk/spielbericht/i...</td>\n      <td>NaN</td>\n      <td>NaN</td>\n      <td>Eindhovense Voetbalvereniging Philips Sport Ve...</td>\n      <td>NaN</td>\n      <td>3:0</td>\n      <td>international_cup</td>\n    </tr>\n    <tr>\n      <th>65214</th>\n      <td>4164101</td>\n      <td>CGB</td>\n      <td>2023</td>\n      <td>Second Round</td>\n      <td>2023-08-29</td>\n      <td>512</td>\n      <td>1194</td>\n      <td>6</td>\n      <td>1</td>\n      <td>NaN</td>\n      <td>...</td>\n      <td>bet365 Stadium</td>\n      <td>9410.0</td>\n      <td>Michael Salisbury</td>\n      <td>https://www.transfermarkt.co.uk/spielbericht/i...</td>\n      <td>4-2-3-1</td>\n      <td>4-2-3-1</td>\n      <td>Stoke City</td>\n      <td>NaN</td>\n      <td>6:1</td>\n      <td>other</td>\n    </tr>\n    <tr>\n      <th>65215</th>\n      <td>4013659</td>\n      <td>FAC</td>\n      <td>2022</td>\n      <td>Fourth Round</td>\n      <td>2023-01-29</td>\n      <td>512</td>\n      <td>3684</td>\n      <td>3</td>\n      <td>1</td>\n      <td>NaN</td>\n      <td>...</td>\n      <td>bet365 Stadium</td>\n      <td>14392.0</td>\n      <td>David Webb</td>\n      <td>https://www.transfermarkt.co.uk/spielbericht/i...</td>\n      <td>NaN</td>\n      <td>NaN</td>\n      <td>Stoke City</td>\n      <td>NaN</td>\n      <td>3:1</td>\n      <td>domestic_cup</td>\n    </tr>\n  </tbody>\n</table>\n<p>65216 rows × 23 columns</p>\n</div>"
     },
     "execution_count": 6,
     "metadata": {},
     "output_type": "execute_result"
    }
   ],
   "source": [
    "games_df"
   ],
   "metadata": {
    "collapsed": false,
    "ExecuteTime": {
     "end_time": "2024-04-26T07:44:54.869611Z",
     "start_time": "2024-04-26T07:44:54.790132Z"
    }
   },
   "id": "1113709b730dde47"
  },
  {
   "cell_type": "markdown",
   "source": [
    "# Data Analysis & Visualization"
   ],
   "metadata": {
    "collapsed": false
   },
   "id": "309f3356f472e247"
  },
  {
   "cell_type": "code",
   "execution_count": null,
   "outputs": [],
   "source": [],
   "metadata": {
    "collapsed": false
   },
   "id": "14c8783e16cba5e9"
  }
 ],
 "metadata": {
  "kernelspec": {
   "display_name": "Python 3",
   "language": "python",
   "name": "python3"
  },
  "language_info": {
   "codemirror_mode": {
    "name": "ipython",
    "version": 2
   },
   "file_extension": ".py",
   "mimetype": "text/x-python",
   "name": "python",
   "nbconvert_exporter": "python",
   "pygments_lexer": "ipython2",
   "version": "2.7.6"
  }
 },
 "nbformat": 4,
 "nbformat_minor": 5
}
