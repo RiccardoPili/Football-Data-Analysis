{
 "cells": [
  {
   "cell_type": "markdown",
   "source": [
    "# Importing Data & Libraries"
   ],
   "metadata": {
    "collapsed": false
   },
   "id": "7d0b0bc9284fea63"
  },
  {
   "cell_type": "code",
   "execution_count": 2,
   "outputs": [],
   "source": [
    "import pandas as pd\n",
    "import matplotlib.pylab as plt\n",
    "import seaborn as sns\n",
    "\n",
    "clubs_df = pd.read_csv(\"C:/Users/ricca/Desktop/FootballData/clubs.csv\")"
   ],
   "metadata": {
    "collapsed": false,
    "ExecuteTime": {
     "end_time": "2024-04-22T13:36:42.592655700Z",
     "start_time": "2024-04-22T13:36:42.324758700Z"
    }
   },
   "id": "a554d5c9baf035a7"
  },
  {
   "cell_type": "markdown",
   "source": [
    "# Data Preparation"
   ],
   "metadata": {
    "collapsed": false
   },
   "id": "cb888531da69fd74"
  },
  {
   "cell_type": "code",
   "execution_count": 3,
   "outputs": [
    {
     "data": {
      "text/plain": "(426, 16)"
     },
     "execution_count": 3,
     "metadata": {},
     "output_type": "execute_result"
    }
   ],
   "source": [
    "clubs_df.shape"
   ],
   "metadata": {
    "collapsed": false,
    "ExecuteTime": {
     "end_time": "2024-04-22T13:36:42.619336100Z",
     "start_time": "2024-04-22T13:36:42.354956300Z"
    }
   },
   "id": "24cbbeace9eb69c2"
  },
  {
   "cell_type": "code",
   "execution_count": 4,
   "outputs": [
    {
     "data": {
      "text/plain": "   club_id          club_code                                  name  \\\n0      105    sv-darmstadt-98      Sportverein Darmstadt 1898 e. V.   \n1    11127  ural-ekaterinburg                 FK Ural Yekaterinburg   \n2      114  besiktas-istanbul             Beşiktaş Jimnastik Kulübü   \n3       12             as-rom            Associazione Sportiva Roma   \n4      148  tottenham-hotspur       Tottenham Hotspur Football Club   \n5      157           kaa-gent  Koninklijke Atletiek Associatie Gent   \n6     1894        hvidovre-if               Hvidovre Idrætsforening   \n7      190      fc-kopenhagen               Football Club København   \n8      192   roda-jc-kerkrade                      Roda JC Kerkrade   \n9    19789   yeni-malatyaspor                      Yeni Malatyaspor   \n\n  domestic_competition_id  total_market_value  squad_size  average_age  \\\n0                      L1                 NaN          30         26.4   \n1                     RU1                 NaN          25         28.2   \n2                     TR1                 NaN          32         27.4   \n3                     IT1                 NaN          26         27.4   \n4                     GB1                 NaN          29         26.2   \n5                     BE1                 NaN          25         25.7   \n6                     DK1                 NaN          30         27.1   \n7                     DK1                 NaN          28         25.4   \n8                     NL1                 NaN          25         24.0   \n9                     TR1                 NaN          10         22.9   \n\n   foreigners_number  foreigners_percentage  national_team_players  \\\n0                 11                   36.7                      1   \n1                 13                   52.0                      5   \n2                 16                   50.0                     13   \n3                 17                   65.4                     17   \n4                 21                   72.4                     22   \n5                 13                   52.0                      8   \n6                  4                   13.3                      2   \n7                 14                   50.0                      8   \n8                  9                   36.0                      0   \n9                  1                   10.0                      0   \n\n                     stadium_name  stadium_seats net_transfer_record  \\\n0  Merck-Stadion am Böllenfalltor          17810             €-1.60m   \n1             Yekaterinburg Arena          23000              €-770k   \n2                 Tüpraş Stadyumu          42590            €-14.50m   \n3                Olimpico di Roma          73261            +€65.20m   \n4       Tottenham Hotspur Stadium          62062           €-130.40m   \n5                  Ghelamco Arena          19999             +€2.52m   \n6           PRO VENTILATION Arena          12000              +€335k   \n7                          Parken          38065             +€9.63m   \n8        Parkstad Limburg Stadion          19979             +€1.30m   \n9           Yeni Malatya Stadyumu          25745              +€778k   \n\n   coach_name  last_season                                                url  \n0         NaN         2023  https://www.transfermarkt.co.uk/sv-darmstadt-9...  \n1         NaN         2023  https://www.transfermarkt.co.uk/ural-ekaterinb...  \n2         NaN         2023  https://www.transfermarkt.co.uk/besiktas-istan...  \n3         NaN         2023  https://www.transfermarkt.co.uk/as-rom/startse...  \n4         NaN         2023  https://www.transfermarkt.co.uk/tottenham-hots...  \n5         NaN         2023  https://www.transfermarkt.co.uk/kaa-gent/start...  \n6         NaN         2023  https://www.transfermarkt.co.uk/hvidovre-if/st...  \n7         NaN         2023  https://www.transfermarkt.co.uk/fc-kopenhagen/...  \n8         NaN         2017  https://www.transfermarkt.co.uk/roda-jc-kerkra...  \n9         NaN         2021  https://www.transfermarkt.co.uk/yeni-malatyasp...  ",
      "text/html": "<div>\n<style scoped>\n    .dataframe tbody tr th:only-of-type {\n        vertical-align: middle;\n    }\n\n    .dataframe tbody tr th {\n        vertical-align: top;\n    }\n\n    .dataframe thead th {\n        text-align: right;\n    }\n</style>\n<table border=\"1\" class=\"dataframe\">\n  <thead>\n    <tr style=\"text-align: right;\">\n      <th></th>\n      <th>club_id</th>\n      <th>club_code</th>\n      <th>name</th>\n      <th>domestic_competition_id</th>\n      <th>total_market_value</th>\n      <th>squad_size</th>\n      <th>average_age</th>\n      <th>foreigners_number</th>\n      <th>foreigners_percentage</th>\n      <th>national_team_players</th>\n      <th>stadium_name</th>\n      <th>stadium_seats</th>\n      <th>net_transfer_record</th>\n      <th>coach_name</th>\n      <th>last_season</th>\n      <th>url</th>\n    </tr>\n  </thead>\n  <tbody>\n    <tr>\n      <th>0</th>\n      <td>105</td>\n      <td>sv-darmstadt-98</td>\n      <td>Sportverein Darmstadt 1898 e. V.</td>\n      <td>L1</td>\n      <td>NaN</td>\n      <td>30</td>\n      <td>26.4</td>\n      <td>11</td>\n      <td>36.7</td>\n      <td>1</td>\n      <td>Merck-Stadion am Böllenfalltor</td>\n      <td>17810</td>\n      <td>€-1.60m</td>\n      <td>NaN</td>\n      <td>2023</td>\n      <td>https://www.transfermarkt.co.uk/sv-darmstadt-9...</td>\n    </tr>\n    <tr>\n      <th>1</th>\n      <td>11127</td>\n      <td>ural-ekaterinburg</td>\n      <td>FK Ural Yekaterinburg</td>\n      <td>RU1</td>\n      <td>NaN</td>\n      <td>25</td>\n      <td>28.2</td>\n      <td>13</td>\n      <td>52.0</td>\n      <td>5</td>\n      <td>Yekaterinburg Arena</td>\n      <td>23000</td>\n      <td>€-770k</td>\n      <td>NaN</td>\n      <td>2023</td>\n      <td>https://www.transfermarkt.co.uk/ural-ekaterinb...</td>\n    </tr>\n    <tr>\n      <th>2</th>\n      <td>114</td>\n      <td>besiktas-istanbul</td>\n      <td>Beşiktaş Jimnastik Kulübü</td>\n      <td>TR1</td>\n      <td>NaN</td>\n      <td>32</td>\n      <td>27.4</td>\n      <td>16</td>\n      <td>50.0</td>\n      <td>13</td>\n      <td>Tüpraş Stadyumu</td>\n      <td>42590</td>\n      <td>€-14.50m</td>\n      <td>NaN</td>\n      <td>2023</td>\n      <td>https://www.transfermarkt.co.uk/besiktas-istan...</td>\n    </tr>\n    <tr>\n      <th>3</th>\n      <td>12</td>\n      <td>as-rom</td>\n      <td>Associazione Sportiva Roma</td>\n      <td>IT1</td>\n      <td>NaN</td>\n      <td>26</td>\n      <td>27.4</td>\n      <td>17</td>\n      <td>65.4</td>\n      <td>17</td>\n      <td>Olimpico di Roma</td>\n      <td>73261</td>\n      <td>+€65.20m</td>\n      <td>NaN</td>\n      <td>2023</td>\n      <td>https://www.transfermarkt.co.uk/as-rom/startse...</td>\n    </tr>\n    <tr>\n      <th>4</th>\n      <td>148</td>\n      <td>tottenham-hotspur</td>\n      <td>Tottenham Hotspur Football Club</td>\n      <td>GB1</td>\n      <td>NaN</td>\n      <td>29</td>\n      <td>26.2</td>\n      <td>21</td>\n      <td>72.4</td>\n      <td>22</td>\n      <td>Tottenham Hotspur Stadium</td>\n      <td>62062</td>\n      <td>€-130.40m</td>\n      <td>NaN</td>\n      <td>2023</td>\n      <td>https://www.transfermarkt.co.uk/tottenham-hots...</td>\n    </tr>\n    <tr>\n      <th>5</th>\n      <td>157</td>\n      <td>kaa-gent</td>\n      <td>Koninklijke Atletiek Associatie Gent</td>\n      <td>BE1</td>\n      <td>NaN</td>\n      <td>25</td>\n      <td>25.7</td>\n      <td>13</td>\n      <td>52.0</td>\n      <td>8</td>\n      <td>Ghelamco Arena</td>\n      <td>19999</td>\n      <td>+€2.52m</td>\n      <td>NaN</td>\n      <td>2023</td>\n      <td>https://www.transfermarkt.co.uk/kaa-gent/start...</td>\n    </tr>\n    <tr>\n      <th>6</th>\n      <td>1894</td>\n      <td>hvidovre-if</td>\n      <td>Hvidovre Idrætsforening</td>\n      <td>DK1</td>\n      <td>NaN</td>\n      <td>30</td>\n      <td>27.1</td>\n      <td>4</td>\n      <td>13.3</td>\n      <td>2</td>\n      <td>PRO VENTILATION Arena</td>\n      <td>12000</td>\n      <td>+€335k</td>\n      <td>NaN</td>\n      <td>2023</td>\n      <td>https://www.transfermarkt.co.uk/hvidovre-if/st...</td>\n    </tr>\n    <tr>\n      <th>7</th>\n      <td>190</td>\n      <td>fc-kopenhagen</td>\n      <td>Football Club København</td>\n      <td>DK1</td>\n      <td>NaN</td>\n      <td>28</td>\n      <td>25.4</td>\n      <td>14</td>\n      <td>50.0</td>\n      <td>8</td>\n      <td>Parken</td>\n      <td>38065</td>\n      <td>+€9.63m</td>\n      <td>NaN</td>\n      <td>2023</td>\n      <td>https://www.transfermarkt.co.uk/fc-kopenhagen/...</td>\n    </tr>\n    <tr>\n      <th>8</th>\n      <td>192</td>\n      <td>roda-jc-kerkrade</td>\n      <td>Roda JC Kerkrade</td>\n      <td>NL1</td>\n      <td>NaN</td>\n      <td>25</td>\n      <td>24.0</td>\n      <td>9</td>\n      <td>36.0</td>\n      <td>0</td>\n      <td>Parkstad Limburg Stadion</td>\n      <td>19979</td>\n      <td>+€1.30m</td>\n      <td>NaN</td>\n      <td>2017</td>\n      <td>https://www.transfermarkt.co.uk/roda-jc-kerkra...</td>\n    </tr>\n    <tr>\n      <th>9</th>\n      <td>19789</td>\n      <td>yeni-malatyaspor</td>\n      <td>Yeni Malatyaspor</td>\n      <td>TR1</td>\n      <td>NaN</td>\n      <td>10</td>\n      <td>22.9</td>\n      <td>1</td>\n      <td>10.0</td>\n      <td>0</td>\n      <td>Yeni Malatya Stadyumu</td>\n      <td>25745</td>\n      <td>+€778k</td>\n      <td>NaN</td>\n      <td>2021</td>\n      <td>https://www.transfermarkt.co.uk/yeni-malatyasp...</td>\n    </tr>\n  </tbody>\n</table>\n</div>"
     },
     "execution_count": 4,
     "metadata": {},
     "output_type": "execute_result"
    }
   ],
   "source": [
    "clubs_df.head(10)"
   ],
   "metadata": {
    "collapsed": false,
    "ExecuteTime": {
     "end_time": "2024-04-22T13:36:42.689031700Z",
     "start_time": "2024-04-22T13:36:42.398459400Z"
    }
   },
   "id": "14c8783e16cba5e9"
  },
  {
   "cell_type": "code",
   "execution_count": 5,
   "outputs": [
    {
     "data": {
      "text/plain": "                 club_code                                  name  \\\nclub_id                                                            \n105        sv-darmstadt-98      Sportverein Darmstadt 1898 e. V.   \n11127    ural-ekaterinburg                 FK Ural Yekaterinburg   \n114      besiktas-istanbul             Beşiktaş Jimnastik Kulübü   \n12                  as-rom            Associazione Sportiva Roma   \n148      tottenham-hotspur       Tottenham Hotspur Football Club   \n157               kaa-gent  Koninklijke Atletiek Associatie Gent   \n1894           hvidovre-if               Hvidovre Idrætsforening   \n190          fc-kopenhagen               Football Club København   \n192       roda-jc-kerkrade                      Roda JC Kerkrade   \n19789     yeni-malatyaspor                      Yeni Malatyaspor   \n\n        domestic_competition_id  total_market_value  squad_size  average_age  \\\nclub_id                                                                        \n105                          L1                 NaN          30         26.4   \n11127                       RU1                 NaN          25         28.2   \n114                         TR1                 NaN          32         27.4   \n12                          IT1                 NaN          26         27.4   \n148                         GB1                 NaN          29         26.2   \n157                         BE1                 NaN          25         25.7   \n1894                        DK1                 NaN          30         27.1   \n190                         DK1                 NaN          28         25.4   \n192                         NL1                 NaN          25         24.0   \n19789                       TR1                 NaN          10         22.9   \n\n         foreigners_number  foreigners_percentage  national_team_players  \\\nclub_id                                                                    \n105                     11                   36.7                      1   \n11127                   13                   52.0                      5   \n114                     16                   50.0                     13   \n12                      17                   65.4                     17   \n148                     21                   72.4                     22   \n157                     13                   52.0                      8   \n1894                     4                   13.3                      2   \n190                     14                   50.0                      8   \n192                      9                   36.0                      0   \n19789                    1                   10.0                      0   \n\n                           stadium_name  stadium_seats net_transfer_record  \\\nclub_id                                                                      \n105      Merck-Stadion am Böllenfalltor          17810             €-1.60m   \n11127               Yekaterinburg Arena          23000              €-770k   \n114                     Tüpraş Stadyumu          42590            €-14.50m   \n12                     Olimpico di Roma          73261            +€65.20m   \n148           Tottenham Hotspur Stadium          62062           €-130.40m   \n157                      Ghelamco Arena          19999             +€2.52m   \n1894              PRO VENTILATION Arena          12000              +€335k   \n190                              Parken          38065             +€9.63m   \n192            Parkstad Limburg Stadion          19979             +€1.30m   \n19789             Yeni Malatya Stadyumu          25745              +€778k   \n\n         coach_name  last_season  \\\nclub_id                            \n105             NaN         2023   \n11127           NaN         2023   \n114             NaN         2023   \n12              NaN         2023   \n148             NaN         2023   \n157             NaN         2023   \n1894            NaN         2023   \n190             NaN         2023   \n192             NaN         2017   \n19789           NaN         2021   \n\n                                                       url  \nclub_id                                                     \n105      https://www.transfermarkt.co.uk/sv-darmstadt-9...  \n11127    https://www.transfermarkt.co.uk/ural-ekaterinb...  \n114      https://www.transfermarkt.co.uk/besiktas-istan...  \n12       https://www.transfermarkt.co.uk/as-rom/startse...  \n148      https://www.transfermarkt.co.uk/tottenham-hots...  \n157      https://www.transfermarkt.co.uk/kaa-gent/start...  \n1894     https://www.transfermarkt.co.uk/hvidovre-if/st...  \n190      https://www.transfermarkt.co.uk/fc-kopenhagen/...  \n192      https://www.transfermarkt.co.uk/roda-jc-kerkra...  \n19789    https://www.transfermarkt.co.uk/yeni-malatyasp...  ",
      "text/html": "<div>\n<style scoped>\n    .dataframe tbody tr th:only-of-type {\n        vertical-align: middle;\n    }\n\n    .dataframe tbody tr th {\n        vertical-align: top;\n    }\n\n    .dataframe thead th {\n        text-align: right;\n    }\n</style>\n<table border=\"1\" class=\"dataframe\">\n  <thead>\n    <tr style=\"text-align: right;\">\n      <th></th>\n      <th>club_code</th>\n      <th>name</th>\n      <th>domestic_competition_id</th>\n      <th>total_market_value</th>\n      <th>squad_size</th>\n      <th>average_age</th>\n      <th>foreigners_number</th>\n      <th>foreigners_percentage</th>\n      <th>national_team_players</th>\n      <th>stadium_name</th>\n      <th>stadium_seats</th>\n      <th>net_transfer_record</th>\n      <th>coach_name</th>\n      <th>last_season</th>\n      <th>url</th>\n    </tr>\n    <tr>\n      <th>club_id</th>\n      <th></th>\n      <th></th>\n      <th></th>\n      <th></th>\n      <th></th>\n      <th></th>\n      <th></th>\n      <th></th>\n      <th></th>\n      <th></th>\n      <th></th>\n      <th></th>\n      <th></th>\n      <th></th>\n      <th></th>\n    </tr>\n  </thead>\n  <tbody>\n    <tr>\n      <th>105</th>\n      <td>sv-darmstadt-98</td>\n      <td>Sportverein Darmstadt 1898 e. V.</td>\n      <td>L1</td>\n      <td>NaN</td>\n      <td>30</td>\n      <td>26.4</td>\n      <td>11</td>\n      <td>36.7</td>\n      <td>1</td>\n      <td>Merck-Stadion am Böllenfalltor</td>\n      <td>17810</td>\n      <td>€-1.60m</td>\n      <td>NaN</td>\n      <td>2023</td>\n      <td>https://www.transfermarkt.co.uk/sv-darmstadt-9...</td>\n    </tr>\n    <tr>\n      <th>11127</th>\n      <td>ural-ekaterinburg</td>\n      <td>FK Ural Yekaterinburg</td>\n      <td>RU1</td>\n      <td>NaN</td>\n      <td>25</td>\n      <td>28.2</td>\n      <td>13</td>\n      <td>52.0</td>\n      <td>5</td>\n      <td>Yekaterinburg Arena</td>\n      <td>23000</td>\n      <td>€-770k</td>\n      <td>NaN</td>\n      <td>2023</td>\n      <td>https://www.transfermarkt.co.uk/ural-ekaterinb...</td>\n    </tr>\n    <tr>\n      <th>114</th>\n      <td>besiktas-istanbul</td>\n      <td>Beşiktaş Jimnastik Kulübü</td>\n      <td>TR1</td>\n      <td>NaN</td>\n      <td>32</td>\n      <td>27.4</td>\n      <td>16</td>\n      <td>50.0</td>\n      <td>13</td>\n      <td>Tüpraş Stadyumu</td>\n      <td>42590</td>\n      <td>€-14.50m</td>\n      <td>NaN</td>\n      <td>2023</td>\n      <td>https://www.transfermarkt.co.uk/besiktas-istan...</td>\n    </tr>\n    <tr>\n      <th>12</th>\n      <td>as-rom</td>\n      <td>Associazione Sportiva Roma</td>\n      <td>IT1</td>\n      <td>NaN</td>\n      <td>26</td>\n      <td>27.4</td>\n      <td>17</td>\n      <td>65.4</td>\n      <td>17</td>\n      <td>Olimpico di Roma</td>\n      <td>73261</td>\n      <td>+€65.20m</td>\n      <td>NaN</td>\n      <td>2023</td>\n      <td>https://www.transfermarkt.co.uk/as-rom/startse...</td>\n    </tr>\n    <tr>\n      <th>148</th>\n      <td>tottenham-hotspur</td>\n      <td>Tottenham Hotspur Football Club</td>\n      <td>GB1</td>\n      <td>NaN</td>\n      <td>29</td>\n      <td>26.2</td>\n      <td>21</td>\n      <td>72.4</td>\n      <td>22</td>\n      <td>Tottenham Hotspur Stadium</td>\n      <td>62062</td>\n      <td>€-130.40m</td>\n      <td>NaN</td>\n      <td>2023</td>\n      <td>https://www.transfermarkt.co.uk/tottenham-hots...</td>\n    </tr>\n    <tr>\n      <th>157</th>\n      <td>kaa-gent</td>\n      <td>Koninklijke Atletiek Associatie Gent</td>\n      <td>BE1</td>\n      <td>NaN</td>\n      <td>25</td>\n      <td>25.7</td>\n      <td>13</td>\n      <td>52.0</td>\n      <td>8</td>\n      <td>Ghelamco Arena</td>\n      <td>19999</td>\n      <td>+€2.52m</td>\n      <td>NaN</td>\n      <td>2023</td>\n      <td>https://www.transfermarkt.co.uk/kaa-gent/start...</td>\n    </tr>\n    <tr>\n      <th>1894</th>\n      <td>hvidovre-if</td>\n      <td>Hvidovre Idrætsforening</td>\n      <td>DK1</td>\n      <td>NaN</td>\n      <td>30</td>\n      <td>27.1</td>\n      <td>4</td>\n      <td>13.3</td>\n      <td>2</td>\n      <td>PRO VENTILATION Arena</td>\n      <td>12000</td>\n      <td>+€335k</td>\n      <td>NaN</td>\n      <td>2023</td>\n      <td>https://www.transfermarkt.co.uk/hvidovre-if/st...</td>\n    </tr>\n    <tr>\n      <th>190</th>\n      <td>fc-kopenhagen</td>\n      <td>Football Club København</td>\n      <td>DK1</td>\n      <td>NaN</td>\n      <td>28</td>\n      <td>25.4</td>\n      <td>14</td>\n      <td>50.0</td>\n      <td>8</td>\n      <td>Parken</td>\n      <td>38065</td>\n      <td>+€9.63m</td>\n      <td>NaN</td>\n      <td>2023</td>\n      <td>https://www.transfermarkt.co.uk/fc-kopenhagen/...</td>\n    </tr>\n    <tr>\n      <th>192</th>\n      <td>roda-jc-kerkrade</td>\n      <td>Roda JC Kerkrade</td>\n      <td>NL1</td>\n      <td>NaN</td>\n      <td>25</td>\n      <td>24.0</td>\n      <td>9</td>\n      <td>36.0</td>\n      <td>0</td>\n      <td>Parkstad Limburg Stadion</td>\n      <td>19979</td>\n      <td>+€1.30m</td>\n      <td>NaN</td>\n      <td>2017</td>\n      <td>https://www.transfermarkt.co.uk/roda-jc-kerkra...</td>\n    </tr>\n    <tr>\n      <th>19789</th>\n      <td>yeni-malatyaspor</td>\n      <td>Yeni Malatyaspor</td>\n      <td>TR1</td>\n      <td>NaN</td>\n      <td>10</td>\n      <td>22.9</td>\n      <td>1</td>\n      <td>10.0</td>\n      <td>0</td>\n      <td>Yeni Malatya Stadyumu</td>\n      <td>25745</td>\n      <td>+€778k</td>\n      <td>NaN</td>\n      <td>2021</td>\n      <td>https://www.transfermarkt.co.uk/yeni-malatyasp...</td>\n    </tr>\n  </tbody>\n</table>\n</div>"
     },
     "execution_count": 5,
     "metadata": {},
     "output_type": "execute_result"
    }
   ],
   "source": [
    "clubs_df = clubs_df.set_index('club_id')\n",
    "clubs_df.head(10)"
   ],
   "metadata": {
    "collapsed": false,
    "ExecuteTime": {
     "end_time": "2024-04-22T13:36:42.711034700Z",
     "start_time": "2024-04-22T13:36:42.438878800Z"
    }
   },
   "id": "bcb56be96a0a966f"
  },
  {
   "cell_type": "code",
   "execution_count": 6,
   "outputs": [
    {
     "data": {
      "text/plain": "Index(['club_code', 'name', 'domestic_competition_id', 'total_market_value',\n       'squad_size', 'average_age', 'foreigners_number',\n       'foreigners_percentage', 'national_team_players', 'stadium_name',\n       'stadium_seats', 'net_transfer_record', 'coach_name', 'last_season',\n       'url'],\n      dtype='object')"
     },
     "execution_count": 6,
     "metadata": {},
     "output_type": "execute_result"
    }
   ],
   "source": [
    "clubs_df.columns"
   ],
   "metadata": {
    "collapsed": false,
    "ExecuteTime": {
     "end_time": "2024-04-22T13:36:42.713029700Z",
     "start_time": "2024-04-22T13:36:42.474092500Z"
    }
   },
   "id": "ac5cf158e6fddddc"
  },
  {
   "cell_type": "code",
   "execution_count": 7,
   "outputs": [
    {
     "data": {
      "text/plain": "                    club_code                          club_name league_id  \\\nclub_id                                                                      \n105           sv-darmstadt-98   Sportverein Darmstadt 1898 e. V.        L1   \n11127       ural-ekaterinburg              FK Ural Yekaterinburg       RU1   \n114         besiktas-istanbul          Beşiktaş Jimnastik Kulübü       TR1   \n12                     as-rom         Associazione Sportiva Roma       IT1   \n148         tottenham-hotspur    Tottenham Hotspur Football Club       GB1   \n...                       ...                                ...       ...   \n68608        cf-os-belenenses                   CF Os Belenenses       PO1   \n724               fc-volendam             Football Club Volendam       NL1   \n800          atalanta-bergamo  Atalanta Bergamasca Calcio S.p.a.       IT1   \n979             moreirense-fc           Moreirense Futebol Clube       PO1   \n984      west-bromwich-albion               West Bromwich Albion       GB1   \n\n         total_market_value  squad_size  average_age  foreigners_number  \\\nclub_id                                                                   \n105                     NaN          30         26.4                 11   \n11127                   NaN          25         28.2                 13   \n114                     NaN          32         27.4                 16   \n12                      NaN          26         27.4                 17   \n148                     NaN          29         26.2                 21   \n...                     ...         ...          ...                ...   \n68608                   NaN          30         25.7                  5   \n724                     NaN          29         22.8                 14   \n800                     NaN          25         27.2                 17   \n979                     NaN          26         26.0                 17   \n984                     NaN          25         27.8                  8   \n\n         foreigners_percentage  national_team_players  \\\nclub_id                                                 \n105                       36.7                      1   \n11127                     52.0                      5   \n114                       50.0                     13   \n12                        65.4                     17   \n148                       72.4                     22   \n...                        ...                    ...   \n68608                     16.7                      0   \n724                       48.3                      3   \n800                       68.0                     15   \n979                       65.4                      2   \n984                       32.0                      4   \n\n                             stadium_name  stadium_seats net_transfer_record  \\\nclub_id                                                                        \n105        Merck-Stadion am Böllenfalltor          17810             €-1.60m   \n11127                 Yekaterinburg Arena          23000              €-770k   \n114                       Tüpraş Stadyumu          42590            €-14.50m   \n12                       Olimpico di Roma          73261            +€65.20m   \n148             Tottenham Hotspur Stadium          62062           €-130.40m   \n...                                   ...            ...                 ...   \n68608                  Estádio do Restelo          19980                 +-0   \n724                          Kras Stadion           7384             +€1.80m   \n800                        Gewiss Stadium          21747            +€87.00m   \n979      Estádio C. J. de Almeida Freitas           6153             €-2.05m   \n984                         The Hawthorns          26850             €-1.35m   \n\n         coach_name  last_season  \\\nclub_id                            \n105             NaN         2023   \n11127           NaN         2023   \n114             NaN         2023   \n12              NaN         2023   \n148             NaN         2023   \n...             ...          ...   \n68608           NaN         2017   \n724             NaN         2023   \n800             NaN         2023   \n979             NaN         2023   \n984             NaN         2020   \n\n                                          club_profile_url  \nclub_id                                                     \n105      https://www.transfermarkt.co.uk/sv-darmstadt-9...  \n11127    https://www.transfermarkt.co.uk/ural-ekaterinb...  \n114      https://www.transfermarkt.co.uk/besiktas-istan...  \n12       https://www.transfermarkt.co.uk/as-rom/startse...  \n148      https://www.transfermarkt.co.uk/tottenham-hots...  \n...                                                    ...  \n68608    https://www.transfermarkt.co.uk/cf-os-belenens...  \n724      https://www.transfermarkt.co.uk/fc-volendam/st...  \n800      https://www.transfermarkt.co.uk/atalanta-berga...  \n979      https://www.transfermarkt.co.uk/moreirense-fc/...  \n984      https://www.transfermarkt.co.uk/west-bromwich-...  \n\n[426 rows x 15 columns]",
      "text/html": "<div>\n<style scoped>\n    .dataframe tbody tr th:only-of-type {\n        vertical-align: middle;\n    }\n\n    .dataframe tbody tr th {\n        vertical-align: top;\n    }\n\n    .dataframe thead th {\n        text-align: right;\n    }\n</style>\n<table border=\"1\" class=\"dataframe\">\n  <thead>\n    <tr style=\"text-align: right;\">\n      <th></th>\n      <th>club_code</th>\n      <th>club_name</th>\n      <th>league_id</th>\n      <th>total_market_value</th>\n      <th>squad_size</th>\n      <th>average_age</th>\n      <th>foreigners_number</th>\n      <th>foreigners_percentage</th>\n      <th>national_team_players</th>\n      <th>stadium_name</th>\n      <th>stadium_seats</th>\n      <th>net_transfer_record</th>\n      <th>coach_name</th>\n      <th>last_season</th>\n      <th>club_profile_url</th>\n    </tr>\n    <tr>\n      <th>club_id</th>\n      <th></th>\n      <th></th>\n      <th></th>\n      <th></th>\n      <th></th>\n      <th></th>\n      <th></th>\n      <th></th>\n      <th></th>\n      <th></th>\n      <th></th>\n      <th></th>\n      <th></th>\n      <th></th>\n      <th></th>\n    </tr>\n  </thead>\n  <tbody>\n    <tr>\n      <th>105</th>\n      <td>sv-darmstadt-98</td>\n      <td>Sportverein Darmstadt 1898 e. V.</td>\n      <td>L1</td>\n      <td>NaN</td>\n      <td>30</td>\n      <td>26.4</td>\n      <td>11</td>\n      <td>36.7</td>\n      <td>1</td>\n      <td>Merck-Stadion am Böllenfalltor</td>\n      <td>17810</td>\n      <td>€-1.60m</td>\n      <td>NaN</td>\n      <td>2023</td>\n      <td>https://www.transfermarkt.co.uk/sv-darmstadt-9...</td>\n    </tr>\n    <tr>\n      <th>11127</th>\n      <td>ural-ekaterinburg</td>\n      <td>FK Ural Yekaterinburg</td>\n      <td>RU1</td>\n      <td>NaN</td>\n      <td>25</td>\n      <td>28.2</td>\n      <td>13</td>\n      <td>52.0</td>\n      <td>5</td>\n      <td>Yekaterinburg Arena</td>\n      <td>23000</td>\n      <td>€-770k</td>\n      <td>NaN</td>\n      <td>2023</td>\n      <td>https://www.transfermarkt.co.uk/ural-ekaterinb...</td>\n    </tr>\n    <tr>\n      <th>114</th>\n      <td>besiktas-istanbul</td>\n      <td>Beşiktaş Jimnastik Kulübü</td>\n      <td>TR1</td>\n      <td>NaN</td>\n      <td>32</td>\n      <td>27.4</td>\n      <td>16</td>\n      <td>50.0</td>\n      <td>13</td>\n      <td>Tüpraş Stadyumu</td>\n      <td>42590</td>\n      <td>€-14.50m</td>\n      <td>NaN</td>\n      <td>2023</td>\n      <td>https://www.transfermarkt.co.uk/besiktas-istan...</td>\n    </tr>\n    <tr>\n      <th>12</th>\n      <td>as-rom</td>\n      <td>Associazione Sportiva Roma</td>\n      <td>IT1</td>\n      <td>NaN</td>\n      <td>26</td>\n      <td>27.4</td>\n      <td>17</td>\n      <td>65.4</td>\n      <td>17</td>\n      <td>Olimpico di Roma</td>\n      <td>73261</td>\n      <td>+€65.20m</td>\n      <td>NaN</td>\n      <td>2023</td>\n      <td>https://www.transfermarkt.co.uk/as-rom/startse...</td>\n    </tr>\n    <tr>\n      <th>148</th>\n      <td>tottenham-hotspur</td>\n      <td>Tottenham Hotspur Football Club</td>\n      <td>GB1</td>\n      <td>NaN</td>\n      <td>29</td>\n      <td>26.2</td>\n      <td>21</td>\n      <td>72.4</td>\n      <td>22</td>\n      <td>Tottenham Hotspur Stadium</td>\n      <td>62062</td>\n      <td>€-130.40m</td>\n      <td>NaN</td>\n      <td>2023</td>\n      <td>https://www.transfermarkt.co.uk/tottenham-hots...</td>\n    </tr>\n    <tr>\n      <th>...</th>\n      <td>...</td>\n      <td>...</td>\n      <td>...</td>\n      <td>...</td>\n      <td>...</td>\n      <td>...</td>\n      <td>...</td>\n      <td>...</td>\n      <td>...</td>\n      <td>...</td>\n      <td>...</td>\n      <td>...</td>\n      <td>...</td>\n      <td>...</td>\n      <td>...</td>\n    </tr>\n    <tr>\n      <th>68608</th>\n      <td>cf-os-belenenses</td>\n      <td>CF Os Belenenses</td>\n      <td>PO1</td>\n      <td>NaN</td>\n      <td>30</td>\n      <td>25.7</td>\n      <td>5</td>\n      <td>16.7</td>\n      <td>0</td>\n      <td>Estádio do Restelo</td>\n      <td>19980</td>\n      <td>+-0</td>\n      <td>NaN</td>\n      <td>2017</td>\n      <td>https://www.transfermarkt.co.uk/cf-os-belenens...</td>\n    </tr>\n    <tr>\n      <th>724</th>\n      <td>fc-volendam</td>\n      <td>Football Club Volendam</td>\n      <td>NL1</td>\n      <td>NaN</td>\n      <td>29</td>\n      <td>22.8</td>\n      <td>14</td>\n      <td>48.3</td>\n      <td>3</td>\n      <td>Kras Stadion</td>\n      <td>7384</td>\n      <td>+€1.80m</td>\n      <td>NaN</td>\n      <td>2023</td>\n      <td>https://www.transfermarkt.co.uk/fc-volendam/st...</td>\n    </tr>\n    <tr>\n      <th>800</th>\n      <td>atalanta-bergamo</td>\n      <td>Atalanta Bergamasca Calcio S.p.a.</td>\n      <td>IT1</td>\n      <td>NaN</td>\n      <td>25</td>\n      <td>27.2</td>\n      <td>17</td>\n      <td>68.0</td>\n      <td>15</td>\n      <td>Gewiss Stadium</td>\n      <td>21747</td>\n      <td>+€87.00m</td>\n      <td>NaN</td>\n      <td>2023</td>\n      <td>https://www.transfermarkt.co.uk/atalanta-berga...</td>\n    </tr>\n    <tr>\n      <th>979</th>\n      <td>moreirense-fc</td>\n      <td>Moreirense Futebol Clube</td>\n      <td>PO1</td>\n      <td>NaN</td>\n      <td>26</td>\n      <td>26.0</td>\n      <td>17</td>\n      <td>65.4</td>\n      <td>2</td>\n      <td>Estádio C. J. de Almeida Freitas</td>\n      <td>6153</td>\n      <td>€-2.05m</td>\n      <td>NaN</td>\n      <td>2023</td>\n      <td>https://www.transfermarkt.co.uk/moreirense-fc/...</td>\n    </tr>\n    <tr>\n      <th>984</th>\n      <td>west-bromwich-albion</td>\n      <td>West Bromwich Albion</td>\n      <td>GB1</td>\n      <td>NaN</td>\n      <td>25</td>\n      <td>27.8</td>\n      <td>8</td>\n      <td>32.0</td>\n      <td>4</td>\n      <td>The Hawthorns</td>\n      <td>26850</td>\n      <td>€-1.35m</td>\n      <td>NaN</td>\n      <td>2020</td>\n      <td>https://www.transfermarkt.co.uk/west-bromwich-...</td>\n    </tr>\n  </tbody>\n</table>\n<p>426 rows × 15 columns</p>\n</div>"
     },
     "execution_count": 7,
     "metadata": {},
     "output_type": "execute_result"
    }
   ],
   "source": [
    "# renaming columns\n",
    "clubs_df = clubs_df.rename(columns={\n",
    "    'name':'club_name',\n",
    "    'domestic_competition_id':'league_id',\n",
    "    'current_club_id':'club_id',\n",
    "    'url':'club_profile_url'\n",
    "})\n",
    "\n",
    "clubs_df"
   ],
   "metadata": {
    "collapsed": false,
    "ExecuteTime": {
     "end_time": "2024-04-22T13:36:42.718029800Z",
     "start_time": "2024-04-22T13:36:42.490796Z"
    }
   },
   "id": "9a7aa58ac4aee225"
  },
  {
   "cell_type": "code",
   "execution_count": 8,
   "outputs": [
    {
     "data": {
      "text/plain": "club_code                  0\nclub_name                  0\nleague_id                  0\ntotal_market_value       426\nsquad_size                 0\naverage_age               38\nforeigners_number          0\nforeigners_percentage     47\nnational_team_players      0\nstadium_name               0\nstadium_seats              0\nnet_transfer_record        0\ncoach_name               426\nlast_season                0\nclub_profile_url           0\ndtype: int64"
     },
     "execution_count": 8,
     "metadata": {},
     "output_type": "execute_result"
    }
   ],
   "source": [
    "# handling NA values\n",
    "clubs_df.isna().sum()"
   ],
   "metadata": {
    "collapsed": false,
    "ExecuteTime": {
     "end_time": "2024-04-22T13:36:42.719034100Z",
     "start_time": "2024-04-22T13:36:42.528921700Z"
    }
   },
   "id": "bc9c6d73999f4324"
  },
  {
   "cell_type": "code",
   "execution_count": 13,
   "outputs": [
    {
     "data": {
      "text/plain": "club_code                0\nclub_name                0\nleague_id                0\nsquad_size               0\naverage_age              0\nforeigners_number        0\nforeigners_percentage    0\nnational_team_players    0\nstadium_name             0\nstadium_seats            0\nnet_transfer_record      0\nlast_season              0\nclub_profile_url         0\ndtype: int64"
     },
     "execution_count": 13,
     "metadata": {},
     "output_type": "execute_result"
    }
   ],
   "source": [
    "# removing columns that have only NA values (total_market_value, coach_name)\n",
    "clubs_df = clubs_df[\n",
    "    ['club_code', 'club_name', 'league_id',\n",
    "       'squad_size', 'average_age', 'foreigners_number',\n",
    "       'foreigners_percentage', 'national_team_players', 'stadium_name',\n",
    "       'stadium_seats', 'net_transfer_record', 'last_season',\n",
    "       'club_profile_url']\n",
    "]\n",
    "\n",
    "# setting NA values of average_age to a medium value\n",
    "clubs_df.loc[clubs_df['average_age'].isna(), 'average_age'] = clubs_df['average_age'].mean()\n",
    "\n",
    "\n",
    "# removing clubs with zero players\n",
    "clubs_df = clubs_df[clubs_df['squad_size'] != 0]\n",
    "\n",
    "# setting NA values of foreigners_percentage to foreigners_number/squad_size\n",
    "clubs_df.loc[clubs_df['foreigners_percentage'].isna(), 'foreigners_percentage'] = (clubs_df['foreigners_number']/clubs_df['squad_size'])*100\n",
    "\n",
    "\n",
    "clubs_df.isna().sum()"
   ],
   "metadata": {
    "collapsed": false,
    "ExecuteTime": {
     "end_time": "2024-04-22T13:58:26.947689300Z",
     "start_time": "2024-04-22T13:58:26.828963100Z"
    }
   },
   "id": "459575d5e5c3bfe4"
  },
  {
   "cell_type": "code",
   "execution_count": 12,
   "outputs": [
    {
     "data": {
      "text/plain": "                    club_code                          club_name league_id  \\\nclub_id                                                                      \n105           sv-darmstadt-98   Sportverein Darmstadt 1898 e. V.        L1   \n11127       ural-ekaterinburg              FK Ural Yekaterinburg       RU1   \n114         besiktas-istanbul          Beşiktaş Jimnastik Kulübü       TR1   \n12                     as-rom         Associazione Sportiva Roma       IT1   \n148         tottenham-hotspur    Tottenham Hotspur Football Club       GB1   \n...                       ...                                ...       ...   \n68608        cf-os-belenenses                   CF Os Belenenses       PO1   \n724               fc-volendam             Football Club Volendam       NL1   \n800          atalanta-bergamo  Atalanta Bergamasca Calcio S.p.a.       IT1   \n979             moreirense-fc           Moreirense Futebol Clube       PO1   \n984      west-bromwich-albion               West Bromwich Albion       GB1   \n\n         squad_size  average_age  foreigners_number  foreigners_percentage  \\\nclub_id                                                                      \n105              30         26.4                 11                   36.7   \n11127            25         28.2                 13                   52.0   \n114              32         27.4                 16                   50.0   \n12               26         27.4                 17                   65.4   \n148              29         26.2                 21                   72.4   \n...             ...          ...                ...                    ...   \n68608            30         25.7                  5                   16.7   \n724              29         22.8                 14                   48.3   \n800              25         27.2                 17                   68.0   \n979              26         26.0                 17                   65.4   \n984              25         27.8                  8                   32.0   \n\n         national_team_players                      stadium_name  \\\nclub_id                                                            \n105                          1    Merck-Stadion am Böllenfalltor   \n11127                        5               Yekaterinburg Arena   \n114                         13                   Tüpraş Stadyumu   \n12                          17                  Olimpico di Roma   \n148                         22         Tottenham Hotspur Stadium   \n...                        ...                               ...   \n68608                        0                Estádio do Restelo   \n724                          3                      Kras Stadion   \n800                         15                    Gewiss Stadium   \n979                          2  Estádio C. J. de Almeida Freitas   \n984                          4                     The Hawthorns   \n\n         stadium_seats net_transfer_record  last_season  \\\nclub_id                                                   \n105              17810             €-1.60m         2023   \n11127            23000              €-770k         2023   \n114              42590            €-14.50m         2023   \n12               73261            +€65.20m         2023   \n148              62062           €-130.40m         2023   \n...                ...                 ...          ...   \n68608            19980                 +-0         2017   \n724               7384             +€1.80m         2023   \n800              21747            +€87.00m         2023   \n979               6153             €-2.05m         2023   \n984              26850             €-1.35m         2020   \n\n                                          club_profile_url  \nclub_id                                                     \n105      https://www.transfermarkt.co.uk/sv-darmstadt-9...  \n11127    https://www.transfermarkt.co.uk/ural-ekaterinb...  \n114      https://www.transfermarkt.co.uk/besiktas-istan...  \n12       https://www.transfermarkt.co.uk/as-rom/startse...  \n148      https://www.transfermarkt.co.uk/tottenham-hots...  \n...                                                    ...  \n68608    https://www.transfermarkt.co.uk/cf-os-belenens...  \n724      https://www.transfermarkt.co.uk/fc-volendam/st...  \n800      https://www.transfermarkt.co.uk/atalanta-berga...  \n979      https://www.transfermarkt.co.uk/moreirense-fc/...  \n984      https://www.transfermarkt.co.uk/west-bromwich-...  \n\n[426 rows x 13 columns]",
      "text/html": "<div>\n<style scoped>\n    .dataframe tbody tr th:only-of-type {\n        vertical-align: middle;\n    }\n\n    .dataframe tbody tr th {\n        vertical-align: top;\n    }\n\n    .dataframe thead th {\n        text-align: right;\n    }\n</style>\n<table border=\"1\" class=\"dataframe\">\n  <thead>\n    <tr style=\"text-align: right;\">\n      <th></th>\n      <th>club_code</th>\n      <th>club_name</th>\n      <th>league_id</th>\n      <th>squad_size</th>\n      <th>average_age</th>\n      <th>foreigners_number</th>\n      <th>foreigners_percentage</th>\n      <th>national_team_players</th>\n      <th>stadium_name</th>\n      <th>stadium_seats</th>\n      <th>net_transfer_record</th>\n      <th>last_season</th>\n      <th>club_profile_url</th>\n    </tr>\n    <tr>\n      <th>club_id</th>\n      <th></th>\n      <th></th>\n      <th></th>\n      <th></th>\n      <th></th>\n      <th></th>\n      <th></th>\n      <th></th>\n      <th></th>\n      <th></th>\n      <th></th>\n      <th></th>\n      <th></th>\n    </tr>\n  </thead>\n  <tbody>\n    <tr>\n      <th>105</th>\n      <td>sv-darmstadt-98</td>\n      <td>Sportverein Darmstadt 1898 e. V.</td>\n      <td>L1</td>\n      <td>30</td>\n      <td>26.4</td>\n      <td>11</td>\n      <td>36.7</td>\n      <td>1</td>\n      <td>Merck-Stadion am Böllenfalltor</td>\n      <td>17810</td>\n      <td>€-1.60m</td>\n      <td>2023</td>\n      <td>https://www.transfermarkt.co.uk/sv-darmstadt-9...</td>\n    </tr>\n    <tr>\n      <th>11127</th>\n      <td>ural-ekaterinburg</td>\n      <td>FK Ural Yekaterinburg</td>\n      <td>RU1</td>\n      <td>25</td>\n      <td>28.2</td>\n      <td>13</td>\n      <td>52.0</td>\n      <td>5</td>\n      <td>Yekaterinburg Arena</td>\n      <td>23000</td>\n      <td>€-770k</td>\n      <td>2023</td>\n      <td>https://www.transfermarkt.co.uk/ural-ekaterinb...</td>\n    </tr>\n    <tr>\n      <th>114</th>\n      <td>besiktas-istanbul</td>\n      <td>Beşiktaş Jimnastik Kulübü</td>\n      <td>TR1</td>\n      <td>32</td>\n      <td>27.4</td>\n      <td>16</td>\n      <td>50.0</td>\n      <td>13</td>\n      <td>Tüpraş Stadyumu</td>\n      <td>42590</td>\n      <td>€-14.50m</td>\n      <td>2023</td>\n      <td>https://www.transfermarkt.co.uk/besiktas-istan...</td>\n    </tr>\n    <tr>\n      <th>12</th>\n      <td>as-rom</td>\n      <td>Associazione Sportiva Roma</td>\n      <td>IT1</td>\n      <td>26</td>\n      <td>27.4</td>\n      <td>17</td>\n      <td>65.4</td>\n      <td>17</td>\n      <td>Olimpico di Roma</td>\n      <td>73261</td>\n      <td>+€65.20m</td>\n      <td>2023</td>\n      <td>https://www.transfermarkt.co.uk/as-rom/startse...</td>\n    </tr>\n    <tr>\n      <th>148</th>\n      <td>tottenham-hotspur</td>\n      <td>Tottenham Hotspur Football Club</td>\n      <td>GB1</td>\n      <td>29</td>\n      <td>26.2</td>\n      <td>21</td>\n      <td>72.4</td>\n      <td>22</td>\n      <td>Tottenham Hotspur Stadium</td>\n      <td>62062</td>\n      <td>€-130.40m</td>\n      <td>2023</td>\n      <td>https://www.transfermarkt.co.uk/tottenham-hots...</td>\n    </tr>\n    <tr>\n      <th>...</th>\n      <td>...</td>\n      <td>...</td>\n      <td>...</td>\n      <td>...</td>\n      <td>...</td>\n      <td>...</td>\n      <td>...</td>\n      <td>...</td>\n      <td>...</td>\n      <td>...</td>\n      <td>...</td>\n      <td>...</td>\n      <td>...</td>\n    </tr>\n    <tr>\n      <th>68608</th>\n      <td>cf-os-belenenses</td>\n      <td>CF Os Belenenses</td>\n      <td>PO1</td>\n      <td>30</td>\n      <td>25.7</td>\n      <td>5</td>\n      <td>16.7</td>\n      <td>0</td>\n      <td>Estádio do Restelo</td>\n      <td>19980</td>\n      <td>+-0</td>\n      <td>2017</td>\n      <td>https://www.transfermarkt.co.uk/cf-os-belenens...</td>\n    </tr>\n    <tr>\n      <th>724</th>\n      <td>fc-volendam</td>\n      <td>Football Club Volendam</td>\n      <td>NL1</td>\n      <td>29</td>\n      <td>22.8</td>\n      <td>14</td>\n      <td>48.3</td>\n      <td>3</td>\n      <td>Kras Stadion</td>\n      <td>7384</td>\n      <td>+€1.80m</td>\n      <td>2023</td>\n      <td>https://www.transfermarkt.co.uk/fc-volendam/st...</td>\n    </tr>\n    <tr>\n      <th>800</th>\n      <td>atalanta-bergamo</td>\n      <td>Atalanta Bergamasca Calcio S.p.a.</td>\n      <td>IT1</td>\n      <td>25</td>\n      <td>27.2</td>\n      <td>17</td>\n      <td>68.0</td>\n      <td>15</td>\n      <td>Gewiss Stadium</td>\n      <td>21747</td>\n      <td>+€87.00m</td>\n      <td>2023</td>\n      <td>https://www.transfermarkt.co.uk/atalanta-berga...</td>\n    </tr>\n    <tr>\n      <th>979</th>\n      <td>moreirense-fc</td>\n      <td>Moreirense Futebol Clube</td>\n      <td>PO1</td>\n      <td>26</td>\n      <td>26.0</td>\n      <td>17</td>\n      <td>65.4</td>\n      <td>2</td>\n      <td>Estádio C. J. de Almeida Freitas</td>\n      <td>6153</td>\n      <td>€-2.05m</td>\n      <td>2023</td>\n      <td>https://www.transfermarkt.co.uk/moreirense-fc/...</td>\n    </tr>\n    <tr>\n      <th>984</th>\n      <td>west-bromwich-albion</td>\n      <td>West Bromwich Albion</td>\n      <td>GB1</td>\n      <td>25</td>\n      <td>27.8</td>\n      <td>8</td>\n      <td>32.0</td>\n      <td>4</td>\n      <td>The Hawthorns</td>\n      <td>26850</td>\n      <td>€-1.35m</td>\n      <td>2020</td>\n      <td>https://www.transfermarkt.co.uk/west-bromwich-...</td>\n    </tr>\n  </tbody>\n</table>\n<p>426 rows × 13 columns</p>\n</div>"
     },
     "execution_count": 12,
     "metadata": {},
     "output_type": "execute_result"
    }
   ],
   "source": [
    "clubs_df"
   ],
   "metadata": {
    "collapsed": false,
    "ExecuteTime": {
     "end_time": "2024-04-22T13:50:15.197068100Z",
     "start_time": "2024-04-22T13:50:15.074988800Z"
    }
   },
   "id": "d46f11160c6f4af1"
  },
  {
   "cell_type": "code",
   "execution_count": 14,
   "outputs": [
    {
     "data": {
      "text/plain": "Empty DataFrame\nColumns: [club_code, club_name, league_id, squad_size, average_age, foreigners_number, foreigners_percentage, national_team_players, stadium_name, stadium_seats, net_transfer_record, last_season, club_profile_url]\nIndex: []",
      "text/html": "<div>\n<style scoped>\n    .dataframe tbody tr th:only-of-type {\n        vertical-align: middle;\n    }\n\n    .dataframe tbody tr th {\n        vertical-align: top;\n    }\n\n    .dataframe thead th {\n        text-align: right;\n    }\n</style>\n<table border=\"1\" class=\"dataframe\">\n  <thead>\n    <tr style=\"text-align: right;\">\n      <th></th>\n      <th>club_code</th>\n      <th>club_name</th>\n      <th>league_id</th>\n      <th>squad_size</th>\n      <th>average_age</th>\n      <th>foreigners_number</th>\n      <th>foreigners_percentage</th>\n      <th>national_team_players</th>\n      <th>stadium_name</th>\n      <th>stadium_seats</th>\n      <th>net_transfer_record</th>\n      <th>last_season</th>\n      <th>club_profile_url</th>\n    </tr>\n    <tr>\n      <th>club_id</th>\n      <th></th>\n      <th></th>\n      <th></th>\n      <th></th>\n      <th></th>\n      <th></th>\n      <th></th>\n      <th></th>\n      <th></th>\n      <th></th>\n      <th></th>\n      <th></th>\n      <th></th>\n    </tr>\n  </thead>\n  <tbody>\n  </tbody>\n</table>\n</div>"
     },
     "execution_count": 14,
     "metadata": {},
     "output_type": "execute_result"
    }
   ],
   "source": [
    "clubs_df.loc[clubs_df.duplicated()]"
   ],
   "metadata": {
    "collapsed": false,
    "ExecuteTime": {
     "end_time": "2024-04-22T14:02:25.087384700Z",
     "start_time": "2024-04-22T14:02:24.993305Z"
    }
   },
   "id": "6f6357f778bb49be"
  },
  {
   "cell_type": "code",
   "execution_count": 15,
   "outputs": [
    {
     "data": {
      "text/plain": "club_code                 object\nclub_name                 object\nleague_id                 object\nsquad_size                 int64\naverage_age              float64\nforeigners_number          int64\nforeigners_percentage    float64\nnational_team_players      int64\nstadium_name              object\nstadium_seats              int64\nnet_transfer_record       object\nlast_season                int64\nclub_profile_url          object\ndtype: object"
     },
     "execution_count": 15,
     "metadata": {},
     "output_type": "execute_result"
    }
   ],
   "source": [
    "clubs_df.dtypes\n",
    "\n",
    "# no need to change any data type"
   ],
   "metadata": {
    "collapsed": false,
    "ExecuteTime": {
     "end_time": "2024-04-22T14:02:52.423315Z",
     "start_time": "2024-04-22T14:02:52.346601600Z"
    }
   },
   "id": "fa529888561b5c50"
  },
  {
   "cell_type": "markdown",
   "source": [
    "# Data Analysis & Visualization"
   ],
   "metadata": {
    "collapsed": false
   },
   "id": "7e5ada332374a691"
  },
  {
   "cell_type": "code",
   "execution_count": null,
   "outputs": [],
   "source": [],
   "metadata": {
    "collapsed": false
   },
   "id": "e9596bb32a631383"
  }
 ],
 "metadata": {
  "kernelspec": {
   "display_name": "Python 3",
   "language": "python",
   "name": "python3"
  },
  "language_info": {
   "codemirror_mode": {
    "name": "ipython",
    "version": 2
   },
   "file_extension": ".py",
   "mimetype": "text/x-python",
   "name": "python",
   "nbconvert_exporter": "python",
   "pygments_lexer": "ipython2",
   "version": "2.7.6"
  }
 },
 "nbformat": 4,
 "nbformat_minor": 5
}
