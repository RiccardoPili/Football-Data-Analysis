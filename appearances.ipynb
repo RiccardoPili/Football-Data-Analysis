{
 "cells": [
  {
   "cell_type": "markdown",
   "source": [
    "# Importing Data & Libraries"
   ],
   "metadata": {
    "collapsed": false
   },
   "id": "7d0b0bc9284fea63"
  },
  {
   "cell_type": "code",
   "execution_count": 3,
   "outputs": [],
   "source": [
    "import pandas as pd\n",
    "import matplotlib.pylab as plt\n",
    "import seaborn as sns\n",
    "\n",
    "appearances_df = pd.read_csv(\"C:/Users/Louis/Desktop/3°Anno/IUM/Progetto/FootballData/appearances.csv\")"
   ],
   "metadata": {
    "collapsed": false,
    "ExecuteTime": {
     "end_time": "2024-04-23T09:12:13.967563400Z",
     "start_time": "2024-04-23T09:12:09.609857500Z"
    }
   },
   "id": "a554d5c9baf035a7"
  },
  {
   "cell_type": "markdown",
   "source": [
    "# Data Preparation"
   ],
   "metadata": {
    "collapsed": false
   },
   "id": "cb888531da69fd74"
  },
  {
   "cell_type": "code",
   "execution_count": 4,
   "outputs": [
    {
     "data": {
      "text/plain": "(1507351, 13)"
     },
     "execution_count": 4,
     "metadata": {},
     "output_type": "execute_result"
    }
   ],
   "source": [
    "appearances_df.shape"
   ],
   "metadata": {
    "collapsed": false,
    "ExecuteTime": {
     "end_time": "2024-04-23T09:12:18.013751600Z",
     "start_time": "2024-04-23T09:12:17.943573500Z"
    }
   },
   "id": "24cbbeace9eb69c2"
  },
  {
   "cell_type": "markdown",
   "source": [
    "# Data Analysis & Visualization"
   ],
   "metadata": {
    "collapsed": false
   },
   "id": "309f3356f472e247"
  },
  {
   "cell_type": "code",
   "execution_count": 5,
   "outputs": [
    {
     "data": {
      "text/plain": "    appearance_id  game_id  player_id  player_club_id  player_current_club_id  \\\n0   2231978_38004  2231978      38004             853                     235   \n1   2233748_79232  2233748      79232            8841                    2698   \n2   2234413_42792  2234413      42792            6251                     465   \n3   2234418_73333  2234418      73333            1274                    6646   \n4  2234421_122011  2234421     122011             195                    3008   \n5  2234421_146889  2234421     146889             195                     190   \n6   2235539_28716  2235539      28716             282                    7185   \n7   2235539_69445  2235539      69445             282                   19771   \n8   2235545_19409  2235545      19409             317                     200   \n9   2235545_30003  2235545      30003             317                     317   \n\n         date       player_name competition_id  yellow_cards  red_cards  \\\n0  2012-07-03  Aurélien Joachim            CLQ             0          0   \n1  2012-07-05    Ruslan Abyshov            ELQ             0          0   \n2  2012-07-05       Sander Puri            ELQ             0          0   \n3  2012-07-05   Vegar Hedenstad            ELQ             0          0   \n4  2012-07-05  Markus Henriksen            ELQ             0          0   \n5  2012-07-05    Peter Ankersen            ELQ             1          0   \n6  2012-07-05      Adi Adilovic            ELQ             0          0   \n7  2012-07-05        Ivan Sesar            ELQ             1          0   \n8  2012-07-05    Willem Janssen            ELQ             0          0   \n9  2012-07-05        Wout Brama            ELQ             0          0   \n\n   goals  assists  minutes_played  \n0      2        0              90  \n1      0        0              90  \n2      0        0              45  \n3      0        0              90  \n4      0        1              90  \n5      0        0              90  \n6      0        0              90  \n7      0        1              90  \n8      0        0              45  \n9      0        0              90  ",
      "text/html": "<div>\n<style scoped>\n    .dataframe tbody tr th:only-of-type {\n        vertical-align: middle;\n    }\n\n    .dataframe tbody tr th {\n        vertical-align: top;\n    }\n\n    .dataframe thead th {\n        text-align: right;\n    }\n</style>\n<table border=\"1\" class=\"dataframe\">\n  <thead>\n    <tr style=\"text-align: right;\">\n      <th></th>\n      <th>appearance_id</th>\n      <th>game_id</th>\n      <th>player_id</th>\n      <th>player_club_id</th>\n      <th>player_current_club_id</th>\n      <th>date</th>\n      <th>player_name</th>\n      <th>competition_id</th>\n      <th>yellow_cards</th>\n      <th>red_cards</th>\n      <th>goals</th>\n      <th>assists</th>\n      <th>minutes_played</th>\n    </tr>\n  </thead>\n  <tbody>\n    <tr>\n      <th>0</th>\n      <td>2231978_38004</td>\n      <td>2231978</td>\n      <td>38004</td>\n      <td>853</td>\n      <td>235</td>\n      <td>2012-07-03</td>\n      <td>Aurélien Joachim</td>\n      <td>CLQ</td>\n      <td>0</td>\n      <td>0</td>\n      <td>2</td>\n      <td>0</td>\n      <td>90</td>\n    </tr>\n    <tr>\n      <th>1</th>\n      <td>2233748_79232</td>\n      <td>2233748</td>\n      <td>79232</td>\n      <td>8841</td>\n      <td>2698</td>\n      <td>2012-07-05</td>\n      <td>Ruslan Abyshov</td>\n      <td>ELQ</td>\n      <td>0</td>\n      <td>0</td>\n      <td>0</td>\n      <td>0</td>\n      <td>90</td>\n    </tr>\n    <tr>\n      <th>2</th>\n      <td>2234413_42792</td>\n      <td>2234413</td>\n      <td>42792</td>\n      <td>6251</td>\n      <td>465</td>\n      <td>2012-07-05</td>\n      <td>Sander Puri</td>\n      <td>ELQ</td>\n      <td>0</td>\n      <td>0</td>\n      <td>0</td>\n      <td>0</td>\n      <td>45</td>\n    </tr>\n    <tr>\n      <th>3</th>\n      <td>2234418_73333</td>\n      <td>2234418</td>\n      <td>73333</td>\n      <td>1274</td>\n      <td>6646</td>\n      <td>2012-07-05</td>\n      <td>Vegar Hedenstad</td>\n      <td>ELQ</td>\n      <td>0</td>\n      <td>0</td>\n      <td>0</td>\n      <td>0</td>\n      <td>90</td>\n    </tr>\n    <tr>\n      <th>4</th>\n      <td>2234421_122011</td>\n      <td>2234421</td>\n      <td>122011</td>\n      <td>195</td>\n      <td>3008</td>\n      <td>2012-07-05</td>\n      <td>Markus Henriksen</td>\n      <td>ELQ</td>\n      <td>0</td>\n      <td>0</td>\n      <td>0</td>\n      <td>1</td>\n      <td>90</td>\n    </tr>\n    <tr>\n      <th>5</th>\n      <td>2234421_146889</td>\n      <td>2234421</td>\n      <td>146889</td>\n      <td>195</td>\n      <td>190</td>\n      <td>2012-07-05</td>\n      <td>Peter Ankersen</td>\n      <td>ELQ</td>\n      <td>1</td>\n      <td>0</td>\n      <td>0</td>\n      <td>0</td>\n      <td>90</td>\n    </tr>\n    <tr>\n      <th>6</th>\n      <td>2235539_28716</td>\n      <td>2235539</td>\n      <td>28716</td>\n      <td>282</td>\n      <td>7185</td>\n      <td>2012-07-05</td>\n      <td>Adi Adilovic</td>\n      <td>ELQ</td>\n      <td>0</td>\n      <td>0</td>\n      <td>0</td>\n      <td>0</td>\n      <td>90</td>\n    </tr>\n    <tr>\n      <th>7</th>\n      <td>2235539_69445</td>\n      <td>2235539</td>\n      <td>69445</td>\n      <td>282</td>\n      <td>19771</td>\n      <td>2012-07-05</td>\n      <td>Ivan Sesar</td>\n      <td>ELQ</td>\n      <td>1</td>\n      <td>0</td>\n      <td>0</td>\n      <td>1</td>\n      <td>90</td>\n    </tr>\n    <tr>\n      <th>8</th>\n      <td>2235545_19409</td>\n      <td>2235545</td>\n      <td>19409</td>\n      <td>317</td>\n      <td>200</td>\n      <td>2012-07-05</td>\n      <td>Willem Janssen</td>\n      <td>ELQ</td>\n      <td>0</td>\n      <td>0</td>\n      <td>0</td>\n      <td>0</td>\n      <td>45</td>\n    </tr>\n    <tr>\n      <th>9</th>\n      <td>2235545_30003</td>\n      <td>2235545</td>\n      <td>30003</td>\n      <td>317</td>\n      <td>317</td>\n      <td>2012-07-05</td>\n      <td>Wout Brama</td>\n      <td>ELQ</td>\n      <td>0</td>\n      <td>0</td>\n      <td>0</td>\n      <td>0</td>\n      <td>90</td>\n    </tr>\n  </tbody>\n</table>\n</div>"
     },
     "execution_count": 5,
     "metadata": {},
     "output_type": "execute_result"
    }
   ],
   "source": [
    "appearances_df.head(10)"
   ],
   "metadata": {
    "collapsed": false,
    "ExecuteTime": {
     "end_time": "2024-04-23T09:12:39.606892100Z",
     "start_time": "2024-04-23T09:12:39.522417400Z"
    }
   },
   "id": "14c8783e16cba5e9"
  },
  {
   "cell_type": "code",
   "execution_count": 6,
   "outputs": [
    {
     "data": {
      "text/plain": "                game_id  player_id  player_club_id  player_current_club_id  \\\nappearance_id                                                                \n2231978_38004   2231978      38004             853                     235   \n2233748_79232   2233748      79232            8841                    2698   \n2234413_42792   2234413      42792            6251                     465   \n2234418_73333   2234418      73333            1274                    6646   \n2234421_122011  2234421     122011             195                    3008   \n2234421_146889  2234421     146889             195                     190   \n2235539_28716   2235539      28716             282                    7185   \n2235539_69445   2235539      69445             282                   19771   \n2235545_19409   2235545      19409             317                     200   \n2235545_30003   2235545      30003             317                     317   \n\n                      date       player_name competition_id  yellow_cards  \\\nappearance_id                                                               \n2231978_38004   2012-07-03  Aurélien Joachim            CLQ             0   \n2233748_79232   2012-07-05    Ruslan Abyshov            ELQ             0   \n2234413_42792   2012-07-05       Sander Puri            ELQ             0   \n2234418_73333   2012-07-05   Vegar Hedenstad            ELQ             0   \n2234421_122011  2012-07-05  Markus Henriksen            ELQ             0   \n2234421_146889  2012-07-05    Peter Ankersen            ELQ             1   \n2235539_28716   2012-07-05      Adi Adilovic            ELQ             0   \n2235539_69445   2012-07-05        Ivan Sesar            ELQ             1   \n2235545_19409   2012-07-05    Willem Janssen            ELQ             0   \n2235545_30003   2012-07-05        Wout Brama            ELQ             0   \n\n                red_cards  goals  assists  minutes_played  \nappearance_id                                              \n2231978_38004           0      2        0              90  \n2233748_79232           0      0        0              90  \n2234413_42792           0      0        0              45  \n2234418_73333           0      0        0              90  \n2234421_122011          0      0        1              90  \n2234421_146889          0      0        0              90  \n2235539_28716           0      0        0              90  \n2235539_69445           0      0        1              90  \n2235545_19409           0      0        0              45  \n2235545_30003           0      0        0              90  ",
      "text/html": "<div>\n<style scoped>\n    .dataframe tbody tr th:only-of-type {\n        vertical-align: middle;\n    }\n\n    .dataframe tbody tr th {\n        vertical-align: top;\n    }\n\n    .dataframe thead th {\n        text-align: right;\n    }\n</style>\n<table border=\"1\" class=\"dataframe\">\n  <thead>\n    <tr style=\"text-align: right;\">\n      <th></th>\n      <th>game_id</th>\n      <th>player_id</th>\n      <th>player_club_id</th>\n      <th>player_current_club_id</th>\n      <th>date</th>\n      <th>player_name</th>\n      <th>competition_id</th>\n      <th>yellow_cards</th>\n      <th>red_cards</th>\n      <th>goals</th>\n      <th>assists</th>\n      <th>minutes_played</th>\n    </tr>\n    <tr>\n      <th>appearance_id</th>\n      <th></th>\n      <th></th>\n      <th></th>\n      <th></th>\n      <th></th>\n      <th></th>\n      <th></th>\n      <th></th>\n      <th></th>\n      <th></th>\n      <th></th>\n      <th></th>\n    </tr>\n  </thead>\n  <tbody>\n    <tr>\n      <th>2231978_38004</th>\n      <td>2231978</td>\n      <td>38004</td>\n      <td>853</td>\n      <td>235</td>\n      <td>2012-07-03</td>\n      <td>Aurélien Joachim</td>\n      <td>CLQ</td>\n      <td>0</td>\n      <td>0</td>\n      <td>2</td>\n      <td>0</td>\n      <td>90</td>\n    </tr>\n    <tr>\n      <th>2233748_79232</th>\n      <td>2233748</td>\n      <td>79232</td>\n      <td>8841</td>\n      <td>2698</td>\n      <td>2012-07-05</td>\n      <td>Ruslan Abyshov</td>\n      <td>ELQ</td>\n      <td>0</td>\n      <td>0</td>\n      <td>0</td>\n      <td>0</td>\n      <td>90</td>\n    </tr>\n    <tr>\n      <th>2234413_42792</th>\n      <td>2234413</td>\n      <td>42792</td>\n      <td>6251</td>\n      <td>465</td>\n      <td>2012-07-05</td>\n      <td>Sander Puri</td>\n      <td>ELQ</td>\n      <td>0</td>\n      <td>0</td>\n      <td>0</td>\n      <td>0</td>\n      <td>45</td>\n    </tr>\n    <tr>\n      <th>2234418_73333</th>\n      <td>2234418</td>\n      <td>73333</td>\n      <td>1274</td>\n      <td>6646</td>\n      <td>2012-07-05</td>\n      <td>Vegar Hedenstad</td>\n      <td>ELQ</td>\n      <td>0</td>\n      <td>0</td>\n      <td>0</td>\n      <td>0</td>\n      <td>90</td>\n    </tr>\n    <tr>\n      <th>2234421_122011</th>\n      <td>2234421</td>\n      <td>122011</td>\n      <td>195</td>\n      <td>3008</td>\n      <td>2012-07-05</td>\n      <td>Markus Henriksen</td>\n      <td>ELQ</td>\n      <td>0</td>\n      <td>0</td>\n      <td>0</td>\n      <td>1</td>\n      <td>90</td>\n    </tr>\n    <tr>\n      <th>2234421_146889</th>\n      <td>2234421</td>\n      <td>146889</td>\n      <td>195</td>\n      <td>190</td>\n      <td>2012-07-05</td>\n      <td>Peter Ankersen</td>\n      <td>ELQ</td>\n      <td>1</td>\n      <td>0</td>\n      <td>0</td>\n      <td>0</td>\n      <td>90</td>\n    </tr>\n    <tr>\n      <th>2235539_28716</th>\n      <td>2235539</td>\n      <td>28716</td>\n      <td>282</td>\n      <td>7185</td>\n      <td>2012-07-05</td>\n      <td>Adi Adilovic</td>\n      <td>ELQ</td>\n      <td>0</td>\n      <td>0</td>\n      <td>0</td>\n      <td>0</td>\n      <td>90</td>\n    </tr>\n    <tr>\n      <th>2235539_69445</th>\n      <td>2235539</td>\n      <td>69445</td>\n      <td>282</td>\n      <td>19771</td>\n      <td>2012-07-05</td>\n      <td>Ivan Sesar</td>\n      <td>ELQ</td>\n      <td>1</td>\n      <td>0</td>\n      <td>0</td>\n      <td>1</td>\n      <td>90</td>\n    </tr>\n    <tr>\n      <th>2235545_19409</th>\n      <td>2235545</td>\n      <td>19409</td>\n      <td>317</td>\n      <td>200</td>\n      <td>2012-07-05</td>\n      <td>Willem Janssen</td>\n      <td>ELQ</td>\n      <td>0</td>\n      <td>0</td>\n      <td>0</td>\n      <td>0</td>\n      <td>45</td>\n    </tr>\n    <tr>\n      <th>2235545_30003</th>\n      <td>2235545</td>\n      <td>30003</td>\n      <td>317</td>\n      <td>317</td>\n      <td>2012-07-05</td>\n      <td>Wout Brama</td>\n      <td>ELQ</td>\n      <td>0</td>\n      <td>0</td>\n      <td>0</td>\n      <td>0</td>\n      <td>90</td>\n    </tr>\n  </tbody>\n</table>\n</div>"
     },
     "execution_count": 6,
     "metadata": {},
     "output_type": "execute_result"
    }
   ],
   "source": [
    "appearances_df = appearances_df.set_index('appearance_id')\n",
    "appearances_df.head(10)"
   ],
   "metadata": {
    "collapsed": false,
    "ExecuteTime": {
     "start_time": "2024-04-23T09:16:57.916687800Z"
    }
   },
   "id": "64431729cf13ca3"
  },
  {
   "cell_type": "code",
   "execution_count": 7,
   "outputs": [
    {
     "data": {
      "text/plain": "game_id                     0\nplayer_id                   0\nplayer_club_id              0\nplayer_current_club_id      0\ndate                        0\nplayer_name               324\ncompetition_id              0\nyellow_cards                0\nred_cards                   0\ngoals                       0\nassists                     0\nminutes_played              0\ndtype: int64"
     },
     "execution_count": 7,
     "metadata": {},
     "output_type": "execute_result"
    }
   ],
   "source": [
    "appearances_df.isna().sum()\n",
    "\n",
    "# alcuni nomi mancano, ma i player_id sono sempre presenti\n",
    "# si potrebbe inserire i nomi dei giocatori, prendendoli da un altro csv, utilizzando il loro id come controllo (?)"
   ],
   "metadata": {
    "collapsed": false,
    "ExecuteTime": {
     "start_time": "2024-04-23T09:21:04.744042500Z"
    }
   },
   "id": "f6e090b19cc27357"
  },
  {
   "cell_type": "code",
   "execution_count": 22,
   "outputs": [
    {
     "data": {
      "text/plain": "         game_id  player_id  player_club_id  player_current_club_id  \\\n268984   2464775      14280            3327                      -1   \n268990   2464775     192599            3327                      -1   \n268991   2464775     194603            3327                      -1   \n268996   2464775      33235            3327                      -1   \n268997   2464775      35246            3327                      -1   \n...          ...        ...             ...                     ...   \n1498472  4120668     834898           60551                   60551   \n1501995  4098109     541020             200                     200   \n1502615  4120679     834898           60551                   60551   \n1505315  4098055     541020             200                     200   \n1506322  4120684     834898           60551                   60551   \n\n               date        player_name competition_id  yellow_cards  \\\n268984   2014-08-17                NaN            PO1             1   \n268990   2014-08-17                NaN            PO1             0   \n268991   2014-08-17                NaN            PO1             1   \n268996   2014-08-17                NaN            PO1             0   \n268997   2014-08-17                NaN            PO1             0   \n...             ...                ...            ...           ...   \n1498472  2023-11-06           Victinho           UKR1             0   \n1501995  2023-11-12  Yannick Leliendal            NL1             0   \n1502615  2023-11-12           Victinho           UKR1             0   \n1505315  2023-11-26  Yannick Leliendal            NL1             1   \n1506322  2023-11-27           Victinho           UKR1             0   \n\n         red_cards  goals  assists  minutes_played name  \n268984           0      0        0              90  NaN  \n268990           0      0        0              45  NaN  \n268991           0      0        0              90  NaN  \n268996           0      0        0              58  NaN  \n268997           0      0        0              90  NaN  \n...            ...    ...      ...             ...  ...  \n1498472          0      0        0              10  NaN  \n1501995          0      0        0              45  NaN  \n1502615          0      0        0              17  NaN  \n1505315          0      0        0              45  NaN  \n1506322          0      0        0              12  NaN  \n\n[356 rows x 13 columns]",
      "text/html": "<div>\n<style scoped>\n    .dataframe tbody tr th:only-of-type {\n        vertical-align: middle;\n    }\n\n    .dataframe tbody tr th {\n        vertical-align: top;\n    }\n\n    .dataframe thead th {\n        text-align: right;\n    }\n</style>\n<table border=\"1\" class=\"dataframe\">\n  <thead>\n    <tr style=\"text-align: right;\">\n      <th></th>\n      <th>game_id</th>\n      <th>player_id</th>\n      <th>player_club_id</th>\n      <th>player_current_club_id</th>\n      <th>date</th>\n      <th>player_name</th>\n      <th>competition_id</th>\n      <th>yellow_cards</th>\n      <th>red_cards</th>\n      <th>goals</th>\n      <th>assists</th>\n      <th>minutes_played</th>\n      <th>name</th>\n    </tr>\n  </thead>\n  <tbody>\n    <tr>\n      <th>268984</th>\n      <td>2464775</td>\n      <td>14280</td>\n      <td>3327</td>\n      <td>-1</td>\n      <td>2014-08-17</td>\n      <td>NaN</td>\n      <td>PO1</td>\n      <td>1</td>\n      <td>0</td>\n      <td>0</td>\n      <td>0</td>\n      <td>90</td>\n      <td>NaN</td>\n    </tr>\n    <tr>\n      <th>268990</th>\n      <td>2464775</td>\n      <td>192599</td>\n      <td>3327</td>\n      <td>-1</td>\n      <td>2014-08-17</td>\n      <td>NaN</td>\n      <td>PO1</td>\n      <td>0</td>\n      <td>0</td>\n      <td>0</td>\n      <td>0</td>\n      <td>45</td>\n      <td>NaN</td>\n    </tr>\n    <tr>\n      <th>268991</th>\n      <td>2464775</td>\n      <td>194603</td>\n      <td>3327</td>\n      <td>-1</td>\n      <td>2014-08-17</td>\n      <td>NaN</td>\n      <td>PO1</td>\n      <td>1</td>\n      <td>0</td>\n      <td>0</td>\n      <td>0</td>\n      <td>90</td>\n      <td>NaN</td>\n    </tr>\n    <tr>\n      <th>268996</th>\n      <td>2464775</td>\n      <td>33235</td>\n      <td>3327</td>\n      <td>-1</td>\n      <td>2014-08-17</td>\n      <td>NaN</td>\n      <td>PO1</td>\n      <td>0</td>\n      <td>0</td>\n      <td>0</td>\n      <td>0</td>\n      <td>58</td>\n      <td>NaN</td>\n    </tr>\n    <tr>\n      <th>268997</th>\n      <td>2464775</td>\n      <td>35246</td>\n      <td>3327</td>\n      <td>-1</td>\n      <td>2014-08-17</td>\n      <td>NaN</td>\n      <td>PO1</td>\n      <td>0</td>\n      <td>0</td>\n      <td>0</td>\n      <td>0</td>\n      <td>90</td>\n      <td>NaN</td>\n    </tr>\n    <tr>\n      <th>...</th>\n      <td>...</td>\n      <td>...</td>\n      <td>...</td>\n      <td>...</td>\n      <td>...</td>\n      <td>...</td>\n      <td>...</td>\n      <td>...</td>\n      <td>...</td>\n      <td>...</td>\n      <td>...</td>\n      <td>...</td>\n      <td>...</td>\n    </tr>\n    <tr>\n      <th>1498472</th>\n      <td>4120668</td>\n      <td>834898</td>\n      <td>60551</td>\n      <td>60551</td>\n      <td>2023-11-06</td>\n      <td>Victinho</td>\n      <td>UKR1</td>\n      <td>0</td>\n      <td>0</td>\n      <td>0</td>\n      <td>0</td>\n      <td>10</td>\n      <td>NaN</td>\n    </tr>\n    <tr>\n      <th>1501995</th>\n      <td>4098109</td>\n      <td>541020</td>\n      <td>200</td>\n      <td>200</td>\n      <td>2023-11-12</td>\n      <td>Yannick Leliendal</td>\n      <td>NL1</td>\n      <td>0</td>\n      <td>0</td>\n      <td>0</td>\n      <td>0</td>\n      <td>45</td>\n      <td>NaN</td>\n    </tr>\n    <tr>\n      <th>1502615</th>\n      <td>4120679</td>\n      <td>834898</td>\n      <td>60551</td>\n      <td>60551</td>\n      <td>2023-11-12</td>\n      <td>Victinho</td>\n      <td>UKR1</td>\n      <td>0</td>\n      <td>0</td>\n      <td>0</td>\n      <td>0</td>\n      <td>17</td>\n      <td>NaN</td>\n    </tr>\n    <tr>\n      <th>1505315</th>\n      <td>4098055</td>\n      <td>541020</td>\n      <td>200</td>\n      <td>200</td>\n      <td>2023-11-26</td>\n      <td>Yannick Leliendal</td>\n      <td>NL1</td>\n      <td>1</td>\n      <td>0</td>\n      <td>0</td>\n      <td>0</td>\n      <td>45</td>\n      <td>NaN</td>\n    </tr>\n    <tr>\n      <th>1506322</th>\n      <td>4120684</td>\n      <td>834898</td>\n      <td>60551</td>\n      <td>60551</td>\n      <td>2023-11-27</td>\n      <td>Victinho</td>\n      <td>UKR1</td>\n      <td>0</td>\n      <td>0</td>\n      <td>0</td>\n      <td>0</td>\n      <td>12</td>\n      <td>NaN</td>\n    </tr>\n  </tbody>\n</table>\n<p>356 rows × 13 columns</p>\n</div>"
     },
     "execution_count": 22,
     "metadata": {},
     "output_type": "execute_result"
    }
   ],
   "source": [
    "players_df = pd.read_csv(\"C:/Users/Louis/Desktop/3°Anno/IUM/Progetto/FootballData/players.csv\")\n",
    "\n",
    "players_df_subset = players_df[['player_id', 'name']]\n",
    "players_df_subset\n",
    "new_app_df = pd.merge(appearances_df, players_df_subset, on = 'player_id', how = 'left')\n",
    "\n",
    "new_app_df['player_name'] = new_app_df['player_name'].fillna(new_app_df['name'])\n",
    "\n",
    "nan_rows = new_app_df[new_app_df.isna().any(axis=1)]\n",
    "nan_rows"
   ],
   "metadata": {
    "collapsed": false,
    "ExecuteTime": {
     "end_time": "2024-04-23T09:55:52.806188500Z",
     "start_time": "2024-04-23T09:55:51.575157800Z"
    }
   },
   "id": "e3a8489fee1acdbf"
  },
  {
   "cell_type": "code",
   "execution_count": 8,
   "outputs": [
    {
     "data": {
      "text/plain": "Empty DataFrame\nColumns: [game_id, player_id, player_club_id, player_current_club_id, date, player_name, competition_id, yellow_cards, red_cards, goals, assists, minutes_played]\nIndex: []",
      "text/html": "<div>\n<style scoped>\n    .dataframe tbody tr th:only-of-type {\n        vertical-align: middle;\n    }\n\n    .dataframe tbody tr th {\n        vertical-align: top;\n    }\n\n    .dataframe thead th {\n        text-align: right;\n    }\n</style>\n<table border=\"1\" class=\"dataframe\">\n  <thead>\n    <tr style=\"text-align: right;\">\n      <th></th>\n      <th>game_id</th>\n      <th>player_id</th>\n      <th>player_club_id</th>\n      <th>player_current_club_id</th>\n      <th>date</th>\n      <th>player_name</th>\n      <th>competition_id</th>\n      <th>yellow_cards</th>\n      <th>red_cards</th>\n      <th>goals</th>\n      <th>assists</th>\n      <th>minutes_played</th>\n    </tr>\n    <tr>\n      <th>appearance_id</th>\n      <th></th>\n      <th></th>\n      <th></th>\n      <th></th>\n      <th></th>\n      <th></th>\n      <th></th>\n      <th></th>\n      <th></th>\n      <th></th>\n      <th></th>\n      <th></th>\n    </tr>\n  </thead>\n  <tbody>\n  </tbody>\n</table>\n</div>"
     },
     "execution_count": 8,
     "metadata": {},
     "output_type": "execute_result"
    }
   ],
   "source": [
    "appearances_df.loc[appearances_df.duplicated()]"
   ],
   "metadata": {
    "collapsed": false,
    "ExecuteTime": {
     "end_time": "2024-04-23T09:25:45.208660500Z",
     "start_time": "2024-04-23T09:25:43.339025200Z"
    }
   },
   "id": "f8bd68dfe8419d1f"
  },
  {
   "cell_type": "code",
   "execution_count": null,
   "outputs": [],
   "source": [],
   "metadata": {
    "collapsed": false
   },
   "id": "ba872015c72d045d"
  }
 ],
 "metadata": {
  "kernelspec": {
   "display_name": "Python 3",
   "language": "python",
   "name": "python3"
  },
  "language_info": {
   "codemirror_mode": {
    "name": "ipython",
    "version": 2
   },
   "file_extension": ".py",
   "mimetype": "text/x-python",
   "name": "python",
   "nbconvert_exporter": "python",
   "pygments_lexer": "ipython2",
   "version": "2.7.6"
  }
 },
 "nbformat": 4,
 "nbformat_minor": 5
}
