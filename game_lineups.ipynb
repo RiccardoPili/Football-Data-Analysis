{
 "cells": [
  {
   "cell_type": "markdown",
   "source": [
    "# Importing Data & Libraries"
   ],
   "metadata": {
    "collapsed": false
   },
   "id": "7d0b0bc9284fea63"
  },
  {
   "cell_type": "code",
   "execution_count": 106,
   "outputs": [],
   "source": [
    "import pandas as pd\n",
    "import numpy as np\n",
    "import matplotlib.pylab as plt\n",
    "import seaborn as sns\n",
    "\n",
    "lineups_df = pd.read_csv(\"C:/Users/ricca/Desktop/FootballData/game_lineups.csv\")"
   ],
   "metadata": {
    "collapsed": false,
    "ExecuteTime": {
     "end_time": "2024-05-01T10:47:51.019077900Z",
     "start_time": "2024-05-01T10:47:50.638547200Z"
    }
   },
   "id": "a554d5c9baf035a7"
  },
  {
   "cell_type": "markdown",
   "source": [
    "# Data Preparation"
   ],
   "metadata": {
    "collapsed": false
   },
   "id": "cb888531da69fd74"
  },
  {
   "cell_type": "code",
   "execution_count": 107,
   "outputs": [
    {
     "data": {
      "text/plain": "(119133, 9)"
     },
     "execution_count": 107,
     "metadata": {},
     "output_type": "execute_result"
    }
   ],
   "source": [
    "lineups_df.shape"
   ],
   "metadata": {
    "collapsed": false,
    "ExecuteTime": {
     "end_time": "2024-05-01T10:47:51.037587500Z",
     "start_time": "2024-05-01T10:47:51.021076Z"
    }
   },
   "id": "24cbbeace9eb69c2"
  },
  {
   "cell_type": "markdown",
   "source": [
    "# Data Analysis & Visualization"
   ],
   "metadata": {
    "collapsed": false
   },
   "id": "309f3356f472e247"
  },
  {
   "cell_type": "code",
   "execution_count": 108,
   "outputs": [
    {
     "data": {
      "text/plain": "                         game_lineups_id  game_id  club_id             type  \\\n0       77b0f371923e0c8bdf050a1e269faaac  3606208      338  starting_lineup   \n1       cb6eeedb9f728570615d37b6fe7facaf  3606208      338  starting_lineup   \n2       8e63d5f47aac2bdb0e54f5481986e104  3606208      338  starting_lineup   \n3       ea4a96d8be410f2d646cf095c4faae7f  3606208      338  starting_lineup   \n4       e6abe553801b09bc623c3deb96acba17  3606208      338  starting_lineup   \n...                                  ...      ...      ...              ...   \n119128  f4e6a6b2e3d24d12290c6ce4168e1bdb  4228114    46889      substitutes   \n119129  7a78814a66c59c79e8d40c8669a67d3f  4228114    46889      substitutes   \n119130  09cc07767ce441b4de4a76c102fd17d5  4228114    46889      substitutes   \n119131  3c259f1849421af021aba3e84a4da8de  4228114    46889      substitutes   \n119132  92f069e6041dae45375081d7662b2c12  4228114    46889      substitutes   \n\n       number  player_id              player_name  team_captain  \\\n0          89     419061       Vladyslav Supryaga             0   \n1          10     368611        Mykola Shaparenko             0   \n2           5     124182         Sergiy Sydorchuk             1   \n3          94     181118          Tomasz Kedziora             0   \n4          16     404842        Vitaliy Mykolenko             0   \n...       ...        ...                      ...           ...   \n119128      3    1200869          Thomas Chambers             0   \n119129      5    1203716  Mohammed-Idris Oshilaja             0   \n119130     13    1200870              Max Ovenden             0   \n119131     12     550816              Julien Anau             0   \n119132     10     128198             Adam Coombes             0   \n\n                  position  \n0           Centre-Forward  \n1         Central Midfield  \n2       Defensive Midfield  \n3               Right-Back  \n4                Left-Back  \n...                    ...  \n119128           Left-Back  \n119129            Defender  \n119130          Goalkeeper  \n119131  Attacking Midfield  \n119132              Attack  \n\n[119133 rows x 9 columns]",
      "text/html": "<div>\n<style scoped>\n    .dataframe tbody tr th:only-of-type {\n        vertical-align: middle;\n    }\n\n    .dataframe tbody tr th {\n        vertical-align: top;\n    }\n\n    .dataframe thead th {\n        text-align: right;\n    }\n</style>\n<table border=\"1\" class=\"dataframe\">\n  <thead>\n    <tr style=\"text-align: right;\">\n      <th></th>\n      <th>game_lineups_id</th>\n      <th>game_id</th>\n      <th>club_id</th>\n      <th>type</th>\n      <th>number</th>\n      <th>player_id</th>\n      <th>player_name</th>\n      <th>team_captain</th>\n      <th>position</th>\n    </tr>\n  </thead>\n  <tbody>\n    <tr>\n      <th>0</th>\n      <td>77b0f371923e0c8bdf050a1e269faaac</td>\n      <td>3606208</td>\n      <td>338</td>\n      <td>starting_lineup</td>\n      <td>89</td>\n      <td>419061</td>\n      <td>Vladyslav Supryaga</td>\n      <td>0</td>\n      <td>Centre-Forward</td>\n    </tr>\n    <tr>\n      <th>1</th>\n      <td>cb6eeedb9f728570615d37b6fe7facaf</td>\n      <td>3606208</td>\n      <td>338</td>\n      <td>starting_lineup</td>\n      <td>10</td>\n      <td>368611</td>\n      <td>Mykola Shaparenko</td>\n      <td>0</td>\n      <td>Central Midfield</td>\n    </tr>\n    <tr>\n      <th>2</th>\n      <td>8e63d5f47aac2bdb0e54f5481986e104</td>\n      <td>3606208</td>\n      <td>338</td>\n      <td>starting_lineup</td>\n      <td>5</td>\n      <td>124182</td>\n      <td>Sergiy Sydorchuk</td>\n      <td>1</td>\n      <td>Defensive Midfield</td>\n    </tr>\n    <tr>\n      <th>3</th>\n      <td>ea4a96d8be410f2d646cf095c4faae7f</td>\n      <td>3606208</td>\n      <td>338</td>\n      <td>starting_lineup</td>\n      <td>94</td>\n      <td>181118</td>\n      <td>Tomasz Kedziora</td>\n      <td>0</td>\n      <td>Right-Back</td>\n    </tr>\n    <tr>\n      <th>4</th>\n      <td>e6abe553801b09bc623c3deb96acba17</td>\n      <td>3606208</td>\n      <td>338</td>\n      <td>starting_lineup</td>\n      <td>16</td>\n      <td>404842</td>\n      <td>Vitaliy Mykolenko</td>\n      <td>0</td>\n      <td>Left-Back</td>\n    </tr>\n    <tr>\n      <th>...</th>\n      <td>...</td>\n      <td>...</td>\n      <td>...</td>\n      <td>...</td>\n      <td>...</td>\n      <td>...</td>\n      <td>...</td>\n      <td>...</td>\n      <td>...</td>\n    </tr>\n    <tr>\n      <th>119128</th>\n      <td>f4e6a6b2e3d24d12290c6ce4168e1bdb</td>\n      <td>4228114</td>\n      <td>46889</td>\n      <td>substitutes</td>\n      <td>3</td>\n      <td>1200869</td>\n      <td>Thomas Chambers</td>\n      <td>0</td>\n      <td>Left-Back</td>\n    </tr>\n    <tr>\n      <th>119129</th>\n      <td>7a78814a66c59c79e8d40c8669a67d3f</td>\n      <td>4228114</td>\n      <td>46889</td>\n      <td>substitutes</td>\n      <td>5</td>\n      <td>1203716</td>\n      <td>Mohammed-Idris Oshilaja</td>\n      <td>0</td>\n      <td>Defender</td>\n    </tr>\n    <tr>\n      <th>119130</th>\n      <td>09cc07767ce441b4de4a76c102fd17d5</td>\n      <td>4228114</td>\n      <td>46889</td>\n      <td>substitutes</td>\n      <td>13</td>\n      <td>1200870</td>\n      <td>Max Ovenden</td>\n      <td>0</td>\n      <td>Goalkeeper</td>\n    </tr>\n    <tr>\n      <th>119131</th>\n      <td>3c259f1849421af021aba3e84a4da8de</td>\n      <td>4228114</td>\n      <td>46889</td>\n      <td>substitutes</td>\n      <td>12</td>\n      <td>550816</td>\n      <td>Julien Anau</td>\n      <td>0</td>\n      <td>Attacking Midfield</td>\n    </tr>\n    <tr>\n      <th>119132</th>\n      <td>92f069e6041dae45375081d7662b2c12</td>\n      <td>4228114</td>\n      <td>46889</td>\n      <td>substitutes</td>\n      <td>10</td>\n      <td>128198</td>\n      <td>Adam Coombes</td>\n      <td>0</td>\n      <td>Attack</td>\n    </tr>\n  </tbody>\n</table>\n<p>119133 rows × 9 columns</p>\n</div>"
     },
     "execution_count": 108,
     "metadata": {},
     "output_type": "execute_result"
    }
   ],
   "source": [
    "lineups_df"
   ],
   "metadata": {
    "collapsed": false,
    "ExecuteTime": {
     "end_time": "2024-05-01T10:47:51.114314Z",
     "start_time": "2024-05-01T10:47:51.033600700Z"
    }
   },
   "id": "14c8783e16cba5e9"
  },
  {
   "cell_type": "code",
   "execution_count": 109,
   "outputs": [],
   "source": [
    "lineups_df = lineups_df.set_index('game_lineups_id')"
   ],
   "metadata": {
    "collapsed": false,
    "ExecuteTime": {
     "end_time": "2024-05-01T10:47:51.140460600Z",
     "start_time": "2024-05-01T10:47:51.059021100Z"
    }
   },
   "id": "4781e7ff8364c855"
  },
  {
   "cell_type": "code",
   "execution_count": 110,
   "outputs": [
    {
     "data": {
      "text/plain": "                                  game_id  club_id      is_starting  \\\ngame_lineups_id                                                       \n77b0f371923e0c8bdf050a1e269faaac  3606208      338  starting_lineup   \ncb6eeedb9f728570615d37b6fe7facaf  3606208      338  starting_lineup   \n8e63d5f47aac2bdb0e54f5481986e104  3606208      338  starting_lineup   \nea4a96d8be410f2d646cf095c4faae7f  3606208      338  starting_lineup   \ne6abe553801b09bc623c3deb96acba17  3606208      338  starting_lineup   \n...                                   ...      ...              ...   \nf4e6a6b2e3d24d12290c6ce4168e1bdb  4228114    46889      substitutes   \n7a78814a66c59c79e8d40c8669a67d3f  4228114    46889      substitutes   \n09cc07767ce441b4de4a76c102fd17d5  4228114    46889      substitutes   \n3c259f1849421af021aba3e84a4da8de  4228114    46889      substitutes   \n92f069e6041dae45375081d7662b2c12  4228114    46889      substitutes   \n\n                                 shirt_number  player_id  \\\ngame_lineups_id                                            \n77b0f371923e0c8bdf050a1e269faaac           89     419061   \ncb6eeedb9f728570615d37b6fe7facaf           10     368611   \n8e63d5f47aac2bdb0e54f5481986e104            5     124182   \nea4a96d8be410f2d646cf095c4faae7f           94     181118   \ne6abe553801b09bc623c3deb96acba17           16     404842   \n...                                       ...        ...   \nf4e6a6b2e3d24d12290c6ce4168e1bdb            3    1200869   \n7a78814a66c59c79e8d40c8669a67d3f            5    1203716   \n09cc07767ce441b4de4a76c102fd17d5           13    1200870   \n3c259f1849421af021aba3e84a4da8de           12     550816   \n92f069e6041dae45375081d7662b2c12           10     128198   \n\n                                              player_name  is_captain  \\\ngame_lineups_id                                                         \n77b0f371923e0c8bdf050a1e269faaac       Vladyslav Supryaga           0   \ncb6eeedb9f728570615d37b6fe7facaf        Mykola Shaparenko           0   \n8e63d5f47aac2bdb0e54f5481986e104         Sergiy Sydorchuk           1   \nea4a96d8be410f2d646cf095c4faae7f          Tomasz Kedziora           0   \ne6abe553801b09bc623c3deb96acba17        Vitaliy Mykolenko           0   \n...                                                   ...         ...   \nf4e6a6b2e3d24d12290c6ce4168e1bdb          Thomas Chambers           0   \n7a78814a66c59c79e8d40c8669a67d3f  Mohammed-Idris Oshilaja           0   \n09cc07767ce441b4de4a76c102fd17d5              Max Ovenden           0   \n3c259f1849421af021aba3e84a4da8de              Julien Anau           0   \n92f069e6041dae45375081d7662b2c12             Adam Coombes           0   \n\n                                        sub_position  \ngame_lineups_id                                       \n77b0f371923e0c8bdf050a1e269faaac      Centre-Forward  \ncb6eeedb9f728570615d37b6fe7facaf    Central Midfield  \n8e63d5f47aac2bdb0e54f5481986e104  Defensive Midfield  \nea4a96d8be410f2d646cf095c4faae7f          Right-Back  \ne6abe553801b09bc623c3deb96acba17           Left-Back  \n...                                              ...  \nf4e6a6b2e3d24d12290c6ce4168e1bdb           Left-Back  \n7a78814a66c59c79e8d40c8669a67d3f            Defender  \n09cc07767ce441b4de4a76c102fd17d5          Goalkeeper  \n3c259f1849421af021aba3e84a4da8de  Attacking Midfield  \n92f069e6041dae45375081d7662b2c12              Attack  \n\n[119133 rows x 8 columns]",
      "text/html": "<div>\n<style scoped>\n    .dataframe tbody tr th:only-of-type {\n        vertical-align: middle;\n    }\n\n    .dataframe tbody tr th {\n        vertical-align: top;\n    }\n\n    .dataframe thead th {\n        text-align: right;\n    }\n</style>\n<table border=\"1\" class=\"dataframe\">\n  <thead>\n    <tr style=\"text-align: right;\">\n      <th></th>\n      <th>game_id</th>\n      <th>club_id</th>\n      <th>is_starting</th>\n      <th>shirt_number</th>\n      <th>player_id</th>\n      <th>player_name</th>\n      <th>is_captain</th>\n      <th>sub_position</th>\n    </tr>\n    <tr>\n      <th>game_lineups_id</th>\n      <th></th>\n      <th></th>\n      <th></th>\n      <th></th>\n      <th></th>\n      <th></th>\n      <th></th>\n      <th></th>\n    </tr>\n  </thead>\n  <tbody>\n    <tr>\n      <th>77b0f371923e0c8bdf050a1e269faaac</th>\n      <td>3606208</td>\n      <td>338</td>\n      <td>starting_lineup</td>\n      <td>89</td>\n      <td>419061</td>\n      <td>Vladyslav Supryaga</td>\n      <td>0</td>\n      <td>Centre-Forward</td>\n    </tr>\n    <tr>\n      <th>cb6eeedb9f728570615d37b6fe7facaf</th>\n      <td>3606208</td>\n      <td>338</td>\n      <td>starting_lineup</td>\n      <td>10</td>\n      <td>368611</td>\n      <td>Mykola Shaparenko</td>\n      <td>0</td>\n      <td>Central Midfield</td>\n    </tr>\n    <tr>\n      <th>8e63d5f47aac2bdb0e54f5481986e104</th>\n      <td>3606208</td>\n      <td>338</td>\n      <td>starting_lineup</td>\n      <td>5</td>\n      <td>124182</td>\n      <td>Sergiy Sydorchuk</td>\n      <td>1</td>\n      <td>Defensive Midfield</td>\n    </tr>\n    <tr>\n      <th>ea4a96d8be410f2d646cf095c4faae7f</th>\n      <td>3606208</td>\n      <td>338</td>\n      <td>starting_lineup</td>\n      <td>94</td>\n      <td>181118</td>\n      <td>Tomasz Kedziora</td>\n      <td>0</td>\n      <td>Right-Back</td>\n    </tr>\n    <tr>\n      <th>e6abe553801b09bc623c3deb96acba17</th>\n      <td>3606208</td>\n      <td>338</td>\n      <td>starting_lineup</td>\n      <td>16</td>\n      <td>404842</td>\n      <td>Vitaliy Mykolenko</td>\n      <td>0</td>\n      <td>Left-Back</td>\n    </tr>\n    <tr>\n      <th>...</th>\n      <td>...</td>\n      <td>...</td>\n      <td>...</td>\n      <td>...</td>\n      <td>...</td>\n      <td>...</td>\n      <td>...</td>\n      <td>...</td>\n    </tr>\n    <tr>\n      <th>f4e6a6b2e3d24d12290c6ce4168e1bdb</th>\n      <td>4228114</td>\n      <td>46889</td>\n      <td>substitutes</td>\n      <td>3</td>\n      <td>1200869</td>\n      <td>Thomas Chambers</td>\n      <td>0</td>\n      <td>Left-Back</td>\n    </tr>\n    <tr>\n      <th>7a78814a66c59c79e8d40c8669a67d3f</th>\n      <td>4228114</td>\n      <td>46889</td>\n      <td>substitutes</td>\n      <td>5</td>\n      <td>1203716</td>\n      <td>Mohammed-Idris Oshilaja</td>\n      <td>0</td>\n      <td>Defender</td>\n    </tr>\n    <tr>\n      <th>09cc07767ce441b4de4a76c102fd17d5</th>\n      <td>4228114</td>\n      <td>46889</td>\n      <td>substitutes</td>\n      <td>13</td>\n      <td>1200870</td>\n      <td>Max Ovenden</td>\n      <td>0</td>\n      <td>Goalkeeper</td>\n    </tr>\n    <tr>\n      <th>3c259f1849421af021aba3e84a4da8de</th>\n      <td>4228114</td>\n      <td>46889</td>\n      <td>substitutes</td>\n      <td>12</td>\n      <td>550816</td>\n      <td>Julien Anau</td>\n      <td>0</td>\n      <td>Attacking Midfield</td>\n    </tr>\n    <tr>\n      <th>92f069e6041dae45375081d7662b2c12</th>\n      <td>4228114</td>\n      <td>46889</td>\n      <td>substitutes</td>\n      <td>10</td>\n      <td>128198</td>\n      <td>Adam Coombes</td>\n      <td>0</td>\n      <td>Attack</td>\n    </tr>\n  </tbody>\n</table>\n<p>119133 rows × 8 columns</p>\n</div>"
     },
     "execution_count": 110,
     "metadata": {},
     "output_type": "execute_result"
    }
   ],
   "source": [
    "# renaming columns\n",
    "lineups_df = lineups_df.rename(columns={\n",
    "    'type':'is_starting',\n",
    "    'number':'shirt_number',\n",
    "    'team_captain':'is_captain',\n",
    "    'position':'sub_position'\n",
    "})\n",
    "\n",
    "lineups_df"
   ],
   "metadata": {
    "collapsed": false,
    "ExecuteTime": {
     "end_time": "2024-05-01T10:47:51.193711400Z",
     "start_time": "2024-05-01T10:47:51.076738700Z"
    }
   },
   "id": "9c52138983f76b26"
  },
  {
   "cell_type": "code",
   "execution_count": 111,
   "outputs": [
    {
     "data": {
      "text/plain": "game_id         0\nclub_id         0\nis_starting     0\nshirt_number    0\nplayer_id       0\nplayer_name     0\nis_captain      0\nsub_position    0\ndtype: int64"
     },
     "execution_count": 111,
     "metadata": {},
     "output_type": "execute_result"
    }
   ],
   "source": [
    "lineups_df.isna().sum()"
   ],
   "metadata": {
    "collapsed": false,
    "ExecuteTime": {
     "end_time": "2024-05-01T10:47:51.332839300Z",
     "start_time": "2024-05-01T10:47:51.114314Z"
    }
   },
   "id": "688379f5c42aab32"
  },
  {
   "cell_type": "code",
   "execution_count": 112,
   "outputs": [
    {
     "data": {
      "text/plain": "Empty DataFrame\nColumns: [game_id, club_id, is_starting, shirt_number, player_id, player_name, is_captain, sub_position]\nIndex: []",
      "text/html": "<div>\n<style scoped>\n    .dataframe tbody tr th:only-of-type {\n        vertical-align: middle;\n    }\n\n    .dataframe tbody tr th {\n        vertical-align: top;\n    }\n\n    .dataframe thead th {\n        text-align: right;\n    }\n</style>\n<table border=\"1\" class=\"dataframe\">\n  <thead>\n    <tr style=\"text-align: right;\">\n      <th></th>\n      <th>game_id</th>\n      <th>club_id</th>\n      <th>is_starting</th>\n      <th>shirt_number</th>\n      <th>player_id</th>\n      <th>player_name</th>\n      <th>is_captain</th>\n      <th>sub_position</th>\n    </tr>\n    <tr>\n      <th>game_lineups_id</th>\n      <th></th>\n      <th></th>\n      <th></th>\n      <th></th>\n      <th></th>\n      <th></th>\n      <th></th>\n      <th></th>\n    </tr>\n  </thead>\n  <tbody>\n  </tbody>\n</table>\n</div>"
     },
     "execution_count": 112,
     "metadata": {},
     "output_type": "execute_result"
    }
   ],
   "source": [
    "lineups_df.loc[lineups_df.duplicated()]"
   ],
   "metadata": {
    "collapsed": false,
    "ExecuteTime": {
     "end_time": "2024-05-01T10:47:51.460780600Z",
     "start_time": "2024-05-01T10:47:51.154534500Z"
    }
   },
   "id": "d7072f23efdd3f1f"
  },
  {
   "cell_type": "code",
   "execution_count": 113,
   "outputs": [
    {
     "data": {
      "text/plain": "game_id          int64\nclub_id          int64\nis_starting     object\nshirt_number    object\nplayer_id        int64\nplayer_name     object\nis_captain       int64\nsub_position    object\ndtype: object"
     },
     "execution_count": 113,
     "metadata": {},
     "output_type": "execute_result"
    }
   ],
   "source": [
    "lineups_df.dtypes"
   ],
   "metadata": {
    "collapsed": false,
    "ExecuteTime": {
     "end_time": "2024-05-01T10:47:51.461771700Z",
     "start_time": "2024-05-01T10:47:51.261649800Z"
    }
   },
   "id": "6d414eede79d1bc4"
  },
  {
   "cell_type": "code",
   "execution_count": 115,
   "outputs": [],
   "source": [
    "# converting data types\n",
    "lineups_df['shirt_number'] = pd.to_numeric(lineups_df['shirt_number'], errors=\"coerce\")\n",
    "lineups_df['shirt_number'] = lineups_df['shirt_number'].astype('Int64')\n",
    "\n",
    "lineups_df['is_captain'] = lineups_df['is_captain'].replace({1: True, 0: False})\n",
    "\n",
    "lineups_df['is_starting'] = lineups_df['is_starting'].replace({\"starting_lineup\": True, \"substitutes\": False})"
   ],
   "metadata": {
    "collapsed": false,
    "ExecuteTime": {
     "end_time": "2024-05-01T10:48:09.332337500Z",
     "start_time": "2024-05-01T10:48:09.216880700Z"
    }
   },
   "id": "f3101d7de7eee770"
  },
  {
   "cell_type": "code",
   "execution_count": 116,
   "outputs": [
    {
     "data": {
      "text/plain": "game_id          int64\nclub_id          int64\nis_starting       bool\nshirt_number     Int64\nplayer_id        int64\nplayer_name     object\nis_captain        bool\nsub_position    object\ndtype: object"
     },
     "execution_count": 116,
     "metadata": {},
     "output_type": "execute_result"
    }
   ],
   "source": [
    "lineups_df.dtypes"
   ],
   "metadata": {
    "collapsed": false,
    "ExecuteTime": {
     "end_time": "2024-05-01T10:48:11.267115500Z",
     "start_time": "2024-05-01T10:48:11.233463300Z"
    }
   },
   "id": "e2f8471cc4d19d6d"
  },
  {
   "cell_type": "code",
   "execution_count": 103,
   "outputs": [
    {
     "data": {
      "text/plain": "game_lineups_id\n77b0f371923e0c8bdf050a1e269faaac    False\ncb6eeedb9f728570615d37b6fe7facaf    False\n8e63d5f47aac2bdb0e54f5481986e104    False\nea4a96d8be410f2d646cf095c4faae7f    False\ne6abe553801b09bc623c3deb96acba17    False\n                                    ...  \nf4e6a6b2e3d24d12290c6ce4168e1bdb    False\n7a78814a66c59c79e8d40c8669a67d3f    False\n09cc07767ce441b4de4a76c102fd17d5    False\n3c259f1849421af021aba3e84a4da8de    False\n92f069e6041dae45375081d7662b2c12    False\nName: shirt_number, Length: 119133, dtype: bool"
     },
     "execution_count": 103,
     "metadata": {},
     "output_type": "execute_result"
    }
   ],
   "source": [
    "lineups_df['shirt_number'].isna()"
   ],
   "metadata": {
    "collapsed": false,
    "ExecuteTime": {
     "end_time": "2024-05-01T10:44:39.501483700Z",
     "start_time": "2024-05-01T10:44:39.470877800Z"
    }
   },
   "id": "f175842e8de7ffcf"
  },
  {
   "cell_type": "code",
   "execution_count": 117,
   "outputs": [
    {
     "data": {
      "text/plain": "                                  game_id  club_id  is_starting  shirt_number  \\\ngame_lineups_id                                                                 \n77b0f371923e0c8bdf050a1e269faaac  3606208      338         True            89   \ncb6eeedb9f728570615d37b6fe7facaf  3606208      338         True            10   \n8e63d5f47aac2bdb0e54f5481986e104  3606208      338         True             5   \nea4a96d8be410f2d646cf095c4faae7f  3606208      338         True            94   \ne6abe553801b09bc623c3deb96acba17  3606208      338         True            16   \n...                                   ...      ...          ...           ...   \nf4e6a6b2e3d24d12290c6ce4168e1bdb  4228114    46889        False             3   \n7a78814a66c59c79e8d40c8669a67d3f  4228114    46889        False             5   \n09cc07767ce441b4de4a76c102fd17d5  4228114    46889        False            13   \n3c259f1849421af021aba3e84a4da8de  4228114    46889        False            12   \n92f069e6041dae45375081d7662b2c12  4228114    46889        False            10   \n\n                                  player_id              player_name  \\\ngame_lineups_id                                                        \n77b0f371923e0c8bdf050a1e269faaac     419061       Vladyslav Supryaga   \ncb6eeedb9f728570615d37b6fe7facaf     368611        Mykola Shaparenko   \n8e63d5f47aac2bdb0e54f5481986e104     124182         Sergiy Sydorchuk   \nea4a96d8be410f2d646cf095c4faae7f     181118          Tomasz Kedziora   \ne6abe553801b09bc623c3deb96acba17     404842        Vitaliy Mykolenko   \n...                                     ...                      ...   \nf4e6a6b2e3d24d12290c6ce4168e1bdb    1200869          Thomas Chambers   \n7a78814a66c59c79e8d40c8669a67d3f    1203716  Mohammed-Idris Oshilaja   \n09cc07767ce441b4de4a76c102fd17d5    1200870              Max Ovenden   \n3c259f1849421af021aba3e84a4da8de     550816              Julien Anau   \n92f069e6041dae45375081d7662b2c12     128198             Adam Coombes   \n\n                                  is_captain        sub_position  \ngame_lineups_id                                                   \n77b0f371923e0c8bdf050a1e269faaac       False      Centre-Forward  \ncb6eeedb9f728570615d37b6fe7facaf       False    Central Midfield  \n8e63d5f47aac2bdb0e54f5481986e104        True  Defensive Midfield  \nea4a96d8be410f2d646cf095c4faae7f       False          Right-Back  \ne6abe553801b09bc623c3deb96acba17       False           Left-Back  \n...                                      ...                 ...  \nf4e6a6b2e3d24d12290c6ce4168e1bdb       False           Left-Back  \n7a78814a66c59c79e8d40c8669a67d3f       False            Defender  \n09cc07767ce441b4de4a76c102fd17d5       False          Goalkeeper  \n3c259f1849421af021aba3e84a4da8de       False  Attacking Midfield  \n92f069e6041dae45375081d7662b2c12       False              Attack  \n\n[119133 rows x 8 columns]",
      "text/html": "<div>\n<style scoped>\n    .dataframe tbody tr th:only-of-type {\n        vertical-align: middle;\n    }\n\n    .dataframe tbody tr th {\n        vertical-align: top;\n    }\n\n    .dataframe thead th {\n        text-align: right;\n    }\n</style>\n<table border=\"1\" class=\"dataframe\">\n  <thead>\n    <tr style=\"text-align: right;\">\n      <th></th>\n      <th>game_id</th>\n      <th>club_id</th>\n      <th>is_starting</th>\n      <th>shirt_number</th>\n      <th>player_id</th>\n      <th>player_name</th>\n      <th>is_captain</th>\n      <th>sub_position</th>\n    </tr>\n    <tr>\n      <th>game_lineups_id</th>\n      <th></th>\n      <th></th>\n      <th></th>\n      <th></th>\n      <th></th>\n      <th></th>\n      <th></th>\n      <th></th>\n    </tr>\n  </thead>\n  <tbody>\n    <tr>\n      <th>77b0f371923e0c8bdf050a1e269faaac</th>\n      <td>3606208</td>\n      <td>338</td>\n      <td>True</td>\n      <td>89</td>\n      <td>419061</td>\n      <td>Vladyslav Supryaga</td>\n      <td>False</td>\n      <td>Centre-Forward</td>\n    </tr>\n    <tr>\n      <th>cb6eeedb9f728570615d37b6fe7facaf</th>\n      <td>3606208</td>\n      <td>338</td>\n      <td>True</td>\n      <td>10</td>\n      <td>368611</td>\n      <td>Mykola Shaparenko</td>\n      <td>False</td>\n      <td>Central Midfield</td>\n    </tr>\n    <tr>\n      <th>8e63d5f47aac2bdb0e54f5481986e104</th>\n      <td>3606208</td>\n      <td>338</td>\n      <td>True</td>\n      <td>5</td>\n      <td>124182</td>\n      <td>Sergiy Sydorchuk</td>\n      <td>True</td>\n      <td>Defensive Midfield</td>\n    </tr>\n    <tr>\n      <th>ea4a96d8be410f2d646cf095c4faae7f</th>\n      <td>3606208</td>\n      <td>338</td>\n      <td>True</td>\n      <td>94</td>\n      <td>181118</td>\n      <td>Tomasz Kedziora</td>\n      <td>False</td>\n      <td>Right-Back</td>\n    </tr>\n    <tr>\n      <th>e6abe553801b09bc623c3deb96acba17</th>\n      <td>3606208</td>\n      <td>338</td>\n      <td>True</td>\n      <td>16</td>\n      <td>404842</td>\n      <td>Vitaliy Mykolenko</td>\n      <td>False</td>\n      <td>Left-Back</td>\n    </tr>\n    <tr>\n      <th>...</th>\n      <td>...</td>\n      <td>...</td>\n      <td>...</td>\n      <td>...</td>\n      <td>...</td>\n      <td>...</td>\n      <td>...</td>\n      <td>...</td>\n    </tr>\n    <tr>\n      <th>f4e6a6b2e3d24d12290c6ce4168e1bdb</th>\n      <td>4228114</td>\n      <td>46889</td>\n      <td>False</td>\n      <td>3</td>\n      <td>1200869</td>\n      <td>Thomas Chambers</td>\n      <td>False</td>\n      <td>Left-Back</td>\n    </tr>\n    <tr>\n      <th>7a78814a66c59c79e8d40c8669a67d3f</th>\n      <td>4228114</td>\n      <td>46889</td>\n      <td>False</td>\n      <td>5</td>\n      <td>1203716</td>\n      <td>Mohammed-Idris Oshilaja</td>\n      <td>False</td>\n      <td>Defender</td>\n    </tr>\n    <tr>\n      <th>09cc07767ce441b4de4a76c102fd17d5</th>\n      <td>4228114</td>\n      <td>46889</td>\n      <td>False</td>\n      <td>13</td>\n      <td>1200870</td>\n      <td>Max Ovenden</td>\n      <td>False</td>\n      <td>Goalkeeper</td>\n    </tr>\n    <tr>\n      <th>3c259f1849421af021aba3e84a4da8de</th>\n      <td>4228114</td>\n      <td>46889</td>\n      <td>False</td>\n      <td>12</td>\n      <td>550816</td>\n      <td>Julien Anau</td>\n      <td>False</td>\n      <td>Attacking Midfield</td>\n    </tr>\n    <tr>\n      <th>92f069e6041dae45375081d7662b2c12</th>\n      <td>4228114</td>\n      <td>46889</td>\n      <td>False</td>\n      <td>10</td>\n      <td>128198</td>\n      <td>Adam Coombes</td>\n      <td>False</td>\n      <td>Attack</td>\n    </tr>\n  </tbody>\n</table>\n<p>119133 rows × 8 columns</p>\n</div>"
     },
     "execution_count": 117,
     "metadata": {},
     "output_type": "execute_result"
    }
   ],
   "source": [
    "lineups_df"
   ],
   "metadata": {
    "collapsed": false,
    "ExecuteTime": {
     "end_time": "2024-05-01T10:48:45.103955500Z",
     "start_time": "2024-05-01T10:48:45.028538300Z"
    }
   },
   "id": "3654f18a6abd81c5"
  },
  {
   "cell_type": "markdown",
   "source": [
    "# Data Analysis & Visualization"
   ],
   "metadata": {
    "collapsed": false
   },
   "id": "dc762f37de2a5661"
  },
  {
   "cell_type": "code",
   "execution_count": 122,
   "outputs": [
    {
     "data": {
      "text/plain": "<Figure size 640x480 with 1 Axes>",
      "image/png": "[encoded data removed]"
     },
     "metadata": {},
     "output_type": "display_data"
    }
   ],
   "source": [
    "# numeri di maglia più usati (giocatori titolari)\n",
    "starting_players = lineups_df.query('is_starting == True')\n",
    "\n",
    "numbers = starting_players['shirt_number'].value_counts()\n",
    "most_used_numbers = numbers.head(10)\n",
    "\n",
    "sns.barplot(data=most_used_numbers)\n",
    "plt.show()"
   ],
   "metadata": {
    "collapsed": false,
    "ExecuteTime": {
     "end_time": "2024-05-01T10:57:12.272655100Z",
     "start_time": "2024-05-01T10:57:11.940577100Z"
    }
   },
   "id": "ca0b061a88a94c6b"
  },
  {
   "cell_type": "code",
   "execution_count": 123,
   "outputs": [
    {
     "data": {
      "text/plain": "<Figure size 640x480 with 1 Axes>",
      "image/png": "[encoded data removed]"
     },
     "metadata": {},
     "output_type": "display_data"
    }
   ],
   "source": [
    "# numeri di maglia meno usati (giocatori titolari)\n",
    "\n",
    "least_used_numbers = numbers.tail(10)\n",
    "\n",
    "sns.barplot(data=least_used_numbers)\n",
    "plt.show()"
   ],
   "metadata": {
    "collapsed": false,
    "ExecuteTime": {
     "end_time": "2024-05-01T10:58:23.808966200Z",
     "start_time": "2024-05-01T10:58:23.492935500Z"
    }
   },
   "id": "67768dfa38cf4b3b"
  },
  {
   "cell_type": "code",
   "execution_count": null,
   "outputs": [],
   "source": [
    "# numeri di maglia più usati per ogni posizione"
   ],
   "metadata": {
    "collapsed": false
   },
   "id": "35c0d261d075e12"
  },
  {
   "cell_type": "code",
   "execution_count": null,
   "outputs": [],
   "source": [
    "# posizioni con il maggior numero di capitani"
   ],
   "metadata": {
    "collapsed": false
   },
   "id": "53c50e557020035a"
  }
 ],
 "metadata": {
  "kernelspec": {
   "display_name": "Python 3",
   "language": "python",
   "name": "python3"
  },
  "language_info": {
   "codemirror_mode": {
    "name": "ipython",
    "version": 2
   },
   "file_extension": ".py",
   "mimetype": "text/x-python",
   "name": "python",
   "nbconvert_exporter": "python",
   "pygments_lexer": "ipython2",
   "version": "2.7.6"
  }
 },
 "nbformat": 4,
 "nbformat_minor": 5
}
