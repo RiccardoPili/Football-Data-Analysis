{
 "cells": [
  {
   "cell_type": "markdown",
   "source": [
    "# Importing Data & Libraries"
   ],
   "metadata": {
    "collapsed": false
   },
   "id": "7d0b0bc9284fea63"
  },
  {
   "cell_type": "code",
   "execution_count": 7,
   "outputs": [],
   "source": [
    "import pandas as pd\n",
    "import matplotlib.pylab as plt\n",
    "import seaborn as sns\n",
    "\n",
    "club_games_df = pd.read_csv(\"C:/Users/Louis/Desktop/3°Anno/IUM/Progetto/FootballData/club_games.csv\")"
   ],
   "metadata": {
    "collapsed": false,
    "ExecuteTime": {
     "end_time": "2024-04-24T13:59:58.912444800Z",
     "start_time": "2024-04-24T13:59:58.771499Z"
    }
   },
   "id": "a554d5c9baf035a7"
  },
  {
   "cell_type": "markdown",
   "source": [
    "# Data Preparation"
   ],
   "metadata": {
    "collapsed": false
   },
   "id": "cb888531da69fd74"
  },
  {
   "cell_type": "code",
   "execution_count": 8,
   "outputs": [
    {
     "data": {
      "text/plain": "(130432, 11)"
     },
     "execution_count": 8,
     "metadata": {},
     "output_type": "execute_result"
    }
   ],
   "source": [
    "club_games_df.shape"
   ],
   "metadata": {
    "collapsed": false,
    "ExecuteTime": {
     "end_time": "2024-04-24T14:00:00.875463Z",
     "start_time": "2024-04-24T14:00:00.848132400Z"
    }
   },
   "id": "24cbbeace9eb69c2"
  },
  {
   "cell_type": "code",
   "execution_count": 9,
   "outputs": [
    {
     "data": {
      "text/plain": "        game_id  club_id  own_goals  own_position  own_manager_name  \\\n130422  4094659      667          1          14.0    Patrick Vieira   \n130423  4095969       39          1          16.0       Bo Svensson   \n130424  4098048      383          3           1.0        Peter Bosz   \n130425  4120903      370          0          11.0      Barry Robson   \n130426  4126817      126          3          11.0       İlhan Palut   \n130427  4126931    20923          2           NaN   Sergey Perednya   \n130428  4148237      920          0           NaN  Ruaidhri Higgins   \n130429  4171268      681          2           NaN   Imanol Alguacil   \n130430  4148252      144          3           NaN  Sergej Jakirovic   \n130431  4171248      418          3           NaN   Carlo Ancelotti   \n\n        opponent_id  opponent_goals  opponent_position opponent_manager_name  \\\n130422          273               1                9.0         Bruno Génésio   \n130423           89               4                3.0           Urs Fischer   \n130424          317               0                4.0        Joseph Oosting   \n130425         2553               2                4.0         Derek McInnes   \n130426          449               2               13.0         Nenad Bjelica   \n130427        12065               1                NaN   Aleksandr Gorbachev   \n130428        10481               1                NaN          Milic Curcic   \n130429          409               0                NaN       Gerhard Struber   \n130430        10532               1                NaN          Dan Brimsvík   \n130431         6195               2                NaN           Rudi Garcia   \n\n       hosting  is_win  \n130422    Away       0  \n130423    Away       0  \n130424    Away       1  \n130425    Away       0  \n130426    Away       1  \n130427    Away       1  \n130428    Away       0  \n130429    Away       1  \n130430    Away       1  \n130431    Away       1  ",
      "text/html": "<div>\n<style scoped>\n    .dataframe tbody tr th:only-of-type {\n        vertical-align: middle;\n    }\n\n    .dataframe tbody tr th {\n        vertical-align: top;\n    }\n\n    .dataframe thead th {\n        text-align: right;\n    }\n</style>\n<table border=\"1\" class=\"dataframe\">\n  <thead>\n    <tr style=\"text-align: right;\">\n      <th></th>\n      <th>game_id</th>\n      <th>club_id</th>\n      <th>own_goals</th>\n      <th>own_position</th>\n      <th>own_manager_name</th>\n      <th>opponent_id</th>\n      <th>opponent_goals</th>\n      <th>opponent_position</th>\n      <th>opponent_manager_name</th>\n      <th>hosting</th>\n      <th>is_win</th>\n    </tr>\n  </thead>\n  <tbody>\n    <tr>\n      <th>130422</th>\n      <td>4094659</td>\n      <td>667</td>\n      <td>1</td>\n      <td>14.0</td>\n      <td>Patrick Vieira</td>\n      <td>273</td>\n      <td>1</td>\n      <td>9.0</td>\n      <td>Bruno Génésio</td>\n      <td>Away</td>\n      <td>0</td>\n    </tr>\n    <tr>\n      <th>130423</th>\n      <td>4095969</td>\n      <td>39</td>\n      <td>1</td>\n      <td>16.0</td>\n      <td>Bo Svensson</td>\n      <td>89</td>\n      <td>4</td>\n      <td>3.0</td>\n      <td>Urs Fischer</td>\n      <td>Away</td>\n      <td>0</td>\n    </tr>\n    <tr>\n      <th>130424</th>\n      <td>4098048</td>\n      <td>383</td>\n      <td>3</td>\n      <td>1.0</td>\n      <td>Peter Bosz</td>\n      <td>317</td>\n      <td>0</td>\n      <td>4.0</td>\n      <td>Joseph Oosting</td>\n      <td>Away</td>\n      <td>1</td>\n    </tr>\n    <tr>\n      <th>130425</th>\n      <td>4120903</td>\n      <td>370</td>\n      <td>0</td>\n      <td>11.0</td>\n      <td>Barry Robson</td>\n      <td>2553</td>\n      <td>2</td>\n      <td>4.0</td>\n      <td>Derek McInnes</td>\n      <td>Away</td>\n      <td>0</td>\n    </tr>\n    <tr>\n      <th>130426</th>\n      <td>4126817</td>\n      <td>126</td>\n      <td>3</td>\n      <td>11.0</td>\n      <td>İlhan Palut</td>\n      <td>449</td>\n      <td>2</td>\n      <td>13.0</td>\n      <td>Nenad Bjelica</td>\n      <td>Away</td>\n      <td>1</td>\n    </tr>\n    <tr>\n      <th>130427</th>\n      <td>4126931</td>\n      <td>20923</td>\n      <td>2</td>\n      <td>NaN</td>\n      <td>Sergey Perednya</td>\n      <td>12065</td>\n      <td>1</td>\n      <td>NaN</td>\n      <td>Aleksandr Gorbachev</td>\n      <td>Away</td>\n      <td>1</td>\n    </tr>\n    <tr>\n      <th>130428</th>\n      <td>4148237</td>\n      <td>920</td>\n      <td>0</td>\n      <td>NaN</td>\n      <td>Ruaidhri Higgins</td>\n      <td>10481</td>\n      <td>1</td>\n      <td>NaN</td>\n      <td>Milic Curcic</td>\n      <td>Away</td>\n      <td>0</td>\n    </tr>\n    <tr>\n      <th>130429</th>\n      <td>4171268</td>\n      <td>681</td>\n      <td>2</td>\n      <td>NaN</td>\n      <td>Imanol Alguacil</td>\n      <td>409</td>\n      <td>0</td>\n      <td>NaN</td>\n      <td>Gerhard Struber</td>\n      <td>Away</td>\n      <td>1</td>\n    </tr>\n    <tr>\n      <th>130430</th>\n      <td>4148252</td>\n      <td>144</td>\n      <td>3</td>\n      <td>NaN</td>\n      <td>Sergej Jakirovic</td>\n      <td>10532</td>\n      <td>1</td>\n      <td>NaN</td>\n      <td>Dan Brimsvík</td>\n      <td>Away</td>\n      <td>1</td>\n    </tr>\n    <tr>\n      <th>130431</th>\n      <td>4171248</td>\n      <td>418</td>\n      <td>3</td>\n      <td>NaN</td>\n      <td>Carlo Ancelotti</td>\n      <td>6195</td>\n      <td>2</td>\n      <td>NaN</td>\n      <td>Rudi Garcia</td>\n      <td>Away</td>\n      <td>1</td>\n    </tr>\n  </tbody>\n</table>\n</div>"
     },
     "execution_count": 9,
     "metadata": {},
     "output_type": "execute_result"
    }
   ],
   "source": [
    "club_games_df.tail(10)"
   ],
   "metadata": {
    "collapsed": false,
    "ExecuteTime": {
     "end_time": "2024-04-24T14:00:01.638414Z",
     "start_time": "2024-04-24T14:00:01.607510800Z"
    }
   },
   "id": "99df5392fca71478"
  },
  {
   "cell_type": "code",
   "execution_count": 10,
   "outputs": [
    {
     "data": {
      "text/plain": "         club_id  own_goals  own_position      own_manager_name  opponent_id  \\\ngame_id                                                                        \n2221751      431          1           NaN         Lutz Göttling           60   \n2221755       83          3           NaN      Ralph Hasenhüttl         4795   \n2222597     3725          2           2.0  Stanislav Cherchesov          232   \n2222627     2696          0          11.0        Andrey Kobelev         4128   \n2222658     2410          0           2.0        Leonid Slutski          121   \n2222664      932          1           5.0          Slaven Bilic         2698   \n2222683     2696          0          11.0        Andrey Kobelev        12438   \n2222685     2698          0           7.0        Kurban Berdyev          232   \n2222709     3725          2           5.0  Stanislav Cherchesov        11126   \n2222734     1083          2          11.0       Miodrag Bozovic        16704   \n\n         opponent_goals  opponent_position opponent_manager_name hosting  \\\ngame_id                                                                    \n2221751               2                NaN     Christian Streich    Home   \n2221755               0                NaN            Tomas Oral    Home   \n2222597               1                5.0            Unai Emery    Home   \n2222627               2               10.0         Rustem Khuzin    Home   \n2222658               2               13.0          Dan Petrescu    Home   \n2222664               0                8.0        Kurban Berdyev    Home   \n2222683               1               16.0       Gadzhi Gadzhiev    Home   \n2222685               1                5.0        Valeriy Karpin    Home   \n2222709               1               16.0  Fedor Shcherbachenko    Home   \n2222734               3               10.0      Slavoljub Muslin    Home   \n\n         is_win  \ngame_id          \n2221751       0  \n2221755       1  \n2222597       1  \n2222627       0  \n2222658       0  \n2222664       1  \n2222683       0  \n2222685       0  \n2222709       1  \n2222734       0  ",
      "text/html": "<div>\n<style scoped>\n    .dataframe tbody tr th:only-of-type {\n        vertical-align: middle;\n    }\n\n    .dataframe tbody tr th {\n        vertical-align: top;\n    }\n\n    .dataframe thead th {\n        text-align: right;\n    }\n</style>\n<table border=\"1\" class=\"dataframe\">\n  <thead>\n    <tr style=\"text-align: right;\">\n      <th></th>\n      <th>club_id</th>\n      <th>own_goals</th>\n      <th>own_position</th>\n      <th>own_manager_name</th>\n      <th>opponent_id</th>\n      <th>opponent_goals</th>\n      <th>opponent_position</th>\n      <th>opponent_manager_name</th>\n      <th>hosting</th>\n      <th>is_win</th>\n    </tr>\n    <tr>\n      <th>game_id</th>\n      <th></th>\n      <th></th>\n      <th></th>\n      <th></th>\n      <th></th>\n      <th></th>\n      <th></th>\n      <th></th>\n      <th></th>\n      <th></th>\n    </tr>\n  </thead>\n  <tbody>\n    <tr>\n      <th>2221751</th>\n      <td>431</td>\n      <td>1</td>\n      <td>NaN</td>\n      <td>Lutz Göttling</td>\n      <td>60</td>\n      <td>2</td>\n      <td>NaN</td>\n      <td>Christian Streich</td>\n      <td>Home</td>\n      <td>0</td>\n    </tr>\n    <tr>\n      <th>2221755</th>\n      <td>83</td>\n      <td>3</td>\n      <td>NaN</td>\n      <td>Ralph Hasenhüttl</td>\n      <td>4795</td>\n      <td>0</td>\n      <td>NaN</td>\n      <td>Tomas Oral</td>\n      <td>Home</td>\n      <td>1</td>\n    </tr>\n    <tr>\n      <th>2222597</th>\n      <td>3725</td>\n      <td>2</td>\n      <td>2.0</td>\n      <td>Stanislav Cherchesov</td>\n      <td>232</td>\n      <td>1</td>\n      <td>5.0</td>\n      <td>Unai Emery</td>\n      <td>Home</td>\n      <td>1</td>\n    </tr>\n    <tr>\n      <th>2222627</th>\n      <td>2696</td>\n      <td>0</td>\n      <td>11.0</td>\n      <td>Andrey Kobelev</td>\n      <td>4128</td>\n      <td>2</td>\n      <td>10.0</td>\n      <td>Rustem Khuzin</td>\n      <td>Home</td>\n      <td>0</td>\n    </tr>\n    <tr>\n      <th>2222658</th>\n      <td>2410</td>\n      <td>0</td>\n      <td>2.0</td>\n      <td>Leonid Slutski</td>\n      <td>121</td>\n      <td>2</td>\n      <td>13.0</td>\n      <td>Dan Petrescu</td>\n      <td>Home</td>\n      <td>0</td>\n    </tr>\n    <tr>\n      <th>2222664</th>\n      <td>932</td>\n      <td>1</td>\n      <td>5.0</td>\n      <td>Slaven Bilic</td>\n      <td>2698</td>\n      <td>0</td>\n      <td>8.0</td>\n      <td>Kurban Berdyev</td>\n      <td>Home</td>\n      <td>1</td>\n    </tr>\n    <tr>\n      <th>2222683</th>\n      <td>2696</td>\n      <td>0</td>\n      <td>11.0</td>\n      <td>Andrey Kobelev</td>\n      <td>12438</td>\n      <td>1</td>\n      <td>16.0</td>\n      <td>Gadzhi Gadzhiev</td>\n      <td>Home</td>\n      <td>0</td>\n    </tr>\n    <tr>\n      <th>2222685</th>\n      <td>2698</td>\n      <td>0</td>\n      <td>7.0</td>\n      <td>Kurban Berdyev</td>\n      <td>232</td>\n      <td>1</td>\n      <td>5.0</td>\n      <td>Valeriy Karpin</td>\n      <td>Home</td>\n      <td>0</td>\n    </tr>\n    <tr>\n      <th>2222709</th>\n      <td>3725</td>\n      <td>2</td>\n      <td>5.0</td>\n      <td>Stanislav Cherchesov</td>\n      <td>11126</td>\n      <td>1</td>\n      <td>16.0</td>\n      <td>Fedor Shcherbachenko</td>\n      <td>Home</td>\n      <td>1</td>\n    </tr>\n    <tr>\n      <th>2222734</th>\n      <td>1083</td>\n      <td>2</td>\n      <td>11.0</td>\n      <td>Miodrag Bozovic</td>\n      <td>16704</td>\n      <td>3</td>\n      <td>10.0</td>\n      <td>Slavoljub Muslin</td>\n      <td>Home</td>\n      <td>0</td>\n    </tr>\n  </tbody>\n</table>\n</div>"
     },
     "execution_count": 10,
     "metadata": {},
     "output_type": "execute_result"
    }
   ],
   "source": [
    "club_games_df = club_games_df.set_index('game_id')\n",
    "club_games_df.head(10)"
   ],
   "metadata": {
    "collapsed": false,
    "ExecuteTime": {
     "end_time": "2024-04-24T14:00:03.838528200Z",
     "start_time": "2024-04-24T14:00:03.808477700Z"
    }
   },
   "id": "8a104e1be99cfb92"
  },
  {
   "cell_type": "code",
   "execution_count": 11,
   "outputs": [
    {
     "data": {
      "text/plain": "         club_id  club_goals  club_position     club_manager_name  \\\ngame_id                                                             \n2221751      431           1            NaN         Lutz Göttling   \n2221755       83           3            NaN      Ralph Hasenhüttl   \n2222597     3725           2            2.0  Stanislav Cherchesov   \n2222627     2696           0           11.0        Andrey Kobelev   \n2222658     2410           0            2.0        Leonid Slutski   \n...          ...         ...            ...                   ...   \n4126931    20923           2            NaN       Sergey Perednya   \n4148237      920           0            NaN      Ruaidhri Higgins   \n4171268      681           2            NaN       Imanol Alguacil   \n4148252      144           3            NaN      Sergej Jakirovic   \n4171248      418           3            NaN       Carlo Ancelotti   \n\n         opponent_id  opponent_goals  opponent_position opponent_manager_name  \\\ngame_id                                                                         \n2221751           60               2                NaN     Christian Streich   \n2221755         4795               0                NaN            Tomas Oral   \n2222597          232               1                5.0            Unai Emery   \n2222627         4128               2               10.0         Rustem Khuzin   \n2222658          121               2               13.0          Dan Petrescu   \n...              ...             ...                ...                   ...   \n4126931        12065               1                NaN   Aleksandr Gorbachev   \n4148237        10481               1                NaN          Milic Curcic   \n4171268          409               0                NaN       Gerhard Struber   \n4148252        10532               1                NaN          Dan Brimsvík   \n4171248         6195               2                NaN           Rudi Garcia   \n\n        hosting  is_win  \ngame_id                  \n2221751    Home       0  \n2221755    Home       1  \n2222597    Home       1  \n2222627    Home       0  \n2222658    Home       0  \n...         ...     ...  \n4126931    Away       1  \n4148237    Away       0  \n4171268    Away       1  \n4148252    Away       1  \n4171248    Away       1  \n\n[130432 rows x 10 columns]",
      "text/html": "<div>\n<style scoped>\n    .dataframe tbody tr th:only-of-type {\n        vertical-align: middle;\n    }\n\n    .dataframe tbody tr th {\n        vertical-align: top;\n    }\n\n    .dataframe thead th {\n        text-align: right;\n    }\n</style>\n<table border=\"1\" class=\"dataframe\">\n  <thead>\n    <tr style=\"text-align: right;\">\n      <th></th>\n      <th>club_id</th>\n      <th>club_goals</th>\n      <th>club_position</th>\n      <th>club_manager_name</th>\n      <th>opponent_id</th>\n      <th>opponent_goals</th>\n      <th>opponent_position</th>\n      <th>opponent_manager_name</th>\n      <th>hosting</th>\n      <th>is_win</th>\n    </tr>\n    <tr>\n      <th>game_id</th>\n      <th></th>\n      <th></th>\n      <th></th>\n      <th></th>\n      <th></th>\n      <th></th>\n      <th></th>\n      <th></th>\n      <th></th>\n      <th></th>\n    </tr>\n  </thead>\n  <tbody>\n    <tr>\n      <th>2221751</th>\n      <td>431</td>\n      <td>1</td>\n      <td>NaN</td>\n      <td>Lutz Göttling</td>\n      <td>60</td>\n      <td>2</td>\n      <td>NaN</td>\n      <td>Christian Streich</td>\n      <td>Home</td>\n      <td>0</td>\n    </tr>\n    <tr>\n      <th>2221755</th>\n      <td>83</td>\n      <td>3</td>\n      <td>NaN</td>\n      <td>Ralph Hasenhüttl</td>\n      <td>4795</td>\n      <td>0</td>\n      <td>NaN</td>\n      <td>Tomas Oral</td>\n      <td>Home</td>\n      <td>1</td>\n    </tr>\n    <tr>\n      <th>2222597</th>\n      <td>3725</td>\n      <td>2</td>\n      <td>2.0</td>\n      <td>Stanislav Cherchesov</td>\n      <td>232</td>\n      <td>1</td>\n      <td>5.0</td>\n      <td>Unai Emery</td>\n      <td>Home</td>\n      <td>1</td>\n    </tr>\n    <tr>\n      <th>2222627</th>\n      <td>2696</td>\n      <td>0</td>\n      <td>11.0</td>\n      <td>Andrey Kobelev</td>\n      <td>4128</td>\n      <td>2</td>\n      <td>10.0</td>\n      <td>Rustem Khuzin</td>\n      <td>Home</td>\n      <td>0</td>\n    </tr>\n    <tr>\n      <th>2222658</th>\n      <td>2410</td>\n      <td>0</td>\n      <td>2.0</td>\n      <td>Leonid Slutski</td>\n      <td>121</td>\n      <td>2</td>\n      <td>13.0</td>\n      <td>Dan Petrescu</td>\n      <td>Home</td>\n      <td>0</td>\n    </tr>\n    <tr>\n      <th>...</th>\n      <td>...</td>\n      <td>...</td>\n      <td>...</td>\n      <td>...</td>\n      <td>...</td>\n      <td>...</td>\n      <td>...</td>\n      <td>...</td>\n      <td>...</td>\n      <td>...</td>\n    </tr>\n    <tr>\n      <th>4126931</th>\n      <td>20923</td>\n      <td>2</td>\n      <td>NaN</td>\n      <td>Sergey Perednya</td>\n      <td>12065</td>\n      <td>1</td>\n      <td>NaN</td>\n      <td>Aleksandr Gorbachev</td>\n      <td>Away</td>\n      <td>1</td>\n    </tr>\n    <tr>\n      <th>4148237</th>\n      <td>920</td>\n      <td>0</td>\n      <td>NaN</td>\n      <td>Ruaidhri Higgins</td>\n      <td>10481</td>\n      <td>1</td>\n      <td>NaN</td>\n      <td>Milic Curcic</td>\n      <td>Away</td>\n      <td>0</td>\n    </tr>\n    <tr>\n      <th>4171268</th>\n      <td>681</td>\n      <td>2</td>\n      <td>NaN</td>\n      <td>Imanol Alguacil</td>\n      <td>409</td>\n      <td>0</td>\n      <td>NaN</td>\n      <td>Gerhard Struber</td>\n      <td>Away</td>\n      <td>1</td>\n    </tr>\n    <tr>\n      <th>4148252</th>\n      <td>144</td>\n      <td>3</td>\n      <td>NaN</td>\n      <td>Sergej Jakirovic</td>\n      <td>10532</td>\n      <td>1</td>\n      <td>NaN</td>\n      <td>Dan Brimsvík</td>\n      <td>Away</td>\n      <td>1</td>\n    </tr>\n    <tr>\n      <th>4171248</th>\n      <td>418</td>\n      <td>3</td>\n      <td>NaN</td>\n      <td>Carlo Ancelotti</td>\n      <td>6195</td>\n      <td>2</td>\n      <td>NaN</td>\n      <td>Rudi Garcia</td>\n      <td>Away</td>\n      <td>1</td>\n    </tr>\n  </tbody>\n</table>\n<p>130432 rows × 10 columns</p>\n</div>"
     },
     "execution_count": 11,
     "metadata": {},
     "output_type": "execute_result"
    }
   ],
   "source": [
    "# renaming columns\n",
    "club_games_df = club_games_df.rename(columns= {\n",
    "    'own_goals' : 'club_goals',\n",
    "    'own_position' : 'club_position',\n",
    "    'own_manager_name':'club_manager_name'\n",
    "})\n",
    "\n",
    "club_games_df"
   ],
   "metadata": {
    "collapsed": false,
    "ExecuteTime": {
     "end_time": "2024-04-24T14:03:14.912773500Z",
     "start_time": "2024-04-24T14:03:14.879644300Z"
    }
   },
   "id": "f1cff85ec7f87465"
  },
  {
   "cell_type": "code",
   "execution_count": 12,
   "outputs": [
    {
     "data": {
      "text/plain": "club_id                      0\nclub_goals                   0\nclub_position            38908\nclub_manager_name         1484\nopponent_id                  0\nopponent_goals               0\nopponent_position        38908\nopponent_manager_name     1484\nhosting                      0\nis_win                       0\ndtype: int64"
     },
     "execution_count": 12,
     "metadata": {},
     "output_type": "execute_result"
    }
   ],
   "source": [
    "club_games_df.isna().sum()"
   ],
   "metadata": {
    "collapsed": false,
    "ExecuteTime": {
     "end_time": "2024-04-24T14:04:09.294241Z",
     "start_time": "2024-04-24T14:04:09.253299900Z"
    }
   },
   "id": "75c9e7ddba869ae8"
  },
  {
   "cell_type": "code",
   "execution_count": null,
   "outputs": [],
   "source": [],
   "metadata": {
    "collapsed": false
   },
   "id": "7cc0ad26a0bd965a"
  },
  {
   "cell_type": "markdown",
   "source": [
    "# Data Analysis & Visualization"
   ],
   "metadata": {
    "collapsed": false
   },
   "id": "309f3356f472e247"
  },
  {
   "cell_type": "code",
   "execution_count": null,
   "outputs": [],
   "source": [],
   "metadata": {
    "collapsed": false
   },
   "id": "14c8783e16cba5e9"
  }
 ],
 "metadata": {
  "kernelspec": {
   "display_name": "Python 3",
   "language": "python",
   "name": "python3"
  },
  "language_info": {
   "codemirror_mode": {
    "name": "ipython",
    "version": 2
   },
   "file_extension": ".py",
   "mimetype": "text/x-python",
   "name": "python",
   "nbconvert_exporter": "python",
   "pygments_lexer": "ipython2",
   "version": "2.7.6"
  }
 },
 "nbformat": 4,
 "nbformat_minor": 5
}
