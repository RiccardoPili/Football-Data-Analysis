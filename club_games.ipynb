{
 "cells": [
  {
   "cell_type": "markdown",
   "source": [
    "# Importing Data & Libraries"
   ],
   "metadata": {
    "collapsed": false
   },
   "id": "7d0b0bc9284fea63"
  },
  {
   "cell_type": "code",
   "execution_count": 29,
   "outputs": [],
   "source": [
    "import pandas as pd\n",
    "import matplotlib.pylab as plt\n",
    "import seaborn as sns\n",
    "\n",
    "club_games_df = pd.read_csv(\"C:/Users/Louis/Desktop/3°Anno/IUM/Progetto/FootballData/club_games.csv\")"
   ],
   "metadata": {
    "collapsed": false,
    "ExecuteTime": {
     "end_time": "2024-04-24T14:33:12.663148700Z",
     "start_time": "2024-04-24T14:33:12.507215800Z"
    }
   },
   "id": "a554d5c9baf035a7"
  },
  {
   "cell_type": "markdown",
   "source": [
    "# Data Preparation"
   ],
   "metadata": {
    "collapsed": false
   },
   "id": "cb888531da69fd74"
  },
  {
   "cell_type": "code",
   "execution_count": 30,
   "outputs": [
    {
     "data": {
      "text/plain": "(130432, 11)"
     },
     "execution_count": 30,
     "metadata": {},
     "output_type": "execute_result"
    }
   ],
   "source": [
    "club_games_df.shape"
   ],
   "metadata": {
    "collapsed": false,
    "ExecuteTime": {
     "end_time": "2024-04-24T14:33:12.678147Z",
     "start_time": "2024-04-24T14:33:12.651212Z"
    }
   },
   "id": "24cbbeace9eb69c2"
  },
  {
   "cell_type": "code",
   "execution_count": 31,
   "outputs": [
    {
     "data": {
      "text/plain": "        game_id  club_id  own_goals  own_position  own_manager_name  \\\n130422  4094659      667          1          14.0    Patrick Vieira   \n130423  4095969       39          1          16.0       Bo Svensson   \n130424  4098048      383          3           1.0        Peter Bosz   \n130425  4120903      370          0          11.0      Barry Robson   \n130426  4126817      126          3          11.0       İlhan Palut   \n130427  4126931    20923          2           NaN   Sergey Perednya   \n130428  4148237      920          0           NaN  Ruaidhri Higgins   \n130429  4171268      681          2           NaN   Imanol Alguacil   \n130430  4148252      144          3           NaN  Sergej Jakirovic   \n130431  4171248      418          3           NaN   Carlo Ancelotti   \n\n        opponent_id  opponent_goals  opponent_position opponent_manager_name  \\\n130422          273               1                9.0         Bruno Génésio   \n130423           89               4                3.0           Urs Fischer   \n130424          317               0                4.0        Joseph Oosting   \n130425         2553               2                4.0         Derek McInnes   \n130426          449               2               13.0         Nenad Bjelica   \n130427        12065               1                NaN   Aleksandr Gorbachev   \n130428        10481               1                NaN          Milic Curcic   \n130429          409               0                NaN       Gerhard Struber   \n130430        10532               1                NaN          Dan Brimsvík   \n130431         6195               2                NaN           Rudi Garcia   \n\n       hosting  is_win  \n130422    Away       0  \n130423    Away       0  \n130424    Away       1  \n130425    Away       0  \n130426    Away       1  \n130427    Away       1  \n130428    Away       0  \n130429    Away       1  \n130430    Away       1  \n130431    Away       1  ",
      "text/html": "<div>\n<style scoped>\n    .dataframe tbody tr th:only-of-type {\n        vertical-align: middle;\n    }\n\n    .dataframe tbody tr th {\n        vertical-align: top;\n    }\n\n    .dataframe thead th {\n        text-align: right;\n    }\n</style>\n<table border=\"1\" class=\"dataframe\">\n  <thead>\n    <tr style=\"text-align: right;\">\n      <th></th>\n      <th>game_id</th>\n      <th>club_id</th>\n      <th>own_goals</th>\n      <th>own_position</th>\n      <th>own_manager_name</th>\n      <th>opponent_id</th>\n      <th>opponent_goals</th>\n      <th>opponent_position</th>\n      <th>opponent_manager_name</th>\n      <th>hosting</th>\n      <th>is_win</th>\n    </tr>\n  </thead>\n  <tbody>\n    <tr>\n      <th>130422</th>\n      <td>4094659</td>\n      <td>667</td>\n      <td>1</td>\n      <td>14.0</td>\n      <td>Patrick Vieira</td>\n      <td>273</td>\n      <td>1</td>\n      <td>9.0</td>\n      <td>Bruno Génésio</td>\n      <td>Away</td>\n      <td>0</td>\n    </tr>\n    <tr>\n      <th>130423</th>\n      <td>4095969</td>\n      <td>39</td>\n      <td>1</td>\n      <td>16.0</td>\n      <td>Bo Svensson</td>\n      <td>89</td>\n      <td>4</td>\n      <td>3.0</td>\n      <td>Urs Fischer</td>\n      <td>Away</td>\n      <td>0</td>\n    </tr>\n    <tr>\n      <th>130424</th>\n      <td>4098048</td>\n      <td>383</td>\n      <td>3</td>\n      <td>1.0</td>\n      <td>Peter Bosz</td>\n      <td>317</td>\n      <td>0</td>\n      <td>4.0</td>\n      <td>Joseph Oosting</td>\n      <td>Away</td>\n      <td>1</td>\n    </tr>\n    <tr>\n      <th>130425</th>\n      <td>4120903</td>\n      <td>370</td>\n      <td>0</td>\n      <td>11.0</td>\n      <td>Barry Robson</td>\n      <td>2553</td>\n      <td>2</td>\n      <td>4.0</td>\n      <td>Derek McInnes</td>\n      <td>Away</td>\n      <td>0</td>\n    </tr>\n    <tr>\n      <th>130426</th>\n      <td>4126817</td>\n      <td>126</td>\n      <td>3</td>\n      <td>11.0</td>\n      <td>İlhan Palut</td>\n      <td>449</td>\n      <td>2</td>\n      <td>13.0</td>\n      <td>Nenad Bjelica</td>\n      <td>Away</td>\n      <td>1</td>\n    </tr>\n    <tr>\n      <th>130427</th>\n      <td>4126931</td>\n      <td>20923</td>\n      <td>2</td>\n      <td>NaN</td>\n      <td>Sergey Perednya</td>\n      <td>12065</td>\n      <td>1</td>\n      <td>NaN</td>\n      <td>Aleksandr Gorbachev</td>\n      <td>Away</td>\n      <td>1</td>\n    </tr>\n    <tr>\n      <th>130428</th>\n      <td>4148237</td>\n      <td>920</td>\n      <td>0</td>\n      <td>NaN</td>\n      <td>Ruaidhri Higgins</td>\n      <td>10481</td>\n      <td>1</td>\n      <td>NaN</td>\n      <td>Milic Curcic</td>\n      <td>Away</td>\n      <td>0</td>\n    </tr>\n    <tr>\n      <th>130429</th>\n      <td>4171268</td>\n      <td>681</td>\n      <td>2</td>\n      <td>NaN</td>\n      <td>Imanol Alguacil</td>\n      <td>409</td>\n      <td>0</td>\n      <td>NaN</td>\n      <td>Gerhard Struber</td>\n      <td>Away</td>\n      <td>1</td>\n    </tr>\n    <tr>\n      <th>130430</th>\n      <td>4148252</td>\n      <td>144</td>\n      <td>3</td>\n      <td>NaN</td>\n      <td>Sergej Jakirovic</td>\n      <td>10532</td>\n      <td>1</td>\n      <td>NaN</td>\n      <td>Dan Brimsvík</td>\n      <td>Away</td>\n      <td>1</td>\n    </tr>\n    <tr>\n      <th>130431</th>\n      <td>4171248</td>\n      <td>418</td>\n      <td>3</td>\n      <td>NaN</td>\n      <td>Carlo Ancelotti</td>\n      <td>6195</td>\n      <td>2</td>\n      <td>NaN</td>\n      <td>Rudi Garcia</td>\n      <td>Away</td>\n      <td>1</td>\n    </tr>\n  </tbody>\n</table>\n</div>"
     },
     "execution_count": 31,
     "metadata": {},
     "output_type": "execute_result"
    }
   ],
   "source": [
    "club_games_df.tail(10)"
   ],
   "metadata": {
    "collapsed": false,
    "ExecuteTime": {
     "end_time": "2024-04-24T14:33:12.681149300Z",
     "start_time": "2024-04-24T14:33:12.667147700Z"
    }
   },
   "id": "99df5392fca71478"
  },
  {
   "cell_type": "code",
   "execution_count": 32,
   "outputs": [
    {
     "data": {
      "text/plain": "         club_id  own_goals  own_position      own_manager_name  opponent_id  \\\ngame_id                                                                        \n2221751      431          1           NaN         Lutz Göttling           60   \n2221755       83          3           NaN      Ralph Hasenhüttl         4795   \n2222597     3725          2           2.0  Stanislav Cherchesov          232   \n2222627     2696          0          11.0        Andrey Kobelev         4128   \n2222658     2410          0           2.0        Leonid Slutski          121   \n2222664      932          1           5.0          Slaven Bilic         2698   \n2222683     2696          0          11.0        Andrey Kobelev        12438   \n2222685     2698          0           7.0        Kurban Berdyev          232   \n2222709     3725          2           5.0  Stanislav Cherchesov        11126   \n2222734     1083          2          11.0       Miodrag Bozovic        16704   \n\n         opponent_goals  opponent_position opponent_manager_name hosting  \\\ngame_id                                                                    \n2221751               2                NaN     Christian Streich    Home   \n2221755               0                NaN            Tomas Oral    Home   \n2222597               1                5.0            Unai Emery    Home   \n2222627               2               10.0         Rustem Khuzin    Home   \n2222658               2               13.0          Dan Petrescu    Home   \n2222664               0                8.0        Kurban Berdyev    Home   \n2222683               1               16.0       Gadzhi Gadzhiev    Home   \n2222685               1                5.0        Valeriy Karpin    Home   \n2222709               1               16.0  Fedor Shcherbachenko    Home   \n2222734               3               10.0      Slavoljub Muslin    Home   \n\n         is_win  \ngame_id          \n2221751       0  \n2221755       1  \n2222597       1  \n2222627       0  \n2222658       0  \n2222664       1  \n2222683       0  \n2222685       0  \n2222709       1  \n2222734       0  ",
      "text/html": "<div>\n<style scoped>\n    .dataframe tbody tr th:only-of-type {\n        vertical-align: middle;\n    }\n\n    .dataframe tbody tr th {\n        vertical-align: top;\n    }\n\n    .dataframe thead th {\n        text-align: right;\n    }\n</style>\n<table border=\"1\" class=\"dataframe\">\n  <thead>\n    <tr style=\"text-align: right;\">\n      <th></th>\n      <th>club_id</th>\n      <th>own_goals</th>\n      <th>own_position</th>\n      <th>own_manager_name</th>\n      <th>opponent_id</th>\n      <th>opponent_goals</th>\n      <th>opponent_position</th>\n      <th>opponent_manager_name</th>\n      <th>hosting</th>\n      <th>is_win</th>\n    </tr>\n    <tr>\n      <th>game_id</th>\n      <th></th>\n      <th></th>\n      <th></th>\n      <th></th>\n      <th></th>\n      <th></th>\n      <th></th>\n      <th></th>\n      <th></th>\n      <th></th>\n    </tr>\n  </thead>\n  <tbody>\n    <tr>\n      <th>2221751</th>\n      <td>431</td>\n      <td>1</td>\n      <td>NaN</td>\n      <td>Lutz Göttling</td>\n      <td>60</td>\n      <td>2</td>\n      <td>NaN</td>\n      <td>Christian Streich</td>\n      <td>Home</td>\n      <td>0</td>\n    </tr>\n    <tr>\n      <th>2221755</th>\n      <td>83</td>\n      <td>3</td>\n      <td>NaN</td>\n      <td>Ralph Hasenhüttl</td>\n      <td>4795</td>\n      <td>0</td>\n      <td>NaN</td>\n      <td>Tomas Oral</td>\n      <td>Home</td>\n      <td>1</td>\n    </tr>\n    <tr>\n      <th>2222597</th>\n      <td>3725</td>\n      <td>2</td>\n      <td>2.0</td>\n      <td>Stanislav Cherchesov</td>\n      <td>232</td>\n      <td>1</td>\n      <td>5.0</td>\n      <td>Unai Emery</td>\n      <td>Home</td>\n      <td>1</td>\n    </tr>\n    <tr>\n      <th>2222627</th>\n      <td>2696</td>\n      <td>0</td>\n      <td>11.0</td>\n      <td>Andrey Kobelev</td>\n      <td>4128</td>\n      <td>2</td>\n      <td>10.0</td>\n      <td>Rustem Khuzin</td>\n      <td>Home</td>\n      <td>0</td>\n    </tr>\n    <tr>\n      <th>2222658</th>\n      <td>2410</td>\n      <td>0</td>\n      <td>2.0</td>\n      <td>Leonid Slutski</td>\n      <td>121</td>\n      <td>2</td>\n      <td>13.0</td>\n      <td>Dan Petrescu</td>\n      <td>Home</td>\n      <td>0</td>\n    </tr>\n    <tr>\n      <th>2222664</th>\n      <td>932</td>\n      <td>1</td>\n      <td>5.0</td>\n      <td>Slaven Bilic</td>\n      <td>2698</td>\n      <td>0</td>\n      <td>8.0</td>\n      <td>Kurban Berdyev</td>\n      <td>Home</td>\n      <td>1</td>\n    </tr>\n    <tr>\n      <th>2222683</th>\n      <td>2696</td>\n      <td>0</td>\n      <td>11.0</td>\n      <td>Andrey Kobelev</td>\n      <td>12438</td>\n      <td>1</td>\n      <td>16.0</td>\n      <td>Gadzhi Gadzhiev</td>\n      <td>Home</td>\n      <td>0</td>\n    </tr>\n    <tr>\n      <th>2222685</th>\n      <td>2698</td>\n      <td>0</td>\n      <td>7.0</td>\n      <td>Kurban Berdyev</td>\n      <td>232</td>\n      <td>1</td>\n      <td>5.0</td>\n      <td>Valeriy Karpin</td>\n      <td>Home</td>\n      <td>0</td>\n    </tr>\n    <tr>\n      <th>2222709</th>\n      <td>3725</td>\n      <td>2</td>\n      <td>5.0</td>\n      <td>Stanislav Cherchesov</td>\n      <td>11126</td>\n      <td>1</td>\n      <td>16.0</td>\n      <td>Fedor Shcherbachenko</td>\n      <td>Home</td>\n      <td>1</td>\n    </tr>\n    <tr>\n      <th>2222734</th>\n      <td>1083</td>\n      <td>2</td>\n      <td>11.0</td>\n      <td>Miodrag Bozovic</td>\n      <td>16704</td>\n      <td>3</td>\n      <td>10.0</td>\n      <td>Slavoljub Muslin</td>\n      <td>Home</td>\n      <td>0</td>\n    </tr>\n  </tbody>\n</table>\n</div>"
     },
     "execution_count": 32,
     "metadata": {},
     "output_type": "execute_result"
    }
   ],
   "source": [
    "club_games_df = club_games_df.set_index('game_id')\n",
    "club_games_df.head(10)"
   ],
   "metadata": {
    "collapsed": false,
    "ExecuteTime": {
     "end_time": "2024-04-24T14:33:12.727438800Z",
     "start_time": "2024-04-24T14:33:12.685146600Z"
    }
   },
   "id": "8a104e1be99cfb92"
  },
  {
   "cell_type": "code",
   "execution_count": 33,
   "outputs": [
    {
     "data": {
      "text/plain": "         club_id  club_goals  club_position     club_manager_name  \\\ngame_id                                                             \n2221751      431           1            NaN         Lutz Göttling   \n2221755       83           3            NaN      Ralph Hasenhüttl   \n2222597     3725           2            2.0  Stanislav Cherchesov   \n2222627     2696           0           11.0        Andrey Kobelev   \n2222658     2410           0            2.0        Leonid Slutski   \n...          ...         ...            ...                   ...   \n4126931    20923           2            NaN       Sergey Perednya   \n4148237      920           0            NaN      Ruaidhri Higgins   \n4171268      681           2            NaN       Imanol Alguacil   \n4148252      144           3            NaN      Sergej Jakirovic   \n4171248      418           3            NaN       Carlo Ancelotti   \n\n         opponent_id  opponent_goals  opponent_position opponent_manager_name  \\\ngame_id                                                                         \n2221751           60               2                NaN     Christian Streich   \n2221755         4795               0                NaN            Tomas Oral   \n2222597          232               1                5.0            Unai Emery   \n2222627         4128               2               10.0         Rustem Khuzin   \n2222658          121               2               13.0          Dan Petrescu   \n...              ...             ...                ...                   ...   \n4126931        12065               1                NaN   Aleksandr Gorbachev   \n4148237        10481               1                NaN          Milic Curcic   \n4171268          409               0                NaN       Gerhard Struber   \n4148252        10532               1                NaN          Dan Brimsvík   \n4171248         6195               2                NaN           Rudi Garcia   \n\n        hosting  is_win  \ngame_id                  \n2221751    Home       0  \n2221755    Home       1  \n2222597    Home       1  \n2222627    Home       0  \n2222658    Home       0  \n...         ...     ...  \n4126931    Away       1  \n4148237    Away       0  \n4171268    Away       1  \n4148252    Away       1  \n4171248    Away       1  \n\n[130432 rows x 10 columns]",
      "text/html": "<div>\n<style scoped>\n    .dataframe tbody tr th:only-of-type {\n        vertical-align: middle;\n    }\n\n    .dataframe tbody tr th {\n        vertical-align: top;\n    }\n\n    .dataframe thead th {\n        text-align: right;\n    }\n</style>\n<table border=\"1\" class=\"dataframe\">\n  <thead>\n    <tr style=\"text-align: right;\">\n      <th></th>\n      <th>club_id</th>\n      <th>club_goals</th>\n      <th>club_position</th>\n      <th>club_manager_name</th>\n      <th>opponent_id</th>\n      <th>opponent_goals</th>\n      <th>opponent_position</th>\n      <th>opponent_manager_name</th>\n      <th>hosting</th>\n      <th>is_win</th>\n    </tr>\n    <tr>\n      <th>game_id</th>\n      <th></th>\n      <th></th>\n      <th></th>\n      <th></th>\n      <th></th>\n      <th></th>\n      <th></th>\n      <th></th>\n      <th></th>\n      <th></th>\n    </tr>\n  </thead>\n  <tbody>\n    <tr>\n      <th>2221751</th>\n      <td>431</td>\n      <td>1</td>\n      <td>NaN</td>\n      <td>Lutz Göttling</td>\n      <td>60</td>\n      <td>2</td>\n      <td>NaN</td>\n      <td>Christian Streich</td>\n      <td>Home</td>\n      <td>0</td>\n    </tr>\n    <tr>\n      <th>2221755</th>\n      <td>83</td>\n      <td>3</td>\n      <td>NaN</td>\n      <td>Ralph Hasenhüttl</td>\n      <td>4795</td>\n      <td>0</td>\n      <td>NaN</td>\n      <td>Tomas Oral</td>\n      <td>Home</td>\n      <td>1</td>\n    </tr>\n    <tr>\n      <th>2222597</th>\n      <td>3725</td>\n      <td>2</td>\n      <td>2.0</td>\n      <td>Stanislav Cherchesov</td>\n      <td>232</td>\n      <td>1</td>\n      <td>5.0</td>\n      <td>Unai Emery</td>\n      <td>Home</td>\n      <td>1</td>\n    </tr>\n    <tr>\n      <th>2222627</th>\n      <td>2696</td>\n      <td>0</td>\n      <td>11.0</td>\n      <td>Andrey Kobelev</td>\n      <td>4128</td>\n      <td>2</td>\n      <td>10.0</td>\n      <td>Rustem Khuzin</td>\n      <td>Home</td>\n      <td>0</td>\n    </tr>\n    <tr>\n      <th>2222658</th>\n      <td>2410</td>\n      <td>0</td>\n      <td>2.0</td>\n      <td>Leonid Slutski</td>\n      <td>121</td>\n      <td>2</td>\n      <td>13.0</td>\n      <td>Dan Petrescu</td>\n      <td>Home</td>\n      <td>0</td>\n    </tr>\n    <tr>\n      <th>...</th>\n      <td>...</td>\n      <td>...</td>\n      <td>...</td>\n      <td>...</td>\n      <td>...</td>\n      <td>...</td>\n      <td>...</td>\n      <td>...</td>\n      <td>...</td>\n      <td>...</td>\n    </tr>\n    <tr>\n      <th>4126931</th>\n      <td>20923</td>\n      <td>2</td>\n      <td>NaN</td>\n      <td>Sergey Perednya</td>\n      <td>12065</td>\n      <td>1</td>\n      <td>NaN</td>\n      <td>Aleksandr Gorbachev</td>\n      <td>Away</td>\n      <td>1</td>\n    </tr>\n    <tr>\n      <th>4148237</th>\n      <td>920</td>\n      <td>0</td>\n      <td>NaN</td>\n      <td>Ruaidhri Higgins</td>\n      <td>10481</td>\n      <td>1</td>\n      <td>NaN</td>\n      <td>Milic Curcic</td>\n      <td>Away</td>\n      <td>0</td>\n    </tr>\n    <tr>\n      <th>4171268</th>\n      <td>681</td>\n      <td>2</td>\n      <td>NaN</td>\n      <td>Imanol Alguacil</td>\n      <td>409</td>\n      <td>0</td>\n      <td>NaN</td>\n      <td>Gerhard Struber</td>\n      <td>Away</td>\n      <td>1</td>\n    </tr>\n    <tr>\n      <th>4148252</th>\n      <td>144</td>\n      <td>3</td>\n      <td>NaN</td>\n      <td>Sergej Jakirovic</td>\n      <td>10532</td>\n      <td>1</td>\n      <td>NaN</td>\n      <td>Dan Brimsvík</td>\n      <td>Away</td>\n      <td>1</td>\n    </tr>\n    <tr>\n      <th>4171248</th>\n      <td>418</td>\n      <td>3</td>\n      <td>NaN</td>\n      <td>Carlo Ancelotti</td>\n      <td>6195</td>\n      <td>2</td>\n      <td>NaN</td>\n      <td>Rudi Garcia</td>\n      <td>Away</td>\n      <td>1</td>\n    </tr>\n  </tbody>\n</table>\n<p>130432 rows × 10 columns</p>\n</div>"
     },
     "execution_count": 33,
     "metadata": {},
     "output_type": "execute_result"
    }
   ],
   "source": [
    "# renaming columns\n",
    "club_games_df = club_games_df.rename(columns= {\n",
    "    'own_goals' : 'club_goals',\n",
    "    'own_position' : 'club_position',\n",
    "    'own_manager_name':'club_manager_name'\n",
    "})\n",
    "\n",
    "club_games_df"
   ],
   "metadata": {
    "collapsed": false,
    "ExecuteTime": {
     "end_time": "2024-04-24T14:33:12.797211100Z",
     "start_time": "2024-04-24T14:33:12.714436800Z"
    }
   },
   "id": "f1cff85ec7f87465"
  },
  {
   "cell_type": "code",
   "execution_count": 34,
   "outputs": [
    {
     "data": {
      "text/plain": "club_id                      0\nclub_goals                   0\nclub_position            38908\nclub_manager_name         1484\nopponent_id                  0\nopponent_goals               0\nopponent_position        38908\nopponent_manager_name     1484\nhosting                      0\nis_win                       0\ndtype: int64"
     },
     "execution_count": 34,
     "metadata": {},
     "output_type": "execute_result"
    }
   ],
   "source": [
    "club_games_df.isna().sum()\n",
    "\n",
    "# probabilmente le righe con position NaN sono quelle che descrivono le prime partite delle due squadre, dove quindi non hanno una posizione in classifica ancora"
   ],
   "metadata": {
    "collapsed": false,
    "ExecuteTime": {
     "end_time": "2024-04-24T14:33:12.834491200Z",
     "start_time": "2024-04-24T14:33:12.746438200Z"
    }
   },
   "id": "75c9e7ddba869ae8"
  },
  {
   "cell_type": "code",
   "execution_count": 35,
   "outputs": [
    {
     "data": {
      "text/plain": "club_id                     0\nclub_goals                  0\nclub_position               0\nclub_manager_name        1484\nopponent_id                 0\nopponent_goals              0\nopponent_position           0\nopponent_manager_name    1484\nhosting                     0\nis_win                      0\ndtype: int64"
     },
     "execution_count": 35,
     "metadata": {},
     "output_type": "execute_result"
    }
   ],
   "source": [
    "# setting NA position values to 0\n",
    "\n",
    "club_games_df.loc[club_games_df['club_position'].isna(), 'club_position'] = 0\n",
    "\n",
    "club_games_df.loc[club_games_df['opponent_position'].isna(), 'opponent_position'] = 0\n",
    "\n",
    "club_games_df.isna().sum()"
   ],
   "metadata": {
    "collapsed": false,
    "ExecuteTime": {
     "end_time": "2024-04-24T14:33:12.837490100Z",
     "start_time": "2024-04-24T14:33:12.776289Z"
    }
   },
   "id": "7cc0ad26a0bd965a"
  },
  {
   "cell_type": "code",
   "execution_count": 36,
   "outputs": [
    {
     "data": {
      "text/plain": "         club_id  club_goals  club_position    club_manager_name  opponent_id  \\\ngame_id                                                                         \n3038747      418           3            0.0      Zinédine Zidane           31   \n4173721    44914           1            0.0        Ricky Waddell        23616   \n2495367       27           3            0.0        Pep Guardiola         2410   \n2486736      512           1           10.0          Mark Hughes         3008   \n2849034      660           1            1.0        Paulo Fonseca        23611   \n2847145     2578           1            4.0         Tommy Wright           43   \n3376110    28097           2            0.0      Andrey Zakharov        12065   \n3651120       31           2            0.0         Jürgen Klopp          720   \n2846713    23611           1            4.0        Roman Sanzhar         6992   \n2514121      991           0            0.0        Karl Robinson         1219   \n2656747      131           3            0.0         Luis Enrique          621   \n2779492    22235           1            0.0   Carsten Hemmingsen          206   \n3089885    12054           2            0.0        Evgeni Maslov        10688   \n3537799      281           2            0.0        Pep Guardiola           16   \n3394874      370           2            3.0        Derek McInnes          465   \n2452088      465           1            8.0         Danny Lennon           43   \n3035722      631           1            0.0        Antonio Conte          985   \n2731831    10690           1            3.0       Yuriy Vernydub          660   \n3429749      762           1           17.0          Steve Bruce          543   \n3038747       31           1            0.0         Jürgen Klopp          418   \n4173721    23616           2            0.0           Mark Cowie        44914   \n2495367     2410           0            0.0       Leonid Slutski           27   \n2486736     3008           0           15.0          Steve Bruce          512   \n2849034    23611           1            4.0        Roman Sanzhar          660   \n2847145       43           0            5.0           Ian Cathro         2578   \n3376110    12065           3            0.0     Aleksandr Akimov        28097   \n3651120      720           0            0.0     Sérgio Conceição           31   \n2846713     6992           0            6.0     Oleksandr Babych        23611   \n2514121     1219           1            0.0            Paul Cook          991   \n2656747      621           1            0.0     Ernesto Valverde          131   \n2779492      206           4            0.0   Alexander Zorniger        22235   \n3089885    10688           1            0.0      Sergey Kirsanov        12054   \n3537799       16           1            0.0          Edin Terzic          281   \n3394874      465           1           10.0          Jim Goodwin          370   \n2452088       43           1           12.0           Gary Locke          465   \n3035722      985           0            0.0        José Mourinho          631   \n2731831      660           2            1.0        Paulo Fonseca        10690   \n3429749      543           1           12.0  Nuno Espírito Santo          762   \n\n         opponent_goals  opponent_position opponent_manager_name hosting  \\\ngame_id                                                                    \n3038747               1                0.0          Jürgen Klopp    Home   \n4173721               2                0.0            Mark Cowie    Home   \n2495367               0                0.0        Leonid Slutski    Home   \n2486736               0               15.0           Steve Bruce    Home   \n2849034               1                4.0         Roman Sanzhar    Home   \n2847145               0                5.0            Ian Cathro    Home   \n3376110               3                0.0      Aleksandr Akimov    Home   \n3651120               0                0.0      Sérgio Conceição    Home   \n2846713               0                6.0      Oleksandr Babych    Home   \n2514121               1                0.0             Paul Cook    Home   \n2656747               1                0.0      Ernesto Valverde    Home   \n2779492               4                0.0    Alexander Zorniger    Home   \n3089885               1                0.0       Sergey Kirsanov    Home   \n3537799               1                0.0           Edin Terzic    Home   \n3394874               1               10.0           Jim Goodwin    Home   \n2452088               1               12.0            Gary Locke    Home   \n3035722               0                0.0         José Mourinho    Home   \n2731831               2                1.0         Paulo Fonseca    Home   \n3429749               1               12.0   Nuno Espírito Santo    Home   \n3038747               3                0.0       Zinédine Zidane    Away   \n4173721               1                0.0         Ricky Waddell    Away   \n2495367               3                0.0         Pep Guardiola    Away   \n2486736               1               10.0           Mark Hughes    Away   \n2849034               1                1.0         Paulo Fonseca    Away   \n2847145               1                4.0          Tommy Wright    Away   \n3376110               2                0.0       Andrey Zakharov    Away   \n3651120               2                0.0          Jürgen Klopp    Away   \n2846713               1                4.0         Roman Sanzhar    Away   \n2514121               0                0.0         Karl Robinson    Away   \n2656747               3                0.0          Luis Enrique    Away   \n2779492               1                0.0    Carsten Hemmingsen    Away   \n3089885               2                0.0         Evgeni Maslov    Away   \n3537799               2                0.0         Pep Guardiola    Away   \n3394874               2                3.0         Derek McInnes    Away   \n2452088               1                8.0          Danny Lennon    Away   \n3035722               1                0.0         Antonio Conte    Away   \n2731831               1                3.0        Yuriy Vernydub    Away   \n3429749               1               17.0           Steve Bruce    Away   \n\n         is_win  \ngame_id          \n3038747       1  \n4173721       0  \n2495367       1  \n2486736       1  \n2849034       0  \n2847145       1  \n3376110       0  \n3651120       1  \n2846713       1  \n2514121       0  \n2656747       1  \n2779492       0  \n3089885       1  \n3537799       1  \n3394874       1  \n2452088       0  \n3035722       1  \n2731831       0  \n3429749       0  \n3038747       0  \n4173721       1  \n2495367       0  \n2486736       0  \n2849034       0  \n2847145       0  \n3376110       1  \n3651120       0  \n2846713       0  \n2514121       1  \n2656747       0  \n2779492       1  \n3089885       0  \n3537799       0  \n3394874       0  \n2452088       0  \n3035722       0  \n2731831       1  \n3429749       0  ",
      "text/html": "<div>\n<style scoped>\n    .dataframe tbody tr th:only-of-type {\n        vertical-align: middle;\n    }\n\n    .dataframe tbody tr th {\n        vertical-align: top;\n    }\n\n    .dataframe thead th {\n        text-align: right;\n    }\n</style>\n<table border=\"1\" class=\"dataframe\">\n  <thead>\n    <tr style=\"text-align: right;\">\n      <th></th>\n      <th>club_id</th>\n      <th>club_goals</th>\n      <th>club_position</th>\n      <th>club_manager_name</th>\n      <th>opponent_id</th>\n      <th>opponent_goals</th>\n      <th>opponent_position</th>\n      <th>opponent_manager_name</th>\n      <th>hosting</th>\n      <th>is_win</th>\n    </tr>\n    <tr>\n      <th>game_id</th>\n      <th></th>\n      <th></th>\n      <th></th>\n      <th></th>\n      <th></th>\n      <th></th>\n      <th></th>\n      <th></th>\n      <th></th>\n      <th></th>\n    </tr>\n  </thead>\n  <tbody>\n    <tr>\n      <th>3038747</th>\n      <td>418</td>\n      <td>3</td>\n      <td>0.0</td>\n      <td>Zinédine Zidane</td>\n      <td>31</td>\n      <td>1</td>\n      <td>0.0</td>\n      <td>Jürgen Klopp</td>\n      <td>Home</td>\n      <td>1</td>\n    </tr>\n    <tr>\n      <th>4173721</th>\n      <td>44914</td>\n      <td>1</td>\n      <td>0.0</td>\n      <td>Ricky Waddell</td>\n      <td>23616</td>\n      <td>2</td>\n      <td>0.0</td>\n      <td>Mark Cowie</td>\n      <td>Home</td>\n      <td>0</td>\n    </tr>\n    <tr>\n      <th>2495367</th>\n      <td>27</td>\n      <td>3</td>\n      <td>0.0</td>\n      <td>Pep Guardiola</td>\n      <td>2410</td>\n      <td>0</td>\n      <td>0.0</td>\n      <td>Leonid Slutski</td>\n      <td>Home</td>\n      <td>1</td>\n    </tr>\n    <tr>\n      <th>2486736</th>\n      <td>512</td>\n      <td>1</td>\n      <td>10.0</td>\n      <td>Mark Hughes</td>\n      <td>3008</td>\n      <td>0</td>\n      <td>15.0</td>\n      <td>Steve Bruce</td>\n      <td>Home</td>\n      <td>1</td>\n    </tr>\n    <tr>\n      <th>2849034</th>\n      <td>660</td>\n      <td>1</td>\n      <td>1.0</td>\n      <td>Paulo Fonseca</td>\n      <td>23611</td>\n      <td>1</td>\n      <td>4.0</td>\n      <td>Roman Sanzhar</td>\n      <td>Home</td>\n      <td>0</td>\n    </tr>\n    <tr>\n      <th>2847145</th>\n      <td>2578</td>\n      <td>1</td>\n      <td>4.0</td>\n      <td>Tommy Wright</td>\n      <td>43</td>\n      <td>0</td>\n      <td>5.0</td>\n      <td>Ian Cathro</td>\n      <td>Home</td>\n      <td>1</td>\n    </tr>\n    <tr>\n      <th>3376110</th>\n      <td>28097</td>\n      <td>2</td>\n      <td>0.0</td>\n      <td>Andrey Zakharov</td>\n      <td>12065</td>\n      <td>3</td>\n      <td>0.0</td>\n      <td>Aleksandr Akimov</td>\n      <td>Home</td>\n      <td>0</td>\n    </tr>\n    <tr>\n      <th>3651120</th>\n      <td>31</td>\n      <td>2</td>\n      <td>0.0</td>\n      <td>Jürgen Klopp</td>\n      <td>720</td>\n      <td>0</td>\n      <td>0.0</td>\n      <td>Sérgio Conceição</td>\n      <td>Home</td>\n      <td>1</td>\n    </tr>\n    <tr>\n      <th>2846713</th>\n      <td>23611</td>\n      <td>1</td>\n      <td>4.0</td>\n      <td>Roman Sanzhar</td>\n      <td>6992</td>\n      <td>0</td>\n      <td>6.0</td>\n      <td>Oleksandr Babych</td>\n      <td>Home</td>\n      <td>1</td>\n    </tr>\n    <tr>\n      <th>2514121</th>\n      <td>991</td>\n      <td>0</td>\n      <td>0.0</td>\n      <td>Karl Robinson</td>\n      <td>1219</td>\n      <td>1</td>\n      <td>0.0</td>\n      <td>Paul Cook</td>\n      <td>Home</td>\n      <td>0</td>\n    </tr>\n    <tr>\n      <th>2656747</th>\n      <td>131</td>\n      <td>3</td>\n      <td>0.0</td>\n      <td>Luis Enrique</td>\n      <td>621</td>\n      <td>1</td>\n      <td>0.0</td>\n      <td>Ernesto Valverde</td>\n      <td>Home</td>\n      <td>1</td>\n    </tr>\n    <tr>\n      <th>2779492</th>\n      <td>22235</td>\n      <td>1</td>\n      <td>0.0</td>\n      <td>Carsten Hemmingsen</td>\n      <td>206</td>\n      <td>4</td>\n      <td>0.0</td>\n      <td>Alexander Zorniger</td>\n      <td>Home</td>\n      <td>0</td>\n    </tr>\n    <tr>\n      <th>3089885</th>\n      <td>12054</td>\n      <td>2</td>\n      <td>0.0</td>\n      <td>Evgeni Maslov</td>\n      <td>10688</td>\n      <td>1</td>\n      <td>0.0</td>\n      <td>Sergey Kirsanov</td>\n      <td>Home</td>\n      <td>1</td>\n    </tr>\n    <tr>\n      <th>3537799</th>\n      <td>281</td>\n      <td>2</td>\n      <td>0.0</td>\n      <td>Pep Guardiola</td>\n      <td>16</td>\n      <td>1</td>\n      <td>0.0</td>\n      <td>Edin Terzic</td>\n      <td>Home</td>\n      <td>1</td>\n    </tr>\n    <tr>\n      <th>3394874</th>\n      <td>370</td>\n      <td>2</td>\n      <td>3.0</td>\n      <td>Derek McInnes</td>\n      <td>465</td>\n      <td>1</td>\n      <td>10.0</td>\n      <td>Jim Goodwin</td>\n      <td>Home</td>\n      <td>1</td>\n    </tr>\n    <tr>\n      <th>2452088</th>\n      <td>465</td>\n      <td>1</td>\n      <td>8.0</td>\n      <td>Danny Lennon</td>\n      <td>43</td>\n      <td>1</td>\n      <td>12.0</td>\n      <td>Gary Locke</td>\n      <td>Home</td>\n      <td>0</td>\n    </tr>\n    <tr>\n      <th>3035722</th>\n      <td>631</td>\n      <td>1</td>\n      <td>0.0</td>\n      <td>Antonio Conte</td>\n      <td>985</td>\n      <td>0</td>\n      <td>0.0</td>\n      <td>José Mourinho</td>\n      <td>Home</td>\n      <td>1</td>\n    </tr>\n    <tr>\n      <th>2731831</th>\n      <td>10690</td>\n      <td>1</td>\n      <td>3.0</td>\n      <td>Yuriy Vernydub</td>\n      <td>660</td>\n      <td>2</td>\n      <td>1.0</td>\n      <td>Paulo Fonseca</td>\n      <td>Home</td>\n      <td>0</td>\n    </tr>\n    <tr>\n      <th>3429749</th>\n      <td>762</td>\n      <td>1</td>\n      <td>17.0</td>\n      <td>Steve Bruce</td>\n      <td>543</td>\n      <td>1</td>\n      <td>12.0</td>\n      <td>Nuno Espírito Santo</td>\n      <td>Home</td>\n      <td>0</td>\n    </tr>\n    <tr>\n      <th>3038747</th>\n      <td>31</td>\n      <td>1</td>\n      <td>0.0</td>\n      <td>Jürgen Klopp</td>\n      <td>418</td>\n      <td>3</td>\n      <td>0.0</td>\n      <td>Zinédine Zidane</td>\n      <td>Away</td>\n      <td>0</td>\n    </tr>\n    <tr>\n      <th>4173721</th>\n      <td>23616</td>\n      <td>2</td>\n      <td>0.0</td>\n      <td>Mark Cowie</td>\n      <td>44914</td>\n      <td>1</td>\n      <td>0.0</td>\n      <td>Ricky Waddell</td>\n      <td>Away</td>\n      <td>1</td>\n    </tr>\n    <tr>\n      <th>2495367</th>\n      <td>2410</td>\n      <td>0</td>\n      <td>0.0</td>\n      <td>Leonid Slutski</td>\n      <td>27</td>\n      <td>3</td>\n      <td>0.0</td>\n      <td>Pep Guardiola</td>\n      <td>Away</td>\n      <td>0</td>\n    </tr>\n    <tr>\n      <th>2486736</th>\n      <td>3008</td>\n      <td>0</td>\n      <td>15.0</td>\n      <td>Steve Bruce</td>\n      <td>512</td>\n      <td>1</td>\n      <td>10.0</td>\n      <td>Mark Hughes</td>\n      <td>Away</td>\n      <td>0</td>\n    </tr>\n    <tr>\n      <th>2849034</th>\n      <td>23611</td>\n      <td>1</td>\n      <td>4.0</td>\n      <td>Roman Sanzhar</td>\n      <td>660</td>\n      <td>1</td>\n      <td>1.0</td>\n      <td>Paulo Fonseca</td>\n      <td>Away</td>\n      <td>0</td>\n    </tr>\n    <tr>\n      <th>2847145</th>\n      <td>43</td>\n      <td>0</td>\n      <td>5.0</td>\n      <td>Ian Cathro</td>\n      <td>2578</td>\n      <td>1</td>\n      <td>4.0</td>\n      <td>Tommy Wright</td>\n      <td>Away</td>\n      <td>0</td>\n    </tr>\n    <tr>\n      <th>3376110</th>\n      <td>12065</td>\n      <td>3</td>\n      <td>0.0</td>\n      <td>Aleksandr Akimov</td>\n      <td>28097</td>\n      <td>2</td>\n      <td>0.0</td>\n      <td>Andrey Zakharov</td>\n      <td>Away</td>\n      <td>1</td>\n    </tr>\n    <tr>\n      <th>3651120</th>\n      <td>720</td>\n      <td>0</td>\n      <td>0.0</td>\n      <td>Sérgio Conceição</td>\n      <td>31</td>\n      <td>2</td>\n      <td>0.0</td>\n      <td>Jürgen Klopp</td>\n      <td>Away</td>\n      <td>0</td>\n    </tr>\n    <tr>\n      <th>2846713</th>\n      <td>6992</td>\n      <td>0</td>\n      <td>6.0</td>\n      <td>Oleksandr Babych</td>\n      <td>23611</td>\n      <td>1</td>\n      <td>4.0</td>\n      <td>Roman Sanzhar</td>\n      <td>Away</td>\n      <td>0</td>\n    </tr>\n    <tr>\n      <th>2514121</th>\n      <td>1219</td>\n      <td>1</td>\n      <td>0.0</td>\n      <td>Paul Cook</td>\n      <td>991</td>\n      <td>0</td>\n      <td>0.0</td>\n      <td>Karl Robinson</td>\n      <td>Away</td>\n      <td>1</td>\n    </tr>\n    <tr>\n      <th>2656747</th>\n      <td>621</td>\n      <td>1</td>\n      <td>0.0</td>\n      <td>Ernesto Valverde</td>\n      <td>131</td>\n      <td>3</td>\n      <td>0.0</td>\n      <td>Luis Enrique</td>\n      <td>Away</td>\n      <td>0</td>\n    </tr>\n    <tr>\n      <th>2779492</th>\n      <td>206</td>\n      <td>4</td>\n      <td>0.0</td>\n      <td>Alexander Zorniger</td>\n      <td>22235</td>\n      <td>1</td>\n      <td>0.0</td>\n      <td>Carsten Hemmingsen</td>\n      <td>Away</td>\n      <td>1</td>\n    </tr>\n    <tr>\n      <th>3089885</th>\n      <td>10688</td>\n      <td>1</td>\n      <td>0.0</td>\n      <td>Sergey Kirsanov</td>\n      <td>12054</td>\n      <td>2</td>\n      <td>0.0</td>\n      <td>Evgeni Maslov</td>\n      <td>Away</td>\n      <td>0</td>\n    </tr>\n    <tr>\n      <th>3537799</th>\n      <td>16</td>\n      <td>1</td>\n      <td>0.0</td>\n      <td>Edin Terzic</td>\n      <td>281</td>\n      <td>2</td>\n      <td>0.0</td>\n      <td>Pep Guardiola</td>\n      <td>Away</td>\n      <td>0</td>\n    </tr>\n    <tr>\n      <th>3394874</th>\n      <td>465</td>\n      <td>1</td>\n      <td>10.0</td>\n      <td>Jim Goodwin</td>\n      <td>370</td>\n      <td>2</td>\n      <td>3.0</td>\n      <td>Derek McInnes</td>\n      <td>Away</td>\n      <td>0</td>\n    </tr>\n    <tr>\n      <th>2452088</th>\n      <td>43</td>\n      <td>1</td>\n      <td>12.0</td>\n      <td>Gary Locke</td>\n      <td>465</td>\n      <td>1</td>\n      <td>8.0</td>\n      <td>Danny Lennon</td>\n      <td>Away</td>\n      <td>0</td>\n    </tr>\n    <tr>\n      <th>3035722</th>\n      <td>985</td>\n      <td>0</td>\n      <td>0.0</td>\n      <td>José Mourinho</td>\n      <td>631</td>\n      <td>1</td>\n      <td>0.0</td>\n      <td>Antonio Conte</td>\n      <td>Away</td>\n      <td>0</td>\n    </tr>\n    <tr>\n      <th>2731831</th>\n      <td>660</td>\n      <td>2</td>\n      <td>1.0</td>\n      <td>Paulo Fonseca</td>\n      <td>10690</td>\n      <td>1</td>\n      <td>3.0</td>\n      <td>Yuriy Vernydub</td>\n      <td>Away</td>\n      <td>1</td>\n    </tr>\n    <tr>\n      <th>3429749</th>\n      <td>543</td>\n      <td>1</td>\n      <td>12.0</td>\n      <td>Nuno Espírito Santo</td>\n      <td>762</td>\n      <td>1</td>\n      <td>17.0</td>\n      <td>Steve Bruce</td>\n      <td>Away</td>\n      <td>0</td>\n    </tr>\n  </tbody>\n</table>\n</div>"
     },
     "execution_count": 36,
     "metadata": {},
     "output_type": "execute_result"
    }
   ],
   "source": [
    "# club_games_df.query('club_id == 418 and opponent_id == 13')\n",
    "\n",
    "club_games_df.loc[club_games_df.duplicated()]\n",
    "\n",
    "# ci sono duplicati perchè è possibile che due squadre giochino più volte una contro l'altra e con lo stesso risultato"
   ],
   "metadata": {
    "collapsed": false,
    "ExecuteTime": {
     "end_time": "2024-04-24T14:33:13.073083400Z",
     "start_time": "2024-04-24T14:33:12.808488300Z"
    }
   },
   "id": "b79df8235c131aa8"
  },
  {
   "cell_type": "code",
   "execution_count": 37,
   "outputs": [
    {
     "data": {
      "text/plain": "club_id                    int64\nclub_goals                 int64\nclub_position            float64\nclub_manager_name         object\nopponent_id                int64\nopponent_goals             int64\nopponent_position        float64\nopponent_manager_name     object\nhosting                   object\nis_win                     int64\ndtype: object"
     },
     "execution_count": 37,
     "metadata": {},
     "output_type": "execute_result"
    }
   ],
   "source": [
    "club_games_df.dtypes"
   ],
   "metadata": {
    "collapsed": false,
    "ExecuteTime": {
     "end_time": "2024-04-24T14:33:13.074140600Z",
     "start_time": "2024-04-24T14:33:12.903215500Z"
    }
   },
   "id": "2adedbf24ce8b89d"
  },
  {
   "cell_type": "code",
   "execution_count": 39,
   "outputs": [
    {
     "data": {
      "text/plain": "         club_id  club_goals  club_position     club_manager_name  \\\ngame_id                                                             \n2221751      431           1            0.0         Lutz Göttling   \n2221755       83           3            0.0      Ralph Hasenhüttl   \n2222597     3725           2            2.0  Stanislav Cherchesov   \n2222627     2696           0           11.0        Andrey Kobelev   \n2222658     2410           0            2.0        Leonid Slutski   \n...          ...         ...            ...                   ...   \n4126931    20923           2            0.0       Sergey Perednya   \n4148237      920           0            0.0      Ruaidhri Higgins   \n4171268      681           2            0.0       Imanol Alguacil   \n4148252      144           3            0.0      Sergej Jakirovic   \n4171248      418           3            0.0       Carlo Ancelotti   \n\n         opponent_id  opponent_goals  opponent_position opponent_manager_name  \\\ngame_id                                                                         \n2221751           60               2                0.0     Christian Streich   \n2221755         4795               0                0.0            Tomas Oral   \n2222597          232               1                5.0            Unai Emery   \n2222627         4128               2               10.0         Rustem Khuzin   \n2222658          121               2               13.0          Dan Petrescu   \n...              ...             ...                ...                   ...   \n4126931        12065               1                0.0   Aleksandr Gorbachev   \n4148237        10481               1                0.0          Milic Curcic   \n4171268          409               0                0.0       Gerhard Struber   \n4148252        10532               1                0.0          Dan Brimsvík   \n4171248         6195               2                0.0           Rudi Garcia   \n\n        hosting  is_win  \ngame_id                  \n2221751    Home   False  \n2221755    Home    True  \n2222597    Home    True  \n2222627    Home   False  \n2222658    Home   False  \n...         ...     ...  \n4126931    Away    True  \n4148237    Away   False  \n4171268    Away    True  \n4148252    Away    True  \n4171248    Away    True  \n\n[130432 rows x 10 columns]",
      "text/html": "<div>\n<style scoped>\n    .dataframe tbody tr th:only-of-type {\n        vertical-align: middle;\n    }\n\n    .dataframe tbody tr th {\n        vertical-align: top;\n    }\n\n    .dataframe thead th {\n        text-align: right;\n    }\n</style>\n<table border=\"1\" class=\"dataframe\">\n  <thead>\n    <tr style=\"text-align: right;\">\n      <th></th>\n      <th>club_id</th>\n      <th>club_goals</th>\n      <th>club_position</th>\n      <th>club_manager_name</th>\n      <th>opponent_id</th>\n      <th>opponent_goals</th>\n      <th>opponent_position</th>\n      <th>opponent_manager_name</th>\n      <th>hosting</th>\n      <th>is_win</th>\n    </tr>\n    <tr>\n      <th>game_id</th>\n      <th></th>\n      <th></th>\n      <th></th>\n      <th></th>\n      <th></th>\n      <th></th>\n      <th></th>\n      <th></th>\n      <th></th>\n      <th></th>\n    </tr>\n  </thead>\n  <tbody>\n    <tr>\n      <th>2221751</th>\n      <td>431</td>\n      <td>1</td>\n      <td>0.0</td>\n      <td>Lutz Göttling</td>\n      <td>60</td>\n      <td>2</td>\n      <td>0.0</td>\n      <td>Christian Streich</td>\n      <td>Home</td>\n      <td>False</td>\n    </tr>\n    <tr>\n      <th>2221755</th>\n      <td>83</td>\n      <td>3</td>\n      <td>0.0</td>\n      <td>Ralph Hasenhüttl</td>\n      <td>4795</td>\n      <td>0</td>\n      <td>0.0</td>\n      <td>Tomas Oral</td>\n      <td>Home</td>\n      <td>True</td>\n    </tr>\n    <tr>\n      <th>2222597</th>\n      <td>3725</td>\n      <td>2</td>\n      <td>2.0</td>\n      <td>Stanislav Cherchesov</td>\n      <td>232</td>\n      <td>1</td>\n      <td>5.0</td>\n      <td>Unai Emery</td>\n      <td>Home</td>\n      <td>True</td>\n    </tr>\n    <tr>\n      <th>2222627</th>\n      <td>2696</td>\n      <td>0</td>\n      <td>11.0</td>\n      <td>Andrey Kobelev</td>\n      <td>4128</td>\n      <td>2</td>\n      <td>10.0</td>\n      <td>Rustem Khuzin</td>\n      <td>Home</td>\n      <td>False</td>\n    </tr>\n    <tr>\n      <th>2222658</th>\n      <td>2410</td>\n      <td>0</td>\n      <td>2.0</td>\n      <td>Leonid Slutski</td>\n      <td>121</td>\n      <td>2</td>\n      <td>13.0</td>\n      <td>Dan Petrescu</td>\n      <td>Home</td>\n      <td>False</td>\n    </tr>\n    <tr>\n      <th>...</th>\n      <td>...</td>\n      <td>...</td>\n      <td>...</td>\n      <td>...</td>\n      <td>...</td>\n      <td>...</td>\n      <td>...</td>\n      <td>...</td>\n      <td>...</td>\n      <td>...</td>\n    </tr>\n    <tr>\n      <th>4126931</th>\n      <td>20923</td>\n      <td>2</td>\n      <td>0.0</td>\n      <td>Sergey Perednya</td>\n      <td>12065</td>\n      <td>1</td>\n      <td>0.0</td>\n      <td>Aleksandr Gorbachev</td>\n      <td>Away</td>\n      <td>True</td>\n    </tr>\n    <tr>\n      <th>4148237</th>\n      <td>920</td>\n      <td>0</td>\n      <td>0.0</td>\n      <td>Ruaidhri Higgins</td>\n      <td>10481</td>\n      <td>1</td>\n      <td>0.0</td>\n      <td>Milic Curcic</td>\n      <td>Away</td>\n      <td>False</td>\n    </tr>\n    <tr>\n      <th>4171268</th>\n      <td>681</td>\n      <td>2</td>\n      <td>0.0</td>\n      <td>Imanol Alguacil</td>\n      <td>409</td>\n      <td>0</td>\n      <td>0.0</td>\n      <td>Gerhard Struber</td>\n      <td>Away</td>\n      <td>True</td>\n    </tr>\n    <tr>\n      <th>4148252</th>\n      <td>144</td>\n      <td>3</td>\n      <td>0.0</td>\n      <td>Sergej Jakirovic</td>\n      <td>10532</td>\n      <td>1</td>\n      <td>0.0</td>\n      <td>Dan Brimsvík</td>\n      <td>Away</td>\n      <td>True</td>\n    </tr>\n    <tr>\n      <th>4171248</th>\n      <td>418</td>\n      <td>3</td>\n      <td>0.0</td>\n      <td>Carlo Ancelotti</td>\n      <td>6195</td>\n      <td>2</td>\n      <td>0.0</td>\n      <td>Rudi Garcia</td>\n      <td>Away</td>\n      <td>True</td>\n    </tr>\n  </tbody>\n</table>\n<p>130432 rows × 10 columns</p>\n</div>"
     },
     "execution_count": 39,
     "metadata": {},
     "output_type": "execute_result"
    }
   ],
   "source": [
    "club_games_df['is_win'] = club_games_df['is_win'].replace({1: True, 0: False})\n",
    "\n",
    "club_games_df['is_win'] = club_games_df['is_win'].astype(bool)\n",
    "\n",
    "club_games_df\n",
    "\n",
    "# si potrebbe cambiare hosting anche in is_hosting e cambiare Home con True e Away con False, per intendere che il club sta ospitando la partita sì/no"
   ],
   "metadata": {
    "collapsed": false,
    "ExecuteTime": {
     "end_time": "2024-04-24T14:33:22.294200200Z",
     "start_time": "2024-04-24T14:33:22.260397900Z"
    }
   },
   "id": "f966e07080fab916"
  },
  {
   "cell_type": "markdown",
   "source": [
    "# Data Analysis & Visualization"
   ],
   "metadata": {
    "collapsed": false
   },
   "id": "309f3356f472e247"
  },
  {
   "cell_type": "code",
   "execution_count": 38,
   "outputs": [],
   "source": [],
   "metadata": {
    "collapsed": false,
    "ExecuteTime": {
     "end_time": "2024-04-24T14:33:13.075124Z",
     "start_time": "2024-04-24T14:33:12.965651500Z"
    }
   },
   "id": "14c8783e16cba5e9"
  }
 ],
 "metadata": {
  "kernelspec": {
   "display_name": "Python 3",
   "language": "python",
   "name": "python3"
  },
  "language_info": {
   "codemirror_mode": {
    "name": "ipython",
    "version": 2
   },
   "file_extension": ".py",
   "mimetype": "text/x-python",
   "name": "python",
   "nbconvert_exporter": "python",
   "pygments_lexer": "ipython2",
   "version": "2.7.6"
  }
 },
 "nbformat": 4,
 "nbformat_minor": 5
}
