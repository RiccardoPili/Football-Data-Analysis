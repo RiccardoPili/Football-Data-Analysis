{
 "cells": [
  {
   "cell_type": "markdown",
   "source": [
    "# Importing Data & Libraries"
   ],
   "metadata": {
    "collapsed": false
   },
   "id": "7d0b0bc9284fea63"
  },
  {
   "cell_type": "code",
   "execution_count": 3,
   "outputs": [],
   "source": [
    "import pandas as pd\n",
    "import matplotlib.pylab as plt\n",
    "import seaborn as sns\n",
    "\n",
    "club_games_df = pd.read_csv(\"C:/Users/ricca/Desktop/FootballData/club_games.csv\")"
   ],
   "metadata": {
    "collapsed": false,
    "ExecuteTime": {
     "end_time": "2024-05-06T07:58:01.981307100Z",
     "start_time": "2024-05-06T07:58:01.455694300Z"
    }
   },
   "id": "a554d5c9baf035a7"
  },
  {
   "cell_type": "markdown",
   "source": [
    "# Data Preparation"
   ],
   "metadata": {
    "collapsed": false
   },
   "id": "cb888531da69fd74"
  },
  {
   "cell_type": "code",
   "execution_count": 4,
   "outputs": [
    {
     "data": {
      "text/plain": "(130432, 11)"
     },
     "execution_count": 4,
     "metadata": {},
     "output_type": "execute_result"
    }
   ],
   "source": [
    "club_games_df.shape"
   ],
   "metadata": {
    "collapsed": false,
    "ExecuteTime": {
     "end_time": "2024-05-06T07:58:01.982303100Z",
     "start_time": "2024-05-06T07:58:01.890056600Z"
    }
   },
   "id": "24cbbeace9eb69c2"
  },
  {
   "cell_type": "code",
   "execution_count": 5,
   "outputs": [
    {
     "data": {
      "text/plain": "       game_id  club_id  own_goals  own_position   own_manager_name  \\\n0      2221751      431          1           NaN      Lutz Göttling   \n65216  2221751       60          2           NaN  Christian Streich   \n\n       opponent_id  opponent_goals  opponent_position opponent_manager_name  \\\n0               60               2                NaN     Christian Streich   \n65216          431               1                NaN         Lutz Göttling   \n\n      hosting  is_win  \n0        Home       0  \n65216    Away       1  ",
      "text/html": "<div>\n<style scoped>\n    .dataframe tbody tr th:only-of-type {\n        vertical-align: middle;\n    }\n\n    .dataframe tbody tr th {\n        vertical-align: top;\n    }\n\n    .dataframe thead th {\n        text-align: right;\n    }\n</style>\n<table border=\"1\" class=\"dataframe\">\n  <thead>\n    <tr style=\"text-align: right;\">\n      <th></th>\n      <th>game_id</th>\n      <th>club_id</th>\n      <th>own_goals</th>\n      <th>own_position</th>\n      <th>own_manager_name</th>\n      <th>opponent_id</th>\n      <th>opponent_goals</th>\n      <th>opponent_position</th>\n      <th>opponent_manager_name</th>\n      <th>hosting</th>\n      <th>is_win</th>\n    </tr>\n  </thead>\n  <tbody>\n    <tr>\n      <th>0</th>\n      <td>2221751</td>\n      <td>431</td>\n      <td>1</td>\n      <td>NaN</td>\n      <td>Lutz Göttling</td>\n      <td>60</td>\n      <td>2</td>\n      <td>NaN</td>\n      <td>Christian Streich</td>\n      <td>Home</td>\n      <td>0</td>\n    </tr>\n    <tr>\n      <th>65216</th>\n      <td>2221751</td>\n      <td>60</td>\n      <td>2</td>\n      <td>NaN</td>\n      <td>Christian Streich</td>\n      <td>431</td>\n      <td>1</td>\n      <td>NaN</td>\n      <td>Lutz Göttling</td>\n      <td>Away</td>\n      <td>1</td>\n    </tr>\n  </tbody>\n</table>\n</div>"
     },
     "execution_count": 5,
     "metadata": {},
     "output_type": "execute_result"
    }
   ],
   "source": [
    "club_games_df.tail(10)\n",
    "\n",
    "duplicates = club_games_df[club_games_df.duplicated(subset= ['game_id'], keep = False)]\n",
    "duplicates\n",
    "\n",
    "club_games_df.query('game_id == 2221751')\n",
    "\n",
    "# le partite sono tutte doppie (con club ed opponent scambiati)\n"
   ],
   "metadata": {
    "collapsed": false,
    "ExecuteTime": {
     "end_time": "2024-05-06T07:58:02.065747400Z",
     "start_time": "2024-05-06T07:58:01.917854400Z"
    }
   },
   "id": "99df5392fca71478"
  },
  {
   "cell_type": "code",
   "execution_count": 6,
   "outputs": [
    {
     "data": {
      "text/plain": "         club_id  own_goals  own_position      own_manager_name  opponent_id  \\\ngame_id                                                                        \n2221751      431          1           NaN         Lutz Göttling           60   \n2221755       83          3           NaN      Ralph Hasenhüttl         4795   \n2222597     3725          2           2.0  Stanislav Cherchesov          232   \n2222627     2696          0          11.0        Andrey Kobelev         4128   \n2222658     2410          0           2.0        Leonid Slutski          121   \n2222664      932          1           5.0          Slaven Bilic         2698   \n2222683     2696          0          11.0        Andrey Kobelev        12438   \n2222685     2698          0           7.0        Kurban Berdyev          232   \n2222709     3725          2           5.0  Stanislav Cherchesov        11126   \n2222734     1083          2          11.0       Miodrag Bozovic        16704   \n\n         opponent_goals  opponent_position opponent_manager_name hosting  \\\ngame_id                                                                    \n2221751               2                NaN     Christian Streich    Home   \n2221755               0                NaN            Tomas Oral    Home   \n2222597               1                5.0            Unai Emery    Home   \n2222627               2               10.0         Rustem Khuzin    Home   \n2222658               2               13.0          Dan Petrescu    Home   \n2222664               0                8.0        Kurban Berdyev    Home   \n2222683               1               16.0       Gadzhi Gadzhiev    Home   \n2222685               1                5.0        Valeriy Karpin    Home   \n2222709               1               16.0  Fedor Shcherbachenko    Home   \n2222734               3               10.0      Slavoljub Muslin    Home   \n\n         is_win  \ngame_id          \n2221751       0  \n2221755       1  \n2222597       1  \n2222627       0  \n2222658       0  \n2222664       1  \n2222683       0  \n2222685       0  \n2222709       1  \n2222734       0  ",
      "text/html": "<div>\n<style scoped>\n    .dataframe tbody tr th:only-of-type {\n        vertical-align: middle;\n    }\n\n    .dataframe tbody tr th {\n        vertical-align: top;\n    }\n\n    .dataframe thead th {\n        text-align: right;\n    }\n</style>\n<table border=\"1\" class=\"dataframe\">\n  <thead>\n    <tr style=\"text-align: right;\">\n      <th></th>\n      <th>club_id</th>\n      <th>own_goals</th>\n      <th>own_position</th>\n      <th>own_manager_name</th>\n      <th>opponent_id</th>\n      <th>opponent_goals</th>\n      <th>opponent_position</th>\n      <th>opponent_manager_name</th>\n      <th>hosting</th>\n      <th>is_win</th>\n    </tr>\n    <tr>\n      <th>game_id</th>\n      <th></th>\n      <th></th>\n      <th></th>\n      <th></th>\n      <th></th>\n      <th></th>\n      <th></th>\n      <th></th>\n      <th></th>\n      <th></th>\n    </tr>\n  </thead>\n  <tbody>\n    <tr>\n      <th>2221751</th>\n      <td>431</td>\n      <td>1</td>\n      <td>NaN</td>\n      <td>Lutz Göttling</td>\n      <td>60</td>\n      <td>2</td>\n      <td>NaN</td>\n      <td>Christian Streich</td>\n      <td>Home</td>\n      <td>0</td>\n    </tr>\n    <tr>\n      <th>2221755</th>\n      <td>83</td>\n      <td>3</td>\n      <td>NaN</td>\n      <td>Ralph Hasenhüttl</td>\n      <td>4795</td>\n      <td>0</td>\n      <td>NaN</td>\n      <td>Tomas Oral</td>\n      <td>Home</td>\n      <td>1</td>\n    </tr>\n    <tr>\n      <th>2222597</th>\n      <td>3725</td>\n      <td>2</td>\n      <td>2.0</td>\n      <td>Stanislav Cherchesov</td>\n      <td>232</td>\n      <td>1</td>\n      <td>5.0</td>\n      <td>Unai Emery</td>\n      <td>Home</td>\n      <td>1</td>\n    </tr>\n    <tr>\n      <th>2222627</th>\n      <td>2696</td>\n      <td>0</td>\n      <td>11.0</td>\n      <td>Andrey Kobelev</td>\n      <td>4128</td>\n      <td>2</td>\n      <td>10.0</td>\n      <td>Rustem Khuzin</td>\n      <td>Home</td>\n      <td>0</td>\n    </tr>\n    <tr>\n      <th>2222658</th>\n      <td>2410</td>\n      <td>0</td>\n      <td>2.0</td>\n      <td>Leonid Slutski</td>\n      <td>121</td>\n      <td>2</td>\n      <td>13.0</td>\n      <td>Dan Petrescu</td>\n      <td>Home</td>\n      <td>0</td>\n    </tr>\n    <tr>\n      <th>2222664</th>\n      <td>932</td>\n      <td>1</td>\n      <td>5.0</td>\n      <td>Slaven Bilic</td>\n      <td>2698</td>\n      <td>0</td>\n      <td>8.0</td>\n      <td>Kurban Berdyev</td>\n      <td>Home</td>\n      <td>1</td>\n    </tr>\n    <tr>\n      <th>2222683</th>\n      <td>2696</td>\n      <td>0</td>\n      <td>11.0</td>\n      <td>Andrey Kobelev</td>\n      <td>12438</td>\n      <td>1</td>\n      <td>16.0</td>\n      <td>Gadzhi Gadzhiev</td>\n      <td>Home</td>\n      <td>0</td>\n    </tr>\n    <tr>\n      <th>2222685</th>\n      <td>2698</td>\n      <td>0</td>\n      <td>7.0</td>\n      <td>Kurban Berdyev</td>\n      <td>232</td>\n      <td>1</td>\n      <td>5.0</td>\n      <td>Valeriy Karpin</td>\n      <td>Home</td>\n      <td>0</td>\n    </tr>\n    <tr>\n      <th>2222709</th>\n      <td>3725</td>\n      <td>2</td>\n      <td>5.0</td>\n      <td>Stanislav Cherchesov</td>\n      <td>11126</td>\n      <td>1</td>\n      <td>16.0</td>\n      <td>Fedor Shcherbachenko</td>\n      <td>Home</td>\n      <td>1</td>\n    </tr>\n    <tr>\n      <th>2222734</th>\n      <td>1083</td>\n      <td>2</td>\n      <td>11.0</td>\n      <td>Miodrag Bozovic</td>\n      <td>16704</td>\n      <td>3</td>\n      <td>10.0</td>\n      <td>Slavoljub Muslin</td>\n      <td>Home</td>\n      <td>0</td>\n    </tr>\n  </tbody>\n</table>\n</div>"
     },
     "execution_count": 6,
     "metadata": {},
     "output_type": "execute_result"
    }
   ],
   "source": [
    "club_games_df = club_games_df.set_index('game_id')\n",
    "club_games_df.head(10)"
   ],
   "metadata": {
    "collapsed": false,
    "ExecuteTime": {
     "end_time": "2024-05-06T07:58:02.219218900Z",
     "start_time": "2024-05-06T07:58:02.014282300Z"
    }
   },
   "id": "8a104e1be99cfb92"
  },
  {
   "cell_type": "code",
   "execution_count": 7,
   "outputs": [
    {
     "data": {
      "text/plain": "         club_id  club_goals  club_position     club_manager_name  \\\ngame_id                                                             \n2221751      431           1            NaN         Lutz Göttling   \n2221755       83           3            NaN      Ralph Hasenhüttl   \n2222597     3725           2            2.0  Stanislav Cherchesov   \n2222627     2696           0           11.0        Andrey Kobelev   \n2222658     2410           0            2.0        Leonid Slutski   \n...          ...         ...            ...                   ...   \n4126931    20923           2            NaN       Sergey Perednya   \n4148237      920           0            NaN      Ruaidhri Higgins   \n4171268      681           2            NaN       Imanol Alguacil   \n4148252      144           3            NaN      Sergej Jakirovic   \n4171248      418           3            NaN       Carlo Ancelotti   \n\n         opponent_id  opponent_goals  opponent_position opponent_manager_name  \\\ngame_id                                                                         \n2221751           60               2                NaN     Christian Streich   \n2221755         4795               0                NaN            Tomas Oral   \n2222597          232               1                5.0            Unai Emery   \n2222627         4128               2               10.0         Rustem Khuzin   \n2222658          121               2               13.0          Dan Petrescu   \n...              ...             ...                ...                   ...   \n4126931        12065               1                NaN   Aleksandr Gorbachev   \n4148237        10481               1                NaN          Milic Curcic   \n4171268          409               0                NaN       Gerhard Struber   \n4148252        10532               1                NaN          Dan Brimsvík   \n4171248         6195               2                NaN           Rudi Garcia   \n\n        hosting  is_win  \ngame_id                  \n2221751    Home       0  \n2221755    Home       1  \n2222597    Home       1  \n2222627    Home       0  \n2222658    Home       0  \n...         ...     ...  \n4126931    Away       1  \n4148237    Away       0  \n4171268    Away       1  \n4148252    Away       1  \n4171248    Away       1  \n\n[130432 rows x 10 columns]",
      "text/html": "<div>\n<style scoped>\n    .dataframe tbody tr th:only-of-type {\n        vertical-align: middle;\n    }\n\n    .dataframe tbody tr th {\n        vertical-align: top;\n    }\n\n    .dataframe thead th {\n        text-align: right;\n    }\n</style>\n<table border=\"1\" class=\"dataframe\">\n  <thead>\n    <tr style=\"text-align: right;\">\n      <th></th>\n      <th>club_id</th>\n      <th>club_goals</th>\n      <th>club_position</th>\n      <th>club_manager_name</th>\n      <th>opponent_id</th>\n      <th>opponent_goals</th>\n      <th>opponent_position</th>\n      <th>opponent_manager_name</th>\n      <th>hosting</th>\n      <th>is_win</th>\n    </tr>\n    <tr>\n      <th>game_id</th>\n      <th></th>\n      <th></th>\n      <th></th>\n      <th></th>\n      <th></th>\n      <th></th>\n      <th></th>\n      <th></th>\n      <th></th>\n      <th></th>\n    </tr>\n  </thead>\n  <tbody>\n    <tr>\n      <th>2221751</th>\n      <td>431</td>\n      <td>1</td>\n      <td>NaN</td>\n      <td>Lutz Göttling</td>\n      <td>60</td>\n      <td>2</td>\n      <td>NaN</td>\n      <td>Christian Streich</td>\n      <td>Home</td>\n      <td>0</td>\n    </tr>\n    <tr>\n      <th>2221755</th>\n      <td>83</td>\n      <td>3</td>\n      <td>NaN</td>\n      <td>Ralph Hasenhüttl</td>\n      <td>4795</td>\n      <td>0</td>\n      <td>NaN</td>\n      <td>Tomas Oral</td>\n      <td>Home</td>\n      <td>1</td>\n    </tr>\n    <tr>\n      <th>2222597</th>\n      <td>3725</td>\n      <td>2</td>\n      <td>2.0</td>\n      <td>Stanislav Cherchesov</td>\n      <td>232</td>\n      <td>1</td>\n      <td>5.0</td>\n      <td>Unai Emery</td>\n      <td>Home</td>\n      <td>1</td>\n    </tr>\n    <tr>\n      <th>2222627</th>\n      <td>2696</td>\n      <td>0</td>\n      <td>11.0</td>\n      <td>Andrey Kobelev</td>\n      <td>4128</td>\n      <td>2</td>\n      <td>10.0</td>\n      <td>Rustem Khuzin</td>\n      <td>Home</td>\n      <td>0</td>\n    </tr>\n    <tr>\n      <th>2222658</th>\n      <td>2410</td>\n      <td>0</td>\n      <td>2.0</td>\n      <td>Leonid Slutski</td>\n      <td>121</td>\n      <td>2</td>\n      <td>13.0</td>\n      <td>Dan Petrescu</td>\n      <td>Home</td>\n      <td>0</td>\n    </tr>\n    <tr>\n      <th>...</th>\n      <td>...</td>\n      <td>...</td>\n      <td>...</td>\n      <td>...</td>\n      <td>...</td>\n      <td>...</td>\n      <td>...</td>\n      <td>...</td>\n      <td>...</td>\n      <td>...</td>\n    </tr>\n    <tr>\n      <th>4126931</th>\n      <td>20923</td>\n      <td>2</td>\n      <td>NaN</td>\n      <td>Sergey Perednya</td>\n      <td>12065</td>\n      <td>1</td>\n      <td>NaN</td>\n      <td>Aleksandr Gorbachev</td>\n      <td>Away</td>\n      <td>1</td>\n    </tr>\n    <tr>\n      <th>4148237</th>\n      <td>920</td>\n      <td>0</td>\n      <td>NaN</td>\n      <td>Ruaidhri Higgins</td>\n      <td>10481</td>\n      <td>1</td>\n      <td>NaN</td>\n      <td>Milic Curcic</td>\n      <td>Away</td>\n      <td>0</td>\n    </tr>\n    <tr>\n      <th>4171268</th>\n      <td>681</td>\n      <td>2</td>\n      <td>NaN</td>\n      <td>Imanol Alguacil</td>\n      <td>409</td>\n      <td>0</td>\n      <td>NaN</td>\n      <td>Gerhard Struber</td>\n      <td>Away</td>\n      <td>1</td>\n    </tr>\n    <tr>\n      <th>4148252</th>\n      <td>144</td>\n      <td>3</td>\n      <td>NaN</td>\n      <td>Sergej Jakirovic</td>\n      <td>10532</td>\n      <td>1</td>\n      <td>NaN</td>\n      <td>Dan Brimsvík</td>\n      <td>Away</td>\n      <td>1</td>\n    </tr>\n    <tr>\n      <th>4171248</th>\n      <td>418</td>\n      <td>3</td>\n      <td>NaN</td>\n      <td>Carlo Ancelotti</td>\n      <td>6195</td>\n      <td>2</td>\n      <td>NaN</td>\n      <td>Rudi Garcia</td>\n      <td>Away</td>\n      <td>1</td>\n    </tr>\n  </tbody>\n</table>\n<p>130432 rows × 10 columns</p>\n</div>"
     },
     "execution_count": 7,
     "metadata": {},
     "output_type": "execute_result"
    }
   ],
   "source": [
    "# renaming columns\n",
    "club_games_df = club_games_df.rename(columns= {\n",
    "    'own_goals' : 'club_goals',\n",
    "    'own_position' : 'club_position',\n",
    "    'own_manager_name':'club_manager_name'\n",
    "})\n",
    "\n",
    "club_games_df"
   ],
   "metadata": {
    "collapsed": false,
    "ExecuteTime": {
     "end_time": "2024-05-06T07:58:02.339047800Z",
     "start_time": "2024-05-06T07:58:02.071972100Z"
    }
   },
   "id": "f1cff85ec7f87465"
  },
  {
   "cell_type": "code",
   "execution_count": 8,
   "outputs": [
    {
     "data": {
      "text/plain": "club_id                      0\nclub_goals                   0\nclub_position            38908\nclub_manager_name         1484\nopponent_id                  0\nopponent_goals               0\nopponent_position        38908\nopponent_manager_name     1484\nhosting                      0\nis_win                       0\ndtype: int64"
     },
     "execution_count": 8,
     "metadata": {},
     "output_type": "execute_result"
    }
   ],
   "source": [
    "club_games_df.isna().sum()\n",
    "\n",
    "# probabilmente le righe con position NaN sono quelle che descrivono le prime partite delle due squadre, dove quindi non hanno una posizione in classifica ancora"
   ],
   "metadata": {
    "collapsed": false,
    "ExecuteTime": {
     "end_time": "2024-05-06T07:58:02.399202600Z",
     "start_time": "2024-05-06T07:58:02.157499900Z"
    }
   },
   "id": "75c9e7ddba869ae8"
  },
  {
   "cell_type": "code",
   "execution_count": 9,
   "outputs": [
    {
     "data": {
      "text/plain": "club_id                     0\nclub_goals                  0\nclub_position               0\nclub_manager_name        1484\nopponent_id                 0\nopponent_goals              0\nopponent_position           0\nopponent_manager_name    1484\nhosting                     0\nis_win                      0\ndtype: int64"
     },
     "execution_count": 9,
     "metadata": {},
     "output_type": "execute_result"
    }
   ],
   "source": [
    "# setting NA position values to 0\n",
    "\n",
    "club_games_df.loc[club_games_df['club_position'].isna(), 'club_position'] = 0\n",
    "\n",
    "club_games_df.loc[club_games_df['opponent_position'].isna(), 'opponent_position'] = 0\n",
    "\n",
    "club_games_df.isna().sum()"
   ],
   "metadata": {
    "collapsed": false,
    "ExecuteTime": {
     "end_time": "2024-05-06T07:58:02.578401600Z",
     "start_time": "2024-05-06T07:58:02.204598100Z"
    }
   },
   "id": "7cc0ad26a0bd965a"
  },
  {
   "cell_type": "code",
   "execution_count": 10,
   "outputs": [
    {
     "data": {
      "text/plain": "         club_id  club_goals  club_position    club_manager_name  opponent_id  \\\ngame_id                                                                         \n3038747      418           3            0.0      Zinédine Zidane           31   \n4173721    44914           1            0.0        Ricky Waddell        23616   \n2495367       27           3            0.0        Pep Guardiola         2410   \n2486736      512           1           10.0          Mark Hughes         3008   \n2849034      660           1            1.0        Paulo Fonseca        23611   \n2847145     2578           1            4.0         Tommy Wright           43   \n3376110    28097           2            0.0      Andrey Zakharov        12065   \n3651120       31           2            0.0         Jürgen Klopp          720   \n2846713    23611           1            4.0        Roman Sanzhar         6992   \n2514121      991           0            0.0        Karl Robinson         1219   \n2656747      131           3            0.0         Luis Enrique          621   \n2779492    22235           1            0.0   Carsten Hemmingsen          206   \n3089885    12054           2            0.0        Evgeni Maslov        10688   \n3537799      281           2            0.0        Pep Guardiola           16   \n3394874      370           2            3.0        Derek McInnes          465   \n2452088      465           1            8.0         Danny Lennon           43   \n3035722      631           1            0.0        Antonio Conte          985   \n2731831    10690           1            3.0       Yuriy Vernydub          660   \n3429749      762           1           17.0          Steve Bruce          543   \n3038747       31           1            0.0         Jürgen Klopp          418   \n4173721    23616           2            0.0           Mark Cowie        44914   \n2495367     2410           0            0.0       Leonid Slutski           27   \n2486736     3008           0           15.0          Steve Bruce          512   \n2849034    23611           1            4.0        Roman Sanzhar          660   \n2847145       43           0            5.0           Ian Cathro         2578   \n3376110    12065           3            0.0     Aleksandr Akimov        28097   \n3651120      720           0            0.0     Sérgio Conceição           31   \n2846713     6992           0            6.0     Oleksandr Babych        23611   \n2514121     1219           1            0.0            Paul Cook          991   \n2656747      621           1            0.0     Ernesto Valverde          131   \n2779492      206           4            0.0   Alexander Zorniger        22235   \n3089885    10688           1            0.0      Sergey Kirsanov        12054   \n3537799       16           1            0.0          Edin Terzic          281   \n3394874      465           1           10.0          Jim Goodwin          370   \n2452088       43           1           12.0           Gary Locke          465   \n3035722      985           0            0.0        José Mourinho          631   \n2731831      660           2            1.0        Paulo Fonseca        10690   \n3429749      543           1           12.0  Nuno Espírito Santo          762   \n\n         opponent_goals  opponent_position opponent_manager_name hosting  \\\ngame_id                                                                    \n3038747               1                0.0          Jürgen Klopp    Home   \n4173721               2                0.0            Mark Cowie    Home   \n2495367               0                0.0        Leonid Slutski    Home   \n2486736               0               15.0           Steve Bruce    Home   \n2849034               1                4.0         Roman Sanzhar    Home   \n2847145               0                5.0            Ian Cathro    Home   \n3376110               3                0.0      Aleksandr Akimov    Home   \n3651120               0                0.0      Sérgio Conceição    Home   \n2846713               0                6.0      Oleksandr Babych    Home   \n2514121               1                0.0             Paul Cook    Home   \n2656747               1                0.0      Ernesto Valverde    Home   \n2779492               4                0.0    Alexander Zorniger    Home   \n3089885               1                0.0       Sergey Kirsanov    Home   \n3537799               1                0.0           Edin Terzic    Home   \n3394874               1               10.0           Jim Goodwin    Home   \n2452088               1               12.0            Gary Locke    Home   \n3035722               0                0.0         José Mourinho    Home   \n2731831               2                1.0         Paulo Fonseca    Home   \n3429749               1               12.0   Nuno Espírito Santo    Home   \n3038747               3                0.0       Zinédine Zidane    Away   \n4173721               1                0.0         Ricky Waddell    Away   \n2495367               3                0.0         Pep Guardiola    Away   \n2486736               1               10.0           Mark Hughes    Away   \n2849034               1                1.0         Paulo Fonseca    Away   \n2847145               1                4.0          Tommy Wright    Away   \n3376110               2                0.0       Andrey Zakharov    Away   \n3651120               2                0.0          Jürgen Klopp    Away   \n2846713               1                4.0         Roman Sanzhar    Away   \n2514121               0                0.0         Karl Robinson    Away   \n2656747               3                0.0          Luis Enrique    Away   \n2779492               1                0.0    Carsten Hemmingsen    Away   \n3089885               2                0.0         Evgeni Maslov    Away   \n3537799               2                0.0         Pep Guardiola    Away   \n3394874               2                3.0         Derek McInnes    Away   \n2452088               1                8.0          Danny Lennon    Away   \n3035722               1                0.0         Antonio Conte    Away   \n2731831               1                3.0        Yuriy Vernydub    Away   \n3429749               1               17.0           Steve Bruce    Away   \n\n         is_win  \ngame_id          \n3038747       1  \n4173721       0  \n2495367       1  \n2486736       1  \n2849034       0  \n2847145       1  \n3376110       0  \n3651120       1  \n2846713       1  \n2514121       0  \n2656747       1  \n2779492       0  \n3089885       1  \n3537799       1  \n3394874       1  \n2452088       0  \n3035722       1  \n2731831       0  \n3429749       0  \n3038747       0  \n4173721       1  \n2495367       0  \n2486736       0  \n2849034       0  \n2847145       0  \n3376110       1  \n3651120       0  \n2846713       0  \n2514121       1  \n2656747       0  \n2779492       1  \n3089885       0  \n3537799       0  \n3394874       0  \n2452088       0  \n3035722       0  \n2731831       1  \n3429749       0  ",
      "text/html": "<div>\n<style scoped>\n    .dataframe tbody tr th:only-of-type {\n        vertical-align: middle;\n    }\n\n    .dataframe tbody tr th {\n        vertical-align: top;\n    }\n\n    .dataframe thead th {\n        text-align: right;\n    }\n</style>\n<table border=\"1\" class=\"dataframe\">\n  <thead>\n    <tr style=\"text-align: right;\">\n      <th></th>\n      <th>club_id</th>\n      <th>club_goals</th>\n      <th>club_position</th>\n      <th>club_manager_name</th>\n      <th>opponent_id</th>\n      <th>opponent_goals</th>\n      <th>opponent_position</th>\n      <th>opponent_manager_name</th>\n      <th>hosting</th>\n      <th>is_win</th>\n    </tr>\n    <tr>\n      <th>game_id</th>\n      <th></th>\n      <th></th>\n      <th></th>\n      <th></th>\n      <th></th>\n      <th></th>\n      <th></th>\n      <th></th>\n      <th></th>\n      <th></th>\n    </tr>\n  </thead>\n  <tbody>\n    <tr>\n      <th>3038747</th>\n      <td>418</td>\n      <td>3</td>\n      <td>0.0</td>\n      <td>Zinédine Zidane</td>\n      <td>31</td>\n      <td>1</td>\n      <td>0.0</td>\n      <td>Jürgen Klopp</td>\n      <td>Home</td>\n      <td>1</td>\n    </tr>\n    <tr>\n      <th>4173721</th>\n      <td>44914</td>\n      <td>1</td>\n      <td>0.0</td>\n      <td>Ricky Waddell</td>\n      <td>23616</td>\n      <td>2</td>\n      <td>0.0</td>\n      <td>Mark Cowie</td>\n      <td>Home</td>\n      <td>0</td>\n    </tr>\n    <tr>\n      <th>2495367</th>\n      <td>27</td>\n      <td>3</td>\n      <td>0.0</td>\n      <td>Pep Guardiola</td>\n      <td>2410</td>\n      <td>0</td>\n      <td>0.0</td>\n      <td>Leonid Slutski</td>\n      <td>Home</td>\n      <td>1</td>\n    </tr>\n    <tr>\n      <th>2486736</th>\n      <td>512</td>\n      <td>1</td>\n      <td>10.0</td>\n      <td>Mark Hughes</td>\n      <td>3008</td>\n      <td>0</td>\n      <td>15.0</td>\n      <td>Steve Bruce</td>\n      <td>Home</td>\n      <td>1</td>\n    </tr>\n    <tr>\n      <th>2849034</th>\n      <td>660</td>\n      <td>1</td>\n      <td>1.0</td>\n      <td>Paulo Fonseca</td>\n      <td>23611</td>\n      <td>1</td>\n      <td>4.0</td>\n      <td>Roman Sanzhar</td>\n      <td>Home</td>\n      <td>0</td>\n    </tr>\n    <tr>\n      <th>2847145</th>\n      <td>2578</td>\n      <td>1</td>\n      <td>4.0</td>\n      <td>Tommy Wright</td>\n      <td>43</td>\n      <td>0</td>\n      <td>5.0</td>\n      <td>Ian Cathro</td>\n      <td>Home</td>\n      <td>1</td>\n    </tr>\n    <tr>\n      <th>3376110</th>\n      <td>28097</td>\n      <td>2</td>\n      <td>0.0</td>\n      <td>Andrey Zakharov</td>\n      <td>12065</td>\n      <td>3</td>\n      <td>0.0</td>\n      <td>Aleksandr Akimov</td>\n      <td>Home</td>\n      <td>0</td>\n    </tr>\n    <tr>\n      <th>3651120</th>\n      <td>31</td>\n      <td>2</td>\n      <td>0.0</td>\n      <td>Jürgen Klopp</td>\n      <td>720</td>\n      <td>0</td>\n      <td>0.0</td>\n      <td>Sérgio Conceição</td>\n      <td>Home</td>\n      <td>1</td>\n    </tr>\n    <tr>\n      <th>2846713</th>\n      <td>23611</td>\n      <td>1</td>\n      <td>4.0</td>\n      <td>Roman Sanzhar</td>\n      <td>6992</td>\n      <td>0</td>\n      <td>6.0</td>\n      <td>Oleksandr Babych</td>\n      <td>Home</td>\n      <td>1</td>\n    </tr>\n    <tr>\n      <th>2514121</th>\n      <td>991</td>\n      <td>0</td>\n      <td>0.0</td>\n      <td>Karl Robinson</td>\n      <td>1219</td>\n      <td>1</td>\n      <td>0.0</td>\n      <td>Paul Cook</td>\n      <td>Home</td>\n      <td>0</td>\n    </tr>\n    <tr>\n      <th>2656747</th>\n      <td>131</td>\n      <td>3</td>\n      <td>0.0</td>\n      <td>Luis Enrique</td>\n      <td>621</td>\n      <td>1</td>\n      <td>0.0</td>\n      <td>Ernesto Valverde</td>\n      <td>Home</td>\n      <td>1</td>\n    </tr>\n    <tr>\n      <th>2779492</th>\n      <td>22235</td>\n      <td>1</td>\n      <td>0.0</td>\n      <td>Carsten Hemmingsen</td>\n      <td>206</td>\n      <td>4</td>\n      <td>0.0</td>\n      <td>Alexander Zorniger</td>\n      <td>Home</td>\n      <td>0</td>\n    </tr>\n    <tr>\n      <th>3089885</th>\n      <td>12054</td>\n      <td>2</td>\n      <td>0.0</td>\n      <td>Evgeni Maslov</td>\n      <td>10688</td>\n      <td>1</td>\n      <td>0.0</td>\n      <td>Sergey Kirsanov</td>\n      <td>Home</td>\n      <td>1</td>\n    </tr>\n    <tr>\n      <th>3537799</th>\n      <td>281</td>\n      <td>2</td>\n      <td>0.0</td>\n      <td>Pep Guardiola</td>\n      <td>16</td>\n      <td>1</td>\n      <td>0.0</td>\n      <td>Edin Terzic</td>\n      <td>Home</td>\n      <td>1</td>\n    </tr>\n    <tr>\n      <th>3394874</th>\n      <td>370</td>\n      <td>2</td>\n      <td>3.0</td>\n      <td>Derek McInnes</td>\n      <td>465</td>\n      <td>1</td>\n      <td>10.0</td>\n      <td>Jim Goodwin</td>\n      <td>Home</td>\n      <td>1</td>\n    </tr>\n    <tr>\n      <th>2452088</th>\n      <td>465</td>\n      <td>1</td>\n      <td>8.0</td>\n      <td>Danny Lennon</td>\n      <td>43</td>\n      <td>1</td>\n      <td>12.0</td>\n      <td>Gary Locke</td>\n      <td>Home</td>\n      <td>0</td>\n    </tr>\n    <tr>\n      <th>3035722</th>\n      <td>631</td>\n      <td>1</td>\n      <td>0.0</td>\n      <td>Antonio Conte</td>\n      <td>985</td>\n      <td>0</td>\n      <td>0.0</td>\n      <td>José Mourinho</td>\n      <td>Home</td>\n      <td>1</td>\n    </tr>\n    <tr>\n      <th>2731831</th>\n      <td>10690</td>\n      <td>1</td>\n      <td>3.0</td>\n      <td>Yuriy Vernydub</td>\n      <td>660</td>\n      <td>2</td>\n      <td>1.0</td>\n      <td>Paulo Fonseca</td>\n      <td>Home</td>\n      <td>0</td>\n    </tr>\n    <tr>\n      <th>3429749</th>\n      <td>762</td>\n      <td>1</td>\n      <td>17.0</td>\n      <td>Steve Bruce</td>\n      <td>543</td>\n      <td>1</td>\n      <td>12.0</td>\n      <td>Nuno Espírito Santo</td>\n      <td>Home</td>\n      <td>0</td>\n    </tr>\n    <tr>\n      <th>3038747</th>\n      <td>31</td>\n      <td>1</td>\n      <td>0.0</td>\n      <td>Jürgen Klopp</td>\n      <td>418</td>\n      <td>3</td>\n      <td>0.0</td>\n      <td>Zinédine Zidane</td>\n      <td>Away</td>\n      <td>0</td>\n    </tr>\n    <tr>\n      <th>4173721</th>\n      <td>23616</td>\n      <td>2</td>\n      <td>0.0</td>\n      <td>Mark Cowie</td>\n      <td>44914</td>\n      <td>1</td>\n      <td>0.0</td>\n      <td>Ricky Waddell</td>\n      <td>Away</td>\n      <td>1</td>\n    </tr>\n    <tr>\n      <th>2495367</th>\n      <td>2410</td>\n      <td>0</td>\n      <td>0.0</td>\n      <td>Leonid Slutski</td>\n      <td>27</td>\n      <td>3</td>\n      <td>0.0</td>\n      <td>Pep Guardiola</td>\n      <td>Away</td>\n      <td>0</td>\n    </tr>\n    <tr>\n      <th>2486736</th>\n      <td>3008</td>\n      <td>0</td>\n      <td>15.0</td>\n      <td>Steve Bruce</td>\n      <td>512</td>\n      <td>1</td>\n      <td>10.0</td>\n      <td>Mark Hughes</td>\n      <td>Away</td>\n      <td>0</td>\n    </tr>\n    <tr>\n      <th>2849034</th>\n      <td>23611</td>\n      <td>1</td>\n      <td>4.0</td>\n      <td>Roman Sanzhar</td>\n      <td>660</td>\n      <td>1</td>\n      <td>1.0</td>\n      <td>Paulo Fonseca</td>\n      <td>Away</td>\n      <td>0</td>\n    </tr>\n    <tr>\n      <th>2847145</th>\n      <td>43</td>\n      <td>0</td>\n      <td>5.0</td>\n      <td>Ian Cathro</td>\n      <td>2578</td>\n      <td>1</td>\n      <td>4.0</td>\n      <td>Tommy Wright</td>\n      <td>Away</td>\n      <td>0</td>\n    </tr>\n    <tr>\n      <th>3376110</th>\n      <td>12065</td>\n      <td>3</td>\n      <td>0.0</td>\n      <td>Aleksandr Akimov</td>\n      <td>28097</td>\n      <td>2</td>\n      <td>0.0</td>\n      <td>Andrey Zakharov</td>\n      <td>Away</td>\n      <td>1</td>\n    </tr>\n    <tr>\n      <th>3651120</th>\n      <td>720</td>\n      <td>0</td>\n      <td>0.0</td>\n      <td>Sérgio Conceição</td>\n      <td>31</td>\n      <td>2</td>\n      <td>0.0</td>\n      <td>Jürgen Klopp</td>\n      <td>Away</td>\n      <td>0</td>\n    </tr>\n    <tr>\n      <th>2846713</th>\n      <td>6992</td>\n      <td>0</td>\n      <td>6.0</td>\n      <td>Oleksandr Babych</td>\n      <td>23611</td>\n      <td>1</td>\n      <td>4.0</td>\n      <td>Roman Sanzhar</td>\n      <td>Away</td>\n      <td>0</td>\n    </tr>\n    <tr>\n      <th>2514121</th>\n      <td>1219</td>\n      <td>1</td>\n      <td>0.0</td>\n      <td>Paul Cook</td>\n      <td>991</td>\n      <td>0</td>\n      <td>0.0</td>\n      <td>Karl Robinson</td>\n      <td>Away</td>\n      <td>1</td>\n    </tr>\n    <tr>\n      <th>2656747</th>\n      <td>621</td>\n      <td>1</td>\n      <td>0.0</td>\n      <td>Ernesto Valverde</td>\n      <td>131</td>\n      <td>3</td>\n      <td>0.0</td>\n      <td>Luis Enrique</td>\n      <td>Away</td>\n      <td>0</td>\n    </tr>\n    <tr>\n      <th>2779492</th>\n      <td>206</td>\n      <td>4</td>\n      <td>0.0</td>\n      <td>Alexander Zorniger</td>\n      <td>22235</td>\n      <td>1</td>\n      <td>0.0</td>\n      <td>Carsten Hemmingsen</td>\n      <td>Away</td>\n      <td>1</td>\n    </tr>\n    <tr>\n      <th>3089885</th>\n      <td>10688</td>\n      <td>1</td>\n      <td>0.0</td>\n      <td>Sergey Kirsanov</td>\n      <td>12054</td>\n      <td>2</td>\n      <td>0.0</td>\n      <td>Evgeni Maslov</td>\n      <td>Away</td>\n      <td>0</td>\n    </tr>\n    <tr>\n      <th>3537799</th>\n      <td>16</td>\n      <td>1</td>\n      <td>0.0</td>\n      <td>Edin Terzic</td>\n      <td>281</td>\n      <td>2</td>\n      <td>0.0</td>\n      <td>Pep Guardiola</td>\n      <td>Away</td>\n      <td>0</td>\n    </tr>\n    <tr>\n      <th>3394874</th>\n      <td>465</td>\n      <td>1</td>\n      <td>10.0</td>\n      <td>Jim Goodwin</td>\n      <td>370</td>\n      <td>2</td>\n      <td>3.0</td>\n      <td>Derek McInnes</td>\n      <td>Away</td>\n      <td>0</td>\n    </tr>\n    <tr>\n      <th>2452088</th>\n      <td>43</td>\n      <td>1</td>\n      <td>12.0</td>\n      <td>Gary Locke</td>\n      <td>465</td>\n      <td>1</td>\n      <td>8.0</td>\n      <td>Danny Lennon</td>\n      <td>Away</td>\n      <td>0</td>\n    </tr>\n    <tr>\n      <th>3035722</th>\n      <td>985</td>\n      <td>0</td>\n      <td>0.0</td>\n      <td>José Mourinho</td>\n      <td>631</td>\n      <td>1</td>\n      <td>0.0</td>\n      <td>Antonio Conte</td>\n      <td>Away</td>\n      <td>0</td>\n    </tr>\n    <tr>\n      <th>2731831</th>\n      <td>660</td>\n      <td>2</td>\n      <td>1.0</td>\n      <td>Paulo Fonseca</td>\n      <td>10690</td>\n      <td>1</td>\n      <td>3.0</td>\n      <td>Yuriy Vernydub</td>\n      <td>Away</td>\n      <td>1</td>\n    </tr>\n    <tr>\n      <th>3429749</th>\n      <td>543</td>\n      <td>1</td>\n      <td>12.0</td>\n      <td>Nuno Espírito Santo</td>\n      <td>762</td>\n      <td>1</td>\n      <td>17.0</td>\n      <td>Steve Bruce</td>\n      <td>Away</td>\n      <td>0</td>\n    </tr>\n  </tbody>\n</table>\n</div>"
     },
     "execution_count": 10,
     "metadata": {},
     "output_type": "execute_result"
    }
   ],
   "source": [
    "# club_games_df.query('club_id == 418 and opponent_id == 13')\n",
    "\n",
    "club_games_df.loc[club_games_df.duplicated()]\n",
    "\n",
    "# ci sono duplicati perchè è possibile che due squadre giochino più volte una contro l'altra e con lo stesso risultato"
   ],
   "metadata": {
    "collapsed": false,
    "ExecuteTime": {
     "end_time": "2024-05-06T07:58:02.712838500Z",
     "start_time": "2024-05-06T07:58:02.254525400Z"
    }
   },
   "id": "b79df8235c131aa8"
  },
  {
   "cell_type": "code",
   "execution_count": 11,
   "outputs": [
    {
     "data": {
      "text/plain": "club_id                    int64\nclub_goals                 int64\nclub_position            float64\nclub_manager_name         object\nopponent_id                int64\nopponent_goals             int64\nopponent_position        float64\nopponent_manager_name     object\nhosting                   object\nis_win                     int64\ndtype: object"
     },
     "execution_count": 11,
     "metadata": {},
     "output_type": "execute_result"
    }
   ],
   "source": [
    "club_games_df.dtypes"
   ],
   "metadata": {
    "collapsed": false,
    "ExecuteTime": {
     "end_time": "2024-05-06T07:58:02.713843100Z",
     "start_time": "2024-05-06T07:58:02.427992500Z"
    }
   },
   "id": "2adedbf24ce8b89d"
  },
  {
   "cell_type": "code",
   "execution_count": 12,
   "outputs": [
    {
     "data": {
      "text/plain": "         club_id  club_goals  club_position     club_manager_name  \\\ngame_id                                                             \n2221751      431           1            0.0         Lutz Göttling   \n2221755       83           3            0.0      Ralph Hasenhüttl   \n2222597     3725           2            2.0  Stanislav Cherchesov   \n2222627     2696           0           11.0        Andrey Kobelev   \n2222658     2410           0            2.0        Leonid Slutski   \n...          ...         ...            ...                   ...   \n4126931    20923           2            0.0       Sergey Perednya   \n4148237      920           0            0.0      Ruaidhri Higgins   \n4171268      681           2            0.0       Imanol Alguacil   \n4148252      144           3            0.0      Sergej Jakirovic   \n4171248      418           3            0.0       Carlo Ancelotti   \n\n         opponent_id  opponent_goals  opponent_position opponent_manager_name  \\\ngame_id                                                                         \n2221751           60               2                0.0     Christian Streich   \n2221755         4795               0                0.0            Tomas Oral   \n2222597          232               1                5.0            Unai Emery   \n2222627         4128               2               10.0         Rustem Khuzin   \n2222658          121               2               13.0          Dan Petrescu   \n...              ...             ...                ...                   ...   \n4126931        12065               1                0.0   Aleksandr Gorbachev   \n4148237        10481               1                0.0          Milic Curcic   \n4171268          409               0                0.0       Gerhard Struber   \n4148252        10532               1                0.0          Dan Brimsvík   \n4171248         6195               2                0.0           Rudi Garcia   \n\n        hosting  is_win  \ngame_id                  \n2221751    Home   False  \n2221755    Home    True  \n2222597    Home    True  \n2222627    Home   False  \n2222658    Home   False  \n...         ...     ...  \n4126931    Away    True  \n4148237    Away   False  \n4171268    Away    True  \n4148252    Away    True  \n4171248    Away    True  \n\n[130432 rows x 10 columns]",
      "text/html": "<div>\n<style scoped>\n    .dataframe tbody tr th:only-of-type {\n        vertical-align: middle;\n    }\n\n    .dataframe tbody tr th {\n        vertical-align: top;\n    }\n\n    .dataframe thead th {\n        text-align: right;\n    }\n</style>\n<table border=\"1\" class=\"dataframe\">\n  <thead>\n    <tr style=\"text-align: right;\">\n      <th></th>\n      <th>club_id</th>\n      <th>club_goals</th>\n      <th>club_position</th>\n      <th>club_manager_name</th>\n      <th>opponent_id</th>\n      <th>opponent_goals</th>\n      <th>opponent_position</th>\n      <th>opponent_manager_name</th>\n      <th>hosting</th>\n      <th>is_win</th>\n    </tr>\n    <tr>\n      <th>game_id</th>\n      <th></th>\n      <th></th>\n      <th></th>\n      <th></th>\n      <th></th>\n      <th></th>\n      <th></th>\n      <th></th>\n      <th></th>\n      <th></th>\n    </tr>\n  </thead>\n  <tbody>\n    <tr>\n      <th>2221751</th>\n      <td>431</td>\n      <td>1</td>\n      <td>0.0</td>\n      <td>Lutz Göttling</td>\n      <td>60</td>\n      <td>2</td>\n      <td>0.0</td>\n      <td>Christian Streich</td>\n      <td>Home</td>\n      <td>False</td>\n    </tr>\n    <tr>\n      <th>2221755</th>\n      <td>83</td>\n      <td>3</td>\n      <td>0.0</td>\n      <td>Ralph Hasenhüttl</td>\n      <td>4795</td>\n      <td>0</td>\n      <td>0.0</td>\n      <td>Tomas Oral</td>\n      <td>Home</td>\n      <td>True</td>\n    </tr>\n    <tr>\n      <th>2222597</th>\n      <td>3725</td>\n      <td>2</td>\n      <td>2.0</td>\n      <td>Stanislav Cherchesov</td>\n      <td>232</td>\n      <td>1</td>\n      <td>5.0</td>\n      <td>Unai Emery</td>\n      <td>Home</td>\n      <td>True</td>\n    </tr>\n    <tr>\n      <th>2222627</th>\n      <td>2696</td>\n      <td>0</td>\n      <td>11.0</td>\n      <td>Andrey Kobelev</td>\n      <td>4128</td>\n      <td>2</td>\n      <td>10.0</td>\n      <td>Rustem Khuzin</td>\n      <td>Home</td>\n      <td>False</td>\n    </tr>\n    <tr>\n      <th>2222658</th>\n      <td>2410</td>\n      <td>0</td>\n      <td>2.0</td>\n      <td>Leonid Slutski</td>\n      <td>121</td>\n      <td>2</td>\n      <td>13.0</td>\n      <td>Dan Petrescu</td>\n      <td>Home</td>\n      <td>False</td>\n    </tr>\n    <tr>\n      <th>...</th>\n      <td>...</td>\n      <td>...</td>\n      <td>...</td>\n      <td>...</td>\n      <td>...</td>\n      <td>...</td>\n      <td>...</td>\n      <td>...</td>\n      <td>...</td>\n      <td>...</td>\n    </tr>\n    <tr>\n      <th>4126931</th>\n      <td>20923</td>\n      <td>2</td>\n      <td>0.0</td>\n      <td>Sergey Perednya</td>\n      <td>12065</td>\n      <td>1</td>\n      <td>0.0</td>\n      <td>Aleksandr Gorbachev</td>\n      <td>Away</td>\n      <td>True</td>\n    </tr>\n    <tr>\n      <th>4148237</th>\n      <td>920</td>\n      <td>0</td>\n      <td>0.0</td>\n      <td>Ruaidhri Higgins</td>\n      <td>10481</td>\n      <td>1</td>\n      <td>0.0</td>\n      <td>Milic Curcic</td>\n      <td>Away</td>\n      <td>False</td>\n    </tr>\n    <tr>\n      <th>4171268</th>\n      <td>681</td>\n      <td>2</td>\n      <td>0.0</td>\n      <td>Imanol Alguacil</td>\n      <td>409</td>\n      <td>0</td>\n      <td>0.0</td>\n      <td>Gerhard Struber</td>\n      <td>Away</td>\n      <td>True</td>\n    </tr>\n    <tr>\n      <th>4148252</th>\n      <td>144</td>\n      <td>3</td>\n      <td>0.0</td>\n      <td>Sergej Jakirovic</td>\n      <td>10532</td>\n      <td>1</td>\n      <td>0.0</td>\n      <td>Dan Brimsvík</td>\n      <td>Away</td>\n      <td>True</td>\n    </tr>\n    <tr>\n      <th>4171248</th>\n      <td>418</td>\n      <td>3</td>\n      <td>0.0</td>\n      <td>Carlo Ancelotti</td>\n      <td>6195</td>\n      <td>2</td>\n      <td>0.0</td>\n      <td>Rudi Garcia</td>\n      <td>Away</td>\n      <td>True</td>\n    </tr>\n  </tbody>\n</table>\n<p>130432 rows × 10 columns</p>\n</div>"
     },
     "execution_count": 12,
     "metadata": {},
     "output_type": "execute_result"
    }
   ],
   "source": [
    "club_games_df['is_win'] = club_games_df['is_win'].replace({1: True, 0: False})\n",
    "\n",
    "club_games_df['is_win'] = club_games_df['is_win'].astype(bool)\n",
    "\n",
    "club_games_df\n",
    "\n",
    "# si potrebbe cambiare hosting anche in is_hosting e cambiare Home con True e Away con False, per intendere che il club sta ospitando la partita sì/no"
   ],
   "metadata": {
    "collapsed": false,
    "ExecuteTime": {
     "end_time": "2024-05-06T07:58:02.837036600Z",
     "start_time": "2024-05-06T07:58:02.448839800Z"
    }
   },
   "id": "f966e07080fab916"
  },
  {
   "cell_type": "markdown",
   "source": [
    "# Data Analysis & Visualization"
   ],
   "metadata": {
    "collapsed": false
   },
   "id": "309f3356f472e247"
  },
  {
   "cell_type": "code",
   "execution_count": 15,
   "outputs": [
    {
     "ename": "FileNotFoundError",
     "evalue": "[Errno 2] No such file or directory: 'C:/Users/Louis/Desktop/3°Anno/IUM/Progetto/FootballData/clubs.csv'",
     "output_type": "error",
     "traceback": [
      "\u001B[1;31m---------------------------------------------------------------------------\u001B[0m",
      "\u001B[1;31mFileNotFoundError\u001B[0m                         Traceback (most recent call last)",
      "Cell \u001B[1;32mIn[15], line 3\u001B[0m\n\u001B[0;32m      1\u001B[0m club_wins \u001B[38;5;241m=\u001B[39m club_games_df[club_games_df[\u001B[38;5;124m'\u001B[39m\u001B[38;5;124mis_win\u001B[39m\u001B[38;5;124m'\u001B[39m] \u001B[38;5;241m==\u001B[39m \u001B[38;5;28;01mTrue\u001B[39;00m][\u001B[38;5;124m'\u001B[39m\u001B[38;5;124mclub_id\u001B[39m\u001B[38;5;124m'\u001B[39m]\u001B[38;5;241m.\u001B[39mvalue_counts()\u001B[38;5;241m.\u001B[39mhead(\u001B[38;5;241m10\u001B[39m)\n\u001B[1;32m----> 3\u001B[0m clubs_df \u001B[38;5;241m=\u001B[39m \u001B[43mpd\u001B[49m\u001B[38;5;241;43m.\u001B[39;49m\u001B[43mread_csv\u001B[49m\u001B[43m(\u001B[49m\u001B[38;5;124;43m\"\u001B[39;49m\u001B[38;5;124;43mC:/Users/Louis/Desktop/3°Anno/IUM/Progetto/FootballData/clubs.csv\u001B[39;49m\u001B[38;5;124;43m\"\u001B[39;49m\u001B[43m)\u001B[49m\n\u001B[0;32m      5\u001B[0m club_name_wins \u001B[38;5;241m=\u001B[39m pd\u001B[38;5;241m.\u001B[39mmerge(club_wins, clubs_df, left_index\u001B[38;5;241m=\u001B[39m\u001B[38;5;28;01mTrue\u001B[39;00m, right_on\u001B[38;5;241m=\u001B[39m\u001B[38;5;124m'\u001B[39m\u001B[38;5;124mclub_id\u001B[39m\u001B[38;5;124m'\u001B[39m)\n\u001B[0;32m      8\u001B[0m plt\u001B[38;5;241m.\u001B[39mbar(club_name_wins[\u001B[38;5;124m'\u001B[39m\u001B[38;5;124mname\u001B[39m\u001B[38;5;124m'\u001B[39m], club_name_wins[\u001B[38;5;124m'\u001B[39m\u001B[38;5;124mcount\u001B[39m\u001B[38;5;124m'\u001B[39m])\n",
      "File \u001B[1;32m~\\Drive RIC\\UNIVERSITA\\IUM TWEB\\ESERCIZI IUM\\3 PandasExample JupyterNotebook\\venv\\Lib\\site-packages\\pandas\\io\\parsers\\readers.py:948\u001B[0m, in \u001B[0;36mread_csv\u001B[1;34m(filepath_or_buffer, sep, delimiter, header, names, index_col, usecols, dtype, engine, converters, true_values, false_values, skipinitialspace, skiprows, skipfooter, nrows, na_values, keep_default_na, na_filter, verbose, skip_blank_lines, parse_dates, infer_datetime_format, keep_date_col, date_parser, date_format, dayfirst, cache_dates, iterator, chunksize, compression, thousands, decimal, lineterminator, quotechar, quoting, doublequote, escapechar, comment, encoding, encoding_errors, dialect, on_bad_lines, delim_whitespace, low_memory, memory_map, float_precision, storage_options, dtype_backend)\u001B[0m\n\u001B[0;32m    935\u001B[0m kwds_defaults \u001B[38;5;241m=\u001B[39m _refine_defaults_read(\n\u001B[0;32m    936\u001B[0m     dialect,\n\u001B[0;32m    937\u001B[0m     delimiter,\n\u001B[1;32m   (...)\u001B[0m\n\u001B[0;32m    944\u001B[0m     dtype_backend\u001B[38;5;241m=\u001B[39mdtype_backend,\n\u001B[0;32m    945\u001B[0m )\n\u001B[0;32m    946\u001B[0m kwds\u001B[38;5;241m.\u001B[39mupdate(kwds_defaults)\n\u001B[1;32m--> 948\u001B[0m \u001B[38;5;28;01mreturn\u001B[39;00m \u001B[43m_read\u001B[49m\u001B[43m(\u001B[49m\u001B[43mfilepath_or_buffer\u001B[49m\u001B[43m,\u001B[49m\u001B[43m \u001B[49m\u001B[43mkwds\u001B[49m\u001B[43m)\u001B[49m\n",
      "File \u001B[1;32m~\\Drive RIC\\UNIVERSITA\\IUM TWEB\\ESERCIZI IUM\\3 PandasExample JupyterNotebook\\venv\\Lib\\site-packages\\pandas\\io\\parsers\\readers.py:611\u001B[0m, in \u001B[0;36m_read\u001B[1;34m(filepath_or_buffer, kwds)\u001B[0m\n\u001B[0;32m    608\u001B[0m _validate_names(kwds\u001B[38;5;241m.\u001B[39mget(\u001B[38;5;124m\"\u001B[39m\u001B[38;5;124mnames\u001B[39m\u001B[38;5;124m\"\u001B[39m, \u001B[38;5;28;01mNone\u001B[39;00m))\n\u001B[0;32m    610\u001B[0m \u001B[38;5;66;03m# Create the parser.\u001B[39;00m\n\u001B[1;32m--> 611\u001B[0m parser \u001B[38;5;241m=\u001B[39m \u001B[43mTextFileReader\u001B[49m\u001B[43m(\u001B[49m\u001B[43mfilepath_or_buffer\u001B[49m\u001B[43m,\u001B[49m\u001B[43m \u001B[49m\u001B[38;5;241;43m*\u001B[39;49m\u001B[38;5;241;43m*\u001B[39;49m\u001B[43mkwds\u001B[49m\u001B[43m)\u001B[49m\n\u001B[0;32m    613\u001B[0m \u001B[38;5;28;01mif\u001B[39;00m chunksize \u001B[38;5;129;01mor\u001B[39;00m iterator:\n\u001B[0;32m    614\u001B[0m     \u001B[38;5;28;01mreturn\u001B[39;00m parser\n",
      "File \u001B[1;32m~\\Drive RIC\\UNIVERSITA\\IUM TWEB\\ESERCIZI IUM\\3 PandasExample JupyterNotebook\\venv\\Lib\\site-packages\\pandas\\io\\parsers\\readers.py:1448\u001B[0m, in \u001B[0;36mTextFileReader.__init__\u001B[1;34m(self, f, engine, **kwds)\u001B[0m\n\u001B[0;32m   1445\u001B[0m     \u001B[38;5;28mself\u001B[39m\u001B[38;5;241m.\u001B[39moptions[\u001B[38;5;124m\"\u001B[39m\u001B[38;5;124mhas_index_names\u001B[39m\u001B[38;5;124m\"\u001B[39m] \u001B[38;5;241m=\u001B[39m kwds[\u001B[38;5;124m\"\u001B[39m\u001B[38;5;124mhas_index_names\u001B[39m\u001B[38;5;124m\"\u001B[39m]\n\u001B[0;32m   1447\u001B[0m \u001B[38;5;28mself\u001B[39m\u001B[38;5;241m.\u001B[39mhandles: IOHandles \u001B[38;5;241m|\u001B[39m \u001B[38;5;28;01mNone\u001B[39;00m \u001B[38;5;241m=\u001B[39m \u001B[38;5;28;01mNone\u001B[39;00m\n\u001B[1;32m-> 1448\u001B[0m \u001B[38;5;28mself\u001B[39m\u001B[38;5;241m.\u001B[39m_engine \u001B[38;5;241m=\u001B[39m \u001B[38;5;28;43mself\u001B[39;49m\u001B[38;5;241;43m.\u001B[39;49m\u001B[43m_make_engine\u001B[49m\u001B[43m(\u001B[49m\u001B[43mf\u001B[49m\u001B[43m,\u001B[49m\u001B[43m \u001B[49m\u001B[38;5;28;43mself\u001B[39;49m\u001B[38;5;241;43m.\u001B[39;49m\u001B[43mengine\u001B[49m\u001B[43m)\u001B[49m\n",
      "File \u001B[1;32m~\\Drive RIC\\UNIVERSITA\\IUM TWEB\\ESERCIZI IUM\\3 PandasExample JupyterNotebook\\venv\\Lib\\site-packages\\pandas\\io\\parsers\\readers.py:1705\u001B[0m, in \u001B[0;36mTextFileReader._make_engine\u001B[1;34m(self, f, engine)\u001B[0m\n\u001B[0;32m   1703\u001B[0m     \u001B[38;5;28;01mif\u001B[39;00m \u001B[38;5;124m\"\u001B[39m\u001B[38;5;124mb\u001B[39m\u001B[38;5;124m\"\u001B[39m \u001B[38;5;129;01mnot\u001B[39;00m \u001B[38;5;129;01min\u001B[39;00m mode:\n\u001B[0;32m   1704\u001B[0m         mode \u001B[38;5;241m+\u001B[39m\u001B[38;5;241m=\u001B[39m \u001B[38;5;124m\"\u001B[39m\u001B[38;5;124mb\u001B[39m\u001B[38;5;124m\"\u001B[39m\n\u001B[1;32m-> 1705\u001B[0m \u001B[38;5;28mself\u001B[39m\u001B[38;5;241m.\u001B[39mhandles \u001B[38;5;241m=\u001B[39m \u001B[43mget_handle\u001B[49m\u001B[43m(\u001B[49m\n\u001B[0;32m   1706\u001B[0m \u001B[43m    \u001B[49m\u001B[43mf\u001B[49m\u001B[43m,\u001B[49m\n\u001B[0;32m   1707\u001B[0m \u001B[43m    \u001B[49m\u001B[43mmode\u001B[49m\u001B[43m,\u001B[49m\n\u001B[0;32m   1708\u001B[0m \u001B[43m    \u001B[49m\u001B[43mencoding\u001B[49m\u001B[38;5;241;43m=\u001B[39;49m\u001B[38;5;28;43mself\u001B[39;49m\u001B[38;5;241;43m.\u001B[39;49m\u001B[43moptions\u001B[49m\u001B[38;5;241;43m.\u001B[39;49m\u001B[43mget\u001B[49m\u001B[43m(\u001B[49m\u001B[38;5;124;43m\"\u001B[39;49m\u001B[38;5;124;43mencoding\u001B[39;49m\u001B[38;5;124;43m\"\u001B[39;49m\u001B[43m,\u001B[49m\u001B[43m \u001B[49m\u001B[38;5;28;43;01mNone\u001B[39;49;00m\u001B[43m)\u001B[49m\u001B[43m,\u001B[49m\n\u001B[0;32m   1709\u001B[0m \u001B[43m    \u001B[49m\u001B[43mcompression\u001B[49m\u001B[38;5;241;43m=\u001B[39;49m\u001B[38;5;28;43mself\u001B[39;49m\u001B[38;5;241;43m.\u001B[39;49m\u001B[43moptions\u001B[49m\u001B[38;5;241;43m.\u001B[39;49m\u001B[43mget\u001B[49m\u001B[43m(\u001B[49m\u001B[38;5;124;43m\"\u001B[39;49m\u001B[38;5;124;43mcompression\u001B[39;49m\u001B[38;5;124;43m\"\u001B[39;49m\u001B[43m,\u001B[49m\u001B[43m \u001B[49m\u001B[38;5;28;43;01mNone\u001B[39;49;00m\u001B[43m)\u001B[49m\u001B[43m,\u001B[49m\n\u001B[0;32m   1710\u001B[0m \u001B[43m    \u001B[49m\u001B[43mmemory_map\u001B[49m\u001B[38;5;241;43m=\u001B[39;49m\u001B[38;5;28;43mself\u001B[39;49m\u001B[38;5;241;43m.\u001B[39;49m\u001B[43moptions\u001B[49m\u001B[38;5;241;43m.\u001B[39;49m\u001B[43mget\u001B[49m\u001B[43m(\u001B[49m\u001B[38;5;124;43m\"\u001B[39;49m\u001B[38;5;124;43mmemory_map\u001B[39;49m\u001B[38;5;124;43m\"\u001B[39;49m\u001B[43m,\u001B[49m\u001B[43m \u001B[49m\u001B[38;5;28;43;01mFalse\u001B[39;49;00m\u001B[43m)\u001B[49m\u001B[43m,\u001B[49m\n\u001B[0;32m   1711\u001B[0m \u001B[43m    \u001B[49m\u001B[43mis_text\u001B[49m\u001B[38;5;241;43m=\u001B[39;49m\u001B[43mis_text\u001B[49m\u001B[43m,\u001B[49m\n\u001B[0;32m   1712\u001B[0m \u001B[43m    \u001B[49m\u001B[43merrors\u001B[49m\u001B[38;5;241;43m=\u001B[39;49m\u001B[38;5;28;43mself\u001B[39;49m\u001B[38;5;241;43m.\u001B[39;49m\u001B[43moptions\u001B[49m\u001B[38;5;241;43m.\u001B[39;49m\u001B[43mget\u001B[49m\u001B[43m(\u001B[49m\u001B[38;5;124;43m\"\u001B[39;49m\u001B[38;5;124;43mencoding_errors\u001B[39;49m\u001B[38;5;124;43m\"\u001B[39;49m\u001B[43m,\u001B[49m\u001B[43m \u001B[49m\u001B[38;5;124;43m\"\u001B[39;49m\u001B[38;5;124;43mstrict\u001B[39;49m\u001B[38;5;124;43m\"\u001B[39;49m\u001B[43m)\u001B[49m\u001B[43m,\u001B[49m\n\u001B[0;32m   1713\u001B[0m \u001B[43m    \u001B[49m\u001B[43mstorage_options\u001B[49m\u001B[38;5;241;43m=\u001B[39;49m\u001B[38;5;28;43mself\u001B[39;49m\u001B[38;5;241;43m.\u001B[39;49m\u001B[43moptions\u001B[49m\u001B[38;5;241;43m.\u001B[39;49m\u001B[43mget\u001B[49m\u001B[43m(\u001B[49m\u001B[38;5;124;43m\"\u001B[39;49m\u001B[38;5;124;43mstorage_options\u001B[39;49m\u001B[38;5;124;43m\"\u001B[39;49m\u001B[43m,\u001B[49m\u001B[43m \u001B[49m\u001B[38;5;28;43;01mNone\u001B[39;49;00m\u001B[43m)\u001B[49m\u001B[43m,\u001B[49m\n\u001B[0;32m   1714\u001B[0m \u001B[43m\u001B[49m\u001B[43m)\u001B[49m\n\u001B[0;32m   1715\u001B[0m \u001B[38;5;28;01massert\u001B[39;00m \u001B[38;5;28mself\u001B[39m\u001B[38;5;241m.\u001B[39mhandles \u001B[38;5;129;01mis\u001B[39;00m \u001B[38;5;129;01mnot\u001B[39;00m \u001B[38;5;28;01mNone\u001B[39;00m\n\u001B[0;32m   1716\u001B[0m f \u001B[38;5;241m=\u001B[39m \u001B[38;5;28mself\u001B[39m\u001B[38;5;241m.\u001B[39mhandles\u001B[38;5;241m.\u001B[39mhandle\n",
      "File \u001B[1;32m~\\Drive RIC\\UNIVERSITA\\IUM TWEB\\ESERCIZI IUM\\3 PandasExample JupyterNotebook\\venv\\Lib\\site-packages\\pandas\\io\\common.py:863\u001B[0m, in \u001B[0;36mget_handle\u001B[1;34m(path_or_buf, mode, encoding, compression, memory_map, is_text, errors, storage_options)\u001B[0m\n\u001B[0;32m    858\u001B[0m \u001B[38;5;28;01melif\u001B[39;00m \u001B[38;5;28misinstance\u001B[39m(handle, \u001B[38;5;28mstr\u001B[39m):\n\u001B[0;32m    859\u001B[0m     \u001B[38;5;66;03m# Check whether the filename is to be opened in binary mode.\u001B[39;00m\n\u001B[0;32m    860\u001B[0m     \u001B[38;5;66;03m# Binary mode does not support 'encoding' and 'newline'.\u001B[39;00m\n\u001B[0;32m    861\u001B[0m     \u001B[38;5;28;01mif\u001B[39;00m ioargs\u001B[38;5;241m.\u001B[39mencoding \u001B[38;5;129;01mand\u001B[39;00m \u001B[38;5;124m\"\u001B[39m\u001B[38;5;124mb\u001B[39m\u001B[38;5;124m\"\u001B[39m \u001B[38;5;129;01mnot\u001B[39;00m \u001B[38;5;129;01min\u001B[39;00m ioargs\u001B[38;5;241m.\u001B[39mmode:\n\u001B[0;32m    862\u001B[0m         \u001B[38;5;66;03m# Encoding\u001B[39;00m\n\u001B[1;32m--> 863\u001B[0m         handle \u001B[38;5;241m=\u001B[39m \u001B[38;5;28;43mopen\u001B[39;49m\u001B[43m(\u001B[49m\n\u001B[0;32m    864\u001B[0m \u001B[43m            \u001B[49m\u001B[43mhandle\u001B[49m\u001B[43m,\u001B[49m\n\u001B[0;32m    865\u001B[0m \u001B[43m            \u001B[49m\u001B[43mioargs\u001B[49m\u001B[38;5;241;43m.\u001B[39;49m\u001B[43mmode\u001B[49m\u001B[43m,\u001B[49m\n\u001B[0;32m    866\u001B[0m \u001B[43m            \u001B[49m\u001B[43mencoding\u001B[49m\u001B[38;5;241;43m=\u001B[39;49m\u001B[43mioargs\u001B[49m\u001B[38;5;241;43m.\u001B[39;49m\u001B[43mencoding\u001B[49m\u001B[43m,\u001B[49m\n\u001B[0;32m    867\u001B[0m \u001B[43m            \u001B[49m\u001B[43merrors\u001B[49m\u001B[38;5;241;43m=\u001B[39;49m\u001B[43merrors\u001B[49m\u001B[43m,\u001B[49m\n\u001B[0;32m    868\u001B[0m \u001B[43m            \u001B[49m\u001B[43mnewline\u001B[49m\u001B[38;5;241;43m=\u001B[39;49m\u001B[38;5;124;43m\"\u001B[39;49m\u001B[38;5;124;43m\"\u001B[39;49m\u001B[43m,\u001B[49m\n\u001B[0;32m    869\u001B[0m \u001B[43m        \u001B[49m\u001B[43m)\u001B[49m\n\u001B[0;32m    870\u001B[0m     \u001B[38;5;28;01melse\u001B[39;00m:\n\u001B[0;32m    871\u001B[0m         \u001B[38;5;66;03m# Binary mode\u001B[39;00m\n\u001B[0;32m    872\u001B[0m         handle \u001B[38;5;241m=\u001B[39m \u001B[38;5;28mopen\u001B[39m(handle, ioargs\u001B[38;5;241m.\u001B[39mmode)\n",
      "\u001B[1;31mFileNotFoundError\u001B[0m: [Errno 2] No such file or directory: 'C:/Users/Louis/Desktop/3°Anno/IUM/Progetto/FootballData/clubs.csv'"
     ]
    }
   ],
   "source": [
    "club_wins = club_games_df[club_games_df['is_win'] == True]['club_id'].value_counts().head(10)\n",
    "\n",
    "clubs_df = pd.read_csv(\"C:/Users/Louis/Desktop/3°Anno/IUM/Progetto/FootballData/clubs.csv\")\n",
    "\n",
    "club_name_wins = pd.merge(club_wins, clubs_df, left_index=True, right_on='club_id')\n",
    "\n",
    "\n",
    "plt.bar(club_name_wins['name'], club_name_wins['count'])\n",
    "plt.xticks(rotation=90)\n",
    "plt.title('Top 10 Clubs by wins')\n",
    "plt.show"
   ],
   "metadata": {
    "collapsed": false,
    "ExecuteTime": {
     "end_time": "2024-05-06T07:58:09.010792400Z",
     "start_time": "2024-05-06T07:58:08.731754900Z"
    }
   },
   "id": "14c8783e16cba5e9"
  },
  {
   "cell_type": "code",
   "execution_count": null,
   "outputs": [],
   "source": [
    "club_goals = pd.DataFrame()\n",
    "\n",
    "club_goals['goals'] = club_games_df.groupby('club_id')['club_goals'].sum() + club_games_df.groupby('opponent_id')['opponent_goals'].sum()\n",
    "\n",
    "club_goals = club_goals.sort_values(ascending=False, by='goals').head(10)\n",
    "\n",
    "top10_goals = pd.merge(club_goals, clubs_df, left_index=True, right_on='club_id')\n",
    "\n",
    "plt.bar(top10_goals['name'], top10_goals['goals'])\n",
    "plt.xticks(rotation=90) \n",
    "plt.title('Top 10 Clubs by goals')\n",
    "plt.show()\n"
   ],
   "metadata": {
    "collapsed": false,
    "ExecuteTime": {
     "start_time": "2024-05-06T07:58:08.971815200Z"
    }
   },
   "id": "e701d406b3660325"
  },
  {
   "cell_type": "code",
   "execution_count": null,
   "outputs": [],
   "source": [
    "# Di FC Bayern München trovo la percentuale di tot gol fatti per ogni partita \n",
    "\n",
    "bayern_asclub_df = club_games_df.query('club_id == 27')\n",
    "\n",
    "\n",
    "goal_0 = bayern_asclub_df['club_goals'].value_counts()[0]\n",
    "goal_1 = bayern_asclub_df['club_goals'].value_counts()[1]\n",
    "goal_2 = bayern_asclub_df['club_goals'].value_counts()[2]\n",
    "goal_3 = bayern_asclub_df['club_goals'].value_counts()[3]\n",
    "goal_4 = bayern_asclub_df['club_goals'].value_counts()[4]\n",
    "goal_5 = bayern_asclub_df['club_goals'].value_counts()[5]\n",
    "goal_6 = bayern_asclub_df['club_goals'].value_counts()[6]\n",
    "goal_7_12 = (bayern_asclub_df['club_goals'].value_counts()[7] + bayern_asclub_df['club_goals'].value_counts()[8] + bayern_asclub_df['club_goals'].value_counts()[9]) + bayern_asclub_df['club_goals'].value_counts()[12]\n",
    "\n",
    "labels = ['0 goal', '1 goal', '2 goal', '3 goal', '4 goal', '5 goal', '6 goal', '7-12 goal']\n",
    "\n",
    "prc = [goal_0, goal_1, goal_2, goal_3, goal_4, goal_5, goal_6, goal_7_12]\n",
    "\n",
    "plt.pie(prc,labels = labels, autopct= '%1.1f%%', startangle= 140)\n",
    "plt.show()\n",
    "\n",
    "\n"
   ],
   "metadata": {
    "collapsed": false,
    "ExecuteTime": {
     "start_time": "2024-05-06T07:58:08.977808700Z"
    }
   },
   "id": "1f1fd6f28cd906c1"
  },
  {
   "cell_type": "code",
   "execution_count": null,
   "outputs": [],
   "source": [],
   "metadata": {
    "collapsed": false,
    "ExecuteTime": {
     "start_time": "2024-05-06T07:58:08.987806200Z"
    }
   },
   "id": "6109c0e5d4aa29e0"
  }
 ],
 "metadata": {
  "kernelspec": {
   "display_name": "Python 3",
   "language": "python",
   "name": "python3"
  },
  "language_info": {
   "codemirror_mode": {
    "name": "ipython",
    "version": 2
   },
   "file_extension": ".py",
   "mimetype": "text/x-python",
   "name": "python",
   "nbconvert_exporter": "python",
   "pygments_lexer": "ipython2",
   "version": "2.7.6"
  }
 },
 "nbformat": 4,
 "nbformat_minor": 5
}
